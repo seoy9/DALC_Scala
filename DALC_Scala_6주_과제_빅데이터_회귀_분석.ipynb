{
  "nbformat": 4,
  "nbformat_minor": 0,
  "metadata": {
    "colab": {
      "name": "Untitled3.ipynb",
      "provenance": [],
      "authorship_tag": "ABX9TyN6kx8/F56uHVB4S3fyKWFA",
      "include_colab_link": true
    },
    "kernelspec": {
      "name": "python3",
      "display_name": "Python 3"
    },
    "language_info": {
      "name": "python"
    }
  },
  "cells": [
    {
      "cell_type": "markdown",
      "metadata": {
        "id": "view-in-github",
        "colab_type": "text"
      },
      "source": [
        "<a href=\"https://colab.research.google.com/github/seoy9/DALC_Scala/blob/main/DALC_Scala_6%EC%A3%BC_%EA%B3%BC%EC%A0%9C_%EB%B9%85%EB%8D%B0%EC%9D%B4%ED%84%B0_%ED%9A%8C%EA%B7%80_%EB%B6%84%EC%84%9D.ipynb\" target=\"_parent\"><img src=\"https://colab.research.google.com/assets/colab-badge.svg\" alt=\"Open In Colab\"/></a>"
      ]
    },
    {
      "cell_type": "markdown",
      "metadata": {
        "id": "cRd-Fw49DqK_"
      },
      "source": [
        "# 빅데이터 회귀 분석"
      ]
    },
    {
      "cell_type": "markdown",
      "metadata": {
        "id": "PJuCxT-GDvoY"
      },
      "source": [
        "## 6-1 머신러닝의 개념과 기본 절차"
      ]
    },
    {
      "cell_type": "markdown",
      "metadata": {
        "id": "xHiB1ptDD_nG"
      },
      "source": [
        "### 1. 머신러닝\n",
        "</br>\n",
        "\n",
        "[ __머신 러닝__ ]\n",
        "+ 인공지능의 한 분야\n",
        "+ 컴퓨터가 학습할 수 있도록 하는 알고리즘과 기술을 개발하는 분야\n",
        "+ 표현(데이터 평가)과 일반화(아직 알 수 없는 데이터에 대한 처리)  \n",
        "</br></br>\n",
        "\n",
        "##### 1) 개요\n",
        "[ __머신러닝의 정의__ ]\n",
        "+ 인공지능의 하위 분야로 분류\n",
        "+ 데이터 모델을 구축하는 체계적인 수단\n",
        "+ 데이터를 통한 학습 모델을 도출하고 새로운 데이터에 대한 추론과 패턴 예측에 활용\n",
        "\n",
        "[ __머신러닝의 범주__ ]\n",
        "+ 지도학습 (Supervised learning)\n",
        "  + 데이터의 축정된 특징과 데이터와 관련된 레이블 사이의 관계를 모델링\n",
        "+ 비지도학습 (Unsupervised learning)\n",
        "  + 레이블을 참조하지 않고 데이터 세트의 특징을 모델링\n",
        "</br></br>\n",
        "\n",
        "[ __지도학습의 예__ ]\n",
        "\n",
        "\n",
        "기온      | 습도     | 불쾌지수\n",
        "----------|----------|----------\n",
        "20        | 60       | 10\n",
        "30        | 80       | 80\n",
        "30        | 70       | 70\n",
        "35        | 75       | ?\n",
        "\n",
        "+ 데이터 특징과 레이블 사이의 관계 모델링\n",
        "  + 특징 : 기온, 습도\n",
        "  + 레이블 : 불쾌지수\n",
        "</br></br>\n",
        "\n",
        "[ __비지도학습의 예__ ]\n",
        "\n",
        "기온      | 습도     \n",
        "----------|----------\n",
        "20        | 60       \n",
        "30        | 80       \n",
        "30        | 70       \n",
        "\n",
        "+ 데이터 세트의 특징을 모델링\n",
        "  + 특징 : 기온, 습도\n",
        "  + 예 : 군집화\n",
        "</br></br>\n",
        "\n",
        "##### 2) 회귀 분석\n",
        "[ __회귀 분석__ ]\n",
        "+ 레이블이 연속적인 수치형 데이터일 경우\n",
        "\n",
        "[ __분류 분석__ ]\n",
        "+ 레이블이 범주, 클래스 등 이산적 데이터일 경우\n",
        "</br></br>\n",
        "\n",
        "[ __2차원 데이터__ ]\n",
        "![2차원 데이터](https://github.com/seoy9/DALC_Scala/blob/78f25c410781f526c5f1b98a329893710075cd2d/2%EC%B0%A8%EC%9B%90%20%EB%8D%B0%EC%9D%B4%ED%84%B0.JPG?raw=true)\n",
        "+ 데이터를 설명하는 특징 2개\n",
        "+ 각 점의 색상은 해당 점의 연속적인 레이블을 나타냄\n",
        "\n",
        "[ __3차원 데이터__ ]\n",
        "![3차원 데이터](https://github.com/seoy9/DALC_Scala/blob/78f25c410781f526c5f1b98a329893710075cd2d/3%EC%B0%A8%EC%9B%90%20%EB%8D%B0%EC%9D%B4%ED%84%B0.JPG?raw=true)\n",
        "+ 색상을 높이로 치환\n",
        "\n",
        "[ __높이를 예측하는 모델__ ]\n",
        "![예측 모델](https://github.com/seoy9/DALC_Scala/blob/78f25c410781f526c5f1b98a329893710075cd2d/%ED%9A%8C%EA%B7%80%20%EB%B6%84%EC%84%9D%20%EA%B2%B0%EA%B3%BC.JPG?raw=true)\n",
        "+ 특징값이 제공되지 않은 영역에 데이터가 있을 경우\n",
        "+ 그 높이에 해당하는 색을 영역에 표시하면 그림과 같이 표시\n",
        "+ 노란색 : 3차원 상에서 바닥에서 멀리 떨어진 높은 부분\n",
        "+ 보라색 : 높이가 낮은 부분\n",
        "\n",
        "[ __회귀 분석 결과 활용 방법__ ]\n",
        "![회귀 분석 활용](https://github.com/seoy9/DALC_Scala/blob/dc39e9e4e1a837c38c6013bcdd5e37697b319f01/%ED%9A%8C%EA%B7%80%20%EB%B6%84%EC%84%9D%20%ED%99%9C%EC%9A%A9.JPG?raw=true)\n",
        "+ 왼쪽\n",
        "  + 2차원 상에 두 개의 특징이 표시\n",
        "  + 레이블 값은 모두 회색으로 표시되어 정확히 알 수 없음\n",
        "+ 오른쪽\n",
        "  + 예측 모델의 색을 대입한 것\n",
        "+ 이 방법은 망원경으로 관측한 은하계까지의 거리를 계산하는 작업과 유사\n",
        "+ 천문학에서 활용 → 측광 적색편이"
      ]
    },
    {
      "cell_type": "markdown",
      "metadata": {
        "id": "2wwtm3VRDwS9"
      },
      "source": [
        "## 6-2 Scikit-Learn API 사용법"
      ]
    },
    {
      "cell_type": "markdown",
      "metadata": {
        "id": "Nb0YIlduPswh"
      },
      "source": [
        "### 2. Scikit Learn  \n",
        "</br>\n",
        "\n",
        "##### 1) 개요\n",
        "[ __머신러닝__ ]\n",
        "+ 데이터로부터 모델을 만드는 학습 과정\n",
        "\n",
        "[ __데이터 표현 방법__ ]"
      ]
    },
    {
      "cell_type": "markdown",
      "metadata": {
        "id": "-eI8lDJWQiQI"
      },
      "source": [
        "+ Scikit-Learn에서는 데이터를 데이터 테이블 관점으로 이해\n",
        "+ 기본 테이블은 2차원 데이터 구조 (엑셀의 시트와 동일한 구조\n",
        "+ 행 : 데이터 세트의 개별 요소(개체)\n",
        "+ 열 : 개별 요소의 특징을 나타내는 변수"
      ]
    },
    {
      "cell_type": "code",
      "metadata": {
        "colab": {
          "base_uri": "https://localhost:8080/",
          "height": 166
        },
        "id": "2jI8UtsiQIFx",
        "outputId": "8ca38a7c-bac6-44cc-a9ce-3f8923e81f41"
      },
      "source": [
        "import seaborn as sns\n",
        "iris = sns.load_dataset('iris')\n",
        "iris.head(4) # 제일 앞에 있는 4개의 테이터 결과값만을 보여주는 명령"
      ],
      "execution_count": 1,
      "outputs": [
        {
          "output_type": "execute_result",
          "data": {
            "text/html": [
              "<div>\n",
              "<style scoped>\n",
              "    .dataframe tbody tr th:only-of-type {\n",
              "        vertical-align: middle;\n",
              "    }\n",
              "\n",
              "    .dataframe tbody tr th {\n",
              "        vertical-align: top;\n",
              "    }\n",
              "\n",
              "    .dataframe thead th {\n",
              "        text-align: right;\n",
              "    }\n",
              "</style>\n",
              "<table border=\"1\" class=\"dataframe\">\n",
              "  <thead>\n",
              "    <tr style=\"text-align: right;\">\n",
              "      <th></th>\n",
              "      <th>sepal_length</th>\n",
              "      <th>sepal_width</th>\n",
              "      <th>petal_length</th>\n",
              "      <th>petal_width</th>\n",
              "      <th>species</th>\n",
              "    </tr>\n",
              "  </thead>\n",
              "  <tbody>\n",
              "    <tr>\n",
              "      <th>0</th>\n",
              "      <td>5.1</td>\n",
              "      <td>3.5</td>\n",
              "      <td>1.4</td>\n",
              "      <td>0.2</td>\n",
              "      <td>setosa</td>\n",
              "    </tr>\n",
              "    <tr>\n",
              "      <th>1</th>\n",
              "      <td>4.9</td>\n",
              "      <td>3.0</td>\n",
              "      <td>1.4</td>\n",
              "      <td>0.2</td>\n",
              "      <td>setosa</td>\n",
              "    </tr>\n",
              "    <tr>\n",
              "      <th>2</th>\n",
              "      <td>4.7</td>\n",
              "      <td>3.2</td>\n",
              "      <td>1.3</td>\n",
              "      <td>0.2</td>\n",
              "      <td>setosa</td>\n",
              "    </tr>\n",
              "    <tr>\n",
              "      <th>3</th>\n",
              "      <td>4.6</td>\n",
              "      <td>3.1</td>\n",
              "      <td>1.5</td>\n",
              "      <td>0.2</td>\n",
              "      <td>setosa</td>\n",
              "    </tr>\n",
              "  </tbody>\n",
              "</table>\n",
              "</div>"
            ],
            "text/plain": [
              "   sepal_length  sepal_width  petal_length  petal_width species\n",
              "0           5.1          3.5           1.4          0.2  setosa\n",
              "1           4.9          3.0           1.4          0.2  setosa\n",
              "2           4.7          3.2           1.3          0.2  setosa\n",
              "3           4.6          3.1           1.5          0.2  setosa"
            ]
          },
          "metadata": {
            "tags": []
          },
          "execution_count": 1
        }
      ]
    },
    {
      "cell_type": "markdown",
      "metadata": {
        "id": "mD-BioRZQYRL"
      },
      "source": [
        "+ 각 데이터 행 : 관측된 꽃 한 개체\n",
        "+ 행의 수 : 데이터 세트에 있는 전체 개수\n",
        "+ 행 = 표본(일반적) / 열 = 특징(일반적)  \n",
        "→ 이 행렬을 __특징 행렬__이라고 부름\n",
        "+ 열의 마지막 : 꽃의 품종  \n",
        "→ 상황에 따라 이 열을 따로 구분하여 __대상(타겟)__이라고 부름\n",
        "+ 대상 배열의 특징 : 대게 데이터로부터 예측하고자 하는 값이라는 점 (통계 용어로는 종속 변수)  \n",
        "→ 제일 첫 줄(열) sepal_length...\n",
        "</br></br>\n",
        "\n",
        "[ __Scikit Learn API 설계 기본 원칙__ ]\n",
        "+ 일관성 : 모든 객체는 사용법이 일관된 공통 인터페이스를 공유\n",
        "+ 검사 : 모든 파라미터 값은 외부에서 확인 가능한 공개 속성\n",
        "+ 제한된 계층 구조 : 알고리즘만 파이썬 클래스로 표현되고, 데이터는 표준 포맷 사용\n",
        "+ 구성 : 머신러닝 작업은 기본적으로 제공되는 기본 알고리즘의 시퀀스로 구성됨\n",
        "+ 합리적 기본 : 사용자 지정 필요한 파라미터는 적절한 기본값으로 설정\n",
        "\n",
        "__→ 서로 다른 API를 사용해도 공통 인터페이스를 사용__\n",
        "\n",
        "__→ 넘파이, 판다스와 같은 파이썬 표준 포맷을 사용__\n",
        "\n",
        "__→ 배우기 쉽고 응용이 편리하도록 개발__\n",
        "</br></br>\n",
        "\n",
        "[ __Scikit Learn API 사용 단계__ ]\n",
        "1. Scikit Learn API에서 적절한 추정기 클래스를 임포트 해서 사용하고자 하는 모델을 선택\n",
        "2. 클래스로부터 인스턴스를 생성하고 초모수(Hyper-parameter)을 설정\n",
        "3. 데이터를 특징 배열과 대상 배열로 준비  \n",
        "특징 배열 = x, 대상 배열 = y (변수에 저장)\n",
        "4. 모델 인스턴스의 fit() 메소드를 호출해서 데이터를 학습\n",
        "5. 정확도를 확인하고 새로운 데이터에 모델을 적용\n",
        "\n",
        "→ 거의 모든 머신러닝 기법에 공통적으로 적용되는 단계\n",
        "</br></br>\n",
        "\n",
        "##### 2) Scikit Learn 기본 사용법\n",
        "[ __간단한 회귀 분석__ ]"
      ]
    },
    {
      "cell_type": "code",
      "metadata": {
        "colab": {
          "base_uri": "https://localhost:8080/",
          "height": 265
        },
        "id": "uGZ6s6U-Tbf1",
        "outputId": "8bfe775d-95bd-48d3-8ee8-90fd9f6fdbd4"
      },
      "source": [
        "import matplotlib.pyplot as plt\n",
        "import numpy as np\n",
        "\n",
        "mg = np.random.RandomState(42)\n",
        "x = 10 * mg.rand(50) # 0~1 난수 * 10 = 0~10 사이 값\n",
        "y = 2 * x - 1 + mg.randn(50) # 표준전규분포를 따르는 난수를 더해 변동 발생\n",
        "plt.scatter(x, y);"
      ],
      "execution_count": 2,
      "outputs": [
        {
          "output_type": "display_data",
          "data": {
            "image/png": "[encoded data removed]",
            "text/plain": [
              "<Figure size 432x288 with 1 Axes>"
            ]
          },
          "metadata": {
            "tags": [],
            "needs_background": "light"
          }
        }
      ]
    },
    {
      "cell_type": "markdown",
      "metadata": {
        "id": "c_lH00y5T8NF"
      },
      "source": [
        "+ 특징 변수인 x의 크기가 증가하면 대상  변수인 y의 크기도 동시에 증가\n",
        "+ 대상 변수가 증가하는 정도 = 특징 변수의 2배 + 난수를 추가하여 변동이 발생\n",
        "</br></br>\n",
        "\n",
        "![간단한 회귀 분석](https://github.com/seoy9/DALC_Scala/blob/9bea9b278738f412335dc5bf1558d8a3291f7e78/%EA%B0%84%EB%8B%A8%ED%95%9C%20%ED%9A%8C%EA%B7%80%20%EB%B6%84%EC%84%9D.JPG?raw=true)\n",
        "+ 붉은 실선 : 찾고자 하는 __y=ax+b__의 형태로 나타나는 __선형 회귀식__을 표현한 것\n",
        "+ 데이터를 생성할 때 a=2, b=-1이 되도록 함 (__선형 회귀 분석의 결과가 예상대로 나오는지 확인 필수__)\n",
        "</br></br>\n",
        "\n",
        "[ __모델 클래스 선택__ ]"
      ]
    },
    {
      "cell_type": "code",
      "metadata": {
        "id": "2aiCDwfkhKA5"
      },
      "source": [
        "from sklearn.linear_model import LinearRegression"
      ],
      "execution_count": 14,
      "outputs": []
    },
    {
      "cell_type": "markdown",
      "metadata": {
        "id": "cSELmepghFVQ"
      },
      "source": [
        "[ __모델 초모수 선택__ ]"
      ]
    },
    {
      "cell_type": "markdown",
      "metadata": {
        "id": "PezhYm6thUx0"
      },
      "source": [
        ""
      ]
    },
    {
      "cell_type": "code",
      "metadata": {
        "id": "8oIN0_qJhNj8"
      },
      "source": [
        "model = LinearRegression(fit_intercept=True)"
      ],
      "execution_count": 15,
      "outputs": []
    },
    {
      "cell_type": "markdown",
      "metadata": {
        "id": "scLs9AiahSsH"
      },
      "source": [
        "+ fit_intercept=True : 절편 사용 여부 결정(True : 절편 사용 OK)\n",
        "\n",
        "[ __데이터 차원 변경__ ]"
      ]
    },
    {
      "cell_type": "code",
      "metadata": {
        "colab": {
          "base_uri": "https://localhost:8080/",
          "height": 186
        },
        "id": "3RitE1T0hWIy",
        "outputId": "929c7dfa-3445-41d0-eac3-ccf9a986831a"
      },
      "source": [
        "X = x[:, np.newaxis]  \n",
        "X.Shape"
      ],
      "execution_count": 16,
      "outputs": [
        {
          "output_type": "error",
          "ename": "AttributeError",
          "evalue": "ignored",
          "traceback": [
            "\u001b[0;31m---------------------------------------------------------------------------\u001b[0m",
            "\u001b[0;31mAttributeError\u001b[0m                            Traceback (most recent call last)",
            "\u001b[0;32m<ipython-input-16-53b2a305d019>\u001b[0m in \u001b[0;36m<module>\u001b[0;34m()\u001b[0m\n\u001b[1;32m      1\u001b[0m \u001b[0mX\u001b[0m \u001b[0;34m=\u001b[0m \u001b[0mx\u001b[0m\u001b[0;34m[\u001b[0m\u001b[0;34m:\u001b[0m\u001b[0;34m,\u001b[0m \u001b[0mnp\u001b[0m\u001b[0;34m.\u001b[0m\u001b[0mnewaxis\u001b[0m\u001b[0;34m]\u001b[0m\u001b[0;34m\u001b[0m\u001b[0;34m\u001b[0m\u001b[0m\n\u001b[0;32m----> 2\u001b[0;31m \u001b[0mX\u001b[0m\u001b[0;34m.\u001b[0m\u001b[0mShape\u001b[0m\u001b[0;34m\u001b[0m\u001b[0;34m\u001b[0m\u001b[0m\n\u001b[0m",
            "\u001b[0;31mAttributeError\u001b[0m: 'numpy.ndarray' object has no attribute 'Shape'"
          ]
        }
      ]
    },
    {
      "cell_type": "code",
      "metadata": {
        "colab": {
          "base_uri": "https://localhost:8080/"
        },
        "id": "dGdzu0rVhZnX",
        "outputId": "17d0f254-a631-478e-e3ed-85c4761b75be"
      },
      "source": [
        "X = x.reshape(50, 1)  \n",
        "X.shape"
      ],
      "execution_count": 17,
      "outputs": [
        {
          "output_type": "execute_result",
          "data": {
            "text/plain": [
              "(50, 1)"
            ]
          },
          "metadata": {
            "tags": []
          },
          "execution_count": 17
        }
      ]
    },
    {
      "cell_type": "markdown",
      "metadata": {
        "id": "IPKAd0n9hbsK"
      },
      "source": [
        "[ __모델에 데이터 적용__ ]"
      ]
    },
    {
      "cell_type": "code",
      "metadata": {
        "colab": {
          "base_uri": "https://localhost:8080/"
        },
        "id": "KDVHqG99hePa",
        "outputId": "7485c452-16c4-4524-f0d8-15ebacc6c1d5"
      },
      "source": [
        "model.fit(X, y)"
      ],
      "execution_count": 18,
      "outputs": [
        {
          "output_type": "execute_result",
          "data": {
            "text/plain": [
              "LinearRegression(copy_X=True, fit_intercept=True, n_jobs=None, normalize=False)"
            ]
          },
          "metadata": {
            "tags": []
          },
          "execution_count": 18
        }
      ]
    },
    {
      "cell_type": "markdown",
      "metadata": {
        "id": "LH7tSVurhgHb"
      },
      "source": [
        "+ fit(X, y) : 모델에 따라 결정된 여러 가지 내부 계산 / 계산 결과는 모델 인스턴스 속성에 저장\n",
        "\n",
        "[ __모델 확인__ ]"
      ]
    },
    {
      "cell_type": "code",
      "metadata": {
        "colab": {
          "base_uri": "https://localhost:8080/"
        },
        "id": "g00RIphNhiGa",
        "outputId": "047f65ec-1499-4d05-b4a4-14c114165264"
      },
      "source": [
        "print(model.coef_) # [1.9776566]"
      ],
      "execution_count": 19,
      "outputs": [
        {
          "output_type": "stream",
          "text": [
            "[1.9776566]\n"
          ],
          "name": "stdout"
        }
      ]
    },
    {
      "cell_type": "code",
      "metadata": {
        "colab": {
          "base_uri": "https://localhost:8080/"
        },
        "id": "xuyAZm9MhmAW",
        "outputId": "61171d37-ec68-4eb1-a3c9-a96556d253f0"
      },
      "source": [
        "print(model.intercept_) # -0.9033107255311146"
      ],
      "execution_count": 20,
      "outputs": [
        {
          "output_type": "stream",
          "text": [
            "-0.9033107255311146\n"
          ],
          "name": "stdout"
        }
      ]
    },
    {
      "cell_type": "markdown",
      "metadata": {
        "id": "r6tlQtmMhoJe"
      },
      "source": [
        "→ 0.97정도의 $R^2$(결정 계수)값 산출\n",
        "\n",
        "→ 1에 가가운 값을 나타낼 수록 정확도가 높다고 판단\n",
        "</br></br>\n",
        "\n",
        "[ __모델 시각화__ ]"
      ]
    },
    {
      "cell_type": "code",
      "metadata": {
        "colab": {
          "base_uri": "https://localhost:8080/",
          "height": 268
        },
        "id": "bZ1sWGwFXmy9",
        "outputId": "c0ef1d9f-1ae8-4974-ab19-0634b47e0e1f"
      },
      "source": [
        "xfit = np.linspace(-1, 11)\n",
        "plt.scatter(x, y)\n",
        "plt.plot(xfit, model.coef_ * xfit + model.intercept_, '-r');"
      ],
      "execution_count": 21,
      "outputs": [
        {
          "output_type": "display_data",
          "data": {
            "image/png": "[encoded data removed]",
            "text/plain": [
              "<Figure size 432x288 with 1 Axes>"
            ]
          },
          "metadata": {
            "tags": []
          }
        }
      ]
    },
    {
      "cell_type": "markdown",
      "metadata": {
        "id": "RUPdtWkcDww0"
      },
      "source": [
        "## 6-3 회귀분석 심화"
      ]
    },
    {
      "cell_type": "markdown",
      "metadata": {
        "id": "h4ruBzCyYnR8"
      },
      "source": [
        "### 3. 빅데이터 회귀 분석 심화\n",
        "</br>\n",
        "\n",
        "##### 1) 최적의 모델 선택하기\n",
        "[ __모델의 성과 개선 방법__ ]\n",
        "1. 더 복잡하거나 더 유연한 모델 사용\n",
        "2. 덜 복잡하거나 덜 유연한 모델 사용\n",
        "3. 더 많은 훈련 표본 수집\n",
        "4. 각 표본에 특징을 추가하기 위해 더 많은 데이터 수집\n",
        "\n",
        "+ 예상했던 결과가 나오지 않을 수도 있음\n",
        "+ 더 복잡하고, 더 많은 데이터를 사용해도 정확하지 않을 수 있음\n",
        "</br></br>\n",
        "\n",
        "[ __편향-분산 트레이드 오프__ ]\n",
        "+ 기본적으로 __최고의 모델__을 선택하는 것은 편향과 분산 사이의 트레이드 오프에서 가장 표율적인 점을 찾는 것\n",
        "\n",
        "![편향-분산 트레이드 오프](https://github.com/seoy9/DALC_Scala/blob/1915208e71a4b61dc70e7c446b33e1dc16ff7aef/%ED%8E%B8%ED%96%A5_%EB%B6%84%EC%82%B0%20%ED%8A%B8%EB%A0%88%EC%9D%B4%EB%93%9C%20%EC%98%A4%ED%94%84.JPG?raw=true)\n",
        "+ 서로 다른 방식으로 인해 결과 실패 초래\n",
        "+ 왼쪽\n",
        "  + 데이터가 직선보다는 복잡하게 변동\n",
        "  + 선형 모델로는 데이터 세트 설명 불가\n",
        "  + 데이터의 특징을 설명하기에 모델이 유연하지 못함 = 모델이 고편향 되었음\n",
        "+ 오른쪽\n",
        "  + 고차 다향식을 데이터에 적합\n",
        "  + 데이터의 서밀한 변동을 거의 완벽하게 설명 = 충분한 유연성 가짐\n",
        "  + 기존 훈련 데이터에 대해서만 적합할 가능성이 높음\n",
        "  + 기존 훈련 데이터에 포함된 본질적인 속성보다 데이터의 특정 잡음 속성을 더 많이 반영 = 과적합, 모델이 고분산을 가지고 있음\n",
        "\n",
        "→ 예상했던 결과가 나오지 않을 수도 있음\n",
        "\n",
        "→ 더 복잡하고, 더 많은 데이터를 사용해도 정확하지 않을 수 있음\n",
        "\n",
        "→ 최소의 노력으로 최대의 개선을 끌어낼 수 있어야 함\n",
        "</br></br>\n",
        "\n",
        "![편향-분산 트레이드 오프(새로운 값)](https://github.com/seoy9/DALC_Scala/blob/d645cac2846031f2637cced00c2e2543511094f9/%ED%8E%B8%ED%96%A5_%EB%B6%84%EC%82%B0%20%ED%8A%B8%EB%A0%88%EC%9D%B4%EB%93%9C%20%EC%98%A4%ED%94%84_%EC%83%88%EB%A1%9C%EC%9A%B4%20%EA%B0%92.JPG?raw=true)\n",
        "+ 빨간색 점 : 훈련 데이터에서 생략된 데이터\n",
        "+ $R^2$값 : 결정 계수, 회귀 모델의 정확도 표현\n",
        "+ 결정 계수 1 : 완벽 일치  \n",
        "결정 계수 0 : 단순 평균을 구하는 수준\n",
        "+ 검정 : 데이터에 대한 모델의 정확도를 측정하는 과정 = 빨간 점에 대해 모델이 적합하면 검정 결과가 우수\n",
        "+ 고편향 모델(왼쪽) : 검정 표본에서의 모델 성능이 훈련 표본에서의 성능과 유사\n",
        "+ 고분산 모델(오른쪽) : 훈련 표본에서는 모델 성능이 우수하지만 검정 표본에서는 성능 저하\n",
        "</br></br>\n",
        "\n",
        "+ 모델의 복잡도를 조정할 수 있을 때\n",
        "![편향-분산 트레이드 오프(복잡도 조정)](https://github.com/seoy9/DALC_Scala/blob/db6f8e1783b752f754cdc8c79d7d0c15997ee12d/%ED%8E%B8%ED%96%A5_%EB%B6%84%EC%82%B0%20%ED%8A%B8%EB%A0%88%EC%9D%B4%EB%93%9C%20%EC%98%A4%ED%94%84_%EB%B3%B5%EC%9E%A1%EB%8F%84%20%EC%A1%B0%EC%A0%95.JPG?raw=true)\n",
        "+ 고편향과 고분산이 절충되어 검정 점수가 가장 높은 정도의 모델 복잡도가 나오는 것이 바람직함\n",
        "</br></br>\n",
        "\n",
        "##### 2) 다항식 회귀 모델\n",
        "\n",
        "[ __1차 선형 회귀 모델__ ]\n",
        "+ $y = ax + b$\n",
        "\n",
        "[ __3차 다항식 회귀 모델__ ]\n",
        "+ $y = ax^3 + bx^2 + cx + d$\n",
        "</br></br>\n",
        "\n",
        "[ __파이프 라인__ ]\n",
        "+ 전처리 프로그램과 선형 회귀 모델을 묶어주는 프로그램\n",
        "\n",
        "[ __데이터 시각화__ ]"
      ]
    },
    {
      "cell_type": "code",
      "metadata": {
        "colab": {
          "base_uri": "https://localhost:8080/",
          "height": 268
        },
        "id": "EIYeDF8Sd21Q",
        "outputId": "0e6d90a2-ee52-4a40-bdab-2f8fec6f59ec"
      },
      "source": [
        "%matplotlib inline\n",
        "import matplotlib.pyplot as plt\n",
        "import seaborn; seaborn.set()\n",
        "\n",
        "X_test = np.linspace(-0.1, 1.1, 500)\n",
        "plt.scatter(X, y, color='black')\n",
        "axis = plt.axis()"
      ],
      "execution_count": 22,
      "outputs": [
        {
          "output_type": "display_data",
          "data": {
            "image/png": "[encoded data removed]",
            "text/plain": [
              "<Figure size 432x288 with 1 Axes>"
            ]
          },
          "metadata": {
            "tags": []
          }
        }
      ]
    },
    {
      "cell_type": "markdown",
      "metadata": {
        "id": "6zIXS8QZesqt"
      },
      "source": [
        "[ __데이터 적합__ ]"
      ]
    },
    {
      "cell_type": "code",
      "metadata": {
        "colab": {
          "base_uri": "https://localhost:8080/",
          "height": 490
        },
        "id": "tNOictGKeva3",
        "outputId": "6b700140-e2ea-42b8-e46a-0218a1996776"
      },
      "source": [
        "plt.scatter(X, y, color='black')\n",
        "\n",
        "for degree in [1, 2, 3]:\n",
        "  model = PolynomialRegression(degree)\n",
        "  model.fir(X[:, np.newaxis], y)\n",
        "  y_test = model.predict(X_test[:, np.newaxis])\n",
        "  plt.plot(X_test, y_test, label=f'Degree={degree}')\n",
        "\n",
        "plt.axis([-0.1, 1.0, -2, 12])\n",
        "plt.legend(loc='best')"
      ],
      "execution_count": 24,
      "outputs": [
        {
          "output_type": "error",
          "ename": "NameError",
          "evalue": "ignored",
          "traceback": [
            "\u001b[0;31m---------------------------------------------------------------------------\u001b[0m",
            "\u001b[0;31mNameError\u001b[0m                                 Traceback (most recent call last)",
            "\u001b[0;32m<ipython-input-24-23c2d7cc2825>\u001b[0m in \u001b[0;36m<module>\u001b[0;34m()\u001b[0m\n\u001b[1;32m      2\u001b[0m \u001b[0;34m\u001b[0m\u001b[0m\n\u001b[1;32m      3\u001b[0m \u001b[0;32mfor\u001b[0m \u001b[0mdegree\u001b[0m \u001b[0;32min\u001b[0m \u001b[0;34m[\u001b[0m\u001b[0;36m1\u001b[0m\u001b[0;34m,\u001b[0m \u001b[0;36m2\u001b[0m\u001b[0;34m,\u001b[0m \u001b[0;36m3\u001b[0m\u001b[0;34m]\u001b[0m\u001b[0;34m:\u001b[0m\u001b[0;34m\u001b[0m\u001b[0;34m\u001b[0m\u001b[0m\n\u001b[0;32m----> 4\u001b[0;31m   \u001b[0mmodel\u001b[0m \u001b[0;34m=\u001b[0m \u001b[0mPolynomialRegression\u001b[0m\u001b[0;34m(\u001b[0m\u001b[0mdegree\u001b[0m\u001b[0;34m)\u001b[0m\u001b[0;34m\u001b[0m\u001b[0;34m\u001b[0m\u001b[0m\n\u001b[0m\u001b[1;32m      5\u001b[0m   \u001b[0mmodel\u001b[0m\u001b[0;34m.\u001b[0m\u001b[0mfir\u001b[0m\u001b[0;34m(\u001b[0m\u001b[0mX\u001b[0m\u001b[0;34m[\u001b[0m\u001b[0;34m:\u001b[0m\u001b[0;34m,\u001b[0m \u001b[0mnp\u001b[0m\u001b[0;34m.\u001b[0m\u001b[0mnewaxis\u001b[0m\u001b[0;34m]\u001b[0m\u001b[0;34m,\u001b[0m \u001b[0my\u001b[0m\u001b[0;34m)\u001b[0m\u001b[0;34m\u001b[0m\u001b[0;34m\u001b[0m\u001b[0m\n\u001b[1;32m      6\u001b[0m   \u001b[0my_test\u001b[0m \u001b[0;34m=\u001b[0m \u001b[0mmodel\u001b[0m\u001b[0;34m.\u001b[0m\u001b[0mpredict\u001b[0m\u001b[0;34m(\u001b[0m\u001b[0mX_test\u001b[0m\u001b[0;34m[\u001b[0m\u001b[0;34m:\u001b[0m\u001b[0;34m,\u001b[0m \u001b[0mnp\u001b[0m\u001b[0;34m.\u001b[0m\u001b[0mnewaxis\u001b[0m\u001b[0;34m]\u001b[0m\u001b[0;34m)\u001b[0m\u001b[0;34m\u001b[0m\u001b[0;34m\u001b[0m\u001b[0m\n",
            "\u001b[0;31mNameError\u001b[0m: name 'PolynomialRegression' is not defined"
          ]
        },
        {
          "output_type": "display_data",
          "data": {
            "image/png": "[encoded data removed]",
            "text/plain": [
              "<Figure size 432x288 with 1 Axes>"
            ]
          },
          "metadata": {
            "tags": []
          }
        }
      ]
    },
    {
      "cell_type": "markdown",
      "metadata": {
        "id": "uwZbAWsWf0qz"
      },
      "source": [
        "[ __데이터 적합 결과 시각화__ ]\n",
        "\n",
        "![데이터 적합 결과 시각화](https://github.com/seoy9/DALC_Scala/blob/2e9830fb570a51f2cb4e3f62366fc713db27bef9/%EB%8D%B0%EC%9D%B4%ED%84%B0%20%EC%A0%81%ED%95%A9%20%EA%B2%B0%EA%B3%BC%20%EC%8B%9C%EA%B0%81%ED%99%94.JPG?raw=true)\n",
        "</br></br>\n",
        "\n",
        "[ __데이터 검증 곡선__ ]\n"
      ]
    },
    {
      "cell_type": "code",
      "metadata": {
        "colab": {
          "base_uri": "https://localhost:8080/",
          "height": 274
        },
        "id": "bmtoo6xqgC4P",
        "outputId": "acbe9b11-40b1-4115-f008-206b219f0518"
      },
      "source": [
        "from sklearn.model_selection import validation_curve\n",
        "degree = np.arange(1, 10)\n",
        "\n",
        "train_score, val_score = validation_curve(PolynomialRegression(), X[:, np.newaxis], y, 'polynomialfeatures__degree', degree, cv = 7)\n",
        "\n",
        "plt.plot(degree, no.median(train_score, 1), color='blue', label = 'training score')\n",
        "plt.plot(degree, np.median(val_score, 1), color='red', label='validation score')\n",
        "plt.legend(lod='best')\n",
        "plt.ylim(0, 1)\n",
        "plt.xlabel('degree');"
      ],
      "execution_count": 26,
      "outputs": [
        {
          "output_type": "error",
          "ename": "NameError",
          "evalue": "ignored",
          "traceback": [
            "\u001b[0;31m---------------------------------------------------------------------------\u001b[0m",
            "\u001b[0;31mNameError\u001b[0m                                 Traceback (most recent call last)",
            "\u001b[0;32m<ipython-input-26-f74537706bdc>\u001b[0m in \u001b[0;36m<module>\u001b[0;34m()\u001b[0m\n\u001b[1;32m      2\u001b[0m \u001b[0mdegree\u001b[0m \u001b[0;34m=\u001b[0m \u001b[0mnp\u001b[0m\u001b[0;34m.\u001b[0m\u001b[0marange\u001b[0m\u001b[0;34m(\u001b[0m\u001b[0;36m1\u001b[0m\u001b[0;34m,\u001b[0m \u001b[0;36m10\u001b[0m\u001b[0;34m)\u001b[0m\u001b[0;34m\u001b[0m\u001b[0;34m\u001b[0m\u001b[0m\n\u001b[1;32m      3\u001b[0m \u001b[0;34m\u001b[0m\u001b[0m\n\u001b[0;32m----> 4\u001b[0;31m \u001b[0mtrain_score\u001b[0m\u001b[0;34m,\u001b[0m \u001b[0mval_score\u001b[0m \u001b[0;34m=\u001b[0m \u001b[0mvalidation_curve\u001b[0m\u001b[0;34m(\u001b[0m\u001b[0mPolynomialRegression\u001b[0m\u001b[0;34m(\u001b[0m\u001b[0;34m)\u001b[0m\u001b[0;34m,\u001b[0m \u001b[0mX\u001b[0m\u001b[0;34m[\u001b[0m\u001b[0;34m:\u001b[0m\u001b[0;34m,\u001b[0m \u001b[0mnp\u001b[0m\u001b[0;34m.\u001b[0m\u001b[0mnewaxis\u001b[0m\u001b[0;34m]\u001b[0m\u001b[0;34m,\u001b[0m \u001b[0my\u001b[0m\u001b[0;34m,\u001b[0m \u001b[0;34m'polynomialfeatures__degree'\u001b[0m\u001b[0;34m,\u001b[0m \u001b[0mdegree\u001b[0m\u001b[0;34m,\u001b[0m \u001b[0mcv\u001b[0m \u001b[0;34m=\u001b[0m \u001b[0;36m7\u001b[0m\u001b[0;34m)\u001b[0m\u001b[0;34m\u001b[0m\u001b[0;34m\u001b[0m\u001b[0m\n\u001b[0m\u001b[1;32m      5\u001b[0m \u001b[0;34m\u001b[0m\u001b[0m\n\u001b[1;32m      6\u001b[0m \u001b[0mplt\u001b[0m\u001b[0;34m.\u001b[0m\u001b[0mplot\u001b[0m\u001b[0;34m(\u001b[0m\u001b[0mdegree\u001b[0m\u001b[0;34m,\u001b[0m \u001b[0mno\u001b[0m\u001b[0;34m.\u001b[0m\u001b[0mmedian\u001b[0m\u001b[0;34m(\u001b[0m\u001b[0mtrain_score\u001b[0m\u001b[0;34m,\u001b[0m \u001b[0;36m1\u001b[0m\u001b[0;34m)\u001b[0m\u001b[0;34m,\u001b[0m \u001b[0mcolor\u001b[0m\u001b[0;34m=\u001b[0m\u001b[0;34m'blue'\u001b[0m\u001b[0;34m,\u001b[0m \u001b[0mlabel\u001b[0m \u001b[0;34m=\u001b[0m \u001b[0;34m'training score'\u001b[0m\u001b[0;34m)\u001b[0m\u001b[0;34m\u001b[0m\u001b[0;34m\u001b[0m\u001b[0m\n",
            "\u001b[0;31mNameError\u001b[0m: name 'PolynomialRegression' is not defined"
          ]
        }
      ]
    },
    {
      "cell_type": "markdown",
      "metadata": {
        "id": "QtUUQakDiKtu"
      },
      "source": [
        "[ __최적 모델__ ]\n",
        "\n",
        "![최적 모델](https://github.com/seoy9/DALC_Scala/blob/3620834e6a8ca931c78d56445f2312087c1f1aed/%EC%B5%9C%EC%A0%81%20%EB%AA%A8%EB%8D%B8.JPG?raw=true)\n",
        "+ 1~3차식 : 훈련 점수와 검정 점수가 함께 상승\n",
        "+ 4차식 이상 : 검정 점수 하락, 과적합 발생"
      ]
    }
  ]
}