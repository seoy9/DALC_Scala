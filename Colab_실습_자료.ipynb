{
  "nbformat": 4,
  "nbformat_minor": 0,
  "metadata": {
    "colab": {
      "name": "Colab 실습 자료",
      "provenance": [],
      "collapsed_sections": []
    },
    "kernelspec": {
      "name": "python3",
      "display_name": "Python 3"
    }
  },
  "cells": [
    {
      "cell_type": "markdown",
      "metadata": {
        "id": "EWndrTzeEvmT"
      },
      "source": [
        "# Colab 실습 하기\r\n"
      ]
    },
    {
      "cell_type": "markdown",
      "metadata": {
        "id": "f93DYiLJE1Iz"
      },
      "source": [
        "## 1. 마크다운으로 내 깃허브 링크 삽입하기\r\n",
        "\r\n",
        "(여기를 채워주세요! )\r\n",
        "</br>\r\n",
        "\r\n",
        "[홍서연 깃허브](https://github.com/seoy9)"
      ]
    },
    {
      "cell_type": "markdown",
      "metadata": {
        "id": "wEZnlUbIFVa-"
      },
      "source": [
        "## 2. 마크다운으로 이미지 삽입하기\r\n",
        "\r\n",
        "- 이미지는 인터넷에 있는 이미지 아무거나 또는 내 pc에 저장되어 있는 아무이미지를 삽입해주시면 됩니다. \r\n",
        "\r\n",
        "(여기를 채워주세요!)\r\n",
        "</br>\r\n",
        "</br>\r\n",
        "\r\n",
        "![](https://github.com/seoy9/DALC_Scala/blob/6a72b132ad99b896297da990e936ed60cd6d591e/%EC%9B%94%EA%B8%89%20%EC%A3%BC%EB%8A%94%20%EC%82%AC%EB%9E%8C%EB%93%A4....jpg?raw=true)"
      ]
    },
    {
      "cell_type": "markdown",
      "metadata": {
        "id": "rtnleslqFhT8"
      },
      "source": [
        "## 3. 마크다운으로 수업 배운 것 정리해보기\r\n",
        "- 전공수업, 교양 수업, 오늘 ot내용, 요즘 준비하는 자격증 내용 등등 기타 자기가 최근 배운 것 아무거나 최소 3줄이상 작성해주세요. (이때 단어강조하기, 문장 띄어쓰기, 인용구등 사용하기)\r\n",
        "\r\n",
        "(여기를 채워주세요!)\r\n",
        "</br>\r\n",
        "</br>\r\n",
        "\r\n",
        "---\r\n",
        "####**Python**(파이썬)\r\n",
        "+ 인터프리터 방식 -> 대화형 언어\r\n",
        "+ 편의성 높음(사용자 친화적) -> 사용자가 라이브러리 추가 가능\r\n",
        "+ 공동 작업, 유지, 보수 쉽고 편함함\r\n",
        "</br>\r\n",
        "\r\n",
        "> 첫 주 깃허브 만들다가 헤맸지만, 열심히 했음!\r\n",
        "\r\n"
      ]
    }
  ]
}