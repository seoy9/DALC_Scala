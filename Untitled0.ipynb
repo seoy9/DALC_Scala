{
  "nbformat": 4,
  "nbformat_minor": 0,
  "metadata": {
    "colab": {
      "name": "Untitled0.ipynb",
      "provenance": [],
      "toc_visible": true,
      "authorship_tag": "ABX9TyOqrwQgxxpMI3bU5aahz3YQ",
      "include_colab_link": true
    },
    "kernelspec": {
      "name": "python3",
      "display_name": "Python 3"
    },
    "language_info": {
      "name": "python"
    }
  },
  "cells": [
    {
      "cell_type": "markdown",
      "metadata": {
        "id": "view-in-github",
        "colab_type": "text"
      },
      "source": [
        "<a href=\"https://colab.research.google.com/github/seoy9/DALC_Scala/blob/main/Untitled0.ipynb\" target=\"_parent\"><img src=\"https://colab.research.google.com/assets/colab-badge.svg\" alt=\"Open In Colab\"/></a>"
      ]
    },
    {
      "cell_type": "markdown",
      "metadata": {
        "id": "F6KpgVf8TcaF"
      },
      "source": [
        "# 파이썬 데이터 타입과 Numpy 이해하기"
      ]
    },
    {
      "cell_type": "markdown",
      "metadata": {
        "id": "vilhlqsiTmZa"
      },
      "source": [
        "## 2-1 numpy 기초"
      ]
    },
    {
      "cell_type": "markdown",
      "metadata": {
        "id": "Z2QO9VjZTq0j"
      },
      "source": [
        "### 1.빅테이터 분석 및 처리\n",
        "</br>\n",
        "\n",
        "+ 빅테이터(Big Data) : 전통적 데이터 관리 기법으로 다루기 어려운 __정형 및 비정형 데이터들__\n",
        "\n",
        "</br>\n",
        "\n",
        "##### 1) 프로그래밍 언어\n",
        "+ R : 통계학적인 요소가 많은 도구 (통계 업무를 위해 만들어짐)\n",
        "+ 파이썬 : 단순한 문법 구조를 가진 고수준 언어 (쉽고 유연한 문법, 오픈소스 라이브러리 풍부 -> _높은 접근성_ )\n",
        "\n",
        "</br>\n",
        "\n",
        "##### 2) 파이썬\n",
        "+ 데이터 분석이나 대용량 계산을 위해 설계한 것이 아님\n",
        "\n",
        "그러나\n",
        "+ 목적에 맞는 __다양한 패키지__ 개발\n",
        "+ 꾸준히 __개발 및 출시__\n",
        "\n",
        "결국, 빅데이터 분야에서 파이썬을 널리 사용\n",
        "\n",
        "[패키지]\n",
        "+ numpy : 동일한 데이터 타입의 배열 데이터를 처리\n",
        "+ Pandas : data frame 형태로 다룰 수 있게 함\n",
        "+ Scipy : 일반적인 과학 계산 작업\n",
        "+ Matplotlib : 데이터 시각화\n",
        "+ Scikit-Learn : 머신런닝 numpy : 동일한 데이터 타입의 배열 데이터를 처리\n",
        "+ Pandas : data frame 형태로 다룰 수 있게 함\n",
        "+ Scipy : 일반적인 과학 계산 작업\n",
        "+ Matplotlib : 데이터 시각화\n",
        "+ Scikit-Learn : 머신런닝\n",
        "\n",
        "</br></br></br>\n",
        "### 2. 데이터 저장 및 가공\n",
        "\n",
        "</br>\n",
        "\n",
        "##### 1)데이터 분석\n",
        "+ 데이터 = 이미지, 사운드, 수치 등 다양한 형식  \n",
        "그러나, 컴퓨터에서 처리하려면 __숫자 배열__로 변환하는 것이 도움이 됨  \n",
        "ex) 디지털 이미지 = 2차원 숫자 배열(픽셀 밝기)  \n",
        "사운드 데이터 = 1차원 배열(시간 대비 강도)\n",
        "+ (첫 번째) 원본 데이터를 __숫자 배열__로 변환\n",
        "\n",
        "→ 숫자 배열을 전문적으로 다룰 수 있는 __Numpy 패키지__\n",
        "\n",
        "</br></br></br>\n",
        "### 3. Numpy 패키지\n",
        "\n",
        "</br>\n",
        "\n",
        "##### 1) 넘파이(Numerical Python)\n",
        "+ 빅데이터, 머신러닝 등에서 요구하는 데이터 유형 → 다차원(multi-dimensional array)\n",
        "+ Numpy\n",
        "  + 배열을 전문적으로 다루는 패키지\n",
        "  + Pandas와 Matplotlib에서 기본으로 사용되는 패키지\n",
        "  + __array__라는 단위로 데이터 관리 및 연산 수행  \n",
        "  (array : 동일한 데이터 타입을 갖는 벡터나 행렬)\n",
        "  + 배열 규모가 커질 수록 데이터 저장 및 처리는 List보다 __Numpy 배열이 효율적__\n",
        "\n",
        "</br></br></br>\n",
        "### 4. 행렬 생성\n",
        "\n",
        "</br>\n",
        "\n",
        "##### 1) 넘파이 패키지 임포트\n",
        "\n",
        "\n",
        "\n",
        "\n",
        "\n",
        "\n",
        "\n",
        "\n",
        "\n",
        "\n",
        "\n",
        "\n",
        "\n",
        "\n"
      ]
    },
    {
      "cell_type": "code",
      "metadata": {
        "id": "v06wlzueZ5mB"
      },
      "source": [
        "import numpy as np"
      ],
      "execution_count": 3,
      "outputs": []
    },
    {
      "cell_type": "markdown",
      "metadata": {
        "id": "bg9H3oL4Z-R2"
      },
      "source": [
        "##### 2) array 정의와 사용 방법"
      ]
    },
    {
      "cell_type": "code",
      "metadata": {
        "colab": {
          "base_uri": "https://localhost:8080/"
        },
        "id": "hecooIfaaFN0",
        "outputId": "3ed3cacd-b2f2-4c44-a6b6-980e302f3da1"
      },
      "source": [
        "# list 사용\n",
        "data1 = [1,2,3,4,5]\n",
        "data2 = [6,5,4,3,2,1]\n",
        "print(data1, data2)"
      ],
      "execution_count": 4,
      "outputs": [
        {
          "output_type": "stream",
          "text": [
            "[1, 2, 3, 4, 5] [6, 5, 4, 3, 2, 1]\n"
          ],
          "name": "stdout"
        }
      ]
    },
    {
      "cell_type": "code",
      "metadata": {
        "colab": {
          "base_uri": "https://localhost:8080/"
        },
        "id": "yYTvbVPSaQDl",
        "outputId": "c5e5c3f1-4354-465c-9ac1-b7ba53e7618e"
      },
      "source": [
        "# Numpy 사용\n",
        "ar1 = np.array(data1)\n",
        "ar1"
      ],
      "execution_count": 5,
      "outputs": [
        {
          "output_type": "execute_result",
          "data": {
            "text/plain": [
              "array([1, 2, 3, 4, 5])"
            ]
          },
          "metadata": {
            "tags": []
          },
          "execution_count": 5
        }
      ]
    },
    {
      "cell_type": "code",
      "metadata": {
        "colab": {
          "base_uri": "https://localhost:8080/"
        },
        "id": "oxAtqjGIab3m",
        "outputId": "6b118974-21c6-46e7-f340-a2dc6bfdacb2"
      },
      "source": [
        "# Numpy 데이터 타입 설정\n",
        "ar2 = np.array(data1, dtype='float32')\n",
        "ar2"
      ],
      "execution_count": 7,
      "outputs": [
        {
          "output_type": "execute_result",
          "data": {
            "text/plain": [
              "array([1., 2., 3., 4., 5.], dtype=float32)"
            ]
          },
          "metadata": {
            "tags": []
          },
          "execution_count": 7
        }
      ]
    },
    {
      "cell_type": "markdown",
      "metadata": {
        "id": "9ID4s5tYasIW"
      },
      "source": [
        "##### 3) 다차원 배열 구성"
      ]
    },
    {
      "cell_type": "code",
      "metadata": {
        "colab": {
          "base_uri": "https://localhost:8080/"
        },
        "id": "P0OLizDAaz7C",
        "outputId": "629342a2-6799-492d-b1b7-ccf9a16425cd"
      },
      "source": [
        "# 다차원 배열 초기화\n",
        "ar3 = np.array([range(i, i + 3) for i in data1 ])\n",
        "ar3"
      ],
      "execution_count": 8,
      "outputs": [
        {
          "output_type": "execute_result",
          "data": {
            "text/plain": [
              "array([[1, 2, 3],\n",
              "       [2, 3, 4],\n",
              "       [3, 4, 5],\n",
              "       [4, 5, 6],\n",
              "       [5, 6, 7]])"
            ]
          },
          "metadata": {
            "tags": []
          },
          "execution_count": 8
        }
      ]
    },
    {
      "cell_type": "code",
      "metadata": {
        "colab": {
          "base_uri": "https://localhost:8080/"
        },
        "id": "R4XjxmeGbATC",
        "outputId": "549dc078-9681-44a1-b5e4-5112ee8f56ee"
      },
      "source": [
        "# full 함수 ((행렬 크기), 지정 값)\n",
        "ar4 = np.full((3, 5), 3.14)\n",
        "ar4"
      ],
      "execution_count": 9,
      "outputs": [
        {
          "output_type": "execute_result",
          "data": {
            "text/plain": [
              "array([[3.14, 3.14, 3.14, 3.14, 3.14],\n",
              "       [3.14, 3.14, 3.14, 3.14, 3.14],\n",
              "       [3.14, 3.14, 3.14, 3.14, 3.14]])"
            ]
          },
          "metadata": {
            "tags": []
          },
          "execution_count": 9
        }
      ]
    },
    {
      "cell_type": "code",
      "metadata": {
        "colab": {
          "base_uri": "https://localhost:8080/"
        },
        "id": "NMNMjUfVbP_S",
        "outputId": "8397167c-07f2-4ad8-f019-62e87a23679c"
      },
      "source": [
        "# arange 함수 (시작, 끝, 차이) -> 20은 포함되지 않음 arange 함수 (시작, 까지, 차이) -> 20은 포함되지 않음\n",
        "ar5 = np.arange(0, 20, 2) # 0부터 20까지 2씩 더함\n",
        "ar5"
      ],
      "execution_count": 10,
      "outputs": [
        {
          "output_type": "execute_result",
          "data": {
            "text/plain": [
              "array([ 0,  2,  4,  6,  8, 10, 12, 14, 16, 18])"
            ]
          },
          "metadata": {
            "tags": []
          },
          "execution_count": 10
        }
      ]
    },
    {
      "cell_type": "markdown",
      "metadata": {
        "id": "z8XPMmwVbrp7"
      },
      "source": [
        "##### 4) 배열 구성"
      ]
    },
    {
      "cell_type": "code",
      "metadata": {
        "colab": {
          "base_uri": "https://localhost:8080/"
        },
        "id": "y2FE42x3bv7s",
        "outputId": "8630db29-e366-4c91-cef3-9aff1c924a39"
      },
      "source": [
        "# linspace 함수 (시작, 끝, 개수)\n",
        "ar6 = np.linspace(0, 1, 3) # 0부터 1까지 일정한 간격을 가진 3개 값\n",
        "ar6"
      ],
      "execution_count": 11,
      "outputs": [
        {
          "output_type": "execute_result",
          "data": {
            "text/plain": [
              "array([0. , 0.5, 1. ])"
            ]
          },
          "metadata": {
            "tags": []
          },
          "execution_count": 11
        }
      ]
    },
    {
      "cell_type": "markdown",
      "metadata": {
        "id": "Un_BJ5HecOQp"
      },
      "source": [
        "##### 5) 무작위 값의 배열 구성"
      ]
    },
    {
      "cell_type": "code",
      "metadata": {
        "colab": {
          "base_uri": "https://localhost:8080/"
        },
        "id": "NkVbiKKQcSiW",
        "outputId": "aca3bdfa-c399-4f60-8375-f98e20864cd1"
      },
      "source": [
        "# random 함수\n",
        "ar7 = np.random.random((3, 3)) # 3X3 행렬 생성 + 0과 1 사이의 무작위 값으로 채움\n",
        "ar7"
      ],
      "execution_count": 14,
      "outputs": [
        {
          "output_type": "execute_result",
          "data": {
            "text/plain": [
              "array([[0.08784234, 0.67835179, 0.54308625],\n",
              "       [0.42078543, 0.93909177, 0.35822854],\n",
              "       [0.44621001, 0.88733111, 0.82112182]])"
            ]
          },
          "metadata": {
            "tags": []
          },
          "execution_count": 14
        }
      ]
    },
    {
      "cell_type": "code",
      "metadata": {
        "colab": {
          "base_uri": "https://localhost:8080/"
        },
        "id": "rObdswtDcmj8",
        "outputId": "ce206d06-a087-4ec0-e5a2-381e70ec8d07"
      },
      "source": [
        "# randint 함수 (시작, 끝, (행렬 크기))\n",
        "ar8 = np.random.randint(0, 100, (3,3)) # 3X3 행렬 생성 + 0과 100 사이 무작위 정수 값으로 채움\n",
        "ar8"
      ],
      "execution_count": 15,
      "outputs": [
        {
          "output_type": "execute_result",
          "data": {
            "text/plain": [
              "array([[16, 89, 48],\n",
              "       [75, 87,  3],\n",
              "       [90, 91, 23]])"
            ]
          },
          "metadata": {
            "tags": []
          },
          "execution_count": 15
        }
      ]
    },
    {
      "cell_type": "markdown",
      "metadata": {
        "id": "EndqfqetdONJ"
      },
      "source": [
        "##### 6) 단위 행렬 생성"
      ]
    },
    {
      "cell_type": "code",
      "metadata": {
        "colab": {
          "base_uri": "https://localhost:8080/"
        },
        "id": "3-PUyf84dR3l",
        "outputId": "34d0bf3c-6a3c-49ed-c921-f8d270d24c38"
      },
      "source": [
        "# eye 함수 \n",
        "ar9 = np.eye(3) # 3X3 단위 행렬 -> 대각선 1, 나머지 0인 2차원 배열 생성\n",
        "ar9"
      ],
      "execution_count": 16,
      "outputs": [
        {
          "output_type": "execute_result",
          "data": {
            "text/plain": [
              "array([[1., 0., 0.],\n",
              "       [0., 1., 0.],\n",
              "       [0., 0., 1.]])"
            ]
          },
          "metadata": {
            "tags": []
          },
          "execution_count": 16
        }
      ]
    },
    {
      "cell_type": "markdown",
      "metadata": {
        "id": "HubRGNIedm65"
      },
      "source": [
        "</br></br></br>\n",
        "### 5. Numpy 표준 데이터 타입\n",
        "\n",
        "</br>\n",
        "\n",
        "![Numpy 데이터 타입 표](https://github.com/seoy9/DALC_Scala/blob/cfe498470d7562cf19477d68305f68b17e44ada6/Numpy_type.JPG?raw=true)\n",
        "\n",
        "+ 다른 프로그래밍 언어와 유사한 데이터 타입\n",
        "+ __복소수 데이터 타입 표현 가능__\n",
        "\n",
        "</br></br></br>\n",
        "### 6. 배열 분할, 재구성, 결합\n",
        "\n",
        "+ 배열 속성\n",
        "+ 배열 인덱싱\n",
        "+ 배열 슬라이싱\n",
        "+ 배열 재구조화\n",
        "+ 배열 결합 및 분할\n",
        "\n",
        "</br>\n",
        "\n",
        "##### 1) 배열 속성\n",
        "\n"
      ]
    },
    {
      "cell_type": "code",
      "metadata": {
        "colab": {
          "base_uri": "https://localhost:8080/"
        },
        "id": "ni76NdCZfyb5",
        "outputId": "9d90549e-1412-4026-d77d-607bf2eb2c16"
      },
      "source": [
        "import numpy as np\n",
        "x = np.random.randint(10, size=(3, 4, 5))\n",
        "x"
      ],
      "execution_count": 19,
      "outputs": [
        {
          "output_type": "execute_result",
          "data": {
            "text/plain": [
              "array([[[7, 9, 6, 3, 1],\n",
              "        [1, 3, 0, 9, 6],\n",
              "        [7, 4, 6, 7, 8],\n",
              "        [3, 7, 3, 1, 4]],\n",
              "\n",
              "       [[5, 2, 9, 4, 9],\n",
              "        [7, 9, 9, 7, 4],\n",
              "        [6, 5, 1, 7, 1],\n",
              "        [7, 8, 6, 8, 4]],\n",
              "\n",
              "       [[0, 0, 2, 3, 5],\n",
              "        [4, 8, 6, 1, 9],\n",
              "        [6, 5, 1, 2, 1],\n",
              "        [1, 2, 3, 1, 2]]])"
            ]
          },
          "metadata": {
            "tags": []
          },
          "execution_count": 19
        }
      ]
    },
    {
      "cell_type": "code",
      "metadata": {
        "colab": {
          "base_uri": "https://localhost:8080/"
        },
        "id": "IiKtxV68feut",
        "outputId": "e6d59f44-b140-4612-a790-6e1439315df5"
      },
      "source": [
        "# ndim, shape, size : 차원의 개수, 각 차원의 크기, 전체 배열의 크기\n",
        "print(\"x ndim: \", x.ndim)\n",
        "print(\"x shape: \", x.shape)\n",
        "print(\"x size: \" , x.size)"
      ],
      "execution_count": 20,
      "outputs": [
        {
          "output_type": "stream",
          "text": [
            "x ndim:  3\n",
            "x shape:  (3, 4, 5)\n",
            "x size:  60\n"
          ],
          "name": "stdout"
        }
      ]
    },
    {
      "cell_type": "markdown",
      "metadata": {
        "id": "BFwepj-FgMeR"
      },
      "source": [
        "##### 2) 배열 인덱싱"
      ]
    },
    {
      "cell_type": "code",
      "metadata": {
        "colab": {
          "base_uri": "https://localhost:8080/"
        },
        "id": "Gih2hDYhgO8i",
        "outputId": "434d1cea-1a90-4612-b944-c5510c59811c"
      },
      "source": [
        "# 정수 인덱스 -> 배열 요솟값 접근 / 음수 인덱스 -> 배열 끝에서부터 인덱싱하여 접근 정수 인덱스 -> 배열 요솟값 접근 / 음수 인덱스 -> 배열 끝에서부터 인덱싱하여 접근\n",
        "y = np.array([2, 4, 6, 8, 10])\n",
        "print(y[0], y[-2])"
      ],
      "execution_count": 21,
      "outputs": [
        {
          "output_type": "stream",
          "text": [
            "2 8\n"
          ],
          "name": "stdout"
        }
      ]
    },
    {
      "cell_type": "markdown",
      "metadata": {
        "id": "YBK2DBFcgnBv"
      },
      "source": [
        "##### 3) 다차원 배열 인덱싱"
      ]
    },
    {
      "cell_type": "code",
      "metadata": {
        "colab": {
          "base_uri": "https://localhost:8080/"
        },
        "id": "N-fuN5bhgpzn",
        "outputId": "08317950-4c08-474c-ef49-fefe673dcbc7"
      },
      "source": [
        "z = np.array([[2, 3, 6, 8, 10], [3, 6, 9, 12, 15]])\n",
        "print(z[1, 0])"
      ],
      "execution_count": 23,
      "outputs": [
        {
          "output_type": "stream",
          "text": [
            "3\n"
          ],
          "name": "stdout"
        }
      ]
    },
    {
      "cell_type": "code",
      "metadata": {
        "colab": {
          "base_uri": "https://localhost:8080/"
        },
        "id": "kUr2AW2_g4l4",
        "outputId": "f95ebac3-3b2a-4606-e737-1d416b86e3ec"
      },
      "source": [
        "# 배열 요솟값 수정 배열 요솟값 수정\n",
        "z[0, 0] = 12\n",
        "z"
      ],
      "execution_count": 24,
      "outputs": [
        {
          "output_type": "execute_result",
          "data": {
            "text/plain": [
              "array([[12,  3,  6,  8, 10],\n",
              "       [ 3,  6,  9, 12, 15]])"
            ]
          },
          "metadata": {
            "tags": []
          },
          "execution_count": 24
        }
      ]
    },
    {
      "cell_type": "markdown",
      "metadata": {
        "id": "6TmNA91VhFb6"
      },
      "source": [
        "##### 4) 배열 슬라이싱"
      ]
    },
    {
      "cell_type": "code",
      "metadata": {
        "id": "lDDrK0SYhQAu"
      },
      "source": [
        "# 콜론(:) 기호를 나타내는 슬라이스(slice) 표기법\n",
        "x[start:stop:step]"
      ],
      "execution_count": null,
      "outputs": []
    },
    {
      "cell_type": "markdown",
      "metadata": {
        "id": "1aE0RNB_hUnm"
      },
      "source": [
        "+ 기본값\n",
        "  + start : 0\n",
        "  + stop : 차원 크기\n",
        "  + step: 1"
      ]
    },
    {
      "cell_type": "code",
      "metadata": {
        "colab": {
          "base_uri": "https://localhost:8080/"
        },
        "id": "K9cCxGjphgq1",
        "outputId": "1fb43683-796e-4711-a228-2dd0d6d5a53b"
      },
      "source": [
        "x = np.arange(10)\n",
        "x[4:8] # 인덱스 4부터 7까지의 요소를 가진 하위 배열 만듬"
      ],
      "execution_count": 25,
      "outputs": [
        {
          "output_type": "execute_result",
          "data": {
            "text/plain": [
              "array([4, 5, 6, 7])"
            ]
          },
          "metadata": {
            "tags": []
          },
          "execution_count": 25
        }
      ]
    },
    {
      "cell_type": "code",
      "metadata": {
        "colab": {
          "base_uri": "https://localhost:8080/"
        },
        "id": "n1mFjW84hk8H",
        "outputId": "b85ceb65-7e4b-45c7-b42b-a7af1bc0f02d"
      },
      "source": [
        "x = np.arange(10)\n",
        "x[:5] # 첫 번째 다섯 개의 요소를 가진 하위 배열"
      ],
      "execution_count": 26,
      "outputs": [
        {
          "output_type": "execute_result",
          "data": {
            "text/plain": [
              "array([0, 1, 2, 3, 4])"
            ]
          },
          "metadata": {
            "tags": []
          },
          "execution_count": 26
        }
      ]
    },
    {
      "cell_type": "code",
      "metadata": {
        "colab": {
          "base_uri": "https://localhost:8080/"
        },
        "id": "7hJ-H7SAhpMm",
        "outputId": "9f7e084d-67f9-453a-8222-682761b86d98"
      },
      "source": [
        "x = np.arange(10)\n",
        "x[5:] # 인덱스 5 이후의 요소들로 구성된 하위 배열"
      ],
      "execution_count": 27,
      "outputs": [
        {
          "output_type": "execute_result",
          "data": {
            "text/plain": [
              "array([5, 6, 7, 8, 9])"
            ]
          },
          "metadata": {
            "tags": []
          },
          "execution_count": 27
        }
      ]
    },
    {
      "cell_type": "markdown",
      "metadata": {
        "id": "B06GhZE2iC7j"
      },
      "source": [
        "##### 5) 다차원 배열 슬라이싱"
      ]
    },
    {
      "cell_type": "code",
      "metadata": {
        "colab": {
          "base_uri": "https://localhost:8080/"
        },
        "id": "FfgxJTcGiFlx",
        "outputId": "23cdadb5-4dc4-4e62-e4c5-f307763ab3a5"
      },
      "source": [
        "# 콤마(,)로 구분된 다중 슬라이스(sclice) 표기법\n",
        "z = np.array([[2, 4, 6, 8], [3, 6, 9, 12], [4, 8, 12, 16]])\n",
        "z[:2, :3] # 인덱스 0, 1 행 + 인덱스 0, 1, 2 열로 구성된 다차원 하위 배열"
      ],
      "execution_count": 29,
      "outputs": [
        {
          "output_type": "execute_result",
          "data": {
            "text/plain": [
              "array([[2, 4, 6],\n",
              "       [3, 6, 9]])"
            ]
          },
          "metadata": {
            "tags": []
          },
          "execution_count": 29
        }
      ]
    },
    {
      "cell_type": "code",
      "metadata": {
        "colab": {
          "base_uri": "https://localhost:8080/"
        },
        "id": "svF-OFEBifER",
        "outputId": "ed9c9ba1-3744-479f-af63-ab8ceed33621"
      },
      "source": [
        "z = np.array([[2, 4, 6, 8], [3, 6, 9, 12], [4, 8, 12, 16]])\n",
        "z[:3, ::2] # 행은 모든 행 + 한 열 걸러 하나씩의 열로 구성된 다차원 하위 배열열"
      ],
      "execution_count": 30,
      "outputs": [
        {
          "output_type": "execute_result",
          "data": {
            "text/plain": [
              "array([[ 2,  6],\n",
              "       [ 3,  9],\n",
              "       [ 4, 12]])"
            ]
          },
          "metadata": {
            "tags": []
          },
          "execution_count": 30
        }
      ]
    },
    {
      "cell_type": "markdown",
      "metadata": {
        "id": "zdrZBpFgi2yA"
      },
      "source": [
        "##### 6) 배열 재구조화"
      ]
    },
    {
      "cell_type": "code",
      "metadata": {
        "colab": {
          "base_uri": "https://localhost:8080/"
        },
        "id": "ebWbaQxAi5Hl",
        "outputId": "5247dcfe-dcae-4879-8db6-f4790b108f68"
      },
      "source": [
        "# reshape 함수 (행렬 크기 reshape 함수 (행렬 크기)\n",
        "z = np.arange(1, 10).reshape(3, 3) # 3X3 행렬에 숫자 1부터 9까지\n",
        "z"
      ],
      "execution_count": 31,
      "outputs": [
        {
          "output_type": "execute_result",
          "data": {
            "text/plain": [
              "array([[1, 2, 3],\n",
              "       [4, 5, 6],\n",
              "       [7, 8, 9]])"
            ]
          },
          "metadata": {
            "tags": []
          },
          "execution_count": 31
        }
      ]
    },
    {
      "cell_type": "markdown",
      "metadata": {
        "id": "zWum6ap2jLwj"
      },
      "source": [
        "##### 7) 배열 결합"
      ]
    },
    {
      "cell_type": "code",
      "metadata": {
        "colab": {
          "base_uri": "https://localhost:8080/"
        },
        "id": "oBWCJsp1jRsj",
        "outputId": "4c56ed4e-4212-448c-afa6-b13faace7959"
      },
      "source": [
        "# concatenate\n",
        "x = np.array([1, 2, 3])\n",
        "y = np.array([3, 2, 1])\n",
        "z = np.concatenate([x, y])\n",
        "z"
      ],
      "execution_count": 32,
      "outputs": [
        {
          "output_type": "execute_result",
          "data": {
            "text/plain": [
              "array([1, 2, 3, 3, 2, 1])"
            ]
          },
          "metadata": {
            "tags": []
          },
          "execution_count": 32
        }
      ]
    },
    {
      "cell_type": "code",
      "metadata": {
        "colab": {
          "base_uri": "https://localhost:8080/"
        },
        "id": "5CLFNTShjeVw",
        "outputId": "b31e9b09-f9f8-4e15-a6e8-ad47cb871c66"
      },
      "source": [
        "# vstack : 수직 스택\n",
        "x = np.array([1, 2, 3])\n",
        "grid = np.array([[4, 5, 6], [7, 8, 9]])\n",
        "v = np.vstack([x, grid])\n",
        "v"
      ],
      "execution_count": 33,
      "outputs": [
        {
          "output_type": "execute_result",
          "data": {
            "text/plain": [
              "array([[1, 2, 3],\n",
              "       [4, 5, 6],\n",
              "       [7, 8, 9]])"
            ]
          },
          "metadata": {
            "tags": []
          },
          "execution_count": 33
        }
      ]
    },
    {
      "cell_type": "markdown",
      "metadata": {
        "id": "23RJGddnjzmK"
      },
      "source": [
        "1 | 2 | 3  \n",
        "+\n",
        "</br>\n",
        "4 | 5 | 6  \n",
        "7 | 8 | 9  \n",
        "↓  \n",
        "1 | 2 | 3  \n",
        "4 | 5 | 6  \n",
        "7 | 8 | 9\n",
        "\n"
      ]
    },
    {
      "cell_type": "code",
      "metadata": {
        "colab": {
          "base_uri": "https://localhost:8080/"
        },
        "id": "T541KSfsjuok",
        "outputId": "46614525-6164-4d3e-e6d2-0b46835c7f16"
      },
      "source": [
        "# hstack : 수평 스택\n",
        "y = np.array([[99], [99]])\n",
        "z = np.hstack([grid, y])\n",
        "z"
      ],
      "execution_count": 35,
      "outputs": [
        {
          "output_type": "execute_result",
          "data": {
            "text/plain": [
              "array([[ 4,  5,  6, 99],\n",
              "       [ 7,  8,  9, 99]])"
            ]
          },
          "metadata": {
            "tags": []
          },
          "execution_count": 35
        }
      ]
    },
    {
      "cell_type": "markdown",
      "metadata": {
        "id": "RQ0AbdSblm1h"
      },
      "source": [
        "4 | 5 | 6  \n",
        "7 | 8 | 9  \n",
        "+\n",
        "</br>\n",
        "99  \n",
        "99  \n",
        "↓  \n",
        "4 | 5 | 6 | 99  \n",
        "7 | 8 | 9 | 99 \n",
        "\n",
        "</br>\n",
        "\n",
        "##### 8) 배열 분할"
      ]
    },
    {
      "cell_type": "code",
      "metadata": {
        "colab": {
          "base_uri": "https://localhost:8080/"
        },
        "id": "TFht3qGcmEbI",
        "outputId": "6833140d-d746-4c63-dfe1-7802028d189c"
      },
      "source": [
        "# split (분할 대상 리스트, 분할 위치)\n",
        "x = [1, 2, 3, 77, 77, 3, 2, 1]\n",
        "x1, x2, x3 = np.split(x, [3, 5]) # 인덱스 3, 5에서 분할\n",
        "print(x1, x2, x3)"
      ],
      "execution_count": 36,
      "outputs": [
        {
          "output_type": "stream",
          "text": [
            "[1 2 3] [77 77] [3 2 1]\n"
          ],
          "name": "stdout"
        }
      ]
    },
    {
      "cell_type": "code",
      "metadata": {
        "colab": {
          "base_uri": "https://localhost:8080/"
        },
        "id": "FYcNj_J4mdrV",
        "outputId": "e875f8d8-d565-456b-dfa6-3f34ce9bdbf9"
      },
      "source": [
        "# vsplit (분할 대상 리스트, 분할 행 위치)\n",
        "grid = np.arange(16).reshape((4, 4))\n",
        "upper, lower = np.vsplit(grid, [2]) # 상하로 2개 나눠짐\n",
        "print(upper)\n",
        "print(lower)"
      ],
      "execution_count": 37,
      "outputs": [
        {
          "output_type": "stream",
          "text": [
            "[[0 1 2 3]\n",
            " [4 5 6 7]]\n",
            "[[ 8  9 10 11]\n",
            " [12 13 14 15]]\n"
          ],
          "name": "stdout"
        }
      ]
    },
    {
      "cell_type": "code",
      "metadata": {
        "colab": {
          "base_uri": "https://localhost:8080/"
        },
        "id": "anu42kjxnLWR",
        "outputId": "b485864c-d7b4-4a23-b1c0-9778de2c3048"
      },
      "source": [
        "# hsplit (분할 대상 리스트, 분할 열 위치)\n",
        "grid = np.arange(16).reshape((4, 4))\n",
        "left, right = np.hsplit(grid, [2]) # 좌우로 2개 나눠짐\n",
        "print(left)\n",
        "print(right)"
      ],
      "execution_count": 38,
      "outputs": [
        {
          "output_type": "stream",
          "text": [
            "[[ 0  1]\n",
            " [ 4  5]\n",
            " [ 8  9]\n",
            " [12 13]]\n",
            "[[ 2  3]\n",
            " [ 6  7]\n",
            " [10 11]\n",
            " [14 15]]\n"
          ],
          "name": "stdout"
        }
      ]
    },
    {
      "cell_type": "markdown",
      "metadata": {
        "id": "slE-eYMTnvkr"
      },
      "source": [
        "</br></br></br></br>\n",
        "\n",
        "## 2-2 numpy 심화"
      ]
    },
    {
      "cell_type": "markdown",
      "metadata": {
        "id": "ifcOAy7_n0YB"
      },
      "source": [
        "### 1. 유니버설 함수\n",
        "\n",
        "</br>\n",
        "\n",
        "+ numpy 배열 연산 : 아주 빠르거나 느리게 수행  \n",
        "→ __벡터화(vectorized)__ : 연산을 빠르게 수행시킴\n",
        "</br>\n",
        "\n",
        "+ 단항(unary) 유니버설 함수 : 매개변수를 하나만 갖는 함수\n",
        "+ 이항(binary) 유니버설 함수 : 매개변수를 두 개 갖는 함수\n",
        "\n",
        "</br>\n",
        "\n",
        "##### 1) 단항 유니버설 함수"
      ]
    },
    {
      "cell_type": "code",
      "metadata": {
        "colab": {
          "base_uri": "https://localhost:8080/"
        },
        "id": "jpAQd9aFrkRD",
        "outputId": "f3acce60-ca15-4a9e-ab0d-4dd2b63f02cf"
      },
      "source": [
        "# 배열 산술 연산\n",
        "x = np.arange(4)\n",
        "print(\"x = \", x)\n",
        "print(\"x + 10 = \", x + 10)\n",
        "print(\"x - 10 = \", x - 10)\n",
        "print(\"x * 2 = \", x * 2)\n",
        "print(\"x / 2 = \", x / 2)\n",
        "print(\"x // 2 = \", x // 2) # 나머지를 버리고 몫만 산출(정수)"
      ],
      "execution_count": 39,
      "outputs": [
        {
          "output_type": "stream",
          "text": [
            "x =  [0 1 2 3]\n",
            "x + 10 =  [10 11 12 13]\n",
            "x - 10 =  [-10  -9  -8  -7]\n",
            "x * 2 =  [0 2 4 6]\n",
            "x / 2 =  [0.  0.5 1.  1.5]\n",
            "x // 2 =  [0 0 1 1]\n"
          ],
          "name": "stdout"
        }
      ]
    },
    {
      "cell_type": "code",
      "metadata": {
        "colab": {
          "base_uri": "https://localhost:8080/"
        },
        "id": "o7so0MLPsJjH",
        "outputId": "123ccbb4-881c-49e8-ec66-7a4f69f53f4c"
      },
      "source": [
        "# 음수, 지수, 나머지 연산\n",
        "x = np.arange(4)\n",
        "print(\"x = \", x)\n",
        "print(\"-x = \", -x)\n",
        "print(\"x ** 2= \", x ** 2)\n",
        "print(\"x % 2= \", x % 2)"
      ],
      "execution_count": 40,
      "outputs": [
        {
          "output_type": "stream",
          "text": [
            "x =  [0 1 2 3]\n",
            "-x =  [ 0 -1 -2 -3]\n",
            "x ** 2=  [0 1 4 9]\n",
            "x % 2=  [0 1 0 1]\n"
          ],
          "name": "stdout"
        }
      ]
    },
    {
      "cell_type": "markdown",
      "metadata": {
        "id": "STILRhu7se-R"
      },
      "source": [
        "+ 래퍼 함수 : 기존 함수를 한 번 감싸서 약간의 처리를 추가하는 함수\n",
        "\n",
        "![래퍼 함수 표](https://github.com/seoy9/DALC_Scala/blob/408c5f61f6df5fb6b5ccc8b5a5cdfaad713667a5/%EB%9E%98%ED%8D%BC%20%ED%95%A8%EC%88%98.JPG?raw=true)\n",
        "\n",
        "</br>\n",
        "\n",
        "+ 절대값 함수"
      ]
    },
    {
      "cell_type": "code",
      "metadata": {
        "colab": {
          "base_uri": "https://localhost:8080/"
        },
        "id": "0O5_bXottHkY",
        "outputId": "7b9a8928-f7c5-4201-b3fb-ccbf63f37f26"
      },
      "source": [
        "# abs(absolute) 함수\n",
        "x = np.array([-2, -1, 0, 1, 2])\n",
        "np.absolute(x)"
      ],
      "execution_count": 41,
      "outputs": [
        {
          "output_type": "execute_result",
          "data": {
            "text/plain": [
              "array([2, 1, 0, 1, 2])"
            ]
          },
          "metadata": {
            "tags": []
          },
          "execution_count": 41
        }
      ]
    },
    {
      "cell_type": "code",
      "metadata": {
        "colab": {
          "base_uri": "https://localhost:8080/"
        },
        "id": "Ek-DiICZtRz-",
        "outputId": "d8f2ffa7-3811-49c5-c8c0-a3369edd86e0"
      },
      "source": [
        "x = np.array([-2, -1, 0, 1, 2])\n",
        "np.abs(x)"
      ],
      "execution_count": 42,
      "outputs": [
        {
          "output_type": "execute_result",
          "data": {
            "text/plain": [
              "array([2, 1, 0, 1, 2])"
            ]
          },
          "metadata": {
            "tags": []
          },
          "execution_count": 42
        }
      ]
    },
    {
      "cell_type": "code",
      "metadata": {
        "colab": {
          "base_uri": "https://localhost:8080/"
        },
        "id": "QVXW0-CFtYmg",
        "outputId": "f1fb3397-3c62-4bf6-f485-5d0dd400aa60"
      },
      "source": [
        "# 복소수 데이터 적용 → 절대값으로 복소수의 크기 반환\n",
        "x = np.array([3 - 4j, 4 - 3j + 0j, 0 + 1j])\n",
        "np.abs(x)"
      ],
      "execution_count": 43,
      "outputs": [
        {
          "output_type": "execute_result",
          "data": {
            "text/plain": [
              "array([5., 5., 1.])"
            ]
          },
          "metadata": {
            "tags": []
          },
          "execution_count": 43
        }
      ]
    },
    {
      "cell_type": "markdown",
      "metadata": {
        "id": "vOymYnF4tqgz"
      },
      "source": [
        "+ 삼각 함수"
      ]
    },
    {
      "cell_type": "code",
      "metadata": {
        "colab": {
          "base_uri": "https://localhost:8080/"
        },
        "id": "UqRz2Z-rtslS",
        "outputId": "381f5164-1bf5-4753-91cb-36f542435ca9"
      },
      "source": [
        "# sin, cos, tan 함수 적용\n",
        "theta = np.linspace(0, np.pi, 3)\n",
        "print(\"theta = \", theta)\n",
        "print(\"sin(theta) = \", np.sin(theta))\n",
        "print(\"cos(theta) = \", np.cos(theta))\n",
        "print(\"tan(theta) = \", np.tan(theta))"
      ],
      "execution_count": 44,
      "outputs": [
        {
          "output_type": "stream",
          "text": [
            "theta =  [0.         1.57079633 3.14159265]\n",
            "sin(theta) =  [0.0000000e+00 1.0000000e+00 1.2246468e-16]\n",
            "cos(theta) =  [ 1.000000e+00  6.123234e-17 -1.000000e+00]\n",
            "tan(theta) =  [ 0.00000000e+00  1.63312394e+16 -1.22464680e-16]\n"
          ],
          "name": "stdout"
        }
      ]
    },
    {
      "cell_type": "markdown",
      "metadata": {
        "id": "o3tMB1KvudPY"
      },
      "source": [
        "+ 역삼각 함수"
      ]
    },
    {
      "cell_type": "code",
      "metadata": {
        "colab": {
          "base_uri": "https://localhost:8080/"
        },
        "id": "x02q5dKhuepZ",
        "outputId": "7d49ebb7-d227-4958-b770-b9505d4c7ec4"
      },
      "source": [
        "# arcsin, arccos, arctan\n",
        "x = [-1, 0, 1]\n",
        "print(\"x = \", x)\n",
        "print(\"arcsin(theta) = \", np.arcsin(x))\n",
        "print(\"arccos(theta) = \", np.arccos(x))\n",
        "print(\"arctan(theta) = \", np.arctan(x))"
      ],
      "execution_count": 45,
      "outputs": [
        {
          "output_type": "stream",
          "text": [
            "x =  [-1, 0, 1]\n",
            "arcsin(theta) =  [-1.57079633  0.          1.57079633]\n",
            "arccos(theta) =  [3.14159265 1.57079633 0.        ]\n",
            "arctan(theta) =  [-0.78539816  0.          0.78539816]\n"
          ],
          "name": "stdout"
        }
      ]
    },
    {
      "cell_type": "markdown",
      "metadata": {
        "id": "DRyn-5ezu0g8"
      },
      "source": [
        "+ 지수 함수 : a를 1이 아닌 양의 상수, x를 모든 실수값을 사지는 변수라고 할 때 $f(x)= a^x$ 로 주어지는 함수"
      ]
    },
    {
      "cell_type": "code",
      "metadata": {
        "colab": {
          "base_uri": "https://localhost:8080/"
        },
        "id": "mG4sakXgvdYI",
        "outputId": "b8f2f9cf-2b54-4ac7-9c78-d5d6739da2bf"
      },
      "source": [
        "x = [1, 2, 3]\n",
        "print(\"x = \", x)\n",
        "print(\"e^x = \", np.exp(x))\n",
        "print(\"2^x = \", np.exp2(x))\n",
        "print(\"3^x = \", np.power(3, x))"
      ],
      "execution_count": 46,
      "outputs": [
        {
          "output_type": "stream",
          "text": [
            "x =  [1, 2, 3]\n",
            "e^x =  [ 2.71828183  7.3890561  20.08553692]\n",
            "2^x =  [2. 4. 8.]\n",
            "3^x =  [ 3  9 27]\n"
          ],
          "name": "stdout"
        }
      ]
    },
    {
      "cell_type": "markdown",
      "metadata": {
        "id": "2fUaQYZMv4Ze"
      },
      "source": [
        "+ 로그 함수 : 지수 함수 a의 역함수로 $log X$로 표기"
      ]
    },
    {
      "cell_type": "code",
      "metadata": {
        "colab": {
          "base_uri": "https://localhost:8080/"
        },
        "id": "vU3dcQmlwDdF",
        "outputId": "e0a1ff29-8dcb-4bad-c505-02e1774a72ad"
      },
      "source": [
        "x = [1, 2, 4, 10]\n",
        "print(\"x = \", x)\n",
        "print(\"ln(x) = \", np.log(x))\n",
        "print(\"log2(x) = \", np.log2(x))\n",
        "print(\"log10(x) = \", np.log10(x))"
      ],
      "execution_count": 47,
      "outputs": [
        {
          "output_type": "stream",
          "text": [
            "x =  [1, 2, 4, 10]\n",
            "ln(x) =  [0.         0.69314718 1.38629436 2.30258509]\n",
            "log2(x) =  [0.         1.         2.         3.32192809]\n",
            "log10(x) =  [0.         0.30103    0.60205999 1.        ]\n"
          ],
          "name": "stdout"
        }
      ]
    },
    {
      "cell_type": "markdown",
      "metadata": {
        "id": "p3W1zFt1wUtf"
      },
      "source": [
        "+ out 인자\n",
        "  + 소규모 연산 : 특정 주제에 대한 모델 많음 + _연산 시간 절감 없음_\n",
        "  + 대규모 연산 : 임시 배열을 생략하여 __연산 시간 + 메모리 절약__"
      ]
    },
    {
      "cell_type": "code",
      "metadata": {
        "colab": {
          "base_uri": "https://localhost:8080/"
        },
        "id": "SidqufuzwYpJ",
        "outputId": "2fbc40a3-1da4-488e-8bcf-cf0df437780a"
      },
      "source": [
        "# 지정한 배열에 직접 연산 결과 표시 가능\n",
        "x = np.arange(5)\n",
        "y = np.arange(5)\n",
        "np.multiply(x, 10, out=y)\n",
        "print(y)"
      ],
      "execution_count": 48,
      "outputs": [
        {
          "output_type": "stream",
          "text": [
            "[ 0 10 20 30 40]\n"
          ],
          "name": "stdout"
        }
      ]
    },
    {
      "cell_type": "code",
      "metadata": {
        "colab": {
          "base_uri": "https://localhost:8080/"
        },
        "id": "ShId1ZWDwsMX",
        "outputId": "afbd2c8c-d000-454e-b19d-f7c55954015f"
      },
      "source": [
        "# 배열 슬라이싱 사용\n",
        "x = np.arange(5)\n",
        "y = np.zeros(10)\n",
        "np.power(2, x, out=y[::2]) # 2씩 건너뛰면서 저장\n",
        "print(y)"
      ],
      "execution_count": 50,
      "outputs": [
        {
          "output_type": "stream",
          "text": [
            "[ 1.  0.  2.  0.  4.  0.  8.  0. 16.  0.]\n"
          ],
          "name": "stdout"
        }
      ]
    },
    {
      "cell_type": "markdown",
      "metadata": {
        "id": "FS6_GLavxTMc"
      },
      "source": [
        "</br></br></br>\n",
        "\n",
        "### 2. 집계 함수\n",
        "\n",
        " </br>\n",
        "\n",
        " ##### 1) reduce 함수"
      ]
    },
    {
      "cell_type": "code",
      "metadata": {
        "colab": {
          "base_uri": "https://localhost:8080/"
        },
        "id": "3-FlBSy1xdO5",
        "outputId": "5c54d6a4-895e-43ec-f062-9e97f48b7a1c"
      },
      "source": [
        "# 결과가 하나만 남을 때까지 해당 연산을 배열 요소에 반복적으로 적용\n",
        "x = np.arange(1, 5)\n",
        "np.add.reduce(x)"
      ],
      "execution_count": 51,
      "outputs": [
        {
          "output_type": "execute_result",
          "data": {
            "text/plain": [
              "10"
            ]
          },
          "metadata": {
            "tags": []
          },
          "execution_count": 51
        }
      ]
    },
    {
      "cell_type": "markdown",
      "metadata": {
        "id": "QH6SlFsaxqWd"
      },
      "source": [
        "### 2) sum, max, min 함수"
      ]
    },
    {
      "cell_type": "code",
      "metadata": {
        "colab": {
          "base_uri": "https://localhost:8080/"
        },
        "id": "ToGm9vlRxuTL",
        "outputId": "958f606b-7f1f-4e9e-a640-71c5269e6ee9"
      },
      "source": [
        "# 최소값(min), 최대값(max) 산출\n",
        "s = np.random.random(1000)\n",
        "np.min(s), np.max(s)"
      ],
      "execution_count": 52,
      "outputs": [
        {
          "output_type": "execute_result",
          "data": {
            "text/plain": [
              "(0.001354476399856197, 0.999755718980545)"
            ]
          },
          "metadata": {
            "tags": []
          },
          "execution_count": 52
        }
      ]
    },
    {
      "cell_type": "markdown",
      "metadata": {
        "id": "U-ZMpYUIyAFH"
      },
      "source": [
        "##### 3) axis 인자\n",
        "\n",
        "![axis 인자 그림](https://github.com/seoy9/DALC_Scala/blob/d405e3989c30fa69ef001b50316078e985dd6721/axis%EC%9D%B8%EC%9E%90.JPG?raw=true)"
      ]
    },
    {
      "cell_type": "code",
      "metadata": {
        "colab": {
          "base_uri": "https://localhost:8080/"
        },
        "id": "fMexzmNZyfMk",
        "outputId": "7e3a899c-5666-4b69-c7cd-c1d1dc46bed8"
      },
      "source": [
        "m = np.random.random((3, 4))\n",
        "print(m)"
      ],
      "execution_count": 53,
      "outputs": [
        {
          "output_type": "stream",
          "text": [
            "[[0.27486464 0.16725695 0.74712876 0.92338579]\n",
            " [0.30239483 0.37187424 0.62779001 0.24803255]\n",
            " [0.77613539 0.16964947 0.48498325 0.62712318]]\n"
          ],
          "name": "stdout"
        }
      ]
    },
    {
      "cell_type": "code",
      "metadata": {
        "colab": {
          "base_uri": "https://localhost:8080/"
        },
        "id": "FPDin2KayoY0",
        "outputId": "945f7242-a7d1-4f8e-968a-1515d83f3f16"
      },
      "source": [
        "# Axis 값을 정하지 않은 경우\n",
        "m.sum() # 전체 배열의 집계를 구해, 요소의 총합을 산출"
      ],
      "execution_count": 54,
      "outputs": [
        {
          "output_type": "execute_result",
          "data": {
            "text/plain": [
              "5.720619063663387"
            ]
          },
          "metadata": {
            "tags": []
          },
          "execution_count": 54
        }
      ]
    },
    {
      "cell_type": "code",
      "metadata": {
        "colab": {
          "base_uri": "https://localhost:8080/"
        },
        "id": "Nz8-PBnPytXa",
        "outputId": "2df0f87c-e0d5-4d9b-8d68-74e46dba763a"
      },
      "source": [
        "# Axis 값을 0으로 지정한 경우\n",
        "m.max(axis=0) # 각 열의 최대값값갑"
      ],
      "execution_count": 55,
      "outputs": [
        {
          "output_type": "execute_result",
          "data": {
            "text/plain": [
              "array([0.77613539, 0.37187424, 0.74712876, 0.92338579])"
            ]
          },
          "metadata": {
            "tags": []
          },
          "execution_count": 55
        }
      ]
    },
    {
      "cell_type": "code",
      "metadata": {
        "colab": {
          "base_uri": "https://localhost:8080/"
        },
        "id": "yEBT4KWJyz4S",
        "outputId": "aeb53026-9900-470b-acb9-ebcaf8f41a11"
      },
      "source": [
        "# Axis 값을 1로 지정한 경우\n",
        "m.max(axis=1) # 각 행의 최대값"
      ],
      "execution_count": 56,
      "outputs": [
        {
          "output_type": "execute_result",
          "data": {
            "text/plain": [
              "array([0.92338579, 0.62779001, 0.77613539])"
            ]
          },
          "metadata": {
            "tags": []
          },
          "execution_count": 56
        }
      ]
    },
    {
      "cell_type": "markdown",
      "metadata": {
        "id": "CtDThvmkzXcg"
      },
      "source": [
        "+ 유용한 집계 함수\n",
        "\n",
        "![집계 함수 표](https://github.com/seoy9/DALC_Scala/blob/090699e3d6362d9094f64c1785c534748f16c787/%EC%A7%91%EA%B3%84%20%ED%95%A8%EC%88%98.JPG?raw=true)\n",
        "\n",
        "</br></br></br>\n",
        "\n",
        "### 3. 브로드캐스팅 연산\n",
        "\n",
        "</br>\n",
        "\n",
        "+ 브로드캐스팅\n",
        "   + 서로 다른 크기의 배열에 이항 유니버설 함수를 적용할 수 있는 기능\n",
        "   + 서로 다른 크기의 리스트끼리도 연산 수행 가능  \n",
        "   ex) 파이썬 : for 루프 사용 → 각 반복마다 요소값끼리 대조 → 연산 수행  \n",
        "   numpy : 단순히 연산 적용 __(브로드 캐스팅 기능)__\n",
        "\n",
        "</br></br>\n",
        "\n",
        "##### 1) 크기가 같은 경우"
      ]
    },
    {
      "cell_type": "code",
      "metadata": {
        "colab": {
          "base_uri": "https://localhost:8080/"
        },
        "id": "1-VMcaQW0VC0",
        "outputId": "bef52504-a457-42d5-f819-5185a81fb50e"
      },
      "source": [
        "x = np.array([0, 1, 2])\n",
        "y = np.array([3, 3, 3])\n",
        "x + y"
      ],
      "execution_count": 57,
      "outputs": [
        {
          "output_type": "execute_result",
          "data": {
            "text/plain": [
              "array([3, 4, 5])"
            ]
          },
          "metadata": {
            "tags": []
          },
          "execution_count": 57
        }
      ]
    },
    {
      "cell_type": "markdown",
      "metadata": {
        "id": "Em5FF4D60fbO"
      },
      "source": [
        "##### 2) 크기가 다른 경우"
      ]
    },
    {
      "cell_type": "code",
      "metadata": {
        "colab": {
          "base_uri": "https://localhost:8080/"
        },
        "id": "LNsS37Vb0hvO",
        "outputId": "0d62ea6e-1c86-48df-e2d4-5259be016d13"
      },
      "source": [
        "# 스칼라 값을 더해야 할 때\n",
        "x = np.array([0, 1, 2])\n",
        "x + 10"
      ],
      "execution_count": 58,
      "outputs": [
        {
          "output_type": "execute_result",
          "data": {
            "text/plain": [
              "array([10, 11, 12])"
            ]
          },
          "metadata": {
            "tags": []
          },
          "execution_count": 58
        }
      ]
    },
    {
      "cell_type": "markdown",
      "metadata": {
        "id": "Qn9tREXQ0obB"
      },
      "source": [
        "0 | 1 | 2  \n",
        "+</br>\n",
        "10 (| 10 | 10)  \n",
        "↓  \n",
        "10 | 11 | 12"
      ]
    },
    {
      "cell_type": "markdown",
      "metadata": {
        "id": "iwKSdv000_bE"
      },
      "source": [
        "</br>\n",
        "\n",
        "##### 3) 브로드 캐스팅의 기능\n",
        "+ 배열을 더 높은 차원으로 확장\n",
        "+ 2개 배열의 차원이 다르더라도 배열의 확장장\n",
        "\n",
        "</br>\n",
        "\n",
        "+ 배열 확장의 3가지 규칙\n",
        "  + 두 배열의 __차원의 수가 서로 다를 경우__,  \n",
        "  더 작은 차원을 가진 배열의 앞(왼쪽 부분)을 1로 채움\n",
        "  + 두 배열의 __형상이 어떤 차원에서도 일치하지 않는 경우__,  \n",
        "  해당 차원의 형상이 1인 배열이 늘어남\n",
        "  + __임의의 차원에서 크기가 일치하지 않고 1도 아닌 경우__,  \n",
        "  오류가 발생\n",
        "\n",
        "</br></br>\n",
        "\n",
        "##### 4) 1차원 배열 + 2차원 배열\n"
      ]
    },
    {
      "cell_type": "code",
      "metadata": {
        "colab": {
          "base_uri": "https://localhost:8080/"
        },
        "id": "Xw_zt2qf1yHr",
        "outputId": "46381e06-08ab-4d68-97da-7851552ae339"
      },
      "source": [
        "x = np.array([0, 1, 2])\n",
        "M = np.ones((3, 3))\n",
        "x + M # 1차원 배열 x가 2차원 배열 M의 형상에 맞춤"
      ],
      "execution_count": 59,
      "outputs": [
        {
          "output_type": "execute_result",
          "data": {
            "text/plain": [
              "array([[1., 2., 3.],\n",
              "       [1., 2., 3.],\n",
              "       [1., 2., 3.]])"
            ]
          },
          "metadata": {
            "tags": []
          },
          "execution_count": 59
        }
      ]
    },
    {
      "cell_type": "markdown",
      "metadata": {
        "id": "AgtHDigm2FiE"
      },
      "source": [
        "0 | 1 | 2  \n",
        "(0 | 1 | 2  \n",
        "0 | 1 | 2 )  \n",
        "+</br>\n",
        "1 | 1 | 1  \n",
        "1 | 1 | 1  \n",
        "1 | 1 | 1  \n",
        "↓  \n",
        "1 | 2 | 3  \n",
        "1 | 2 | 3  \n",
        "1 | 2 | 3"
      ]
    },
    {
      "cell_type": "markdown",
      "metadata": {
        "id": "WD0hl-2b2eUv"
      },
      "source": [
        "</br></br>\n",
        "\n",
        "##### 5) 두 배열 브로드캐스팅"
      ]
    },
    {
      "cell_type": "code",
      "metadata": {
        "colab": {
          "base_uri": "https://localhost:8080/"
        },
        "id": "BgzJuctO2pk8",
        "outputId": "59d21d11-ac16-407c-cb41-505731d79c9d"
      },
      "source": [
        "a = np.arange(3).reshape((3, 1))\n",
        "b = np.arange(3) # 각 차원을 다른 배열의 크기에 일치하도록 늘림\n",
        "a + b # 덧셈 연산 수행"
      ],
      "execution_count": 60,
      "outputs": [
        {
          "output_type": "execute_result",
          "data": {
            "text/plain": [
              "array([[0, 1, 2],\n",
              "       [1, 2, 3],\n",
              "       [2, 3, 4]])"
            ]
          },
          "metadata": {
            "tags": []
          },
          "execution_count": 60
        }
      ]
    },
    {
      "cell_type": "markdown",
      "metadata": {
        "id": "m02XQLnI24LL"
      },
      "source": [
        "0 (| 0 | 0)  \n",
        "1 (| 1 | 1)  \n",
        "2 (| 2 | 2)  \n",
        "+</br>\n",
        "0 | 1 | 2  \n",
        "(0 | 1 | 2  \n",
        "0 | 1 | 2)  \n",
        "↓  \n",
        "0 | 1 | 2  \n",
        "1 | 2 | 3  \n",
        "2 | 3 | 4"
      ]
    },
    {
      "cell_type": "markdown",
      "metadata": {
        "id": "hRw4Rm1k3S85"
      },
      "source": [
        "</br></br>\n",
        "\n",
        "##### 6) 실제 사례"
      ]
    },
    {
      "cell_type": "code",
      "metadata": {
        "id": "GwbJHgnO3WDX"
      },
      "source": [
        "# 2차원 함수를 기반으로 이미지를 그릴 때\n",
        "x = np.linspace(0, 5, 50) # 1X50 배열\n",
        "y = np.linspace(0, 5, 50)[:, np.newaxis] # 50X1 배열\n",
        "z = np.sin(x) ** 10 + np.cos(10 + y + x) * np.cos(x) # 50X50 2차원 배열"
      ],
      "execution_count": 65,
      "outputs": []
    },
    {
      "cell_type": "code",
      "metadata": {
        "colab": {
          "base_uri": "https://localhost:8080/",
          "height": 269
        },
        "id": "ux7Olwux3xLd",
        "outputId": "0e748029-f193-44ab-cc4c-98eb0d66cbd0"
      },
      "source": [
        "import matplotlib.pyplot as plt\n",
        "plt.imshow(z, origin='lower', extent=[0, 5, 0, 5], cmap='viridis')\n",
        "plt.colorbar();"
      ],
      "execution_count": 66,
      "outputs": [
        {
          "output_type": "display_data",
          "data": {
            "image/png": "[encoded data removed]",
            "text/plain": [
              "<Figure size 432x288 with 2 Axes>"
            ]
          },
          "metadata": {
            "tags": [],
            "needs_background": "light"
          }
        }
      ]
    },
    {
      "cell_type": "markdown",
      "metadata": {
        "id": "fHB2IGfl4ZyJ"
      },
      "source": [
        "</br></br></br>\n",
        "\n",
        "### 4. 비교 연산자\n",
        "\n",
        "</br>\n",
        "\n",
        "+ any 함수 : 하나라도 만족하면 true"
      ]
    },
    {
      "cell_type": "code",
      "metadata": {
        "colab": {
          "base_uri": "https://localhost:8080/"
        },
        "id": "oMserWFe4j6W",
        "outputId": "9b57cf70-2f13-4320-f183-d06b8ebe4f78"
      },
      "source": [
        "# or 논리 연산자의 결과와 같음\n",
        "import numpy as np\n",
        "x = np.arange(10)\n",
        "np.any(x < 5), np.any(x<0)"
      ],
      "execution_count": 67,
      "outputs": [
        {
          "output_type": "execute_result",
          "data": {
            "text/plain": [
              "(True, False)"
            ]
          },
          "metadata": {
            "tags": []
          },
          "execution_count": 67
        }
      ]
    },
    {
      "cell_type": "markdown",
      "metadata": {
        "id": "YF9RJ66F42LB"
      },
      "source": [
        "+ all 함수 : 모두 만족해야만 true"
      ]
    },
    {
      "cell_type": "code",
      "metadata": {
        "colab": {
          "base_uri": "https://localhost:8080/"
        },
        "id": "s4R28Crg46m3",
        "outputId": "74c2e5a6-749b-423b-b684-146f135148d4"
      },
      "source": [
        "# and 논리 연산자의 결과와 같음\n",
        "import numpy as np\n",
        "x = np.arange(10)\n",
        "np.all(x > 5), np.all(x < 10)"
      ],
      "execution_count": 70,
      "outputs": [
        {
          "output_type": "execute_result",
          "data": {
            "text/plain": [
              "(False, True)"
            ]
          },
          "metadata": {
            "tags": []
          },
          "execution_count": 70
        }
      ]
    },
    {
      "cell_type": "markdown",
      "metadata": {
        "id": "AldbSemi5gmx"
      },
      "source": [
        "+ 비교 연산자와 대응하는 유니버설 함수\n",
        "![비교 연산자 대응 유니버설 함수 표](https://github.com/seoy9/DALC_Scala/blob/863e4b5db7600a38b74b77748226ded48229eb3b/%EB%B9%84%EA%B5%90%20%EC%97%B0%EC%82%B0%EC%9E%90.JPG?raw=true)\n",
        "\n",
        "</br></br>\n",
        "\n",
        "##### 3) 적용 사례"
      ]
    },
    {
      "cell_type": "code",
      "metadata": {
        "colab": {
          "base_uri": "https://localhost:8080/"
        },
        "id": "xnQywvtU5zGB",
        "outputId": "023b5db3-1aaa-4f48-f478-abb1b6953119"
      },
      "source": [
        "# 1차원 배열일 때\n",
        "a = np.random.randint(1, 5, 5) # 1~5 사이 구간에서 5개 정수를 무작위로 발생시켜 1차원 배열 구성\n",
        "b = np.random.randint(1, 5 ,5)\n",
        "print(a, b)\n",
        "a == b # 배열의 각 요소가 서로 같은지 비교하고 boolean 값을 결과로 산출"
      ],
      "execution_count": 71,
      "outputs": [
        {
          "output_type": "stream",
          "text": [
            "[1 2 3 1 3] [1 3 3 2 3]\n"
          ],
          "name": "stdout"
        },
        {
          "output_type": "execute_result",
          "data": {
            "text/plain": [
              "array([ True, False,  True, False,  True])"
            ]
          },
          "metadata": {
            "tags": []
          },
          "execution_count": 71
        }
      ]
    },
    {
      "cell_type": "code",
      "metadata": {
        "colab": {
          "base_uri": "https://localhost:8080/"
        },
        "id": "gkebcDzz6w9o",
        "outputId": "2e019633-aac5-41e6-f003-3d460ba16e37"
      },
      "source": [
        "# 2차원 배열일 때\n",
        "x = np.random.randint(10, size=(3, 4)) # 무작위 값을 갖는 2차원 배열 생성\n",
        "x"
      ],
      "execution_count": 72,
      "outputs": [
        {
          "output_type": "execute_result",
          "data": {
            "text/plain": [
              "array([[3, 3, 2, 5],\n",
              "       [8, 5, 6, 7],\n",
              "       [4, 5, 4, 8]])"
            ]
          },
          "metadata": {
            "tags": []
          },
          "execution_count": 72
        }
      ]
    },
    {
      "cell_type": "code",
      "metadata": {
        "colab": {
          "base_uri": "https://localhost:8080/"
        },
        "id": "bi9vIe_4683m",
        "outputId": "6f761412-9e9b-4fc7-d464-0040c7ea993f"
      },
      "source": [
        "x < 5 # 비교 연산 적용"
      ],
      "execution_count": 73,
      "outputs": [
        {
          "output_type": "execute_result",
          "data": {
            "text/plain": [
              "array([[ True,  True,  True, False],\n",
              "       [False, False, False, False],\n",
              "       [ True, False,  True, False]])"
            ]
          },
          "metadata": {
            "tags": []
          },
          "execution_count": 73
        }
      ]
    },
    {
      "cell_type": "markdown",
      "metadata": {
        "id": "-x27QG9k7EA6"
      },
      "source": [
        "</br></br></br>\n",
        "\n",
        "### 6. 팬시 인덱싱(fancy indexing)\n",
        "\n",
        "<br>\n",
        "\n",
        "+ 인덱스 배열을 전달하고, __인덱스 배열의 값을 인덱스로 사용__\n",
        "+ 복잡한 배열의 하위 집합에 __매우 빠르게 접근 + 수정 가능___\n",
        "\n",
        "</br>\n",
        "→ 인덱스 배열의 값을 인덱스로 사용하여 배열의 요소값에 접근하는 방법\n",
        "\n",
        "</br></br>\n",
        "\n",
        "##### 1) 1차원 배열 적용 사례"
      ]
    },
    {
      "cell_type": "code",
      "metadata": {
        "colab": {
          "base_uri": "https://localhost:8080/"
        },
        "id": "KMykAn9t7vXP",
        "outputId": "13428af4-da61-439d-e347-34073d0bd043"
      },
      "source": [
        "a = np.arange(10)\n",
        "b = np.array([3, 6, 9])\n",
        "a[b] # 배열의 b를 인덱스로 사용"
      ],
      "execution_count": 74,
      "outputs": [
        {
          "output_type": "execute_result",
          "data": {
            "text/plain": [
              "array([3, 6, 9])"
            ]
          },
          "metadata": {
            "tags": []
          },
          "execution_count": 74
        }
      ]
    },
    {
      "cell_type": "markdown",
      "metadata": {
        "id": "7Z9NsGTI75Cs"
      },
      "source": [
        "##### 2) 다차원 배열 적용 사례"
      ]
    },
    {
      "cell_type": "code",
      "metadata": {
        "colab": {
          "base_uri": "https://localhost:8080/"
        },
        "id": "WHO34WzV78Wj",
        "outputId": "44405e3f-209a-42fd-d734-f8895e1323b5"
      },
      "source": [
        "x = np.arange(12).reshape((3, 4))\n",
        "x"
      ],
      "execution_count": 75,
      "outputs": [
        {
          "output_type": "execute_result",
          "data": {
            "text/plain": [
              "array([[ 0,  1,  2,  3],\n",
              "       [ 4,  5,  6,  7],\n",
              "       [ 8,  9, 10, 11]])"
            ]
          },
          "metadata": {
            "tags": []
          },
          "execution_count": 75
        }
      ]
    },
    {
      "cell_type": "code",
      "metadata": {
        "colab": {
          "base_uri": "https://localhost:8080/"
        },
        "id": "18B_8tXy8CAO",
        "outputId": "f24c7702-9670-4c16-9520-fb74a1691d8f"
      },
      "source": [
        "row = np.array([0, 1, 2])\n",
        "col = np.array([2, 1, 3])\n",
        "x[row, col] # x[0, 2] / x[1, 1] / x[2, 3]"
      ],
      "execution_count": 77,
      "outputs": [
        {
          "output_type": "execute_result",
          "data": {
            "text/plain": [
              "array([ 2,  5, 11])"
            ]
          },
          "metadata": {
            "tags": []
          },
          "execution_count": 77
        }
      ]
    },
    {
      "cell_type": "markdown",
      "metadata": {
        "id": "zTrqCCfj8bwt"
      },
      "source": [
        "</br></br></br>\n",
        "\n",
        "### 7. 정렬\n",
        "\n",
        "</br>\n",
        "\n",
        "##### 1) sort 함수\n",
        "+ np.sort 함수 : 원래 __배열 데이터는 그대로 유지__한 채 __정렬된 배열이 복사본__으로 반환"
      ]
    },
    {
      "cell_type": "code",
      "metadata": {
        "colab": {
          "base_uri": "https://localhost:8080/"
        },
        "id": "XgOYC1Rv8piX",
        "outputId": "82de5883-721f-499a-b362-41b08289505c"
      },
      "source": [
        "import numpy as np\n",
        "x = np.array([4, 1, 5, 2, 3])\n",
        "print(x, np.sort(x))"
      ],
      "execution_count": 78,
      "outputs": [
        {
          "output_type": "stream",
          "text": [
            "[4 1 5 2 3] [1 2 3 4 5]\n"
          ],
          "name": "stdout"
        }
      ]
    },
    {
      "cell_type": "markdown",
      "metadata": {
        "id": "7GCNKev987a-"
      },
      "source": [
        "+ x.sort 함수 : 원래 배열 __자체를 정렬__"
      ]
    },
    {
      "cell_type": "code",
      "metadata": {
        "colab": {
          "base_uri": "https://localhost:8080/"
        },
        "id": "m1sNJtCG8_cR",
        "outputId": "5ed075bd-ef96-497e-fa2c-d955cdaa17e0"
      },
      "source": [
        "x = np.array([4, 1, 5, 2, 3])\n",
        "x.sort()\n",
        "print(x)"
      ],
      "execution_count": 79,
      "outputs": [
        {
          "output_type": "stream",
          "text": [
            "[1 2 3 4 5]\n"
          ],
          "name": "stdout"
        }
      ]
    },
    {
      "cell_type": "markdown",
      "metadata": {
        "id": "vaoAHK3m9S6z"
      },
      "source": [
        "+ np.argsort 함수 : 정렬된 요소의 __인덱스를 반환__"
      ]
    },
    {
      "cell_type": "code",
      "metadata": {
        "colab": {
          "base_uri": "https://localhost:8080/"
        },
        "id": "qvFdzL1z9WDn",
        "outputId": "2d809bac-0086-4366-bfc1-1bcb3581804f"
      },
      "source": [
        "x = np.array([4, 1, 5, 2, 3])\n",
        "i = np.argsort(x)\n",
        "print(i)"
      ],
      "execution_count": 80,
      "outputs": [
        {
          "output_type": "stream",
          "text": [
            "[1 3 4 0 2]\n"
          ],
          "name": "stdout"
        }
      ]
    },
    {
      "cell_type": "markdown",
      "metadata": {
        "id": "yrNKv3eq9nEm"
      },
      "source": [
        "+ x_reverse : __내림차순__ 정렬"
      ]
    },
    {
      "cell_type": "code",
      "metadata": {
        "colab": {
          "base_uri": "https://localhost:8080/"
        },
        "id": "xdgHkUTs9s-1",
        "outputId": "12227397-77f9-4ead-9c01-fcf7a2d54f56"
      },
      "source": [
        "x = np.array([4, 1, 5, 2, 3])\n",
        "x_reverse = np.sort(x)[::-1]\n",
        "print(x_reverse)"
      ],
      "execution_count": 81,
      "outputs": [
        {
          "output_type": "stream",
          "text": [
            "[5 4 3 2 1]\n"
          ],
          "name": "stdout"
        }
      ]
    },
    {
      "cell_type": "markdown",
      "metadata": {
        "id": "F85pfr6t95h-"
      },
      "source": [
        "</br></br>\n",
        "\n",
        "##### 2) 다차원 배열 정렬\n",
        "+ axis 인자"
      ]
    },
    {
      "cell_type": "code",
      "metadata": {
        "colab": {
          "base_uri": "https://localhost:8080/"
        },
        "id": "dMYXgltW-GHh",
        "outputId": "cd893016-5bb3-4ade-d637-f35b4b486e4d"
      },
      "source": [
        "# axis = 0일 때, 각 열을 기준으로 정렬\n",
        "X = np.array([[2, 0, 5], [7, 3, 4], [1, 5, 3]])\n",
        "np.sort(X, axis = 0)"
      ],
      "execution_count": 84,
      "outputs": [
        {
          "output_type": "execute_result",
          "data": {
            "text/plain": [
              "array([[1, 0, 3],\n",
              "       [2, 3, 4],\n",
              "       [7, 5, 5]])"
            ]
          },
          "metadata": {
            "tags": []
          },
          "execution_count": 84
        }
      ]
    },
    {
      "cell_type": "code",
      "metadata": {
        "colab": {
          "base_uri": "https://localhost:8080/"
        },
        "id": "AYf0rIwe-kL5",
        "outputId": "29db31f1-4a9e-4843-a0bd-422534e64424"
      },
      "source": [
        "# axis = 1일 때, 각 행을 기준으로 정렬\n",
        "X = np.array([[2, 0, 5], [7, 3, 4], [1, 5, 3]])\n",
        "np.sort(X, axis = 1)"
      ],
      "execution_count": 86,
      "outputs": [
        {
          "output_type": "execute_result",
          "data": {
            "text/plain": [
              "array([[0, 2, 5],\n",
              "       [3, 4, 7],\n",
              "       [1, 3, 5]])"
            ]
          },
          "metadata": {
            "tags": []
          },
          "execution_count": 86
        }
      ]
    }
  ]
}