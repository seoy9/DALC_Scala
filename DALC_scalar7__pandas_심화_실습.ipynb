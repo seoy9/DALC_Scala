{
  "nbformat": 4,
  "nbformat_minor": 0,
  "metadata": {
    "colab": {
      "name": "DALC_scalar7_ pandas 심화 실습.ipynb",
      "provenance": [],
      "collapsed_sections": [
        "LEpgg6MllqlP",
        "4ktdw0WEO16Y"
      ]
    },
    "kernelspec": {
      "name": "python3",
      "display_name": "Python 3"
    },
    "language_info": {
      "name": "python"
    }
  },
  "cells": [
    {
      "cell_type": "markdown",
      "metadata": {
        "id": "hUQY0a9AmQB1"
      },
      "source": [
        "# 주관식\n",
        "셀을 더블클릭해서  : 다음에 답을 입력하세요."
      ]
    },
    {
      "cell_type": "markdown",
      "metadata": {
        "id": "s0tu8WgkHe9n"
      },
      "source": [
        "* matplotlib 인터페이스에는 어떤 종류가 있나?  \n",
        ": MATLAB, 객체 지향\n"
      ]
    },
    {
      "cell_type": "markdown",
      "metadata": {
        "id": "6nQsARbhNrvK"
      },
      "source": [
        "* matlab스타일의 장점은 무엇인가  \n",
        ": 단순하고 편리, Matlab 사용자 친화적"
      ]
    },
    {
      "cell_type": "markdown",
      "metadata": {
        "id": "O7Cz3tPHMFq8"
      },
      "source": [
        "* 객체지향스타일의 장점은 무엇인가  \n",
        ": 복잡하고 상세한 설정 가능, 파이썬 프로그램 친화적\n"
      ]
    },
    {
      "cell_type": "markdown",
      "metadata": {
        "id": "5KnVjMiLWfEO"
      },
      "source": [
        "* 객체지향스타일은 어떨때 사용하는가  \n",
        ": 그림이 복잡하고 많은 설정이 필요할 때"
      ]
    },
    {
      "cell_type": "markdown",
      "metadata": {
        "id": "LEpgg6MllqlP"
      },
      "source": [
        "# 빅데이터 시각화\n",
        "* matplotlib사용\n",
        "* 선그림과 점그림 \n",
        "* 다중 서브플롯\n",
        "\n",
        "해당 질문 밑에 있는 코드셀에 코드를 입력하세요"
      ]
    },
    {
      "cell_type": "markdown",
      "metadata": {
        "id": "ZPLYsr50N48B"
      },
      "source": [
        "# matplotlib 인터페이스"
      ]
    },
    {
      "cell_type": "markdown",
      "metadata": {
        "id": "pSeljp9aWIsn"
      },
      "source": [
        "### matlab스타일 인터페이스"
      ]
    },
    {
      "cell_type": "markdown",
      "metadata": {
        "id": "H0vQPFbZD9nu"
      },
      "source": [
        "* matplotlib라이브러리 사용"
      ]
    },
    {
      "cell_type": "code",
      "metadata": {
        "id": "E8u2sLMVNsbW"
      },
      "source": [
        "import matplotlib as mpl"
      ],
      "execution_count": 1,
      "outputs": []
    },
    {
      "cell_type": "code",
      "metadata": {
        "id": "8NHb_3yTGXk8"
      },
      "source": [
        "%matplotlib inline\n",
        "import matplotlib.pyplot as plt"
      ],
      "execution_count": 7,
      "outputs": []
    },
    {
      "cell_type": "markdown",
      "metadata": {
        "id": "p_5uwi8CHNKW"
      },
      "source": [
        "* 그래프스타일 클래식으로 설정"
      ]
    },
    {
      "cell_type": "code",
      "metadata": {
        "id": "7gRJmswLmrzq"
      },
      "source": [
        "plt.style.use('classic')"
      ],
      "execution_count": 3,
      "outputs": []
    },
    {
      "cell_type": "code",
      "metadata": {
        "id": "vHp-kJ5vmr-u"
      },
      "source": [
        "plt.style.use('seaborn-whitegrid')"
      ],
      "execution_count": null,
      "outputs": []
    },
    {
      "cell_type": "markdown",
      "metadata": {
        "id": "mt_eg4AlI-2s"
      },
      "source": [
        "* 두 개의 패널 중 첫 번째 패널을 생성하고 현재 축을 설정"
      ]
    },
    {
      "cell_type": "code",
      "metadata": {
        "id": "3wcQvP_EI3Yc"
      },
      "source": [
        "import numpy as np"
      ],
      "execution_count": 5,
      "outputs": []
    },
    {
      "cell_type": "code",
      "metadata": {
        "id": "T__uOBGEwRj3",
        "outputId": "46bcc3cf-f630-4613-c654-7580c37d8ef5",
        "colab": {
          "base_uri": "https://localhost:8080/",
          "height": 301
        }
      },
      "source": [
        "ax1 = plt.subplot(2, 1, 1)\n",
        "plt.title(\"Plot 1\")\n",
        "plt.plot()\n",
        "\n",
        "ax2 = plt.subplot(2, 1, 2)\n",
        "plt.title(\"Plot 2\")\n",
        "plt.plot()"
      ],
      "execution_count": 25,
      "outputs": [
        {
          "output_type": "execute_result",
          "data": {
            "text/plain": [
              "[]"
            ]
          },
          "metadata": {
            "tags": []
          },
          "execution_count": 25
        },
        {
          "output_type": "display_data",
          "data": {
            "image/png": "[encoded data removed]",
            "text/plain": [
              "<Figure size 432x288 with 2 Axes>"
            ]
          },
          "metadata": {
            "tags": [],
            "needs_background": "light"
          }
        }
      ]
    },
    {
      "cell_type": "markdown",
      "metadata": {
        "id": "_qM7c0PCJsVB"
      },
      "source": [
        "* 2행 1열 구조 그리드의 첫번째 패널에 사인 그래프 작성"
      ]
    },
    {
      "cell_type": "code",
      "metadata": {
        "id": "Y6IqwzzbpA7K",
        "outputId": "980e4827-f482-4083-fc0d-41478e44680c",
        "colab": {
          "base_uri": "https://localhost:8080/",
          "height": 301
        }
      },
      "source": [
        "x1 = np.linspace(0, 10, 30)\n",
        "y1 = np.sin(x1)\n",
        "\n",
        "ax1 = plt.subplot(2, 1, 1)\n",
        "plt.title(\"Plot 1\")\n",
        "plt.plot(x1, y1)\n",
        "plt.plot()\n",
        "\n",
        "ax2 = plt.subplot(2, 1, 2)\n",
        "plt.title(\"Plot 2\")\n",
        "plt.plot()"
      ],
      "execution_count": 33,
      "outputs": [
        {
          "output_type": "execute_result",
          "data": {
            "text/plain": [
              "[]"
            ]
          },
          "metadata": {
            "tags": []
          },
          "execution_count": 33
        },
        {
          "output_type": "display_data",
          "data": {
            "image/png": "[encoded data removed]",
            "text/plain": [
              "<Figure size 432x288 with 2 Axes>"
            ]
          },
          "metadata": {
            "tags": [],
            "needs_background": "light"
          }
        }
      ]
    },
    {
      "cell_type": "markdown",
      "metadata": {
        "id": "x3-9VHZbSsu5"
      },
      "source": [
        "* 2행 1열 구조 그리드의 두번째 패널에 코사인 그래프 작성"
      ]
    },
    {
      "cell_type": "code",
      "metadata": {
        "id": "ZLB4WiwfSsvC",
        "outputId": "b2ef94f0-563c-482c-c57d-2bbfe6003245",
        "colab": {
          "base_uri": "https://localhost:8080/",
          "height": 301
        }
      },
      "source": [
        "x1 = np.linspace(0, 10, 30)\n",
        "y1 = np.sin(x1)\n",
        "x2 = np.linspace(0, 10, 30)\n",
        "y2 = np.cos(x2)\n",
        "\n",
        "ax1 = plt.subplot(2, 1, 1)\n",
        "plt.title(\"Plot 1\")\n",
        "plt.plot(x1, y1)\n",
        "plt.plot()\n",
        "\n",
        "ax2 = plt.subplot(2, 1, 2)\n",
        "plt.title(\"Plot 2\")\n",
        "plt.plot(x2, y2)\n",
        "plt.plot()"
      ],
      "execution_count": 34,
      "outputs": [
        {
          "output_type": "execute_result",
          "data": {
            "text/plain": [
              "[]"
            ]
          },
          "metadata": {
            "tags": []
          },
          "execution_count": 34
        },
        {
          "output_type": "display_data",
          "data": {
            "image/png": "[encoded data removed]",
            "text/plain": [
              "<Figure size 432x288 with 2 Axes>"
            ]
          },
          "metadata": {
            "tags": [],
            "needs_background": "light"
          }
        }
      ]
    },
    {
      "cell_type": "markdown",
      "metadata": {
        "id": "zXi9JehJLzzC"
      },
      "source": [
        "* 2행 1열의 축 객체의 배열을 형성하라"
      ]
    },
    {
      "cell_type": "code",
      "metadata": {
        "id": "SDiypRdGpA1r",
        "outputId": "86c19ad5-c18d-44c9-ae0d-f65fbbbab19c",
        "colab": {
          "base_uri": "https://localhost:8080/",
          "height": 301
        }
      },
      "source": [
        "ax3 = plt.subplot(2, 1, 1)\n",
        "plt.title(\"Plot 3\")\n",
        "plt.plot()\n",
        "\n",
        "ax4 = plt.subplot(2, 1, 2)\n",
        "plt.title(\"Plot 4\")\n",
        "plt.plot()"
      ],
      "execution_count": 37,
      "outputs": [
        {
          "output_type": "execute_result",
          "data": {
            "text/plain": [
              "[]"
            ]
          },
          "metadata": {
            "tags": []
          },
          "execution_count": 37
        },
        {
          "output_type": "display_data",
          "data": {
            "image/png": "[encoded data removed]",
            "text/plain": [
              "<Figure size 432x288 with 2 Axes>"
            ]
          },
          "metadata": {
            "tags": [],
            "needs_background": "light"
          }
        }
      ]
    },
    {
      "cell_type": "markdown",
      "metadata": {
        "id": "veju4mmRMgmx"
      },
      "source": [
        "* 위의 형성한 객체에 1행에는 넘파이패키지의 sin()함수를 그려라"
      ]
    },
    {
      "cell_type": "code",
      "metadata": {
        "id": "zoC3coUxpApz",
        "outputId": "256821ba-7547-4891-d61d-3c9a76f54b4c",
        "colab": {
          "base_uri": "https://localhost:8080/",
          "height": 301
        }
      },
      "source": [
        "x3 = np.linspace(0, 10, 30)\n",
        "\n",
        "ax3 = plt.subplot(2, 1, 1)\n",
        "plt.title(\"Plot 3\")\n",
        "plt.plot(x3, np.sin(x3))\n",
        "plt.plot()\n",
        "\n",
        "ax4 = plt.subplot(2, 1, 2)\n",
        "plt.title(\"Plot 4\")\n",
        "plt.plot()"
      ],
      "execution_count": 38,
      "outputs": [
        {
          "output_type": "execute_result",
          "data": {
            "text/plain": [
              "[]"
            ]
          },
          "metadata": {
            "tags": []
          },
          "execution_count": 38
        },
        {
          "output_type": "display_data",
          "data": {
            "image/png": "[encoded data removed]",
            "text/plain": [
              "<Figure size 432x288 with 2 Axes>"
            ]
          },
          "metadata": {
            "tags": [],
            "needs_background": "light"
          }
        }
      ]
    },
    {
      "cell_type": "markdown",
      "metadata": {
        "id": "KW7fLJ8eMjKZ"
      },
      "source": [
        "* 위의 형성한 객체에 1행에는 넘파이패키지의 sin()함수를 그려라"
      ]
    },
    {
      "cell_type": "code",
      "metadata": {
        "id": "x06fkqr0VtJT",
        "outputId": "499a7688-6418-42bc-cd67-310412f64aec",
        "colab": {
          "base_uri": "https://localhost:8080/",
          "height": 301
        }
      },
      "source": [
        "ax3 = plt.subplot(2, 1, 1)\n",
        "plt.title(\"Plot 3\")\n",
        "plt.plot(x3, np.sin(x3))\n",
        "plt.plot()\n",
        "\n",
        "ax4 = plt.subplot(2, 1, 2)\n",
        "plt.title(\"Plot 4\")\n",
        "plt.plot()"
      ],
      "execution_count": 39,
      "outputs": [
        {
          "output_type": "execute_result",
          "data": {
            "text/plain": [
              "[]"
            ]
          },
          "metadata": {
            "tags": []
          },
          "execution_count": 39
        },
        {
          "output_type": "display_data",
          "data": {
            "image/png": "[encoded data removed]",
            "text/plain": [
              "<Figure size 432x288 with 2 Axes>"
            ]
          },
          "metadata": {
            "tags": [],
            "needs_background": "light"
          }
        }
      ]
    },
    {
      "cell_type": "markdown",
      "metadata": {
        "id": "5cXl2t8QXOM9"
      },
      "source": [
        "### 기본선그림"
      ]
    },
    {
      "cell_type": "markdown",
      "metadata": {
        "id": "U56XiDtTMpCq"
      },
      "source": [
        "### 선그림(lineplot)\n",
        "* 위와 같은 것이 %로 시작하는 것을 jupyter notebook의 magic command라고 한다.\n",
        "* %who는 변수명의 리스트를 보여주고 %magic 은 모든 매직명령어를 보여준다.\n",
        "* 전체적인 magic 명령어에 대해서는 다음 블로그를 참고\n",
        "* http://studymake.tistory.com/601\n",
        "* matplotlib 을 jupyter notebook에서 사용할 때, plot의 이미지를 보여주기 위해 magic command를 사용하는데,\n",
        "* 이때 우리가 사용하는 inline 이외에도 다음과 같은 요소를 사용할 수 있다.\n",
        "* Available matplotlib backends: ['osx', 'qt4', 'qt5', 'gtk3', 'notebook', 'wx', 'qt', 'nbagg','gtk', 'tk', 'inline']\n"
      ]
    },
    {
      "cell_type": "code",
      "metadata": {
        "id": "julPwkbal-5w"
      },
      "source": [
        "%matplotlib inline\n",
        "import matplotlib.pyplot as plt\n",
        "plt.style.use('seaborn-whitegrid')\n",
        "import pandas as pd\n",
        "import numpy as np"
      ],
      "execution_count": 41,
      "outputs": []
    },
    {
      "cell_type": "markdown",
      "metadata": {
        "id": "g5Hetg75aMch"
      },
      "source": [
        "*  Series를 통한 line plot 그리기"
      ]
    },
    {
      "cell_type": "code",
      "metadata": {
        "colab": {
          "base_uri": "https://localhost:8080/"
        },
        "id": "SrVUy7LTZ9wZ",
        "outputId": "64e0bf7f-9de2-4cd4-8d9a-cd73fada17fa"
      },
      "source": [
        "s = pd.Series(np.random.randn(10).cumsum(), index=np.arange(0, 100, 10))\n",
        "s"
      ],
      "execution_count": 42,
      "outputs": [
        {
          "output_type": "execute_result",
          "data": {
            "text/plain": [
              "0    -0.089830\n",
              "10   -1.199719\n",
              "20   -2.723953\n",
              "30   -2.334729\n",
              "40   -2.547283\n",
              "50   -2.347142\n",
              "60   -2.899268\n",
              "70   -2.843888\n",
              "80   -3.335701\n",
              "90   -4.097722\n",
              "dtype: float64"
            ]
          },
          "metadata": {
            "tags": []
          },
          "execution_count": 42
        }
      ]
    },
    {
      "cell_type": "markdown",
      "metadata": {
        "id": "alJg_1dZanBU"
      },
      "source": [
        "* 시리즈 s의 선그래프를 그려라"
      ]
    },
    {
      "cell_type": "code",
      "metadata": {
        "id": "37a_XyCFamNX",
        "outputId": "550c08a2-2a36-4c0d-8bb5-95d918fa61cc",
        "colab": {
          "base_uri": "https://localhost:8080/",
          "height": 290
        }
      },
      "source": [
        "s.plot()"
      ],
      "execution_count": 43,
      "outputs": [
        {
          "output_type": "execute_result",
          "data": {
            "text/plain": [
              "<matplotlib.axes._subplots.AxesSubplot at 0x7fce64edf750>"
            ]
          },
          "metadata": {
            "tags": []
          },
          "execution_count": 43
        },
        {
          "output_type": "display_data",
          "data": {
            "image/png": "[encoded data removed]",
            "text/plain": [
              "<Figure size 432x288 with 1 Axes>"
            ]
          },
          "metadata": {
            "tags": []
          }
        }
      ]
    },
    {
      "cell_type": "markdown",
      "metadata": {
        "id": "qXpe7lBWaY6U"
      },
      "source": [
        "*  DataFrame를 통한 line plot 그리기"
      ]
    },
    {
      "cell_type": "code",
      "metadata": {
        "colab": {
          "base_uri": "https://localhost:8080/",
          "height": 343
        },
        "id": "WRn4_EQNab0M",
        "outputId": "7639e087-2ccd-4db9-9bd4-d2f3b6e35cdc"
      },
      "source": [
        "df = pd.DataFrame(np.random.randn(10, 4).cumsum(axis=0),\n",
        "                  columns=[\"A\", \"B\", \"C\", \"D\"],\n",
        "                  index=np.arange(0, 100, 10))\n",
        "df"
      ],
      "execution_count": 44,
      "outputs": [
        {
          "output_type": "execute_result",
          "data": {
            "text/html": [
              "<div>\n",
              "<style scoped>\n",
              "    .dataframe tbody tr th:only-of-type {\n",
              "        vertical-align: middle;\n",
              "    }\n",
              "\n",
              "    .dataframe tbody tr th {\n",
              "        vertical-align: top;\n",
              "    }\n",
              "\n",
              "    .dataframe thead th {\n",
              "        text-align: right;\n",
              "    }\n",
              "</style>\n",
              "<table border=\"1\" class=\"dataframe\">\n",
              "  <thead>\n",
              "    <tr style=\"text-align: right;\">\n",
              "      <th></th>\n",
              "      <th>A</th>\n",
              "      <th>B</th>\n",
              "      <th>C</th>\n",
              "      <th>D</th>\n",
              "    </tr>\n",
              "  </thead>\n",
              "  <tbody>\n",
              "    <tr>\n",
              "      <th>0</th>\n",
              "      <td>0.014712</td>\n",
              "      <td>-1.425363</td>\n",
              "      <td>0.188294</td>\n",
              "      <td>1.000707</td>\n",
              "    </tr>\n",
              "    <tr>\n",
              "      <th>10</th>\n",
              "      <td>0.443028</td>\n",
              "      <td>-1.488085</td>\n",
              "      <td>0.914575</td>\n",
              "      <td>1.468541</td>\n",
              "    </tr>\n",
              "    <tr>\n",
              "      <th>20</th>\n",
              "      <td>0.936559</td>\n",
              "      <td>-1.374435</td>\n",
              "      <td>0.540387</td>\n",
              "      <td>0.935039</td>\n",
              "    </tr>\n",
              "    <tr>\n",
              "      <th>30</th>\n",
              "      <td>1.433511</td>\n",
              "      <td>-2.295102</td>\n",
              "      <td>2.041441</td>\n",
              "      <td>1.183761</td>\n",
              "    </tr>\n",
              "    <tr>\n",
              "      <th>40</th>\n",
              "      <td>1.034337</td>\n",
              "      <td>-2.147816</td>\n",
              "      <td>2.992741</td>\n",
              "      <td>0.382897</td>\n",
              "    </tr>\n",
              "    <tr>\n",
              "      <th>50</th>\n",
              "      <td>1.358156</td>\n",
              "      <td>-2.881677</td>\n",
              "      <td>2.856817</td>\n",
              "      <td>1.366559</td>\n",
              "    </tr>\n",
              "    <tr>\n",
              "      <th>60</th>\n",
              "      <td>1.354592</td>\n",
              "      <td>-2.605111</td>\n",
              "      <td>3.439395</td>\n",
              "      <td>1.462360</td>\n",
              "    </tr>\n",
              "    <tr>\n",
              "      <th>70</th>\n",
              "      <td>3.015153</td>\n",
              "      <td>-4.120748</td>\n",
              "      <td>3.361862</td>\n",
              "      <td>1.735571</td>\n",
              "    </tr>\n",
              "    <tr>\n",
              "      <th>80</th>\n",
              "      <td>3.763063</td>\n",
              "      <td>-4.782098</td>\n",
              "      <td>2.959242</td>\n",
              "      <td>1.143702</td>\n",
              "    </tr>\n",
              "    <tr>\n",
              "      <th>90</th>\n",
              "      <td>3.181324</td>\n",
              "      <td>-6.578357</td>\n",
              "      <td>3.014020</td>\n",
              "      <td>1.953182</td>\n",
              "    </tr>\n",
              "  </tbody>\n",
              "</table>\n",
              "</div>"
            ],
            "text/plain": [
              "           A         B         C         D\n",
              "0   0.014712 -1.425363  0.188294  1.000707\n",
              "10  0.443028 -1.488085  0.914575  1.468541\n",
              "20  0.936559 -1.374435  0.540387  0.935039\n",
              "30  1.433511 -2.295102  2.041441  1.183761\n",
              "40  1.034337 -2.147816  2.992741  0.382897\n",
              "50  1.358156 -2.881677  2.856817  1.366559\n",
              "60  1.354592 -2.605111  3.439395  1.462360\n",
              "70  3.015153 -4.120748  3.361862  1.735571\n",
              "80  3.763063 -4.782098  2.959242  1.143702\n",
              "90  3.181324 -6.578357  3.014020  1.953182"
            ]
          },
          "metadata": {
            "tags": []
          },
          "execution_count": 44
        }
      ]
    },
    {
      "cell_type": "markdown",
      "metadata": {
        "id": "DY8egKYQavl3"
      },
      "source": [
        "* 데이터프레임 df의 선그래프를 그려라"
      ]
    },
    {
      "cell_type": "code",
      "metadata": {
        "id": "MiXr_ycxamDZ",
        "outputId": "61c15f72-9c4e-4c01-f77e-b100c5aeb1d7",
        "colab": {
          "base_uri": "https://localhost:8080/",
          "height": 290
        }
      },
      "source": [
        "df.plot()"
      ],
      "execution_count": 45,
      "outputs": [
        {
          "output_type": "execute_result",
          "data": {
            "text/plain": [
              "<matplotlib.axes._subplots.AxesSubplot at 0x7fce647ced90>"
            ]
          },
          "metadata": {
            "tags": []
          },
          "execution_count": 45
        },
        {
          "output_type": "display_data",
          "data": {
            "image/png": "[encoded data removed]",
            "text/plain": [
              "<Figure size 432x288 with 1 Axes>"
            ]
          },
          "metadata": {
            "tags": []
          }
        }
      ]
    },
    {
      "cell_type": "markdown",
      "metadata": {
        "id": "_hFLRAXVa2Xp"
      },
      "source": [
        "* 데이터프레임 df의 B열에 대해서만 선그래프를 그려라"
      ]
    },
    {
      "cell_type": "code",
      "metadata": {
        "id": "IYNO2wWaakKH",
        "outputId": "641226ea-c3b8-4829-c023-18a497319d0c",
        "colab": {
          "base_uri": "https://localhost:8080/",
          "height": 290
        }
      },
      "source": [
        "dfB = df['B']\n",
        "\n",
        "dfB.plot()"
      ],
      "execution_count": 46,
      "outputs": [
        {
          "output_type": "execute_result",
          "data": {
            "text/plain": [
              "<matplotlib.axes._subplots.AxesSubplot at 0x7fce5c439490>"
            ]
          },
          "metadata": {
            "tags": []
          },
          "execution_count": 46
        },
        {
          "output_type": "display_data",
          "data": {
            "image/png": "[encoded data removed]",
            "text/plain": [
              "<Figure size 432x288 with 1 Axes>"
            ]
          },
          "metadata": {
            "tags": []
          }
        }
      ]
    },
    {
      "cell_type": "code",
      "metadata": {
        "colab": {
          "base_uri": "https://localhost:8080/"
        },
        "id": "aub_wxpJbEG2",
        "outputId": "e3d40bc2-0cf3-4dbb-f999-e53bae8c56c3"
      },
      "source": [
        "s2 = pd.Series(np.random.rand(16), index=list(\"abcdefghijklmnop\"))\n",
        "s2"
      ],
      "execution_count": 47,
      "outputs": [
        {
          "output_type": "execute_result",
          "data": {
            "text/plain": [
              "a    0.332083\n",
              "b    0.968630\n",
              "c    0.320961\n",
              "d    0.273412\n",
              "e    0.383530\n",
              "f    0.523546\n",
              "g    0.560998\n",
              "h    0.553417\n",
              "i    0.069360\n",
              "j    0.698886\n",
              "k    0.087051\n",
              "l    0.072824\n",
              "m    0.664819\n",
              "n    0.212681\n",
              "o    0.311086\n",
              "p    0.151811\n",
              "dtype: float64"
            ]
          },
          "metadata": {
            "tags": []
          },
          "execution_count": 47
        }
      ]
    },
    {
      "cell_type": "markdown",
      "metadata": {
        "id": "xharyGBsOEqC"
      },
      "source": [
        "## 막대그래프그리기"
      ]
    },
    {
      "cell_type": "markdown",
      "metadata": {
        "id": "_t3jDNz2a9l-"
      },
      "source": [
        "* s2열에 대해서 막대그래프를 그려라"
      ]
    },
    {
      "cell_type": "code",
      "metadata": {
        "id": "Qm1HkVEIa9l_",
        "outputId": "0cb658ed-d120-470e-f785-a639912e2a8d",
        "colab": {
          "base_uri": "https://localhost:8080/",
          "height": 289
        }
      },
      "source": [
        "s2.plot(kind='bar')"
      ],
      "execution_count": 48,
      "outputs": [
        {
          "output_type": "execute_result",
          "data": {
            "text/plain": [
              "<matplotlib.axes._subplots.AxesSubplot at 0x7fce64e59b10>"
            ]
          },
          "metadata": {
            "tags": []
          },
          "execution_count": 48
        },
        {
          "output_type": "display_data",
          "data": {
            "image/png": "[encoded data removed]",
            "text/plain": [
              "<Figure size 432x288 with 1 Axes>"
            ]
          },
          "metadata": {
            "tags": []
          }
        }
      ]
    },
    {
      "cell_type": "markdown",
      "metadata": {
        "id": "hW7KURw4bRkl"
      },
      "source": [
        "s2열에 대해서 가로방향의 막대그래프를 그려라"
      ]
    },
    {
      "cell_type": "code",
      "metadata": {
        "id": "LzKYe1TsbRkn",
        "outputId": "629c871a-51a7-4dbc-a185-a348c1636f3a",
        "colab": {
          "base_uri": "https://localhost:8080/",
          "height": 286
        }
      },
      "source": [
        "s2.plot(kind='barh')"
      ],
      "execution_count": 50,
      "outputs": [
        {
          "output_type": "execute_result",
          "data": {
            "text/plain": [
              "<matplotlib.axes._subplots.AxesSubplot at 0x7fce5c3b2e50>"
            ]
          },
          "metadata": {
            "tags": []
          },
          "execution_count": 50
        },
        {
          "output_type": "display_data",
          "data": {
            "image/png": "[encoded data removed]",
            "text/plain": [
              "<Figure size 432x288 with 1 Axes>"
            ]
          },
          "metadata": {
            "tags": []
          }
        }
      ]
    },
    {
      "cell_type": "code",
      "metadata": {
        "colab": {
          "base_uri": "https://localhost:8080/",
          "height": 225
        },
        "id": "ZojuOg-9blaB",
        "outputId": "42370462-0ee4-49db-d573-6786d498bf0d"
      },
      "source": [
        "df2 = pd.DataFrame(np.random.rand(6, 4), \n",
        "                   index=[\"one\", \"two\", \"three\", \"four\", \"five\", \"six\"],\n",
        "                   columns=pd.Index([\"A\", \"B\", \"C\", \"D\"], name=\"Genus\"))\n",
        "df2"
      ],
      "execution_count": 51,
      "outputs": [
        {
          "output_type": "execute_result",
          "data": {
            "text/html": [
              "<div>\n",
              "<style scoped>\n",
              "    .dataframe tbody tr th:only-of-type {\n",
              "        vertical-align: middle;\n",
              "    }\n",
              "\n",
              "    .dataframe tbody tr th {\n",
              "        vertical-align: top;\n",
              "    }\n",
              "\n",
              "    .dataframe thead th {\n",
              "        text-align: right;\n",
              "    }\n",
              "</style>\n",
              "<table border=\"1\" class=\"dataframe\">\n",
              "  <thead>\n",
              "    <tr style=\"text-align: right;\">\n",
              "      <th>Genus</th>\n",
              "      <th>A</th>\n",
              "      <th>B</th>\n",
              "      <th>C</th>\n",
              "      <th>D</th>\n",
              "    </tr>\n",
              "  </thead>\n",
              "  <tbody>\n",
              "    <tr>\n",
              "      <th>one</th>\n",
              "      <td>0.670649</td>\n",
              "      <td>0.768684</td>\n",
              "      <td>0.626800</td>\n",
              "      <td>0.306349</td>\n",
              "    </tr>\n",
              "    <tr>\n",
              "      <th>two</th>\n",
              "      <td>0.427409</td>\n",
              "      <td>0.614832</td>\n",
              "      <td>0.188844</td>\n",
              "      <td>0.139777</td>\n",
              "    </tr>\n",
              "    <tr>\n",
              "      <th>three</th>\n",
              "      <td>0.817445</td>\n",
              "      <td>0.146163</td>\n",
              "      <td>0.934144</td>\n",
              "      <td>0.855189</td>\n",
              "    </tr>\n",
              "    <tr>\n",
              "      <th>four</th>\n",
              "      <td>0.155411</td>\n",
              "      <td>0.041168</td>\n",
              "      <td>0.089491</td>\n",
              "      <td>0.553332</td>\n",
              "    </tr>\n",
              "    <tr>\n",
              "      <th>five</th>\n",
              "      <td>0.218277</td>\n",
              "      <td>0.224078</td>\n",
              "      <td>0.568179</td>\n",
              "      <td>0.555224</td>\n",
              "    </tr>\n",
              "    <tr>\n",
              "      <th>six</th>\n",
              "      <td>0.117423</td>\n",
              "      <td>0.423248</td>\n",
              "      <td>0.400501</td>\n",
              "      <td>0.966409</td>\n",
              "    </tr>\n",
              "  </tbody>\n",
              "</table>\n",
              "</div>"
            ],
            "text/plain": [
              "Genus         A         B         C         D\n",
              "one    0.670649  0.768684  0.626800  0.306349\n",
              "two    0.427409  0.614832  0.188844  0.139777\n",
              "three  0.817445  0.146163  0.934144  0.855189\n",
              "four   0.155411  0.041168  0.089491  0.553332\n",
              "five   0.218277  0.224078  0.568179  0.555224\n",
              "six    0.117423  0.423248  0.400501  0.966409"
            ]
          },
          "metadata": {
            "tags": []
          },
          "execution_count": 51
        }
      ]
    },
    {
      "cell_type": "markdown",
      "metadata": {
        "id": "EepLT6U2boT3"
      },
      "source": [
        "* 데이터프레임 df2의 누적막대그래프를 그려라"
      ]
    },
    {
      "cell_type": "code",
      "metadata": {
        "id": "hlWHHtdSbn7-",
        "outputId": "504ad8ad-c57e-4b8b-bd4f-97471bbb6d7e",
        "colab": {
          "base_uri": "https://localhost:8080/",
          "height": 304
        }
      },
      "source": [
        "df2.plot(kind='bar', stacked=True)"
      ],
      "execution_count": 54,
      "outputs": [
        {
          "output_type": "execute_result",
          "data": {
            "text/plain": [
              "<matplotlib.axes._subplots.AxesSubplot at 0x7fce5c2312d0>"
            ]
          },
          "metadata": {
            "tags": []
          },
          "execution_count": 54
        },
        {
          "output_type": "display_data",
          "data": {
            "image/png": "[encoded data removed]",
            "text/plain": [
              "<Figure size 432x288 with 1 Axes>"
            ]
          },
          "metadata": {
            "tags": []
          }
        }
      ]
    },
    {
      "cell_type": "markdown",
      "metadata": {
        "id": "a3cbcWn5b6R8"
      },
      "source": [
        "* 데이터프레임 df2의 가로방향의 누적막대그래프를 그려라"
      ]
    },
    {
      "cell_type": "code",
      "metadata": {
        "id": "Bt37000Yb6SZ",
        "outputId": "aa99e952-4a6c-4235-94af-74677274d980",
        "colab": {
          "base_uri": "https://localhost:8080/",
          "height": 286
        }
      },
      "source": [
        "df2.plot(kind='barh', stacked=True)"
      ],
      "execution_count": 55,
      "outputs": [
        {
          "output_type": "execute_result",
          "data": {
            "text/plain": [
              "<matplotlib.axes._subplots.AxesSubplot at 0x7fce64c07110>"
            ]
          },
          "metadata": {
            "tags": []
          },
          "execution_count": 55
        },
        {
          "output_type": "display_data",
          "data": {
            "image/png": "[encoded data removed]",
            "text/plain": [
              "<Figure size 432x288 with 1 Axes>"
            ]
          },
          "metadata": {
            "tags": []
          }
        }
      ]
    },
    {
      "cell_type": "markdown",
      "metadata": {
        "id": "uzHCk1PuPF8K"
      },
      "source": [
        "* s3의 히스토그램을 그려라\n",
        "(히스토그램은 인덱스가 필요없다.)"
      ]
    },
    {
      "cell_type": "code",
      "metadata": {
        "id": "ewQeK3lXtTUH",
        "outputId": "b7bb52cb-b461-4afd-e071-9998b0469cb5",
        "colab": {
          "base_uri": "https://localhost:8080/"
        }
      },
      "source": [
        "s3 = pd.Series(np.random.normal(0, 1, size=200))\n",
        "s3"
      ],
      "execution_count": 84,
      "outputs": [
        {
          "output_type": "execute_result",
          "data": {
            "text/plain": [
              "0     -0.049412\n",
              "1      1.905617\n",
              "2     -0.308212\n",
              "3      1.421197\n",
              "4      0.580575\n",
              "         ...   \n",
              "195   -0.535398\n",
              "196    0.865031\n",
              "197    0.156171\n",
              "198    1.216987\n",
              "199   -2.006743\n",
              "Length: 200, dtype: float64"
            ]
          },
          "metadata": {
            "tags": []
          },
          "execution_count": 84
        }
      ]
    },
    {
      "cell_type": "code",
      "metadata": {
        "id": "EIUdDehpmrhn",
        "outputId": "29be746b-ec3c-4e11-81c3-4f46f45cfaa3",
        "colab": {
          "base_uri": "https://localhost:8080/",
          "height": 290
        }
      },
      "source": [
        "s3.plot(kind='hist')"
      ],
      "execution_count": 85,
      "outputs": [
        {
          "output_type": "execute_result",
          "data": {
            "text/plain": [
              "<matplotlib.axes._subplots.AxesSubplot at 0x7fce5b7f7890>"
            ]
          },
          "metadata": {
            "tags": []
          },
          "execution_count": 85
        },
        {
          "output_type": "display_data",
          "data": {
            "image/png": "[encoded data removed]",
            "text/plain": [
              "<Figure size 432x288 with 1 Axes>"
            ]
          },
          "metadata": {
            "tags": []
          }
        }
      ]
    },
    {
      "cell_type": "markdown",
      "metadata": {
        "id": "FLrkrDZSSHSE"
      },
      "source": [
        "* x축의 구간개수를50개로 설정하여 s3를 히스토그램으로그려라"
      ]
    },
    {
      "cell_type": "code",
      "metadata": {
        "id": "LGghPWtIt3SD",
        "outputId": "ce0d65d2-ffe2-4694-ba22-ac93809d02be",
        "colab": {
          "base_uri": "https://localhost:8080/",
          "height": 290
        }
      },
      "source": [
        "h_data = s3.loc[:50]\n",
        "h_data.plot(kind='hist')"
      ],
      "execution_count": 95,
      "outputs": [
        {
          "output_type": "execute_result",
          "data": {
            "text/plain": [
              "<matplotlib.axes._subplots.AxesSubplot at 0x7fce5ba9acd0>"
            ]
          },
          "metadata": {
            "tags": []
          },
          "execution_count": 95
        },
        {
          "output_type": "display_data",
          "data": {
            "image/png": "[encoded data removed]",
            "text/plain": [
              "<Figure size 432x288 with 1 Axes>"
            ]
          },
          "metadata": {
            "tags": []
          }
        }
      ]
    },
    {
      "cell_type": "markdown",
      "metadata": {
        "id": "PzaPAWphMqEo"
      },
      "source": [
        "## 산점도 그리기"
      ]
    },
    {
      "cell_type": "code",
      "metadata": {
        "id": "4b-MSmvSMqFL",
        "colab": {
          "base_uri": "https://localhost:8080/",
          "height": 402
        },
        "outputId": "7a83bdf8-6386-473d-f96e-224797ad7d29"
      },
      "source": [
        "x1 = np.random.normal(1, 1, size=(100, 1))\n",
        "x2 = np.random.normal(-2, 4, size=(100, 1))\n",
        "X = np.concatenate((x1, x2), axis=1)\n",
        "df3 = pd.DataFrame(X, columns=[\"x1\", \"x2\"])\n",
        "df3"
      ],
      "execution_count": 57,
      "outputs": [
        {
          "output_type": "execute_result",
          "data": {
            "text/html": [
              "<div>\n",
              "<style scoped>\n",
              "    .dataframe tbody tr th:only-of-type {\n",
              "        vertical-align: middle;\n",
              "    }\n",
              "\n",
              "    .dataframe tbody tr th {\n",
              "        vertical-align: top;\n",
              "    }\n",
              "\n",
              "    .dataframe thead th {\n",
              "        text-align: right;\n",
              "    }\n",
              "</style>\n",
              "<table border=\"1\" class=\"dataframe\">\n",
              "  <thead>\n",
              "    <tr style=\"text-align: right;\">\n",
              "      <th></th>\n",
              "      <th>x1</th>\n",
              "      <th>x2</th>\n",
              "    </tr>\n",
              "  </thead>\n",
              "  <tbody>\n",
              "    <tr>\n",
              "      <th>0</th>\n",
              "      <td>1.137325</td>\n",
              "      <td>-0.975416</td>\n",
              "    </tr>\n",
              "    <tr>\n",
              "      <th>1</th>\n",
              "      <td>0.321830</td>\n",
              "      <td>-7.163270</td>\n",
              "    </tr>\n",
              "    <tr>\n",
              "      <th>2</th>\n",
              "      <td>1.908392</td>\n",
              "      <td>-0.790097</td>\n",
              "    </tr>\n",
              "    <tr>\n",
              "      <th>3</th>\n",
              "      <td>2.012622</td>\n",
              "      <td>-3.056851</td>\n",
              "    </tr>\n",
              "    <tr>\n",
              "      <th>4</th>\n",
              "      <td>0.027546</td>\n",
              "      <td>1.561835</td>\n",
              "    </tr>\n",
              "    <tr>\n",
              "      <th>...</th>\n",
              "      <td>...</td>\n",
              "      <td>...</td>\n",
              "    </tr>\n",
              "    <tr>\n",
              "      <th>95</th>\n",
              "      <td>-0.547317</td>\n",
              "      <td>4.591032</td>\n",
              "    </tr>\n",
              "    <tr>\n",
              "      <th>96</th>\n",
              "      <td>-0.348732</td>\n",
              "      <td>-3.141283</td>\n",
              "    </tr>\n",
              "    <tr>\n",
              "      <th>97</th>\n",
              "      <td>-0.010794</td>\n",
              "      <td>-0.289881</td>\n",
              "    </tr>\n",
              "    <tr>\n",
              "      <th>98</th>\n",
              "      <td>0.033832</td>\n",
              "      <td>1.869021</td>\n",
              "    </tr>\n",
              "    <tr>\n",
              "      <th>99</th>\n",
              "      <td>1.824293</td>\n",
              "      <td>1.555081</td>\n",
              "    </tr>\n",
              "  </tbody>\n",
              "</table>\n",
              "<p>100 rows × 2 columns</p>\n",
              "</div>"
            ],
            "text/plain": [
              "          x1        x2\n",
              "0   1.137325 -0.975416\n",
              "1   0.321830 -7.163270\n",
              "2   1.908392 -0.790097\n",
              "3   2.012622 -3.056851\n",
              "4   0.027546  1.561835\n",
              "..       ...       ...\n",
              "95 -0.547317  4.591032\n",
              "96 -0.348732 -3.141283\n",
              "97 -0.010794 -0.289881\n",
              "98  0.033832  1.869021\n",
              "99  1.824293  1.555081\n",
              "\n",
              "[100 rows x 2 columns]"
            ]
          },
          "metadata": {
            "tags": []
          },
          "execution_count": 57
        }
      ]
    },
    {
      "cell_type": "markdown",
      "metadata": {
        "id": "vhu60hvjSLeb"
      },
      "source": [
        "* df3의 x1열을 x축으로 x2열을 y축으로 산점도를 그려라"
      ]
    },
    {
      "cell_type": "code",
      "metadata": {
        "id": "q4ykGVibMWSi",
        "outputId": "96f66328-5403-458c-8ef4-3ddf1787a9bd",
        "colab": {
          "base_uri": "https://localhost:8080/",
          "height": 306
        }
      },
      "source": [
        "df3.plot(x='x1', y='x2', kind='scatter')"
      ],
      "execution_count": 58,
      "outputs": [
        {
          "output_type": "execute_result",
          "data": {
            "text/plain": [
              "<matplotlib.axes._subplots.AxesSubplot at 0x7fce5c04ea50>"
            ]
          },
          "metadata": {
            "tags": []
          },
          "execution_count": 58
        },
        {
          "output_type": "display_data",
          "data": {
            "image/png": "[encoded data removed]",
            "text/plain": [
              "<Figure size 432x288 with 1 Axes>"
            ]
          },
          "metadata": {
            "tags": []
          }
        }
      ]
    },
    {
      "cell_type": "markdown",
      "metadata": {
        "id": "fV6uu19zMvX0"
      },
      "source": [
        "##  플롯 조정\n",
        "* color\n",
        "\n",
        "값 색상\n",
        "\n",
        "\"b\" blue\n",
        "\n",
        "\"g\" green\n",
        "\n",
        "\"r\" red\n",
        "\n",
        "\"c\" cyan\n",
        "\n",
        "\"m\" magenta\n",
        "\n",
        "\"y\" yellow\n",
        "\n",
        "\"k\" black\n",
        "\n",
        "\"w\" white\n",
        "\n",
        "* marker\n",
        "\n",
        "값 마킹\n",
        "\n",
        "\".\" point\n",
        "\n",
        "\",\" pixel\n",
        "\n",
        "\"o\" circle\n",
        "\n",
        "\"v\" triangle_down\n",
        "\n",
        "\"^\" triangle_up\n",
        "\n",
        "\"<\" triangle_left\n",
        "\n",
        "\">\" triangle_right\n",
        "\n",
        "\"8\" octagon\n",
        "\n",
        "\"s\" square\n",
        "\n",
        "\"p\" pentagon\n",
        "\n",
        "\"*\" star\n",
        "\n",
        "\"h\" hexagon\n",
        "\n",
        "\"+\" plus\n",
        "\n",
        "\"x\" x\n",
        "\n",
        "\"D\" diamond\n",
        "\n",
        "* line style\n",
        "\n",
        "값 라인 스타일\n",
        "\n",
        "\"-\" solid line\n",
        "\n",
        "\"--\" dashed line\n",
        "\n",
        "\"-.\" dash-dotted line\n",
        "\n",
        "\":\" dotted line\n",
        "\n",
        "\"None\" draw nothing\n"
      ]
    },
    {
      "cell_type": "markdown",
      "metadata": {
        "id": "kyBDJFiGMX3h"
      },
      "source": [
        "* plt.plot(np.random.randn(50)에서 색상은 초록, 마킹모양은 원으로 선스타일은 dashed line으로 그려라"
      ]
    },
    {
      "cell_type": "code",
      "metadata": {
        "id": "KWRSFv_DMvX2",
        "outputId": "4398163e-bb94-4ed3-f529-1041144d2c34",
        "colab": {
          "base_uri": "https://localhost:8080/",
          "height": 290
        }
      },
      "source": [
        "plt.plot(np.random.randn(50), 'go--')"
      ],
      "execution_count": 60,
      "outputs": [
        {
          "output_type": "execute_result",
          "data": {
            "text/plain": [
              "[<matplotlib.lines.Line2D at 0x7fce5c42f650>]"
            ]
          },
          "metadata": {
            "tags": []
          },
          "execution_count": 60
        },
        {
          "output_type": "display_data",
          "data": {
            "image/png": "[encoded data removed]",
            "text/plain": [
              "<Figure size 432x288 with 1 Axes>"
            ]
          },
          "metadata": {
            "tags": []
          }
        }
      ]
    },
    {
      "cell_type": "markdown",
      "metadata": {
        "id": "1H0Z-LfjMzNK"
      },
      "source": [
        "* y=x그래프를 solid green 옵션으로 그려라"
      ]
    },
    {
      "cell_type": "code",
      "metadata": {
        "id": "SFi6-Ut8MzNN",
        "outputId": "92fdd26c-eb5b-4dfa-ee27-5d369cf90348",
        "colab": {
          "base_uri": "https://localhost:8080/",
          "height": 290
        }
      },
      "source": [
        "x = np.random.randn(50)\n",
        "plt.plot(x, x, 'g-')"
      ],
      "execution_count": 63,
      "outputs": [
        {
          "output_type": "execute_result",
          "data": {
            "text/plain": [
              "[<matplotlib.lines.Line2D at 0x7fce5c74b2d0>]"
            ]
          },
          "metadata": {
            "tags": []
          },
          "execution_count": 63
        },
        {
          "output_type": "display_data",
          "data": {
            "image/png": "[encoded data removed]",
            "text/plain": [
              "<Figure size 432x288 with 1 Axes>"
            ]
          },
          "metadata": {
            "tags": []
          }
        }
      ]
    },
    {
      "cell_type": "markdown",
      "metadata": {
        "id": "p-2CkyUXM8he"
      },
      "source": [
        "* y=x+1그래프를 dashed cyan 옵션으로 그려라"
      ]
    },
    {
      "cell_type": "code",
      "metadata": {
        "id": "qVc87VZMM8hg",
        "outputId": "6ea4031a-1184-422b-b0fc-14464f02de11",
        "colab": {
          "base_uri": "https://localhost:8080/",
          "height": 290
        }
      },
      "source": [
        "plt.plot(x, x+1, 'c--')"
      ],
      "execution_count": 64,
      "outputs": [
        {
          "output_type": "execute_result",
          "data": {
            "text/plain": [
              "[<matplotlib.lines.Line2D at 0x7fce5c5ddd50>]"
            ]
          },
          "metadata": {
            "tags": []
          },
          "execution_count": 64
        },
        {
          "output_type": "display_data",
          "data": {
            "image/png": "[encoded data removed]",
            "text/plain": [
              "<Figure size 432x288 with 1 Axes>"
            ]
          },
          "metadata": {
            "tags": []
          }
        }
      ]
    },
    {
      "cell_type": "markdown",
      "metadata": {
        "id": "QZj4OZD_NEQ5"
      },
      "source": [
        "* y=x+2 그래프를 dashdot black 옵션으로 그려라"
      ]
    },
    {
      "cell_type": "code",
      "metadata": {
        "id": "RW646EeRNEQ6",
        "outputId": "f07bcfe7-5099-493a-cf6e-bec7942dadd4",
        "colab": {
          "base_uri": "https://localhost:8080/",
          "height": 290
        }
      },
      "source": [
        "plt.plot(x, x+2, 'k-.')"
      ],
      "execution_count": 65,
      "outputs": [
        {
          "output_type": "execute_result",
          "data": {
            "text/plain": [
              "[<matplotlib.lines.Line2D at 0x7fce5bf87110>]"
            ]
          },
          "metadata": {
            "tags": []
          },
          "execution_count": 65
        },
        {
          "output_type": "display_data",
          "data": {
            "image/png": "[encoded data removed]",
            "text/plain": [
              "<Figure size 432x288 with 1 Axes>"
            ]
          },
          "metadata": {
            "tags": []
          }
        }
      ]
    },
    {
      "cell_type": "markdown",
      "metadata": {
        "id": "UxETcM-fNl-w"
      },
      "source": [
        "* y=x+3그래프를 dotted red 옵션으로 그려라"
      ]
    },
    {
      "cell_type": "code",
      "metadata": {
        "id": "ZQMrrvhbNJ5Q",
        "outputId": "9a652898-e88c-4e1e-8603-f1d0213bf4bf",
        "colab": {
          "base_uri": "https://localhost:8080/",
          "height": 290
        }
      },
      "source": [
        "plt.plot(x, x+3, 'r.')"
      ],
      "execution_count": 67,
      "outputs": [
        {
          "output_type": "execute_result",
          "data": {
            "text/plain": [
              "[<matplotlib.lines.Line2D at 0x7fce5bf2e390>]"
            ]
          },
          "metadata": {
            "tags": []
          },
          "execution_count": 67
        },
        {
          "output_type": "display_data",
          "data": {
            "image/png": "[encoded data removed]",
            "text/plain": [
              "<Figure size 432x288 with 1 Axes>"
            ]
          },
          "metadata": {
            "tags": []
          }
        }
      ]
    },
    {
      "cell_type": "markdown",
      "metadata": {
        "id": "4ezZWnu4O_yG"
      },
      "source": [
        "* 코사인 그래프를 그리고 x축의 범위를 (-1,11)로 y축의 범위를 (1.5,1.5)으로 설정해라"
      ]
    },
    {
      "cell_type": "code",
      "metadata": {
        "id": "TNNVxVlRPACn",
        "outputId": "c32cad69-de12-47b8-a537-d9b5ee2000dc",
        "colab": {
          "base_uri": "https://localhost:8080/",
          "height": 290
        }
      },
      "source": [
        "x = np.linspace(0, 10, 30)\n",
        "plt.plot(x, np.cos(x))\n",
        "plt.xlim(-1, 11)\n",
        "plt.ylim(-1.5, 1.5)"
      ],
      "execution_count": 70,
      "outputs": [
        {
          "output_type": "execute_result",
          "data": {
            "text/plain": [
              "(-1.5, 1.5)"
            ]
          },
          "metadata": {
            "tags": []
          },
          "execution_count": 70
        },
        {
          "output_type": "display_data",
          "data": {
            "image/png": "[encoded data removed]",
            "text/plain": [
              "<Figure size 432x288 with 1 Axes>"
            ]
          },
          "metadata": {
            "tags": []
          }
        }
      ]
    },
    {
      "cell_type": "markdown",
      "metadata": {
        "id": "Wv7UR8SlPAOi"
      },
      "source": [
        "* 자연상수 그래프(np.exp(x)그래프를 그리고 y축의 스케일을 로그로 설정해라"
      ]
    },
    {
      "cell_type": "code",
      "metadata": {
        "id": "oo5xRwzXPAOj",
        "outputId": "29b29499-517e-41ac-8a2d-3b7842ed7c2d",
        "colab": {
          "base_uri": "https://localhost:8080/",
          "height": 275
        }
      },
      "source": [
        "plt.plot(x, np.exp(-x))\n",
        "plt.yscale(\"log\")"
      ],
      "execution_count": 71,
      "outputs": [
        {
          "output_type": "display_data",
          "data": {
            "image/png": "[encoded data removed]",
            "text/plain": [
              "<Figure size 432x288 with 1 Axes>"
            ]
          },
          "metadata": {
            "tags": []
          }
        }
      ]
    },
    {
      "cell_type": "markdown",
      "metadata": {
        "id": "K_du-yBjh8Gz"
      },
      "source": [
        "* 사인그래프를 그리고 축의 레이블를 a sine curve로 지정하고 x축의 레이블을 x, y축의 레이블을 sin(x)라 설정해라"
      ]
    },
    {
      "cell_type": "code",
      "metadata": {
        "id": "60clgNFPj_XN",
        "outputId": "d12d5d64-b070-4578-8d37-e5cf0d3a8db1",
        "colab": {
          "base_uri": "https://localhost:8080/",
          "height": 314
        }
      },
      "source": [
        "plt.plot(x, np.sin(x))\n",
        "plt.title(\"a sine curve\")\n",
        "plt.xlabel(\"x\")\n",
        "plt.ylabel(\"sin(x)\")"
      ],
      "execution_count": 72,
      "outputs": [
        {
          "output_type": "execute_result",
          "data": {
            "text/plain": [
              "Text(0, 0.5, 'sin(x)')"
            ]
          },
          "metadata": {
            "tags": []
          },
          "execution_count": 72
        },
        {
          "output_type": "display_data",
          "data": {
            "image/png": "[encoded data removed]",
            "text/plain": [
              "<Figure size 432x288 with 1 Axes>"
            ]
          },
          "metadata": {
            "tags": []
          }
        }
      ]
    },
    {
      "cell_type": "markdown",
      "metadata": {
        "id": "XtjJ_JSBPAg8"
      },
      "source": [
        "* 사인그래프를 그리고 옵션을 dash green , 레이블을 'sin(x)'로 \n",
        "* 사인그래프를 그리고 옵션을 dott blue , 레이블을 'cos(x)'로\n",
        "* 두그래프의 x축의 범위를 동기화\n",
        "* 그래프의 제목을 'curves of sine and cosine'\n",
        "* x레이블을 'x'로\n",
        "* 범례표시해라"
      ]
    },
    {
      "cell_type": "code",
      "metadata": {
        "id": "aJST_ZDnPAg_",
        "outputId": "931060c5-59d4-4b28-9ec4-f983b9b8f264",
        "colab": {
          "base_uri": "https://localhost:8080/",
          "height": 297
        }
      },
      "source": [
        "plt.plot(x, np.sin(x), '-g', label='sin(x)')\n",
        "plt.plot(x, np.cos(x), ':b', label='cos(x)')\n",
        "plt.axis('equal')\n",
        "plt.title('curves of sine and cosine')\n",
        "plt.xlabel('x')\n",
        "plt.legend();"
      ],
      "execution_count": 83,
      "outputs": [
        {
          "output_type": "display_data",
          "data": {
            "image/png": "[encoded data removed]",
            "text/plain": [
              "<Figure size 432x288 with 1 Axes>"
            ]
          },
          "metadata": {
            "tags": []
          }
        }
      ]
    }
  ]
}