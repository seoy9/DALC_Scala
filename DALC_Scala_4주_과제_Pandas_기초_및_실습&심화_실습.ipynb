{
  "nbformat": 4,
  "nbformat_minor": 0,
  "metadata": {
    "colab": {
      "name": "Untitled1.ipynb",
      "provenance": [],
      "authorship_tag": "ABX9TyMX4rHKYe4JecdFC94T6fqj",
      "include_colab_link": true
    },
    "kernelspec": {
      "name": "python3",
      "display_name": "Python 3"
    },
    "language_info": {
      "name": "python"
    }
  },
  "cells": [
    {
      "cell_type": "markdown",
      "metadata": {
        "id": "view-in-github",
        "colab_type": "text"
      },
      "source": [
        "<a href=\"https://colab.research.google.com/github/seoy9/DALC_Scala/blob/main/DALC_Scala_4%EC%A3%BC_%EA%B3%BC%EC%A0%9C_Pandas_%EA%B8%B0%EC%B4%88_%EB%B0%8F_%EC%8B%A4%EC%8A%B5%26%EC%8B%AC%ED%99%94_%EC%8B%A4%EC%8A%B5.ipynb\" target=\"_parent\"><img src=\"https://colab.research.google.com/assets/colab-badge.svg\" alt=\"Open In Colab\"/></a>"
      ]
    },
    {
      "cell_type": "markdown",
      "metadata": {
        "id": "71_qV3bc6G7u"
      },
      "source": [
        "# Pandas 기초 및 실습"
      ]
    },
    {
      "cell_type": "markdown",
      "metadata": {
        "id": "-3zu5CCG6hi8"
      },
      "source": [
        "## 3-1 Pandas로 데이터 가공하기"
      ]
    },
    {
      "cell_type": "markdown",
      "metadata": {
        "id": "GMASo7yX6s-Y"
      },
      "source": [
        "### 1. Pandas의 사용법\n",
        "</br>\n",
        "\n",
        "##### 1) Pandas 설치\n",
        "[ __Pandas 개요__ ]\n",
        "+ 정의\n",
        "  + 데이터의 형태와 속성이 다양\n",
        "  + 다양한 데이터를 일관성 있게 동일한 형태로 통합 필요\n",
        "  + Pandas 라이브러리\n",
        "+ 특징\n",
        "  + 서로 다은 유형의 데이터를 공통의 형식으로 정리\n",
        "  + 1차원 배열인 Series, 2차원 배열인 DataFrame 제공\n",
        "  + 고수준의 연산 수행 가능"
      ]
    },
    {
      "cell_type": "code",
      "metadata": {
        "colab": {
          "base_uri": "https://localhost:8080/",
          "height": 35
        },
        "id": "46IKCAaB8Bw-",
        "outputId": "933cfe2c-30aa-45ca-9357-661f7cd31f19"
      },
      "source": [
        "# Pandas 임포트 및 버전 확인\n",
        "import pandas\n",
        "pandas.__version__"
      ],
      "execution_count": 1,
      "outputs": [
        {
          "output_type": "execute_result",
          "data": {
            "application/vnd.google.colaboratory.intrinsic+json": {
              "type": "string"
            },
            "text/plain": [
              "'1.1.5'"
            ]
          },
          "metadata": {
            "tags": []
          },
          "execution_count": 1
        }
      ]
    },
    {
      "cell_type": "code",
      "metadata": {
        "id": "ceqtWP4z8U_L"
      },
      "source": [
        "import numpy as np\n",
        "import pandas as pd"
      ],
      "execution_count": 2,
      "outputs": []
    },
    {
      "cell_type": "markdown",
      "metadata": {
        "id": "FmWydnCi8cpx"
      },
      "source": [
        "##### 2) Pandas 객체\n",
        "</br>\n",
        "\n",
        "[ __Series와 DataFrame의 구조__ ]\n",
        "</br>\n",
        "\n",
        "+ Series 구조\n",
        "![시리즈 구조](https://github.com/seoy9/DALC_Scala/blob/2b8fc72e975d827c4d69d7aee0c07c36bb1fb8ca/%EB%8D%B0%EC%9D%B4%ED%84%B0%EA%B5%AC%EC%A1%B0.JPG?raw=true)\n",
        "</br>\n",
        "\n",
        "+ DataFrame 구조\n",
        "</br>![데이터프레임 구조](https://github.com/seoy9/DALC_Scala/blob/aac429c14bf486f515d0e34b5142432eb7ac8e33/%EB%8D%B0%EC%9D%B4%ED%84%B0%ED%94%84%EB%A0%88%EC%9E%84%EA%B5%AC%EC%A1%B0.JPG?raw=true)\n",
        "  + 통합 인덱싱을 활용하여 데이터 조작 가능\n",
        "\n",
        "</br>\n",
        "\n",
        "##### 3) Series"
      ]
    },
    {
      "cell_type": "code",
      "metadata": {
        "colab": {
          "base_uri": "https://localhost:8080/"
        },
        "id": "dMjG2U66-B26",
        "outputId": "244dcb86-68b5-4e45-cd14-2c6ed6606856"
      },
      "source": [
        "# 리스트를 인자로 사용하여 시리즈 객체 생성\n",
        "data = pd.Series([0.25, 0.5, 0.75, 1.0])\n",
        "data"
      ],
      "execution_count": 3,
      "outputs": [
        {
          "output_type": "execute_result",
          "data": {
            "text/plain": [
              "0    0.25\n",
              "1    0.50\n",
              "2    0.75\n",
              "3    1.00\n",
              "dtype: float64"
            ]
          },
          "metadata": {
            "tags": []
          },
          "execution_count": 3
        }
      ]
    },
    {
      "cell_type": "code",
      "metadata": {
        "colab": {
          "base_uri": "https://localhost:8080/"
        },
        "id": "K0Dcgzy9-fAV",
        "outputId": "ad95f9f7-dfe9-4683-997a-bffdada526df"
      },
      "source": [
        "# values으로 접근 가능\n",
        "data.values"
      ],
      "execution_count": 5,
      "outputs": [
        {
          "output_type": "execute_result",
          "data": {
            "text/plain": [
              "RangeIndex(start=0, stop=4, step=1)"
            ]
          },
          "metadata": {
            "tags": []
          },
          "execution_count": 5
        }
      ]
    },
    {
      "cell_type": "code",
      "metadata": {
        "colab": {
          "base_uri": "https://localhost:8080/"
        },
        "id": "K35Bm-5x-pB1",
        "outputId": "ad1ef0fc-3220-4543-f411-b7fa119e6128"
      },
      "source": [
        "# index 속성으로 접근 가능\n",
        "data.index"
      ],
      "execution_count": 7,
      "outputs": [
        {
          "output_type": "execute_result",
          "data": {
            "text/plain": [
              "RangeIndex(start=0, stop=4, step=1)"
            ]
          },
          "metadata": {
            "tags": []
          },
          "execution_count": 7
        }
      ]
    },
    {
      "cell_type": "code",
      "metadata": {
        "colab": {
          "base_uri": "https://localhost:8080/"
        },
        "id": "L8DYkdBS-x3v",
        "outputId": "d4241183-3c05-4ce8-c97c-37007866e4fb"
      },
      "source": [
        "# 파이썬 대괄호 표기법을 통해 접근 가능\n",
        "data[1]"
      ],
      "execution_count": 8,
      "outputs": [
        {
          "output_type": "execute_result",
          "data": {
            "text/plain": [
              "0.5"
            ]
          },
          "metadata": {
            "tags": []
          },
          "execution_count": 8
        }
      ]
    },
    {
      "cell_type": "code",
      "metadata": {
        "colab": {
          "base_uri": "https://localhost:8080/"
        },
        "id": "QXgMA3mW-2v5",
        "outputId": "9f856b4d-0a7c-4594-9061-14692d86e595"
      },
      "source": [
        "# 인덱스와 슬라이싱 방식 사용\n",
        "data[1:3]"
      ],
      "execution_count": 9,
      "outputs": [
        {
          "output_type": "execute_result",
          "data": {
            "text/plain": [
              "1    0.50\n",
              "2    0.75\n",
              "dtype: float64"
            ]
          },
          "metadata": {
            "tags": []
          },
          "execution_count": 9
        }
      ]
    },
    {
      "cell_type": "markdown",
      "metadata": {
        "id": "_YctKuWS_CHO"
      },
      "source": [
        "[ __Index__ ]\n",
        "+ 정수일 필요가 없으며 어떤 타입의 값으로도 구성 가능"
      ]
    },
    {
      "cell_type": "code",
      "metadata": {
        "colab": {
          "base_uri": "https://localhost:8080/"
        },
        "id": "zw_Pi17a_JWt",
        "outputId": "0be0c306-0e42-42fe-977a-dc8d3caeaf87"
      },
      "source": [
        "# 인덱스로 문자열 사용 가능\n",
        "data = pd.Series([0.25, 0.5, 0.75, 1.0], index=['a', 'b', 'c', 'd'])\n",
        "data"
      ],
      "execution_count": 10,
      "outputs": [
        {
          "output_type": "execute_result",
          "data": {
            "text/plain": [
              "a    0.25\n",
              "b    0.50\n",
              "c    0.75\n",
              "d    1.00\n",
              "dtype: float64"
            ]
          },
          "metadata": {
            "tags": []
          },
          "execution_count": 10
        }
      ]
    },
    {
      "cell_type": "code",
      "metadata": {
        "colab": {
          "base_uri": "https://localhost:8080/"
        },
        "id": "1ikyECyu_fpJ",
        "outputId": "68c45d19-fe48-4ccb-d535-3490e83a42bd"
      },
      "source": [
        "# 문자열 인덱스로 항목에 접근 가능\n",
        "data['b']"
      ],
      "execution_count": 11,
      "outputs": [
        {
          "output_type": "execute_result",
          "data": {
            "text/plain": [
              "0.5"
            ]
          },
          "metadata": {
            "tags": []
          },
          "execution_count": 11
        }
      ]
    },
    {
      "cell_type": "code",
      "metadata": {
        "colab": {
          "base_uri": "https://localhost:8080/"
        },
        "id": "HnaKR0Wu_p4W",
        "outputId": "4ef2bd5f-b874-4efb-a97d-28afbed1baa9"
      },
      "source": [
        "# 인접하지 않거나 연속적이지 않은 인덱스를 사용하여 임의로 만들 수 있음\n",
        "data = pd.Series([0.25, 0.5, 0.75, 1.0], index=[2, 5, 3, 7])\n",
        "data"
      ],
      "execution_count": 12,
      "outputs": [
        {
          "output_type": "execute_result",
          "data": {
            "text/plain": [
              "2    0.25\n",
              "5    0.50\n",
              "3    0.75\n",
              "7    1.00\n",
              "dtype: float64"
            ]
          },
          "metadata": {
            "tags": []
          },
          "execution_count": 12
        }
      ]
    },
    {
      "cell_type": "code",
      "metadata": {
        "colab": {
          "base_uri": "https://localhost:8080/"
        },
        "id": "Cf7MY8SY_4R-",
        "outputId": "ae121fbe-3031-4e68-a38b-6957854c41ed"
      },
      "source": [
        "data[5]"
      ],
      "execution_count": 13,
      "outputs": [
        {
          "output_type": "execute_result",
          "data": {
            "text/plain": [
              "0.5"
            ]
          },
          "metadata": {
            "tags": []
          },
          "execution_count": 13
        }
      ]
    },
    {
      "cell_type": "markdown",
      "metadata": {
        "id": "VnTOnDlVAoUq"
      },
      "source": [
        "[ __딕셔너리 구조__ ]\n",
        "+ 일련의 임의의 값에 임의의 키를 매핑하는 구조\n",
        "+ 타입이 지정된 키를 일련의 타입이 지정된 값에 매핑하는 구조\n",
        "\n",
        "</br>\n",
        "\n",
        "![딕셔너리 구조](https://github.com/seoy9/DALC_Scala/blob/5559b6554338c749250b7e4d4212f8ee748cc943/%EB%94%95%EC%85%94%EB%84%88%EB%A6%AC%EA%B5%AC%EC%A1%B0.JPG?raw=true)\n",
        "- 딕셔너리 키(k)는 Series의 __인덱스__로 대응\n",
        "- 딕셔너리 값(v)는 Series의 __데이터 값__으로 변환\n",
        "\n",
        "</br>\n",
        "\n",
        "[ __딕셔너리로부터 시리즈를 만드는 예__ ]"
      ]
    },
    {
      "cell_type": "code",
      "metadata": {
        "colab": {
          "base_uri": "https://localhost:8080/"
        },
        "id": "Dofv9ihEBR0P",
        "outputId": "c913dbe7-a39b-4e25-c729-5f0afa09871e"
      },
      "source": [
        "population_dict = {'California': 38332521, 'Texas': 26448393, 'New York': 19651127, 'Florida': 19552860, 'lllinois': 12882135}\n",
        "# 딕셔너리 정의 = {'키 값': value}\n",
        "population = pd.Series(population_dict)\n",
        "population"
      ],
      "execution_count": 69,
      "outputs": [
        {
          "output_type": "execute_result",
          "data": {
            "text/plain": [
              "California    38332521\n",
              "Texas         26448393\n",
              "New York      19651127\n",
              "Florida       19552860\n",
              "lllinois      12882135\n",
              "dtype: int64"
            ]
          },
          "metadata": {
            "tags": []
          },
          "execution_count": 69
        }
      ]
    },
    {
      "cell_type": "code",
      "metadata": {
        "colab": {
          "base_uri": "https://localhost:8080/"
        },
        "id": "sa-JK_EHCN04",
        "outputId": "cbfcbd44-5249-4924-ca73-6a087461f6ed"
      },
      "source": [
        "# 인덱스가 정렬된 키에서 추출되는 경우 값을 불러옴\n",
        "population['California']"
      ],
      "execution_count": 71,
      "outputs": [
        {
          "output_type": "execute_result",
          "data": {
            "text/plain": [
              "38332521"
            ]
          },
          "metadata": {
            "tags": []
          },
          "execution_count": 71
        }
      ]
    },
    {
      "cell_type": "code",
      "metadata": {
        "colab": {
          "base_uri": "https://localhost:8080/",
          "height": 650
        },
        "id": "wvuvjl5QCWrQ",
        "outputId": "b74a6fe2-88e5-4e0f-b140-75c0207b83a0"
      },
      "source": [
        "# 슬라이싱 같이 배열 스타일의 연산 지원\n",
        "population['California':'lllinols']"
      ],
      "execution_count": 72,
      "outputs": [
        {
          "output_type": "error",
          "ename": "KeyError",
          "evalue": "ignored",
          "traceback": [
            "\u001b[0;31m---------------------------------------------------------------------------\u001b[0m",
            "\u001b[0;31mKeyError\u001b[0m                                  Traceback (most recent call last)",
            "\u001b[0;32m/usr/local/lib/python3.7/dist-packages/pandas/core/indexes/base.py\u001b[0m in \u001b[0;36mget_loc\u001b[0;34m(self, key, method, tolerance)\u001b[0m\n\u001b[1;32m   2897\u001b[0m             \u001b[0;32mtry\u001b[0m\u001b[0;34m:\u001b[0m\u001b[0;34m\u001b[0m\u001b[0;34m\u001b[0m\u001b[0m\n\u001b[0;32m-> 2898\u001b[0;31m                 \u001b[0;32mreturn\u001b[0m \u001b[0mself\u001b[0m\u001b[0;34m.\u001b[0m\u001b[0m_engine\u001b[0m\u001b[0;34m.\u001b[0m\u001b[0mget_loc\u001b[0m\u001b[0;34m(\u001b[0m\u001b[0mcasted_key\u001b[0m\u001b[0;34m)\u001b[0m\u001b[0;34m\u001b[0m\u001b[0;34m\u001b[0m\u001b[0m\n\u001b[0m\u001b[1;32m   2899\u001b[0m             \u001b[0;32mexcept\u001b[0m \u001b[0mKeyError\u001b[0m \u001b[0;32mas\u001b[0m \u001b[0merr\u001b[0m\u001b[0;34m:\u001b[0m\u001b[0;34m\u001b[0m\u001b[0;34m\u001b[0m\u001b[0m\n",
            "\u001b[0;32mpandas/_libs/index.pyx\u001b[0m in \u001b[0;36mpandas._libs.index.IndexEngine.get_loc\u001b[0;34m()\u001b[0m\n",
            "\u001b[0;32mpandas/_libs/index.pyx\u001b[0m in \u001b[0;36mpandas._libs.index.IndexEngine.get_loc\u001b[0;34m()\u001b[0m\n",
            "\u001b[0;32mpandas/_libs/hashtable_class_helper.pxi\u001b[0m in \u001b[0;36mpandas._libs.hashtable.PyObjectHashTable.get_item\u001b[0;34m()\u001b[0m\n",
            "\u001b[0;32mpandas/_libs/hashtable_class_helper.pxi\u001b[0m in \u001b[0;36mpandas._libs.hashtable.PyObjectHashTable.get_item\u001b[0;34m()\u001b[0m\n",
            "\u001b[0;31mKeyError\u001b[0m: 'lllinols'",
            "\nThe above exception was the direct cause of the following exception:\n",
            "\u001b[0;31mKeyError\u001b[0m                                  Traceback (most recent call last)",
            "\u001b[0;32m<ipython-input-72-3dcd663fa97c>\u001b[0m in \u001b[0;36m<module>\u001b[0;34m()\u001b[0m\n\u001b[1;32m      1\u001b[0m \u001b[0;31m# 슬라이싱 같이 배열 스타일의 연산 지원\u001b[0m\u001b[0;34m\u001b[0m\u001b[0;34m\u001b[0m\u001b[0;34m\u001b[0m\u001b[0m\n\u001b[0;32m----> 2\u001b[0;31m \u001b[0mpopulation\u001b[0m\u001b[0;34m[\u001b[0m\u001b[0;34m'California'\u001b[0m\u001b[0;34m:\u001b[0m\u001b[0;34m'lllinols'\u001b[0m\u001b[0;34m]\u001b[0m\u001b[0;34m\u001b[0m\u001b[0;34m\u001b[0m\u001b[0m\n\u001b[0m",
            "\u001b[0;32m/usr/local/lib/python3.7/dist-packages/pandas/core/series.py\u001b[0m in \u001b[0;36m__getitem__\u001b[0;34m(self, key)\u001b[0m\n\u001b[1;32m    904\u001b[0m             \u001b[0;32mreturn\u001b[0m \u001b[0mself\u001b[0m\u001b[0;34m.\u001b[0m\u001b[0m_get_values\u001b[0m\u001b[0;34m(\u001b[0m\u001b[0mkey\u001b[0m\u001b[0;34m)\u001b[0m\u001b[0;34m\u001b[0m\u001b[0;34m\u001b[0m\u001b[0m\n\u001b[1;32m    905\u001b[0m \u001b[0;34m\u001b[0m\u001b[0m\n\u001b[0;32m--> 906\u001b[0;31m         \u001b[0;32mreturn\u001b[0m \u001b[0mself\u001b[0m\u001b[0;34m.\u001b[0m\u001b[0m_get_with\u001b[0m\u001b[0;34m(\u001b[0m\u001b[0mkey\u001b[0m\u001b[0;34m)\u001b[0m\u001b[0;34m\u001b[0m\u001b[0;34m\u001b[0m\u001b[0m\n\u001b[0m\u001b[1;32m    907\u001b[0m \u001b[0;34m\u001b[0m\u001b[0m\n\u001b[1;32m    908\u001b[0m     \u001b[0;32mdef\u001b[0m \u001b[0m_get_with\u001b[0m\u001b[0;34m(\u001b[0m\u001b[0mself\u001b[0m\u001b[0;34m,\u001b[0m \u001b[0mkey\u001b[0m\u001b[0;34m)\u001b[0m\u001b[0;34m:\u001b[0m\u001b[0;34m\u001b[0m\u001b[0;34m\u001b[0m\u001b[0m\n",
            "\u001b[0;32m/usr/local/lib/python3.7/dist-packages/pandas/core/series.py\u001b[0m in \u001b[0;36m_get_with\u001b[0;34m(self, key)\u001b[0m\n\u001b[1;32m    911\u001b[0m             \u001b[0;31m# _convert_slice_indexer to determine if this slice is positional\u001b[0m\u001b[0;34m\u001b[0m\u001b[0;34m\u001b[0m\u001b[0;34m\u001b[0m\u001b[0m\n\u001b[1;32m    912\u001b[0m             \u001b[0;31m#  or label based, and if the latter, convert to positional\u001b[0m\u001b[0;34m\u001b[0m\u001b[0;34m\u001b[0m\u001b[0;34m\u001b[0m\u001b[0m\n\u001b[0;32m--> 913\u001b[0;31m             \u001b[0mslobj\u001b[0m \u001b[0;34m=\u001b[0m \u001b[0mself\u001b[0m\u001b[0;34m.\u001b[0m\u001b[0mindex\u001b[0m\u001b[0;34m.\u001b[0m\u001b[0m_convert_slice_indexer\u001b[0m\u001b[0;34m(\u001b[0m\u001b[0mkey\u001b[0m\u001b[0;34m,\u001b[0m \u001b[0mkind\u001b[0m\u001b[0;34m=\u001b[0m\u001b[0;34m\"getitem\"\u001b[0m\u001b[0;34m)\u001b[0m\u001b[0;34m\u001b[0m\u001b[0;34m\u001b[0m\u001b[0m\n\u001b[0m\u001b[1;32m    914\u001b[0m             \u001b[0;32mreturn\u001b[0m \u001b[0mself\u001b[0m\u001b[0;34m.\u001b[0m\u001b[0m_slice\u001b[0m\u001b[0;34m(\u001b[0m\u001b[0mslobj\u001b[0m\u001b[0;34m)\u001b[0m\u001b[0;34m\u001b[0m\u001b[0;34m\u001b[0m\u001b[0m\n\u001b[1;32m    915\u001b[0m         \u001b[0;32melif\u001b[0m \u001b[0misinstance\u001b[0m\u001b[0;34m(\u001b[0m\u001b[0mkey\u001b[0m\u001b[0;34m,\u001b[0m \u001b[0mABCDataFrame\u001b[0m\u001b[0;34m)\u001b[0m\u001b[0;34m:\u001b[0m\u001b[0;34m\u001b[0m\u001b[0;34m\u001b[0m\u001b[0m\n",
            "\u001b[0;32m/usr/local/lib/python3.7/dist-packages/pandas/core/indexes/base.py\u001b[0m in \u001b[0;36m_convert_slice_indexer\u001b[0;34m(self, key, kind)\u001b[0m\n\u001b[1;32m   3191\u001b[0m             \u001b[0mindexer\u001b[0m \u001b[0;34m=\u001b[0m \u001b[0mkey\u001b[0m\u001b[0;34m\u001b[0m\u001b[0;34m\u001b[0m\u001b[0m\n\u001b[1;32m   3192\u001b[0m         \u001b[0;32melse\u001b[0m\u001b[0;34m:\u001b[0m\u001b[0;34m\u001b[0m\u001b[0;34m\u001b[0m\u001b[0m\n\u001b[0;32m-> 3193\u001b[0;31m             \u001b[0mindexer\u001b[0m \u001b[0;34m=\u001b[0m \u001b[0mself\u001b[0m\u001b[0;34m.\u001b[0m\u001b[0mslice_indexer\u001b[0m\u001b[0;34m(\u001b[0m\u001b[0mstart\u001b[0m\u001b[0;34m,\u001b[0m \u001b[0mstop\u001b[0m\u001b[0;34m,\u001b[0m \u001b[0mstep\u001b[0m\u001b[0;34m,\u001b[0m \u001b[0mkind\u001b[0m\u001b[0;34m=\u001b[0m\u001b[0mkind\u001b[0m\u001b[0;34m)\u001b[0m\u001b[0;34m\u001b[0m\u001b[0;34m\u001b[0m\u001b[0m\n\u001b[0m\u001b[1;32m   3194\u001b[0m \u001b[0;34m\u001b[0m\u001b[0m\n\u001b[1;32m   3195\u001b[0m         \u001b[0;32mreturn\u001b[0m \u001b[0mindexer\u001b[0m\u001b[0;34m\u001b[0m\u001b[0;34m\u001b[0m\u001b[0m\n",
            "\u001b[0;32m/usr/local/lib/python3.7/dist-packages/pandas/core/indexes/base.py\u001b[0m in \u001b[0;36mslice_indexer\u001b[0;34m(self, start, end, step, kind)\u001b[0m\n\u001b[1;32m   4967\u001b[0m         \u001b[0mslice\u001b[0m\u001b[0;34m(\u001b[0m\u001b[0;36m1\u001b[0m\u001b[0;34m,\u001b[0m \u001b[0;36m3\u001b[0m\u001b[0;34m,\u001b[0m \u001b[0;32mNone\u001b[0m\u001b[0;34m)\u001b[0m\u001b[0;34m\u001b[0m\u001b[0;34m\u001b[0m\u001b[0m\n\u001b[1;32m   4968\u001b[0m         \"\"\"\n\u001b[0;32m-> 4969\u001b[0;31m         \u001b[0mstart_slice\u001b[0m\u001b[0;34m,\u001b[0m \u001b[0mend_slice\u001b[0m \u001b[0;34m=\u001b[0m \u001b[0mself\u001b[0m\u001b[0;34m.\u001b[0m\u001b[0mslice_locs\u001b[0m\u001b[0;34m(\u001b[0m\u001b[0mstart\u001b[0m\u001b[0;34m,\u001b[0m \u001b[0mend\u001b[0m\u001b[0;34m,\u001b[0m \u001b[0mstep\u001b[0m\u001b[0;34m=\u001b[0m\u001b[0mstep\u001b[0m\u001b[0;34m,\u001b[0m \u001b[0mkind\u001b[0m\u001b[0;34m=\u001b[0m\u001b[0mkind\u001b[0m\u001b[0;34m)\u001b[0m\u001b[0;34m\u001b[0m\u001b[0;34m\u001b[0m\u001b[0m\n\u001b[0m\u001b[1;32m   4970\u001b[0m \u001b[0;34m\u001b[0m\u001b[0m\n\u001b[1;32m   4971\u001b[0m         \u001b[0;31m# return a slice\u001b[0m\u001b[0;34m\u001b[0m\u001b[0;34m\u001b[0m\u001b[0;34m\u001b[0m\u001b[0m\n",
            "\u001b[0;32m/usr/local/lib/python3.7/dist-packages/pandas/core/indexes/base.py\u001b[0m in \u001b[0;36mslice_locs\u001b[0;34m(self, start, end, step, kind)\u001b[0m\n\u001b[1;32m   5176\u001b[0m         \u001b[0mend_slice\u001b[0m \u001b[0;34m=\u001b[0m \u001b[0;32mNone\u001b[0m\u001b[0;34m\u001b[0m\u001b[0;34m\u001b[0m\u001b[0m\n\u001b[1;32m   5177\u001b[0m         \u001b[0;32mif\u001b[0m \u001b[0mend\u001b[0m \u001b[0;32mis\u001b[0m \u001b[0;32mnot\u001b[0m \u001b[0;32mNone\u001b[0m\u001b[0;34m:\u001b[0m\u001b[0;34m\u001b[0m\u001b[0;34m\u001b[0m\u001b[0m\n\u001b[0;32m-> 5178\u001b[0;31m             \u001b[0mend_slice\u001b[0m \u001b[0;34m=\u001b[0m \u001b[0mself\u001b[0m\u001b[0;34m.\u001b[0m\u001b[0mget_slice_bound\u001b[0m\u001b[0;34m(\u001b[0m\u001b[0mend\u001b[0m\u001b[0;34m,\u001b[0m \u001b[0;34m\"right\"\u001b[0m\u001b[0;34m,\u001b[0m \u001b[0mkind\u001b[0m\u001b[0;34m)\u001b[0m\u001b[0;34m\u001b[0m\u001b[0;34m\u001b[0m\u001b[0m\n\u001b[0m\u001b[1;32m   5179\u001b[0m         \u001b[0;32mif\u001b[0m \u001b[0mend_slice\u001b[0m \u001b[0;32mis\u001b[0m \u001b[0;32mNone\u001b[0m\u001b[0;34m:\u001b[0m\u001b[0;34m\u001b[0m\u001b[0;34m\u001b[0m\u001b[0m\n\u001b[1;32m   5180\u001b[0m             \u001b[0mend_slice\u001b[0m \u001b[0;34m=\u001b[0m \u001b[0mlen\u001b[0m\u001b[0;34m(\u001b[0m\u001b[0mself\u001b[0m\u001b[0;34m)\u001b[0m\u001b[0;34m\u001b[0m\u001b[0;34m\u001b[0m\u001b[0m\n",
            "\u001b[0;32m/usr/local/lib/python3.7/dist-packages/pandas/core/indexes/base.py\u001b[0m in \u001b[0;36mget_slice_bound\u001b[0;34m(self, label, side, kind)\u001b[0m\n\u001b[1;32m   5090\u001b[0m             \u001b[0;32mexcept\u001b[0m \u001b[0mValueError\u001b[0m\u001b[0;34m:\u001b[0m\u001b[0;34m\u001b[0m\u001b[0;34m\u001b[0m\u001b[0m\n\u001b[1;32m   5091\u001b[0m                 \u001b[0;31m# raise the original KeyError\u001b[0m\u001b[0;34m\u001b[0m\u001b[0;34m\u001b[0m\u001b[0;34m\u001b[0m\u001b[0m\n\u001b[0;32m-> 5092\u001b[0;31m                 \u001b[0;32mraise\u001b[0m \u001b[0merr\u001b[0m\u001b[0;34m\u001b[0m\u001b[0;34m\u001b[0m\u001b[0m\n\u001b[0m\u001b[1;32m   5093\u001b[0m \u001b[0;34m\u001b[0m\u001b[0m\n\u001b[1;32m   5094\u001b[0m         \u001b[0;32mif\u001b[0m \u001b[0misinstance\u001b[0m\u001b[0;34m(\u001b[0m\u001b[0mslc\u001b[0m\u001b[0;34m,\u001b[0m \u001b[0mnp\u001b[0m\u001b[0;34m.\u001b[0m\u001b[0mndarray\u001b[0m\u001b[0;34m)\u001b[0m\u001b[0;34m:\u001b[0m\u001b[0;34m\u001b[0m\u001b[0;34m\u001b[0m\u001b[0m\n",
            "\u001b[0;32m/usr/local/lib/python3.7/dist-packages/pandas/core/indexes/base.py\u001b[0m in \u001b[0;36mget_slice_bound\u001b[0;34m(self, label, side, kind)\u001b[0m\n\u001b[1;32m   5084\u001b[0m         \u001b[0;31m# we need to look up the label\u001b[0m\u001b[0;34m\u001b[0m\u001b[0;34m\u001b[0m\u001b[0;34m\u001b[0m\u001b[0m\n\u001b[1;32m   5085\u001b[0m         \u001b[0;32mtry\u001b[0m\u001b[0;34m:\u001b[0m\u001b[0;34m\u001b[0m\u001b[0;34m\u001b[0m\u001b[0m\n\u001b[0;32m-> 5086\u001b[0;31m             \u001b[0mslc\u001b[0m \u001b[0;34m=\u001b[0m \u001b[0mself\u001b[0m\u001b[0;34m.\u001b[0m\u001b[0mget_loc\u001b[0m\u001b[0;34m(\u001b[0m\u001b[0mlabel\u001b[0m\u001b[0;34m)\u001b[0m\u001b[0;34m\u001b[0m\u001b[0;34m\u001b[0m\u001b[0m\n\u001b[0m\u001b[1;32m   5087\u001b[0m         \u001b[0;32mexcept\u001b[0m \u001b[0mKeyError\u001b[0m \u001b[0;32mas\u001b[0m \u001b[0merr\u001b[0m\u001b[0;34m:\u001b[0m\u001b[0;34m\u001b[0m\u001b[0;34m\u001b[0m\u001b[0m\n\u001b[1;32m   5088\u001b[0m             \u001b[0;32mtry\u001b[0m\u001b[0;34m:\u001b[0m\u001b[0;34m\u001b[0m\u001b[0;34m\u001b[0m\u001b[0m\n",
            "\u001b[0;32m/usr/local/lib/python3.7/dist-packages/pandas/core/indexes/base.py\u001b[0m in \u001b[0;36mget_loc\u001b[0;34m(self, key, method, tolerance)\u001b[0m\n\u001b[1;32m   2898\u001b[0m                 \u001b[0;32mreturn\u001b[0m \u001b[0mself\u001b[0m\u001b[0;34m.\u001b[0m\u001b[0m_engine\u001b[0m\u001b[0;34m.\u001b[0m\u001b[0mget_loc\u001b[0m\u001b[0;34m(\u001b[0m\u001b[0mcasted_key\u001b[0m\u001b[0;34m)\u001b[0m\u001b[0;34m\u001b[0m\u001b[0;34m\u001b[0m\u001b[0m\n\u001b[1;32m   2899\u001b[0m             \u001b[0;32mexcept\u001b[0m \u001b[0mKeyError\u001b[0m \u001b[0;32mas\u001b[0m \u001b[0merr\u001b[0m\u001b[0;34m:\u001b[0m\u001b[0;34m\u001b[0m\u001b[0;34m\u001b[0m\u001b[0m\n\u001b[0;32m-> 2900\u001b[0;31m                 \u001b[0;32mraise\u001b[0m \u001b[0mKeyError\u001b[0m\u001b[0;34m(\u001b[0m\u001b[0mkey\u001b[0m\u001b[0;34m)\u001b[0m \u001b[0;32mfrom\u001b[0m \u001b[0merr\u001b[0m\u001b[0;34m\u001b[0m\u001b[0;34m\u001b[0m\u001b[0m\n\u001b[0m\u001b[1;32m   2901\u001b[0m \u001b[0;34m\u001b[0m\u001b[0m\n\u001b[1;32m   2902\u001b[0m         \u001b[0;32mif\u001b[0m \u001b[0mtolerance\u001b[0m \u001b[0;32mis\u001b[0m \u001b[0;32mnot\u001b[0m \u001b[0;32mNone\u001b[0m\u001b[0;34m:\u001b[0m\u001b[0;34m\u001b[0m\u001b[0;34m\u001b[0m\u001b[0m\n",
            "\u001b[0;31mKeyError\u001b[0m: 'lllinols'"
          ]
        }
      ]
    },
    {
      "cell_type": "markdown",
      "metadata": {
        "id": "TxVAqtv6CjBo"
      },
      "source": [
        "[ __객체 구성하기__ ]\n",
        "+ pd.Series(data, index=index)\n",
        "   + index는 옵션이기 때문에 생략 가능  \n",
        "   기본값 : 0부터 연속된 정수수"
      ]
    },
    {
      "cell_type": "code",
      "metadata": {
        "colab": {
          "base_uri": "https://localhost:8080/"
        },
        "id": "3wTB-qUbC1KE",
        "outputId": "fc893c1c-67ee-41db-8f7a-d21f95852901"
      },
      "source": [
        "# data: 리스트 혹은 Numpy 배열, index: 생략 가능\n",
        "pd.Series([2, 4, 6])"
      ],
      "execution_count": 17,
      "outputs": [
        {
          "output_type": "execute_result",
          "data": {
            "text/plain": [
              "0    2\n",
              "1    4\n",
              "2    6\n",
              "dtype: int64"
            ]
          },
          "metadata": {
            "tags": []
          },
          "execution_count": 17
        }
      ]
    },
    {
      "cell_type": "code",
      "metadata": {
        "colab": {
          "base_uri": "https://localhost:8080/"
        },
        "id": "-TynfLHIC9tI",
        "outputId": "d389c500-0211-42dd-ab4a-ebf53a1f11fa"
      },
      "source": [
        "pd.Series(5, index=[100, 200, 300])"
      ],
      "execution_count": 18,
      "outputs": [
        {
          "output_type": "execute_result",
          "data": {
            "text/plain": [
              "100    5\n",
              "200    5\n",
              "300    5\n",
              "dtype: int64"
            ]
          },
          "metadata": {
            "tags": []
          },
          "execution_count": 18
        }
      ]
    },
    {
      "cell_type": "code",
      "metadata": {
        "colab": {
          "base_uri": "https://localhost:8080/"
        },
        "id": "oizFnRTaDDHc",
        "outputId": "487c044f-d1a8-4e2e-ac1a-0ea775a894de"
      },
      "source": [
        "# Data가 딕셔너리일 경우에는 기본적으로 딕셔너리 키로 정렬해서 취함\n",
        "dic_data = {2:'a', 1:'b', 3:'c'}\n",
        "dic_data"
      ],
      "execution_count": 19,
      "outputs": [
        {
          "output_type": "execute_result",
          "data": {
            "text/plain": [
              "{1: 'b', 2: 'a', 3: 'c'}"
            ]
          },
          "metadata": {
            "tags": []
          },
          "execution_count": 19
        }
      ]
    },
    {
      "cell_type": "code",
      "metadata": {
        "colab": {
          "base_uri": "https://localhost:8080/"
        },
        "id": "7lZc8StVDSIk",
        "outputId": "618d7c53-952a-4829-a4fb-c625de006e9a"
      },
      "source": [
        "# Series 객체는 요소 값들이 입력된 순서대로 출력\n",
        "pd.Series({2:'a', 1:'b', 3:'c'})"
      ],
      "execution_count": 20,
      "outputs": [
        {
          "output_type": "execute_result",
          "data": {
            "text/plain": [
              "2    a\n",
              "1    b\n",
              "3    c\n",
              "dtype: object"
            ]
          },
          "metadata": {
            "tags": []
          },
          "execution_count": 20
        }
      ]
    },
    {
      "cell_type": "code",
      "metadata": {
        "colab": {
          "base_uri": "https://localhost:8080/"
        },
        "id": "iMeC5SY3DdUE",
        "outputId": "fd66d7d6-3193-459f-f055-d44acbd1e3a4"
      },
      "source": [
        "# 각각 다른 결과를 얻고 싶으면 인덱스를 명시적으로 설정\n",
        "pd.Series({2:'a', 1:'b', 3:'c'}, index=[3,2])"
      ],
      "execution_count": 22,
      "outputs": [
        {
          "output_type": "execute_result",
          "data": {
            "text/plain": [
              "3    c\n",
              "2    a\n",
              "dtype: object"
            ]
          },
          "metadata": {
            "tags": []
          },
          "execution_count": 22
        }
      ]
    },
    {
      "cell_type": "markdown",
      "metadata": {
        "id": "BdloRiBeDrR3"
      },
      "source": [
        "##### 3) DataFrame\n",
        "</br>\n",
        "\n",
        "[ __구성 방법__ ]\n",
        "</br>\n",
        "\n",
        "![데이터프레임 구조](https://github.com/seoy9/DALC_Scala/blob/5559b6554338c749250b7e4d4212f8ee748cc943/%EB%8D%B0%EC%9D%B4%ED%84%B0%ED%94%84%EB%A0%88%EC%9E%84%EA%B5%AC%EC%A1%B0.JPG?raw=true)\n",
        "+ 열 인덱스 : 열 이름\n",
        "+ 데이터프레임 : 행 인덱스와 열 이름을 갖는 행렬 = __Series 객체의 연속__"
      ]
    },
    {
      "cell_type": "code",
      "metadata": {
        "colab": {
          "base_uri": "https://localhost:8080/"
        },
        "id": "_CQK_gVBEeyI",
        "outputId": "70e768a1-e3ed-4bc4-8468-e8d1fb5d1a3f"
      },
      "source": [
        "area_dict = {'California': 423967, 'Texas': 695662, 'New York': 141297, 'Florida': 170312, 'lllinois': 149995}\n",
        "area = pd.Series(area_dict)\n",
        "area"
      ],
      "execution_count": 73,
      "outputs": [
        {
          "output_type": "execute_result",
          "data": {
            "text/plain": [
              "California    423967\n",
              "Texas         695662\n",
              "New York      141297\n",
              "Florida       170312\n",
              "lllinois      149995\n",
              "dtype: int64"
            ]
          },
          "metadata": {
            "tags": []
          },
          "execution_count": 73
        }
      ]
    },
    {
      "cell_type": "markdown",
      "metadata": {
        "id": "ejXs39NSFSQh"
      },
      "source": [
        "[ __DataFrame stated__ ]"
      ]
    },
    {
      "cell_type": "code",
      "metadata": {
        "colab": {
          "base_uri": "https://localhost:8080/",
          "height": 195
        },
        "id": "hqEhO1YHE7bp",
        "outputId": "02b88066-66aa-4bdc-a5b3-ba17951fd21f"
      },
      "source": [
        "states = pd.DataFrame({'population': population, 'area': area})\n",
        "states"
      ],
      "execution_count": 74,
      "outputs": [
        {
          "output_type": "execute_result",
          "data": {
            "text/html": [
              "<div>\n",
              "<style scoped>\n",
              "    .dataframe tbody tr th:only-of-type {\n",
              "        vertical-align: middle;\n",
              "    }\n",
              "\n",
              "    .dataframe tbody tr th {\n",
              "        vertical-align: top;\n",
              "    }\n",
              "\n",
              "    .dataframe thead th {\n",
              "        text-align: right;\n",
              "    }\n",
              "</style>\n",
              "<table border=\"1\" class=\"dataframe\">\n",
              "  <thead>\n",
              "    <tr style=\"text-align: right;\">\n",
              "      <th></th>\n",
              "      <th>population</th>\n",
              "      <th>area</th>\n",
              "    </tr>\n",
              "  </thead>\n",
              "  <tbody>\n",
              "    <tr>\n",
              "      <th>California</th>\n",
              "      <td>38332521</td>\n",
              "      <td>423967</td>\n",
              "    </tr>\n",
              "    <tr>\n",
              "      <th>Texas</th>\n",
              "      <td>26448393</td>\n",
              "      <td>695662</td>\n",
              "    </tr>\n",
              "    <tr>\n",
              "      <th>New York</th>\n",
              "      <td>19651127</td>\n",
              "      <td>141297</td>\n",
              "    </tr>\n",
              "    <tr>\n",
              "      <th>Florida</th>\n",
              "      <td>19552860</td>\n",
              "      <td>170312</td>\n",
              "    </tr>\n",
              "    <tr>\n",
              "      <th>lllinois</th>\n",
              "      <td>12882135</td>\n",
              "      <td>149995</td>\n",
              "    </tr>\n",
              "  </tbody>\n",
              "</table>\n",
              "</div>"
            ],
            "text/plain": [
              "            population    area\n",
              "California    38332521  423967\n",
              "Texas         26448393  695662\n",
              "New York      19651127  141297\n",
              "Florida       19552860  170312\n",
              "lllinois      12882135  149995"
            ]
          },
          "metadata": {
            "tags": []
          },
          "execution_count": 74
        }
      ]
    },
    {
      "cell_type": "code",
      "metadata": {
        "colab": {
          "base_uri": "https://localhost:8080/"
        },
        "id": "8s0eg1P0FMlz",
        "outputId": "0f33a9b7-1eb2-4053-b40b-f0f0d99a2cee"
      },
      "source": [
        "# 인덱스 라벨을 이용하여 요솟값에 접근할 수 있는 index 속성을 가짐\n",
        "states.index"
      ],
      "execution_count": 75,
      "outputs": [
        {
          "output_type": "execute_result",
          "data": {
            "text/plain": [
              "Index(['California', 'Texas', 'New York', 'Florida', 'lllinois'], dtype='object')"
            ]
          },
          "metadata": {
            "tags": []
          },
          "execution_count": 75
        }
      ]
    },
    {
      "cell_type": "code",
      "metadata": {
        "colab": {
          "base_uri": "https://localhost:8080/"
        },
        "id": "wfgyq9w7FeQb",
        "outputId": "c73dc3af-2032-4425-d03f-c33d8a498146"
      },
      "source": [
        "# 열 라벨을 나타내는 index 객체인 columns 속성도 가짐\n",
        "states.columns"
      ],
      "execution_count": 76,
      "outputs": [
        {
          "output_type": "execute_result",
          "data": {
            "text/plain": [
              "Index(['population', 'area'], dtype='object')"
            ]
          },
          "metadata": {
            "tags": []
          },
          "execution_count": 76
        }
      ]
    },
    {
      "cell_type": "code",
      "metadata": {
        "colab": {
          "base_uri": "https://localhost:8080/"
        },
        "id": "IVAek933Fpzd",
        "outputId": "e9760e13-8907-4831-863d-abf0da494699"
      },
      "source": [
        "# 열 이름을 인덱스로 지정하면 열 데이터로 이루어진 Series에 매핑\n",
        "states['area']"
      ],
      "execution_count": 77,
      "outputs": [
        {
          "output_type": "execute_result",
          "data": {
            "text/plain": [
              "California    423967\n",
              "Texas         695662\n",
              "New York      141297\n",
              "Florida       170312\n",
              "lllinois      149995\n",
              "Name: area, dtype: int64"
            ]
          },
          "metadata": {
            "tags": []
          },
          "execution_count": 77
        }
      ]
    },
    {
      "cell_type": "markdown",
      "metadata": {
        "id": "bKdmdizfFx2H"
      },
      "source": [
        "[ __데이터 구성하기__ ]"
      ]
    },
    {
      "cell_type": "code",
      "metadata": {
        "colab": {
          "base_uri": "https://localhost:8080/",
          "height": 195
        },
        "id": "OAGtlBwMF0m4",
        "outputId": "8c127533-9cf9-42a0-bdf2-0a677a546f16"
      },
      "source": [
        "# 단일 Series로부터 DataFrame 구성 가능\n",
        "pd.DataFrame(population, columns=['population'])"
      ],
      "execution_count": 78,
      "outputs": [
        {
          "output_type": "execute_result",
          "data": {
            "text/html": [
              "<div>\n",
              "<style scoped>\n",
              "    .dataframe tbody tr th:only-of-type {\n",
              "        vertical-align: middle;\n",
              "    }\n",
              "\n",
              "    .dataframe tbody tr th {\n",
              "        vertical-align: top;\n",
              "    }\n",
              "\n",
              "    .dataframe thead th {\n",
              "        text-align: right;\n",
              "    }\n",
              "</style>\n",
              "<table border=\"1\" class=\"dataframe\">\n",
              "  <thead>\n",
              "    <tr style=\"text-align: right;\">\n",
              "      <th></th>\n",
              "      <th>population</th>\n",
              "    </tr>\n",
              "  </thead>\n",
              "  <tbody>\n",
              "    <tr>\n",
              "      <th>California</th>\n",
              "      <td>38332521</td>\n",
              "    </tr>\n",
              "    <tr>\n",
              "      <th>Texas</th>\n",
              "      <td>26448393</td>\n",
              "    </tr>\n",
              "    <tr>\n",
              "      <th>New York</th>\n",
              "      <td>19651127</td>\n",
              "    </tr>\n",
              "    <tr>\n",
              "      <th>Florida</th>\n",
              "      <td>19552860</td>\n",
              "    </tr>\n",
              "    <tr>\n",
              "      <th>lllinois</th>\n",
              "      <td>12882135</td>\n",
              "    </tr>\n",
              "  </tbody>\n",
              "</table>\n",
              "</div>"
            ],
            "text/plain": [
              "            population\n",
              "California    38332521\n",
              "Texas         26448393\n",
              "New York      19651127\n",
              "Florida       19552860\n",
              "lllinois      12882135"
            ]
          },
          "metadata": {
            "tags": []
          },
          "execution_count": 78
        }
      ]
    },
    {
      "cell_type": "code",
      "metadata": {
        "colab": {
          "base_uri": "https://localhost:8080/",
          "height": 77
        },
        "id": "_49MjbYUGEN9",
        "outputId": "7d5a724d-e8d7-4793-ef52-d9563cf8247d"
      },
      "source": [
        "pd.DataFrame(population, index=['Texas'], columns=['population'])"
      ],
      "execution_count": 79,
      "outputs": [
        {
          "output_type": "execute_result",
          "data": {
            "text/html": [
              "<div>\n",
              "<style scoped>\n",
              "    .dataframe tbody tr th:only-of-type {\n",
              "        vertical-align: middle;\n",
              "    }\n",
              "\n",
              "    .dataframe tbody tr th {\n",
              "        vertical-align: top;\n",
              "    }\n",
              "\n",
              "    .dataframe thead th {\n",
              "        text-align: right;\n",
              "    }\n",
              "</style>\n",
              "<table border=\"1\" class=\"dataframe\">\n",
              "  <thead>\n",
              "    <tr style=\"text-align: right;\">\n",
              "      <th></th>\n",
              "      <th>population</th>\n",
              "    </tr>\n",
              "  </thead>\n",
              "  <tbody>\n",
              "    <tr>\n",
              "      <th>Texas</th>\n",
              "      <td>26448393</td>\n",
              "    </tr>\n",
              "  </tbody>\n",
              "</table>\n",
              "</div>"
            ],
            "text/plain": [
              "       population\n",
              "Texas    26448393"
            ]
          },
          "metadata": {
            "tags": []
          },
          "execution_count": 79
        }
      ]
    },
    {
      "cell_type": "code",
      "metadata": {
        "colab": {
          "base_uri": "https://localhost:8080/",
          "height": 106
        },
        "id": "oPtXJcXLGPL5",
        "outputId": "03f5fa55-a0a9-4d3b-9030-ad52eacf373c"
      },
      "source": [
        "# 누락된 자리는 NaN(not a number) 값으로 채움\n",
        "pd.DataFrame([{'a': 1, 'b': 2,}, {'b': 3, 'c': 4}])"
      ],
      "execution_count": 80,
      "outputs": [
        {
          "output_type": "execute_result",
          "data": {
            "text/html": [
              "<div>\n",
              "<style scoped>\n",
              "    .dataframe tbody tr th:only-of-type {\n",
              "        vertical-align: middle;\n",
              "    }\n",
              "\n",
              "    .dataframe tbody tr th {\n",
              "        vertical-align: top;\n",
              "    }\n",
              "\n",
              "    .dataframe thead th {\n",
              "        text-align: right;\n",
              "    }\n",
              "</style>\n",
              "<table border=\"1\" class=\"dataframe\">\n",
              "  <thead>\n",
              "    <tr style=\"text-align: right;\">\n",
              "      <th></th>\n",
              "      <th>a</th>\n",
              "      <th>b</th>\n",
              "      <th>c</th>\n",
              "    </tr>\n",
              "  </thead>\n",
              "  <tbody>\n",
              "    <tr>\n",
              "      <th>0</th>\n",
              "      <td>1.0</td>\n",
              "      <td>2</td>\n",
              "      <td>NaN</td>\n",
              "    </tr>\n",
              "    <tr>\n",
              "      <th>1</th>\n",
              "      <td>NaN</td>\n",
              "      <td>3</td>\n",
              "      <td>4.0</td>\n",
              "    </tr>\n",
              "  </tbody>\n",
              "</table>\n",
              "</div>"
            ],
            "text/plain": [
              "     a  b    c\n",
              "0  1.0  2  NaN\n",
              "1  NaN  3  4.0"
            ]
          },
          "metadata": {
            "tags": []
          },
          "execution_count": 80
        }
      ]
    },
    {
      "cell_type": "code",
      "metadata": {
        "colab": {
          "base_uri": "https://localhost:8080/",
          "height": 195
        },
        "id": "dVhPvScsGdQb",
        "outputId": "770a9812-bc45-4ba1-f0f7-bbad9ffbb827"
      },
      "source": [
        "# 여러 개의 Series 객체로부터 DataFrame 구성 가능\n",
        "pd.DataFrame({'population': population, 'area': area})"
      ],
      "execution_count": 81,
      "outputs": [
        {
          "output_type": "execute_result",
          "data": {
            "text/html": [
              "<div>\n",
              "<style scoped>\n",
              "    .dataframe tbody tr th:only-of-type {\n",
              "        vertical-align: middle;\n",
              "    }\n",
              "\n",
              "    .dataframe tbody tr th {\n",
              "        vertical-align: top;\n",
              "    }\n",
              "\n",
              "    .dataframe thead th {\n",
              "        text-align: right;\n",
              "    }\n",
              "</style>\n",
              "<table border=\"1\" class=\"dataframe\">\n",
              "  <thead>\n",
              "    <tr style=\"text-align: right;\">\n",
              "      <th></th>\n",
              "      <th>population</th>\n",
              "      <th>area</th>\n",
              "    </tr>\n",
              "  </thead>\n",
              "  <tbody>\n",
              "    <tr>\n",
              "      <th>California</th>\n",
              "      <td>38332521</td>\n",
              "      <td>423967</td>\n",
              "    </tr>\n",
              "    <tr>\n",
              "      <th>Texas</th>\n",
              "      <td>26448393</td>\n",
              "      <td>695662</td>\n",
              "    </tr>\n",
              "    <tr>\n",
              "      <th>New York</th>\n",
              "      <td>19651127</td>\n",
              "      <td>141297</td>\n",
              "    </tr>\n",
              "    <tr>\n",
              "      <th>Florida</th>\n",
              "      <td>19552860</td>\n",
              "      <td>170312</td>\n",
              "    </tr>\n",
              "    <tr>\n",
              "      <th>lllinois</th>\n",
              "      <td>12882135</td>\n",
              "      <td>149995</td>\n",
              "    </tr>\n",
              "  </tbody>\n",
              "</table>\n",
              "</div>"
            ],
            "text/plain": [
              "            population    area\n",
              "California    38332521  423967\n",
              "Texas         26448393  695662\n",
              "New York      19651127  141297\n",
              "Florida       19552860  170312\n",
              "lllinois      12882135  149995"
            ]
          },
          "metadata": {
            "tags": []
          },
          "execution_count": 81
        }
      ]
    },
    {
      "cell_type": "code",
      "metadata": {
        "colab": {
          "base_uri": "https://localhost:8080/",
          "height": 136
        },
        "id": "xs85WVa-GtZ-",
        "outputId": "fda7ecba-8158-494a-af8e-9c538de758ad"
      },
      "source": [
        "# 2차원 배열에 열 이름과 인덱스를 지정하여 DataFrame 생성 가능\n",
        "pd.DataFrame(np.random.rand(3,2), columns=['foo', 'bar'], index=['a', 'b', 'c'])"
      ],
      "execution_count": 82,
      "outputs": [
        {
          "output_type": "execute_result",
          "data": {
            "text/html": [
              "<div>\n",
              "<style scoped>\n",
              "    .dataframe tbody tr th:only-of-type {\n",
              "        vertical-align: middle;\n",
              "    }\n",
              "\n",
              "    .dataframe tbody tr th {\n",
              "        vertical-align: top;\n",
              "    }\n",
              "\n",
              "    .dataframe thead th {\n",
              "        text-align: right;\n",
              "    }\n",
              "</style>\n",
              "<table border=\"1\" class=\"dataframe\">\n",
              "  <thead>\n",
              "    <tr style=\"text-align: right;\">\n",
              "      <th></th>\n",
              "      <th>foo</th>\n",
              "      <th>bar</th>\n",
              "    </tr>\n",
              "  </thead>\n",
              "  <tbody>\n",
              "    <tr>\n",
              "      <th>a</th>\n",
              "      <td>0.463946</td>\n",
              "      <td>0.505832</td>\n",
              "    </tr>\n",
              "    <tr>\n",
              "      <th>b</th>\n",
              "      <td>0.414346</td>\n",
              "      <td>0.709507</td>\n",
              "    </tr>\n",
              "    <tr>\n",
              "      <th>c</th>\n",
              "      <td>0.470906</td>\n",
              "      <td>0.293567</td>\n",
              "    </tr>\n",
              "  </tbody>\n",
              "</table>\n",
              "</div>"
            ],
            "text/plain": [
              "        foo       bar\n",
              "a  0.463946  0.505832\n",
              "b  0.414346  0.709507\n",
              "c  0.470906  0.293567"
            ]
          },
          "metadata": {
            "tags": []
          },
          "execution_count": 82
        }
      ]
    },
    {
      "cell_type": "markdown",
      "metadata": {
        "id": "9VsX5cpKHHqb"
      },
      "source": [
        "## 3-2 Pandas로 데이터 연산하기"
      ]
    },
    {
      "cell_type": "markdown",
      "metadata": {
        "id": "S1guiQZyHOiA"
      },
      "source": [
        "### 1. 인덱스\n",
        "</br>\n",
        "\n",
        "##### 1) Index 객체"
      ]
    },
    {
      "cell_type": "code",
      "metadata": {
        "colab": {
          "base_uri": "https://localhost:8080/"
        },
        "id": "TIL4lxvcHctG",
        "outputId": "c6acee25-e78e-4334-9c05-12d8344673fa"
      },
      "source": [
        "# Index의 객체는 불변 배열\n",
        "Ind = pd.Index([2, 3, 5, 7, 11])\n",
        "Ind"
      ],
      "execution_count": 40,
      "outputs": [
        {
          "output_type": "execute_result",
          "data": {
            "text/plain": [
              "Int64Index([2, 3, 5, 7, 11], dtype='int64')"
            ]
          },
          "metadata": {
            "tags": []
          },
          "execution_count": 40
        }
      ]
    },
    {
      "cell_type": "code",
      "metadata": {
        "colab": {
          "base_uri": "https://localhost:8080/"
        },
        "id": "4CjRUr1eHo0r",
        "outputId": "5ab225c2-91ce-4e2e-835c-34e5226c5895"
      },
      "source": [
        "# 여러 면에서 배열처럼 동작함\n",
        "Ind[1]"
      ],
      "execution_count": 41,
      "outputs": [
        {
          "output_type": "execute_result",
          "data": {
            "text/plain": [
              "3"
            ]
          },
          "metadata": {
            "tags": []
          },
          "execution_count": 41
        }
      ]
    },
    {
      "cell_type": "code",
      "metadata": {
        "colab": {
          "base_uri": "https://localhost:8080/"
        },
        "id": "STiBtU0THs-y",
        "outputId": "7ccba9f8-2c0b-44e7-b6c2-284896bfc261"
      },
      "source": [
        "Ind[::2]"
      ],
      "execution_count": 42,
      "outputs": [
        {
          "output_type": "execute_result",
          "data": {
            "text/plain": [
              "Int64Index([2, 5, 11], dtype='int64')"
            ]
          },
          "metadata": {
            "tags": []
          },
          "execution_count": 42
        }
      ]
    },
    {
      "cell_type": "code",
      "metadata": {
        "colab": {
          "base_uri": "https://localhost:8080/"
        },
        "id": "-fuZDXShHxUP",
        "outputId": "a6fb4ab0-e9a3-43d8-ce4e-a9bdf0ed488c"
      },
      "source": [
        "print(Ind.size, Ind.shape, Ind.ndim, Ind.dtype)"
      ],
      "execution_count": 44,
      "outputs": [
        {
          "output_type": "stream",
          "text": [
            "5 (5,) 1 int64\n"
          ],
          "name": "stdout"
        }
      ]
    },
    {
      "cell_type": "markdown",
      "metadata": {
        "id": "KO0tx_mOH9rD"
      },
      "source": [
        "[ __Index 객체 Vs Numpy 배열__ ]"
      ]
    },
    {
      "cell_type": "code",
      "metadata": {
        "colab": {
          "base_uri": "https://localhost:8080/",
          "height": 327
        },
        "id": "xQyUrgeqIDMa",
        "outputId": "9e306fff-25d6-4764-bbcb-aff84c594432"
      },
      "source": [
        "# Index 객체는 변경될 수 없는 불변의 값 -> 안전하게 사용하고 공유할 수 있음\n",
        "Ind[1] = 0"
      ],
      "execution_count": 45,
      "outputs": [
        {
          "output_type": "error",
          "ename": "TypeError",
          "evalue": "ignored",
          "traceback": [
            "\u001b[0;31m---------------------------------------------------------------------------\u001b[0m",
            "\u001b[0;31mTypeError\u001b[0m                                 Traceback (most recent call last)",
            "\u001b[0;32m<ipython-input-45-1a55beed5b12>\u001b[0m in \u001b[0;36m<module>\u001b[0;34m()\u001b[0m\n\u001b[1;32m      1\u001b[0m \u001b[0;31m# Index 객체는 변경될 수 없는 불변의 값 -> 안전하게 사용하고 공유할 수 있음\u001b[0m\u001b[0;34m\u001b[0m\u001b[0;34m\u001b[0m\u001b[0;34m\u001b[0m\u001b[0m\n\u001b[0;32m----> 2\u001b[0;31m \u001b[0mInd\u001b[0m\u001b[0;34m[\u001b[0m\u001b[0;36m1\u001b[0m\u001b[0;34m]\u001b[0m \u001b[0;34m=\u001b[0m \u001b[0;36m0\u001b[0m\u001b[0;34m\u001b[0m\u001b[0;34m\u001b[0m\u001b[0m\n\u001b[0m",
            "\u001b[0;32m/usr/local/lib/python3.7/dist-packages/pandas/core/indexes/base.py\u001b[0m in \u001b[0;36m__setitem__\u001b[0;34m(self, key, value)\u001b[0m\n\u001b[1;32m   4082\u001b[0m \u001b[0;34m\u001b[0m\u001b[0m\n\u001b[1;32m   4083\u001b[0m     \u001b[0;32mdef\u001b[0m \u001b[0m__setitem__\u001b[0m\u001b[0;34m(\u001b[0m\u001b[0mself\u001b[0m\u001b[0;34m,\u001b[0m \u001b[0mkey\u001b[0m\u001b[0;34m,\u001b[0m \u001b[0mvalue\u001b[0m\u001b[0;34m)\u001b[0m\u001b[0;34m:\u001b[0m\u001b[0;34m\u001b[0m\u001b[0;34m\u001b[0m\u001b[0m\n\u001b[0;32m-> 4084\u001b[0;31m         \u001b[0;32mraise\u001b[0m \u001b[0mTypeError\u001b[0m\u001b[0;34m(\u001b[0m\u001b[0;34m\"Index does not support mutable operations\"\u001b[0m\u001b[0;34m)\u001b[0m\u001b[0;34m\u001b[0m\u001b[0;34m\u001b[0m\u001b[0m\n\u001b[0m\u001b[1;32m   4085\u001b[0m \u001b[0;34m\u001b[0m\u001b[0m\n\u001b[1;32m   4086\u001b[0m     \u001b[0;32mdef\u001b[0m \u001b[0m__getitem__\u001b[0m\u001b[0;34m(\u001b[0m\u001b[0mself\u001b[0m\u001b[0;34m,\u001b[0m \u001b[0mkey\u001b[0m\u001b[0;34m)\u001b[0m\u001b[0;34m:\u001b[0m\u001b[0;34m\u001b[0m\u001b[0;34m\u001b[0m\u001b[0m\n",
            "\u001b[0;31mTypeError\u001b[0m: Index does not support mutable operations"
          ]
        }
      ]
    },
    {
      "cell_type": "markdown",
      "metadata": {
        "id": "7gJmv9mrIN5b"
      },
      "source": [
        "[ __집합 연산__ ]"
      ]
    },
    {
      "cell_type": "code",
      "metadata": {
        "colab": {
          "base_uri": "https://localhost:8080/"
        },
        "id": "m9weWupmISze",
        "outputId": "38cb1ecd-7af9-4b26-e04c-d28ea2dc6989"
      },
      "source": [
        "# 교집합: 공통의 요솟값만 추출하여 새로운 집합 생성\n",
        "IndA = pd.Index([1, 3, 5, 7, 9])\n",
        "IndB = pd.Index([2, 3, 5, 7, 11])\n",
        "IndA & IndB"
      ],
      "execution_count": 46,
      "outputs": [
        {
          "output_type": "execute_result",
          "data": {
            "text/plain": [
              "Int64Index([3, 5, 7], dtype='int64')"
            ]
          },
          "metadata": {
            "tags": []
          },
          "execution_count": 46
        }
      ]
    },
    {
      "cell_type": "code",
      "metadata": {
        "colab": {
          "base_uri": "https://localhost:8080/"
        },
        "id": "oJI8oiF9IwrH",
        "outputId": "62653c8e-c533-40c6-f99f-d15362620032"
      },
      "source": [
        "# 합집합: 두 객체의 요솟값을 모두 포함하는 집합 생성\n",
        "IndA | IndB"
      ],
      "execution_count": 47,
      "outputs": [
        {
          "output_type": "execute_result",
          "data": {
            "text/plain": [
              "Int64Index([1, 2, 3, 5, 7, 9, 11], dtype='int64')"
            ]
          },
          "metadata": {
            "tags": []
          },
          "execution_count": 47
        }
      ]
    },
    {
      "cell_type": "code",
      "metadata": {
        "colab": {
          "base_uri": "https://localhost:8080/"
        },
        "id": "RD4Mdj_TI3Mz",
        "outputId": "9e233def-e88f-475a-f0d2-8c04766dadd0"
      },
      "source": [
        "# 차집합: 첫 번째 객체에서 두 번째 객체의 요솟값을 제외\n",
        "IndA ^ IndB"
      ],
      "execution_count": 48,
      "outputs": [
        {
          "output_type": "execute_result",
          "data": {
            "text/plain": [
              "Int64Index([1, 2, 9, 11], dtype='int64')"
            ]
          },
          "metadata": {
            "tags": []
          },
          "execution_count": 48
        }
      ]
    },
    {
      "cell_type": "markdown",
      "metadata": {
        "id": "vDDCFtGjJCVh"
      },
      "source": [
        "### 인덱서\n",
        "</br>\n",
        "\n",
        "##### 1) 데이터 인덱싱과 선택\n",
        "[ __loc vs iloc__ ]\n",
        "</br>\n",
        "\n",
        "![loc VS iloc](https://github.com/seoy9/DALC_Scala/blob/30e870316ab69170022396eff0cd15e8553fa41e/lovVSiloc.JPG?raw=true)"
      ]
    },
    {
      "cell_type": "code",
      "metadata": {
        "colab": {
          "base_uri": "https://localhost:8080/"
        },
        "id": "1_EVdAFiJzOW",
        "outputId": "e17022d4-2fe0-4e77-db00-5c5e4a3f55e8"
      },
      "source": [
        "data = pd.Series([0.25, 0.5, 0.75, 1.0], index=['a', 'b', 'c', 'd'])\n",
        "data"
      ],
      "execution_count": 49,
      "outputs": [
        {
          "output_type": "execute_result",
          "data": {
            "text/plain": [
              "a    0.25\n",
              "b    0.50\n",
              "c    0.75\n",
              "d    1.00\n",
              "dtype: float64"
            ]
          },
          "metadata": {
            "tags": []
          },
          "execution_count": 49
        }
      ]
    },
    {
      "cell_type": "code",
      "metadata": {
        "colab": {
          "base_uri": "https://localhost:8080/"
        },
        "id": "l8xgx4JdJ9N7",
        "outputId": "edbccc25-7ef9-4985-e34c-346a04a996ba"
      },
      "source": [
        "data.loc['a']"
      ],
      "execution_count": 50,
      "outputs": [
        {
          "output_type": "execute_result",
          "data": {
            "text/plain": [
              "0.25"
            ]
          },
          "metadata": {
            "tags": []
          },
          "execution_count": 50
        }
      ]
    },
    {
      "cell_type": "code",
      "metadata": {
        "colab": {
          "base_uri": "https://localhost:8080/"
        },
        "id": "dkDKPC_kJ__2",
        "outputId": "3a0f1cfc-a74b-42c0-c3b2-cd3366569a68"
      },
      "source": [
        "data.loc['a':'c']"
      ],
      "execution_count": 51,
      "outputs": [
        {
          "output_type": "execute_result",
          "data": {
            "text/plain": [
              "a    0.25\n",
              "b    0.50\n",
              "c    0.75\n",
              "dtype: float64"
            ]
          },
          "metadata": {
            "tags": []
          },
          "execution_count": 51
        }
      ]
    },
    {
      "cell_type": "code",
      "metadata": {
        "colab": {
          "base_uri": "https://localhost:8080/"
        },
        "id": "k9jomnw0KD9E",
        "outputId": "363591a0-39be-4bcd-e9f5-132bc9ab9d9f"
      },
      "source": [
        "data.iloc[1]"
      ],
      "execution_count": 52,
      "outputs": [
        {
          "output_type": "execute_result",
          "data": {
            "text/plain": [
              "0.5"
            ]
          },
          "metadata": {
            "tags": []
          },
          "execution_count": 52
        }
      ]
    },
    {
      "cell_type": "code",
      "metadata": {
        "colab": {
          "base_uri": "https://localhost:8080/"
        },
        "id": "7H3bWbtFKF7a",
        "outputId": "5a01e05b-8a71-46a5-869b-da7b64579f03"
      },
      "source": [
        "data.iloc[1:3]"
      ],
      "execution_count": 53,
      "outputs": [
        {
          "output_type": "execute_result",
          "data": {
            "text/plain": [
              "b    0.50\n",
              "c    0.75\n",
              "dtype: float64"
            ]
          },
          "metadata": {
            "tags": []
          },
          "execution_count": 53
        }
      ]
    },
    {
      "cell_type": "markdown",
      "metadata": {
        "id": "oMkANgCEKLib"
      },
      "source": [
        "##### 2) DataFrame\n",
        "</br>\n",
        "\n",
        "[ __데이터 선택__ ]"
      ]
    },
    {
      "cell_type": "code",
      "metadata": {
        "colab": {
          "base_uri": "https://localhost:8080/",
          "height": 195
        },
        "id": "OVV7vwemKVgI",
        "outputId": "4ceaa08f-511e-4783-b0a5-40290815255d"
      },
      "source": [
        "import pandas as pd\n",
        "area = pd.Series({'California': 423967, 'Texas': 695662, 'New York': 141297, 'Florida': 170312, 'lllinois': 149995})\n",
        "pop = pd.Series({'California': 38332521, 'Texas': 26448393, 'New York': 19651127, 'Florida': 19552860, 'lllinois': 12882135})\n",
        "data = pd.DataFrame({'area':area, 'pop':pop})\n",
        "data"
      ],
      "execution_count": 83,
      "outputs": [
        {
          "output_type": "execute_result",
          "data": {
            "text/html": [
              "<div>\n",
              "<style scoped>\n",
              "    .dataframe tbody tr th:only-of-type {\n",
              "        vertical-align: middle;\n",
              "    }\n",
              "\n",
              "    .dataframe tbody tr th {\n",
              "        vertical-align: top;\n",
              "    }\n",
              "\n",
              "    .dataframe thead th {\n",
              "        text-align: right;\n",
              "    }\n",
              "</style>\n",
              "<table border=\"1\" class=\"dataframe\">\n",
              "  <thead>\n",
              "    <tr style=\"text-align: right;\">\n",
              "      <th></th>\n",
              "      <th>area</th>\n",
              "      <th>pop</th>\n",
              "    </tr>\n",
              "  </thead>\n",
              "  <tbody>\n",
              "    <tr>\n",
              "      <th>California</th>\n",
              "      <td>423967</td>\n",
              "      <td>38332521</td>\n",
              "    </tr>\n",
              "    <tr>\n",
              "      <th>Texas</th>\n",
              "      <td>695662</td>\n",
              "      <td>26448393</td>\n",
              "    </tr>\n",
              "    <tr>\n",
              "      <th>New York</th>\n",
              "      <td>141297</td>\n",
              "      <td>19651127</td>\n",
              "    </tr>\n",
              "    <tr>\n",
              "      <th>Florida</th>\n",
              "      <td>170312</td>\n",
              "      <td>19552860</td>\n",
              "    </tr>\n",
              "    <tr>\n",
              "      <th>lllinois</th>\n",
              "      <td>149995</td>\n",
              "      <td>12882135</td>\n",
              "    </tr>\n",
              "  </tbody>\n",
              "</table>\n",
              "</div>"
            ],
            "text/plain": [
              "              area       pop\n",
              "California  423967  38332521\n",
              "Texas       695662  26448393\n",
              "New York    141297  19651127\n",
              "Florida     170312  19552860\n",
              "lllinois    149995  12882135"
            ]
          },
          "metadata": {
            "tags": []
          },
          "execution_count": 83
        }
      ]
    },
    {
      "cell_type": "code",
      "metadata": {
        "colab": {
          "base_uri": "https://localhost:8080/"
        },
        "id": "wUSOR-qXK24G",
        "outputId": "439702db-1981-496b-e895-0627e9e23ee0"
      },
      "source": [
        "data['area']"
      ],
      "execution_count": 86,
      "outputs": [
        {
          "output_type": "execute_result",
          "data": {
            "text/plain": [
              "California    423967\n",
              "Texas         695662\n",
              "New York      141297\n",
              "Florida       170312\n",
              "lllinois      149995\n",
              "Name: area, dtype: int64"
            ]
          },
          "metadata": {
            "tags": []
          },
          "execution_count": 86
        }
      ]
    },
    {
      "cell_type": "code",
      "metadata": {
        "colab": {
          "base_uri": "https://localhost:8080/"
        },
        "id": "Pe7sNRW6K5nN",
        "outputId": "e6cef4c8-2eb9-4a8d-86bf-4cca2685653d"
      },
      "source": [
        "data.area"
      ],
      "execution_count": 85,
      "outputs": [
        {
          "output_type": "execute_result",
          "data": {
            "text/plain": [
              "California    423967\n",
              "Texas         695662\n",
              "New York      141297\n",
              "Florida       170312\n",
              "lllinois      149995\n",
              "Name: area, dtype: int64"
            ]
          },
          "metadata": {
            "tags": []
          },
          "execution_count": 85
        }
      ]
    },
    {
      "cell_type": "markdown",
      "metadata": {
        "id": "lS7iD2lGK8gf"
      },
      "source": [
        "[ __딕셔너리__ ]"
      ]
    },
    {
      "cell_type": "code",
      "metadata": {
        "colab": {
          "base_uri": "https://localhost:8080/",
          "height": 195
        },
        "id": "WkeKjU9GK-HE",
        "outputId": "0158dd44-2144-4a9b-c778-0b5f61ed919a"
      },
      "source": [
        "data['density'] = data['pop'] / data['area']\n",
        "data"
      ],
      "execution_count": 84,
      "outputs": [
        {
          "output_type": "execute_result",
          "data": {
            "text/html": [
              "<div>\n",
              "<style scoped>\n",
              "    .dataframe tbody tr th:only-of-type {\n",
              "        vertical-align: middle;\n",
              "    }\n",
              "\n",
              "    .dataframe tbody tr th {\n",
              "        vertical-align: top;\n",
              "    }\n",
              "\n",
              "    .dataframe thead th {\n",
              "        text-align: right;\n",
              "    }\n",
              "</style>\n",
              "<table border=\"1\" class=\"dataframe\">\n",
              "  <thead>\n",
              "    <tr style=\"text-align: right;\">\n",
              "      <th></th>\n",
              "      <th>area</th>\n",
              "      <th>pop</th>\n",
              "      <th>density</th>\n",
              "    </tr>\n",
              "  </thead>\n",
              "  <tbody>\n",
              "    <tr>\n",
              "      <th>California</th>\n",
              "      <td>423967</td>\n",
              "      <td>38332521</td>\n",
              "      <td>90.413926</td>\n",
              "    </tr>\n",
              "    <tr>\n",
              "      <th>Texas</th>\n",
              "      <td>695662</td>\n",
              "      <td>26448393</td>\n",
              "      <td>38.019028</td>\n",
              "    </tr>\n",
              "    <tr>\n",
              "      <th>New York</th>\n",
              "      <td>141297</td>\n",
              "      <td>19651127</td>\n",
              "      <td>139.076746</td>\n",
              "    </tr>\n",
              "    <tr>\n",
              "      <th>Florida</th>\n",
              "      <td>170312</td>\n",
              "      <td>19552860</td>\n",
              "      <td>114.806121</td>\n",
              "    </tr>\n",
              "    <tr>\n",
              "      <th>lllinois</th>\n",
              "      <td>149995</td>\n",
              "      <td>12882135</td>\n",
              "      <td>85.883763</td>\n",
              "    </tr>\n",
              "  </tbody>\n",
              "</table>\n",
              "</div>"
            ],
            "text/plain": [
              "              area       pop     density\n",
              "California  423967  38332521   90.413926\n",
              "Texas       695662  26448393   38.019028\n",
              "New York    141297  19651127  139.076746\n",
              "Florida     170312  19552860  114.806121\n",
              "lllinois    149995  12882135   85.883763"
            ]
          },
          "metadata": {
            "tags": []
          },
          "execution_count": 84
        }
      ]
    },
    {
      "cell_type": "markdown",
      "metadata": {
        "id": "Ckp-udQrLeh_"
      },
      "source": [
        "[ __2차원 배열__ ]"
      ]
    },
    {
      "cell_type": "code",
      "metadata": {
        "colab": {
          "base_uri": "https://localhost:8080/"
        },
        "id": "odWZycLILgj7",
        "outputId": "dbb8c9de-4b06-45b9-ae7b-418e77d51b44"
      },
      "source": [
        "# values 속성을 통해 데이터 배열 확인\n",
        "data.values"
      ],
      "execution_count": 87,
      "outputs": [
        {
          "output_type": "execute_result",
          "data": {
            "text/plain": [
              "array([[4.23967000e+05, 3.83325210e+07, 9.04139261e+01],\n",
              "       [6.95662000e+05, 2.64483930e+07, 3.80190279e+01],\n",
              "       [1.41297000e+05, 1.96511270e+07, 1.39076746e+02],\n",
              "       [1.70312000e+05, 1.95528600e+07, 1.14806121e+02],\n",
              "       [1.49995000e+05, 1.28821350e+07, 8.58837628e+01]])"
            ]
          },
          "metadata": {
            "tags": []
          },
          "execution_count": 87
        }
      ]
    },
    {
      "cell_type": "code",
      "metadata": {
        "colab": {
          "base_uri": "https://localhost:8080/",
          "height": 136
        },
        "id": "NLg73-gILph6",
        "outputId": "5783cea0-e366-4ee1-9a6b-d6c94fbccc17"
      },
      "source": [
        "# T 속성을 활용하면 행과 열 바꾸기 가능\n",
        "data.T"
      ],
      "execution_count": 88,
      "outputs": [
        {
          "output_type": "execute_result",
          "data": {
            "text/html": [
              "<div>\n",
              "<style scoped>\n",
              "    .dataframe tbody tr th:only-of-type {\n",
              "        vertical-align: middle;\n",
              "    }\n",
              "\n",
              "    .dataframe tbody tr th {\n",
              "        vertical-align: top;\n",
              "    }\n",
              "\n",
              "    .dataframe thead th {\n",
              "        text-align: right;\n",
              "    }\n",
              "</style>\n",
              "<table border=\"1\" class=\"dataframe\">\n",
              "  <thead>\n",
              "    <tr style=\"text-align: right;\">\n",
              "      <th></th>\n",
              "      <th>California</th>\n",
              "      <th>Texas</th>\n",
              "      <th>New York</th>\n",
              "      <th>Florida</th>\n",
              "      <th>lllinois</th>\n",
              "    </tr>\n",
              "  </thead>\n",
              "  <tbody>\n",
              "    <tr>\n",
              "      <th>area</th>\n",
              "      <td>4.239670e+05</td>\n",
              "      <td>6.956620e+05</td>\n",
              "      <td>1.412970e+05</td>\n",
              "      <td>1.703120e+05</td>\n",
              "      <td>1.499950e+05</td>\n",
              "    </tr>\n",
              "    <tr>\n",
              "      <th>pop</th>\n",
              "      <td>3.833252e+07</td>\n",
              "      <td>2.644839e+07</td>\n",
              "      <td>1.965113e+07</td>\n",
              "      <td>1.955286e+07</td>\n",
              "      <td>1.288214e+07</td>\n",
              "    </tr>\n",
              "    <tr>\n",
              "      <th>density</th>\n",
              "      <td>9.041393e+01</td>\n",
              "      <td>3.801903e+01</td>\n",
              "      <td>1.390767e+02</td>\n",
              "      <td>1.148061e+02</td>\n",
              "      <td>8.588376e+01</td>\n",
              "    </tr>\n",
              "  </tbody>\n",
              "</table>\n",
              "</div>"
            ],
            "text/plain": [
              "           California         Texas      New York       Florida      lllinois\n",
              "area     4.239670e+05  6.956620e+05  1.412970e+05  1.703120e+05  1.499950e+05\n",
              "pop      3.833252e+07  2.644839e+07  1.965113e+07  1.955286e+07  1.288214e+07\n",
              "density  9.041393e+01  3.801903e+01  1.390767e+02  1.148061e+02  8.588376e+01"
            ]
          },
          "metadata": {
            "tags": []
          },
          "execution_count": 88
        }
      ]
    },
    {
      "cell_type": "code",
      "metadata": {
        "colab": {
          "base_uri": "https://localhost:8080/"
        },
        "id": "UBh8XLmpLvi6",
        "outputId": "1cf44041-f20a-44c8-8d25-7a8493df53d9"
      },
      "source": [
        "# Value 속성에 단일 인덱스를 전달 -> 행에 접근\n",
        "data.values[0]"
      ],
      "execution_count": 89,
      "outputs": [
        {
          "output_type": "execute_result",
          "data": {
            "text/plain": [
              "array([4.23967000e+05, 3.83325210e+07, 9.04139261e+01])"
            ]
          },
          "metadata": {
            "tags": []
          },
          "execution_count": 89
        }
      ]
    },
    {
      "cell_type": "code",
      "metadata": {
        "colab": {
          "base_uri": "https://localhost:8080/"
        },
        "id": "4Mh8zrC9L5Cg",
        "outputId": "afe4b706-bcd6-4d1b-a892-aefeeca0d4ab"
      },
      "source": [
        "# DataFrame에 열 이름을 전달 -> 열에 접근\n",
        "data['area']"
      ],
      "execution_count": 90,
      "outputs": [
        {
          "output_type": "execute_result",
          "data": {
            "text/plain": [
              "California    423967\n",
              "Texas         695662\n",
              "New York      141297\n",
              "Florida       170312\n",
              "lllinois      149995\n",
              "Name: area, dtype: int64"
            ]
          },
          "metadata": {
            "tags": []
          },
          "execution_count": 90
        }
      ]
    },
    {
      "cell_type": "code",
      "metadata": {
        "colab": {
          "base_uri": "https://localhost:8080/",
          "height": 136
        },
        "id": "QpkGxUD1MB68",
        "outputId": "4e73dda1-a7cf-4569-bb14-8de256181253"
      },
      "source": [
        "data.iloc[:3, :2]"
      ],
      "execution_count": 91,
      "outputs": [
        {
          "output_type": "execute_result",
          "data": {
            "text/html": [
              "<div>\n",
              "<style scoped>\n",
              "    .dataframe tbody tr th:only-of-type {\n",
              "        vertical-align: middle;\n",
              "    }\n",
              "\n",
              "    .dataframe tbody tr th {\n",
              "        vertical-align: top;\n",
              "    }\n",
              "\n",
              "    .dataframe thead th {\n",
              "        text-align: right;\n",
              "    }\n",
              "</style>\n",
              "<table border=\"1\" class=\"dataframe\">\n",
              "  <thead>\n",
              "    <tr style=\"text-align: right;\">\n",
              "      <th></th>\n",
              "      <th>area</th>\n",
              "      <th>pop</th>\n",
              "    </tr>\n",
              "  </thead>\n",
              "  <tbody>\n",
              "    <tr>\n",
              "      <th>California</th>\n",
              "      <td>423967</td>\n",
              "      <td>38332521</td>\n",
              "    </tr>\n",
              "    <tr>\n",
              "      <th>Texas</th>\n",
              "      <td>695662</td>\n",
              "      <td>26448393</td>\n",
              "    </tr>\n",
              "    <tr>\n",
              "      <th>New York</th>\n",
              "      <td>141297</td>\n",
              "      <td>19651127</td>\n",
              "    </tr>\n",
              "  </tbody>\n",
              "</table>\n",
              "</div>"
            ],
            "text/plain": [
              "              area       pop\n",
              "California  423967  38332521\n",
              "Texas       695662  26448393\n",
              "New York    141297  19651127"
            ]
          },
          "metadata": {
            "tags": []
          },
          "execution_count": 91
        }
      ]
    },
    {
      "cell_type": "code",
      "metadata": {
        "colab": {
          "base_uri": "https://localhost:8080/",
          "height": 195
        },
        "id": "Av6vCiKeMFXq",
        "outputId": "16932ff1-372a-4e88-dfc5-716badc3ba31"
      },
      "source": [
        "data.loc[:'lllinois', :'pop']"
      ],
      "execution_count": 92,
      "outputs": [
        {
          "output_type": "execute_result",
          "data": {
            "text/html": [
              "<div>\n",
              "<style scoped>\n",
              "    .dataframe tbody tr th:only-of-type {\n",
              "        vertical-align: middle;\n",
              "    }\n",
              "\n",
              "    .dataframe tbody tr th {\n",
              "        vertical-align: top;\n",
              "    }\n",
              "\n",
              "    .dataframe thead th {\n",
              "        text-align: right;\n",
              "    }\n",
              "</style>\n",
              "<table border=\"1\" class=\"dataframe\">\n",
              "  <thead>\n",
              "    <tr style=\"text-align: right;\">\n",
              "      <th></th>\n",
              "      <th>area</th>\n",
              "      <th>pop</th>\n",
              "    </tr>\n",
              "  </thead>\n",
              "  <tbody>\n",
              "    <tr>\n",
              "      <th>California</th>\n",
              "      <td>423967</td>\n",
              "      <td>38332521</td>\n",
              "    </tr>\n",
              "    <tr>\n",
              "      <th>Texas</th>\n",
              "      <td>695662</td>\n",
              "      <td>26448393</td>\n",
              "    </tr>\n",
              "    <tr>\n",
              "      <th>New York</th>\n",
              "      <td>141297</td>\n",
              "      <td>19651127</td>\n",
              "    </tr>\n",
              "    <tr>\n",
              "      <th>Florida</th>\n",
              "      <td>170312</td>\n",
              "      <td>19552860</td>\n",
              "    </tr>\n",
              "    <tr>\n",
              "      <th>lllinois</th>\n",
              "      <td>149995</td>\n",
              "      <td>12882135</td>\n",
              "    </tr>\n",
              "  </tbody>\n",
              "</table>\n",
              "</div>"
            ],
            "text/plain": [
              "              area       pop\n",
              "California  423967  38332521\n",
              "Texas       695662  26448393\n",
              "New York    141297  19651127\n",
              "Florida     170312  19552860\n",
              "lllinois    149995  12882135"
            ]
          },
          "metadata": {
            "tags": []
          },
          "execution_count": 92
        }
      ]
    },
    {
      "cell_type": "markdown",
      "metadata": {
        "id": "HME_UtlkMo-Z"
      },
      "source": [
        "### 3. Pandas 산술 연산\n",
        "</br>\n",
        "\n",
        "##### 1) Series와 숫자 연산"
      ]
    },
    {
      "cell_type": "code",
      "metadata": {
        "colab": {
          "base_uri": "https://localhost:8080/"
        },
        "id": "P6V0Q9DjM0UK",
        "outputId": "a79f8f97-d59a-4b1d-f060-2b1aa7c872f4"
      },
      "source": [
        "# Series의 개별 원소에 연산을 적용하고 그 결과를 Series 객체로 반환\n",
        "student = pd.Series({'국어': 96, '영어': 90, '수학': 80})\n",
        "p_student = student / 100\n",
        "p_student"
      ],
      "execution_count": 93,
      "outputs": [
        {
          "output_type": "execute_result",
          "data": {
            "text/plain": [
              "국어    0.96\n",
              "영어    0.90\n",
              "수학    0.80\n",
              "dtype: float64"
            ]
          },
          "metadata": {
            "tags": []
          },
          "execution_count": 93
        }
      ]
    },
    {
      "cell_type": "markdown",
      "metadata": {
        "id": "16_rvoVyNSjx"
      },
      "source": [
        "##### 2) Series와 Series 연산"
      ]
    },
    {
      "cell_type": "code",
      "metadata": {
        "colab": {
          "base_uri": "https://localhost:8080/"
        },
        "id": "e_gQYbfYNWWv",
        "outputId": "e011421d-496a-40da-d321-d6e2e89f269c"
      },
      "source": [
        "# 시리즈 객체에서 동일한 인덱스를 가진 요소끼리 연산이 수행되고 연산 결과를 가진 새로운 시리즈 객체를 반환\n",
        "student1 = pd.Series({'국어': 96, '영어': 90, '수학': 80})\n",
        "student2 = pd.Series({'국어': 86, '영어': 100, '수학': 94})\n",
        "avg_student = (student1 + student2) / 2\n",
        "avg_student"
      ],
      "execution_count": 94,
      "outputs": [
        {
          "output_type": "execute_result",
          "data": {
            "text/plain": [
              "국어    91.0\n",
              "영어    95.0\n",
              "수학    87.0\n",
              "dtype: float64"
            ]
          },
          "metadata": {
            "tags": []
          },
          "execution_count": 94
        }
      ]
    },
    {
      "cell_type": "markdown",
      "metadata": {
        "id": "lZ9kIqLaN396"
      },
      "source": [
        "[ __인덱스가 서로 다른 경우__ ]"
      ]
    },
    {
      "cell_type": "code",
      "metadata": {
        "colab": {
          "base_uri": "https://localhost:8080/"
        },
        "id": "_hTc9C_jN6jc",
        "outputId": "046e5e76-bb50-4d12-90eb-a43ba9cf0938"
      },
      "source": [
        "# 시리즈 객체에서 동일한 인덱스를 가진 요소끼리 연산이 수행되고 연산 후에 값으로 정렬된 시리즈 객체를 반환\n",
        "student1 = pd.Series({'영어': 90, '수학': 80, '국어': 96})\n",
        "student2 = pd.Series({'수학': 94, '국어': 96, '영어': 100})\n",
        "sum_student = student1 + student2\n",
        "sum_student"
      ],
      "execution_count": 95,
      "outputs": [
        {
          "output_type": "execute_result",
          "data": {
            "text/plain": [
              "국어    192\n",
              "수학    174\n",
              "영어    190\n",
              "dtype: int64"
            ]
          },
          "metadata": {
            "tags": []
          },
          "execution_count": 95
        }
      ]
    },
    {
      "cell_type": "markdown",
      "metadata": {
        "id": "Wgt9HvrSOZad"
      },
      "source": [
        "##### 3) 연산 메소드\n",
        "+ +: add\n",
        "+ -: sub\n",
        "+ *: mul\n",
        "+ /: div\n",
        "+ NaN: fill_value = 0"
      ]
    },
    {
      "cell_type": "code",
      "metadata": {
        "colab": {
          "base_uri": "https://localhost:8080/"
        },
        "id": "sIJU2gYXOpS9",
        "outputId": "c91acfce-4b43-4468-c8a1-cd76613d7b74"
      },
      "source": [
        "student1 = pd.Series({'영어': np.nan, '수학': 80, '국어': 96})\n",
        "student2 = pd.Series({'수학': 94, '영어': 100})\n",
        "sum_student = student1.add(student2, fill_value=0)\n",
        "sum_student"
      ],
      "execution_count": 97,
      "outputs": [
        {
          "output_type": "execute_result",
          "data": {
            "text/plain": [
              "국어     96.0\n",
              "수학    174.0\n",
              "영어    100.0\n",
              "dtype: float64"
            ]
          },
          "metadata": {
            "tags": []
          },
          "execution_count": 97
        }
      ]
    },
    {
      "cell_type": "markdown",
      "metadata": {
        "id": "uSmwNUOdPI5U"
      },
      "source": [
        "##### 4) DataFrame와 숫자 연산"
      ]
    },
    {
      "cell_type": "code",
      "metadata": {
        "colab": {
          "base_uri": "https://localhost:8080/",
          "height": 136
        },
        "id": "Ykym93jIPPD8",
        "outputId": "f5544795-9eb9-4a51-d322-1797be746aa0"
      },
      "source": [
        "korean = pd.Series({'s1': 96, 's2': 80, 's3': 96})\n",
        "english = pd.Series({'s1': 94, 's2': 100, 's3': 83})\n",
        "math = pd.Series({'s1': 90, 's2': 83, 's3': 92})\n",
        "score = pd.DataFrame({'kor': korean, 'eng': english, 'mat': math})\n",
        "score"
      ],
      "execution_count": 98,
      "outputs": [
        {
          "output_type": "execute_result",
          "data": {
            "text/html": [
              "<div>\n",
              "<style scoped>\n",
              "    .dataframe tbody tr th:only-of-type {\n",
              "        vertical-align: middle;\n",
              "    }\n",
              "\n",
              "    .dataframe tbody tr th {\n",
              "        vertical-align: top;\n",
              "    }\n",
              "\n",
              "    .dataframe thead th {\n",
              "        text-align: right;\n",
              "    }\n",
              "</style>\n",
              "<table border=\"1\" class=\"dataframe\">\n",
              "  <thead>\n",
              "    <tr style=\"text-align: right;\">\n",
              "      <th></th>\n",
              "      <th>kor</th>\n",
              "      <th>eng</th>\n",
              "      <th>mat</th>\n",
              "    </tr>\n",
              "  </thead>\n",
              "  <tbody>\n",
              "    <tr>\n",
              "      <th>s1</th>\n",
              "      <td>96</td>\n",
              "      <td>94</td>\n",
              "      <td>90</td>\n",
              "    </tr>\n",
              "    <tr>\n",
              "      <th>s2</th>\n",
              "      <td>80</td>\n",
              "      <td>100</td>\n",
              "      <td>83</td>\n",
              "    </tr>\n",
              "    <tr>\n",
              "      <th>s3</th>\n",
              "      <td>96</td>\n",
              "      <td>83</td>\n",
              "      <td>92</td>\n",
              "    </tr>\n",
              "  </tbody>\n",
              "</table>\n",
              "</div>"
            ],
            "text/plain": [
              "    kor  eng  mat\n",
              "s1   96   94   90\n",
              "s2   80  100   83\n",
              "s3   96   83   92"
            ]
          },
          "metadata": {
            "tags": []
          },
          "execution_count": 98
        }
      ]
    },
    {
      "cell_type": "code",
      "metadata": {
        "colab": {
          "base_uri": "https://localhost:8080/",
          "height": 136
        },
        "id": "BDRu9pFcPu-n",
        "outputId": "fbc7bf27-947a-4d96-dd6f-1b1f4dac26aa"
      },
      "source": [
        "# 모든 요소 각각에 숫자 연산을 적용\n",
        "score = score / 100\n",
        "score"
      ],
      "execution_count": 99,
      "outputs": [
        {
          "output_type": "execute_result",
          "data": {
            "text/html": [
              "<div>\n",
              "<style scoped>\n",
              "    .dataframe tbody tr th:only-of-type {\n",
              "        vertical-align: middle;\n",
              "    }\n",
              "\n",
              "    .dataframe tbody tr th {\n",
              "        vertical-align: top;\n",
              "    }\n",
              "\n",
              "    .dataframe thead th {\n",
              "        text-align: right;\n",
              "    }\n",
              "</style>\n",
              "<table border=\"1\" class=\"dataframe\">\n",
              "  <thead>\n",
              "    <tr style=\"text-align: right;\">\n",
              "      <th></th>\n",
              "      <th>kor</th>\n",
              "      <th>eng</th>\n",
              "      <th>mat</th>\n",
              "    </tr>\n",
              "  </thead>\n",
              "  <tbody>\n",
              "    <tr>\n",
              "      <th>s1</th>\n",
              "      <td>0.96</td>\n",
              "      <td>0.94</td>\n",
              "      <td>0.90</td>\n",
              "    </tr>\n",
              "    <tr>\n",
              "      <th>s2</th>\n",
              "      <td>0.80</td>\n",
              "      <td>1.00</td>\n",
              "      <td>0.83</td>\n",
              "    </tr>\n",
              "    <tr>\n",
              "      <th>s3</th>\n",
              "      <td>0.96</td>\n",
              "      <td>0.83</td>\n",
              "      <td>0.92</td>\n",
              "    </tr>\n",
              "  </tbody>\n",
              "</table>\n",
              "</div>"
            ],
            "text/plain": [
              "     kor   eng   mat\n",
              "s1  0.96  0.94  0.90\n",
              "s2  0.80  1.00  0.83\n",
              "s3  0.96  0.83  0.92"
            ]
          },
          "metadata": {
            "tags": []
          },
          "execution_count": 99
        }
      ]
    },
    {
      "cell_type": "markdown",
      "metadata": {
        "id": "MPaIo-UXP2vg"
      },
      "source": [
        "##### 5) DataFrame와 DataFrame 연산\n",
        "+ 동일한 행과 열 위치에 있는 요소끼리 계산\n",
        "+ 계산 결과는 원래 위치에 넣어서 DataFrame을 만들고 반환환"
      ]
    },
    {
      "cell_type": "code",
      "metadata": {
        "colab": {
          "base_uri": "https://localhost:8080/",
          "height": 136
        },
        "id": "993QbNrgQINA",
        "outputId": "d6086143-8169-431a-d9f6-8bc3c7b9c736"
      },
      "source": [
        "score = pd.DataFrame({'kor': korean, 'eng': english, 'mat': math})\n",
        "score1 = score + np.random.randint(-10, 10)\n",
        "score1"
      ],
      "execution_count": 106,
      "outputs": [
        {
          "output_type": "execute_result",
          "data": {
            "text/html": [
              "<div>\n",
              "<style scoped>\n",
              "    .dataframe tbody tr th:only-of-type {\n",
              "        vertical-align: middle;\n",
              "    }\n",
              "\n",
              "    .dataframe tbody tr th {\n",
              "        vertical-align: top;\n",
              "    }\n",
              "\n",
              "    .dataframe thead th {\n",
              "        text-align: right;\n",
              "    }\n",
              "</style>\n",
              "<table border=\"1\" class=\"dataframe\">\n",
              "  <thead>\n",
              "    <tr style=\"text-align: right;\">\n",
              "      <th></th>\n",
              "      <th>kor</th>\n",
              "      <th>eng</th>\n",
              "      <th>mat</th>\n",
              "    </tr>\n",
              "  </thead>\n",
              "  <tbody>\n",
              "    <tr>\n",
              "      <th>s1</th>\n",
              "      <td>94</td>\n",
              "      <td>92</td>\n",
              "      <td>88</td>\n",
              "    </tr>\n",
              "    <tr>\n",
              "      <th>s2</th>\n",
              "      <td>78</td>\n",
              "      <td>98</td>\n",
              "      <td>81</td>\n",
              "    </tr>\n",
              "    <tr>\n",
              "      <th>s3</th>\n",
              "      <td>94</td>\n",
              "      <td>81</td>\n",
              "      <td>90</td>\n",
              "    </tr>\n",
              "  </tbody>\n",
              "</table>\n",
              "</div>"
            ],
            "text/plain": [
              "    kor  eng  mat\n",
              "s1   94   92   88\n",
              "s2   78   98   81\n",
              "s3   94   81   90"
            ]
          },
          "metadata": {
            "tags": []
          },
          "execution_count": 106
        }
      ]
    },
    {
      "cell_type": "code",
      "metadata": {
        "colab": {
          "base_uri": "https://localhost:8080/",
          "height": 136
        },
        "id": "k6N9PvqYQZse",
        "outputId": "9893000d-edc4-4e48-989c-f6fc3a971447"
      },
      "source": [
        "score2 = score + np.random.randint(-10, 10)\n",
        "score2"
      ],
      "execution_count": 107,
      "outputs": [
        {
          "output_type": "execute_result",
          "data": {
            "text/html": [
              "<div>\n",
              "<style scoped>\n",
              "    .dataframe tbody tr th:only-of-type {\n",
              "        vertical-align: middle;\n",
              "    }\n",
              "\n",
              "    .dataframe tbody tr th {\n",
              "        vertical-align: top;\n",
              "    }\n",
              "\n",
              "    .dataframe thead th {\n",
              "        text-align: right;\n",
              "    }\n",
              "</style>\n",
              "<table border=\"1\" class=\"dataframe\">\n",
              "  <thead>\n",
              "    <tr style=\"text-align: right;\">\n",
              "      <th></th>\n",
              "      <th>kor</th>\n",
              "      <th>eng</th>\n",
              "      <th>mat</th>\n",
              "    </tr>\n",
              "  </thead>\n",
              "  <tbody>\n",
              "    <tr>\n",
              "      <th>s1</th>\n",
              "      <td>102</td>\n",
              "      <td>100</td>\n",
              "      <td>96</td>\n",
              "    </tr>\n",
              "    <tr>\n",
              "      <th>s2</th>\n",
              "      <td>86</td>\n",
              "      <td>106</td>\n",
              "      <td>89</td>\n",
              "    </tr>\n",
              "    <tr>\n",
              "      <th>s3</th>\n",
              "      <td>102</td>\n",
              "      <td>89</td>\n",
              "      <td>98</td>\n",
              "    </tr>\n",
              "  </tbody>\n",
              "</table>\n",
              "</div>"
            ],
            "text/plain": [
              "    kor  eng  mat\n",
              "s1  102  100   96\n",
              "s2   86  106   89\n",
              "s3  102   89   98"
            ]
          },
          "metadata": {
            "tags": []
          },
          "execution_count": 107
        }
      ]
    },
    {
      "cell_type": "code",
      "metadata": {
        "colab": {
          "base_uri": "https://localhost:8080/",
          "height": 136
        },
        "id": "E864afrfQht-",
        "outputId": "e08f58c1-95fd-4779-eb8a-45aa0ef14320"
      },
      "source": [
        "sum_score = score1 + score2\n",
        "sum_score"
      ],
      "execution_count": 108,
      "outputs": [
        {
          "output_type": "execute_result",
          "data": {
            "text/html": [
              "<div>\n",
              "<style scoped>\n",
              "    .dataframe tbody tr th:only-of-type {\n",
              "        vertical-align: middle;\n",
              "    }\n",
              "\n",
              "    .dataframe tbody tr th {\n",
              "        vertical-align: top;\n",
              "    }\n",
              "\n",
              "    .dataframe thead th {\n",
              "        text-align: right;\n",
              "    }\n",
              "</style>\n",
              "<table border=\"1\" class=\"dataframe\">\n",
              "  <thead>\n",
              "    <tr style=\"text-align: right;\">\n",
              "      <th></th>\n",
              "      <th>kor</th>\n",
              "      <th>eng</th>\n",
              "      <th>mat</th>\n",
              "    </tr>\n",
              "  </thead>\n",
              "  <tbody>\n",
              "    <tr>\n",
              "      <th>s1</th>\n",
              "      <td>196</td>\n",
              "      <td>192</td>\n",
              "      <td>184</td>\n",
              "    </tr>\n",
              "    <tr>\n",
              "      <th>s2</th>\n",
              "      <td>164</td>\n",
              "      <td>204</td>\n",
              "      <td>170</td>\n",
              "    </tr>\n",
              "    <tr>\n",
              "      <th>s3</th>\n",
              "      <td>196</td>\n",
              "      <td>170</td>\n",
              "      <td>188</td>\n",
              "    </tr>\n",
              "  </tbody>\n",
              "</table>\n",
              "</div>"
            ],
            "text/plain": [
              "    kor  eng  mat\n",
              "s1  196  192  184\n",
              "s2  164  204  170\n",
              "s3  196  170  188"
            ]
          },
          "metadata": {
            "tags": []
          },
          "execution_count": 108
        }
      ]
    },
    {
      "cell_type": "code",
      "metadata": {
        "colab": {
          "base_uri": "https://localhost:8080/",
          "height": 136
        },
        "id": "ZzJ2LaJnQreL",
        "outputId": "5ae9be89-a60e-4a30-9651-0b95b5b4f9fd"
      },
      "source": [
        "music = pd.Series({'s1': 96, 's2': 98, 's3': 85})\n",
        "score1['mus'] = music\n",
        "score1"
      ],
      "execution_count": 109,
      "outputs": [
        {
          "output_type": "execute_result",
          "data": {
            "text/html": [
              "<div>\n",
              "<style scoped>\n",
              "    .dataframe tbody tr th:only-of-type {\n",
              "        vertical-align: middle;\n",
              "    }\n",
              "\n",
              "    .dataframe tbody tr th {\n",
              "        vertical-align: top;\n",
              "    }\n",
              "\n",
              "    .dataframe thead th {\n",
              "        text-align: right;\n",
              "    }\n",
              "</style>\n",
              "<table border=\"1\" class=\"dataframe\">\n",
              "  <thead>\n",
              "    <tr style=\"text-align: right;\">\n",
              "      <th></th>\n",
              "      <th>kor</th>\n",
              "      <th>eng</th>\n",
              "      <th>mat</th>\n",
              "      <th>mus</th>\n",
              "    </tr>\n",
              "  </thead>\n",
              "  <tbody>\n",
              "    <tr>\n",
              "      <th>s1</th>\n",
              "      <td>94</td>\n",
              "      <td>92</td>\n",
              "      <td>88</td>\n",
              "      <td>96</td>\n",
              "    </tr>\n",
              "    <tr>\n",
              "      <th>s2</th>\n",
              "      <td>78</td>\n",
              "      <td>98</td>\n",
              "      <td>81</td>\n",
              "      <td>98</td>\n",
              "    </tr>\n",
              "    <tr>\n",
              "      <th>s3</th>\n",
              "      <td>94</td>\n",
              "      <td>81</td>\n",
              "      <td>90</td>\n",
              "      <td>85</td>\n",
              "    </tr>\n",
              "  </tbody>\n",
              "</table>\n",
              "</div>"
            ],
            "text/plain": [
              "    kor  eng  mat  mus\n",
              "s1   94   92   88   96\n",
              "s2   78   98   81   98\n",
              "s3   94   81   90   85"
            ]
          },
          "metadata": {
            "tags": []
          },
          "execution_count": 109
        }
      ]
    },
    {
      "cell_type": "code",
      "metadata": {
        "colab": {
          "base_uri": "https://localhost:8080/",
          "height": 136
        },
        "id": "567G5j4RQ3gl",
        "outputId": "cae05825-cb8e-49bb-b0ea-af348da06450"
      },
      "source": [
        "sum_score = score1 + score2\n",
        "sum_score"
      ],
      "execution_count": 110,
      "outputs": [
        {
          "output_type": "execute_result",
          "data": {
            "text/html": [
              "<div>\n",
              "<style scoped>\n",
              "    .dataframe tbody tr th:only-of-type {\n",
              "        vertical-align: middle;\n",
              "    }\n",
              "\n",
              "    .dataframe tbody tr th {\n",
              "        vertical-align: top;\n",
              "    }\n",
              "\n",
              "    .dataframe thead th {\n",
              "        text-align: right;\n",
              "    }\n",
              "</style>\n",
              "<table border=\"1\" class=\"dataframe\">\n",
              "  <thead>\n",
              "    <tr style=\"text-align: right;\">\n",
              "      <th></th>\n",
              "      <th>eng</th>\n",
              "      <th>kor</th>\n",
              "      <th>mat</th>\n",
              "      <th>mus</th>\n",
              "    </tr>\n",
              "  </thead>\n",
              "  <tbody>\n",
              "    <tr>\n",
              "      <th>s1</th>\n",
              "      <td>192</td>\n",
              "      <td>196</td>\n",
              "      <td>184</td>\n",
              "      <td>NaN</td>\n",
              "    </tr>\n",
              "    <tr>\n",
              "      <th>s2</th>\n",
              "      <td>204</td>\n",
              "      <td>164</td>\n",
              "      <td>170</td>\n",
              "      <td>NaN</td>\n",
              "    </tr>\n",
              "    <tr>\n",
              "      <th>s3</th>\n",
              "      <td>170</td>\n",
              "      <td>196</td>\n",
              "      <td>188</td>\n",
              "      <td>NaN</td>\n",
              "    </tr>\n",
              "  </tbody>\n",
              "</table>\n",
              "</div>"
            ],
            "text/plain": [
              "    eng  kor  mat  mus\n",
              "s1  192  196  184  NaN\n",
              "s2  204  164  170  NaN\n",
              "s3  170  196  188  NaN"
            ]
          },
          "metadata": {
            "tags": []
          },
          "execution_count": 110
        }
      ]
    },
    {
      "cell_type": "markdown",
      "metadata": {
        "id": "1yVNvv8JRO0g"
      },
      "source": [
        "# Pandas 심화 실습"
      ]
    },
    {
      "cell_type": "markdown",
      "metadata": {
        "id": "0yE7jZilRT4Y"
      },
      "source": [
        "## 4-1 Pandas 심화(1)"
      ]
    },
    {
      "cell_type": "markdown",
      "metadata": {
        "id": "RzxV6erlRXul"
      },
      "source": [
        "### 1. Pandas 심화\n",
        "</br>\n",
        "\n",
        "##### 1) CSV 파일\n",
        "</br>\n",
        "\n",
        "[ __빅테이터 분석 및 처리__ ]\n",
        "+ 데이터를 파일에서 읽어올 수 있고, 분석이 끝난 데이터를 파일에다 쓸 수 있어야 함\n",
        "+ 엑셀, 텍스트, SQL 데이터베이스, CSV 파일 등\n",
        "\n",
        "</br>\n",
        "\n",
        "[ __CSV란?__ ]\n",
        "+ Comma-Separated Values\n",
        "+ 필드를 쉼표(,)로 구분한 텍스트 데이터 및 텍스트 파일\n",
        "+ 확장자 csv 사용\n",
        "+ 파이썬 프로그램을 이용하면 효율적인 처리 가능\n",
        "\n",
        "</br>\n",
        "\n",
        "[ __CSV 파일 읽기__ ]"
      ]
    },
    {
      "cell_type": "code",
      "metadata": {
        "id": "NsOVbNujSLmq"
      },
      "source": [
        "# read_csv() 함수 : CSV 파일을 읽고 데이터프레임화 함\n",
        "import pandas as pd\n",
        "csv_test = pd.read_csv('/content/drive/My Drive/test_csv_file.csv')"
      ],
      "execution_count": null,
      "outputs": []
    },
    {
      "cell_type": "code",
      "metadata": {
        "id": "0ogS39hGSiom"
      },
      "source": [
        "# to_csv() 함수 : 저장할 데이터프레임에서 to_csv() 함수를 호출\n",
        "cvs_test.to_csv('/content/drive/My Drive/test_csv_file.csv')"
      ],
      "execution_count": null,
      "outputs": []
    },
    {
      "cell_type": "markdown",
      "metadata": {
        "id": "zdwTQzW0S3iZ"
      },
      "source": [
        "##### 2) 데이터와 CSV 파일"
      ]
    },
    {
      "cell_type": "code",
      "metadata": {
        "id": "r1Hs8gO1S6Bg"
      },
      "source": [
        "# read_csv() 함수로 rc 생성\n",
        "rc = pd.read_csv('/content/drive/My Drive/일별평균대기오염도_2018_중구.csv', header=None, encoding='euc-kr')\n",
        "# header=None : 인덱스 및 헤더를 출력하지 않음\n",
        "# encoding='euc-kr' : 파일 내용이 한글로 구성되어 있음음"
      ],
      "execution_count": null,
      "outputs": []
    },
    {
      "cell_type": "code",
      "metadata": {
        "id": "bSwn99k5TjZo"
      },
      "source": [
        "# 열 이름 지정\n",
        "rc.columns = ['측정일시', '이산화질소농도(ppm)', '오존농도(ppm)', '이산화탄소농도(ppm)', '아황산가스(ppm)', '미세먼지(ug/m^3)', '초미세먼지(ug/m^3)']"
      ],
      "execution_count": null,
      "outputs": []
    },
    {
      "cell_type": "code",
      "metadata": {
        "id": "utojZTslULto"
      },
      "source": [
        "# 데이터프레임 rc의 내용을 head(), tail() 함수로 일부 확인\n",
        "print(rc.head())\n",
        "print('\\n')\n",
        "print(rc.tail())"
      ],
      "execution_count": null,
      "outputs": []
    },
    {
      "cell_type": "markdown",
      "metadata": {
        "id": "_9481KfTUf3l"
      },
      "source": [
        "+ head() 함수\n",
        "  + 인자 n 사용\n",
        "  + 기본값 5\n",
        "  + 데이터프레임의 앞부분 일부 행을 반환"
      ]
    },
    {
      "cell_type": "code",
      "metadata": {
        "id": "yvRx6t87Um5N"
      },
      "source": [
        "print(rc.head(3))"
      ],
      "execution_count": null,
      "outputs": []
    },
    {
      "cell_type": "markdown",
      "metadata": {
        "id": "218X1sIyUrw7"
      },
      "source": [
        "+ tail() 함수\n",
        "  + 인자 n 사용\n",
        "  + 기본값 5\n",
        "  + 데이터프레임의 마지막 일부 행을 반환"
      ]
    },
    {
      "cell_type": "code",
      "metadata": {
        "id": "tR-R4aCoUyqF"
      },
      "source": [
        "print(rc.tail(3))"
      ],
      "execution_count": null,
      "outputs": []
    },
    {
      "cell_type": "markdown",
      "metadata": {
        "id": "qHCSBREaU2zd"
      },
      "source": [
        "##### 4) 데이터 요약 정보 확인하기\n",
        "</br>\n",
        "\n",
        "[ __데이터프레임의 크기(행,열)__ ]\n",
        "+ 데이터 프레임 rc의 모양과 크기 확인  \n",
        "→ 행의 개수, 열의 개수를 튜플로 반환"
      ]
    },
    {
      "cell_type": "code",
      "metadata": {
        "id": "ydjSqumMVP96"
      },
      "source": [
        "print(rc.shape)"
      ],
      "execution_count": null,
      "outputs": []
    },
    {
      "cell_type": "markdown",
      "metadata": {
        "id": "Bc_K_x3vVXVT"
      },
      "source": [
        "[ __데이터프레임의 기본 정보__ ]\n",
        "+ info() 함수  \n",
        "→ 데이터프레임의 기본 정보를 화면에 출력"
      ]
    },
    {
      "cell_type": "code",
      "metadata": {
        "id": "NGnhr1alVg7a"
      },
      "source": [
        "print(rc.info())\n",
        "# 첫 번째 행(pandas.core.frame.DataFrame) : 데이터프레임 rc의 클래스 유형\n",
        "# 두 번재 행(RangeIndex) : @개의 행 인덱스에 관한 사항\n",
        "# 세 번째 행(Data Columns) : @개의 열에 관환 정보\n",
        "# 중간 : 각 열의 이름과 데이터 개수, 데이터 형을 나열\n",
        "# 다음 : 사용된 데이터 형의 개수\n",
        "# 다음 : 메모리 사용량"
      ],
      "execution_count": null,
      "outputs": []
    },
    {
      "cell_type": "markdown",
      "metadata": {
        "id": "vPc614qPWOT7"
      },
      "source": [
        "[ __데이터프레임의 각 열의 자료형 확인__ ]"
      ]
    },
    {
      "cell_type": "code",
      "metadata": {
        "id": "ut_TXLJ0WXEy"
      },
      "source": [
        "# 데이터프레임 dtypes 속성 활용\n",
        "print(rc.dtypes)"
      ],
      "execution_count": null,
      "outputs": []
    },
    {
      "cell_type": "code",
      "metadata": {
        "id": "GCZvm2MnWdDC"
      },
      "source": [
        "# 특정 열에 대해 dtypes 속성 적용\n",
        "print(rc.초미세먼지.dtypes)"
      ],
      "execution_count": null,
      "outputs": []
    },
    {
      "cell_type": "markdown",
      "metadata": {
        "id": "Oh5czGvQWm8y"
      },
      "source": [
        "[ __데이터프레임의 기술 통계 정보 요약__ ]\n",
        "+ describe() 함수  \n",
        "→ 숫자 데이터를 갖는 열에 대해 주요 통계 정보 요약 출력\n",
        "+ 주요 통계 정보  \n",
        "→ 평균, 표준편차, 최대값, 최소값, 중간값 등"
      ]
    },
    {
      "cell_type": "code",
      "metadata": {
        "id": "5VswbIltW7uS"
      },
      "source": [
        "print(rc.describe())\n",
        "# 각 열의 값을 대상\n",
        "# count : 데이터 개수\n",
        "# mean : 평균값\n",
        "# std : 표준편차\n",
        "# min : 최소값\n",
        "# 25%, 50%, 75% : 4분위수\n",
        "# max : 최대값값"
      ],
      "execution_count": null,
      "outputs": []
    },
    {
      "cell_type": "markdown",
      "metadata": {
        "id": "TUBcySIbXUID"
      },
      "source": [
        "[ __각 열의 데이터 개수 확인__ ]\n",
        "+ count() 함수  \n",
        "→ 데이터프레임의 각 열이 갖고 있는 요소 개수를 시리즈 객체로 반환"
      ]
    },
    {
      "cell_type": "code",
      "metadata": {
        "id": "8j04sACiXcrd"
      },
      "source": [
        "print(rc.count())"
      ],
      "execution_count": null,
      "outputs": []
    },
    {
      "cell_type": "markdown",
      "metadata": {
        "id": "xsmvmPmKXieL"
      },
      "source": [
        "[ __각 열의 고유값 개수 확인__ ]\n",
        "+ value_counts() 함수  \n",
        "→ 고유값은 행 인덱스, 고유값의 개수는 데이터 값이 되는 시리즈 객체 생성"
      ]
    },
    {
      "cell_type": "code",
      "metadata": {
        "id": "weQc4U-KXtyn"
      },
      "source": [
        "print(rc['초미세먼지'].value_counts())\n",
        "# 7 14 -> 초미세먼지 7 마이크로그램 -> 14번 나타남\n",
        "# dropna=True : 데이터 값 중에 NaN을 제외하고 개수를 셈셈"
      ],
      "execution_count": null,
      "outputs": []
    },
    {
      "cell_type": "markdown",
      "metadata": {
        "id": "sdshE6HGYHjc"
      },
      "source": [
        "##### 6) 통계 함수\n",
        "[ __평균값 확인__ ]\n",
        "+ mean() 함수  \n",
        "→ 산술 데이터를 갖는 모든 열의 평균값을 계산하여 시리즈 객체로 반환"
      ]
    },
    {
      "cell_type": "code",
      "metadata": {
        "id": "nfsJmg1eYT9Z"
      },
      "source": [
        "print(rc.mean())"
      ],
      "execution_count": null,
      "outputs": []
    },
    {
      "cell_type": "code",
      "metadata": {
        "id": "3YjvukAdYYpo"
      },
      "source": [
        "# 특정 열에 대해 dtypes 속성 적용\n",
        "print(rc['초미세먼지'].mean())"
      ],
      "execution_count": null,
      "outputs": []
    },
    {
      "cell_type": "markdown",
      "metadata": {
        "id": "oq2ps0FsYg0_"
      },
      "source": [
        "[ __중간값 확인__ ]\n",
        "+ median() 함수  \n",
        "→ 산술 데이터를 갖는 모든 열의 중간값을 계산하여 시리즈 객체로 반환"
      ]
    },
    {
      "cell_type": "code",
      "metadata": {
        "id": "BvFzFkJAYo5U"
      },
      "source": [
        "print(rc.median())"
      ],
      "execution_count": null,
      "outputs": []
    },
    {
      "cell_type": "code",
      "metadata": {
        "id": "jLzqG-aFYrql"
      },
      "source": [
        "# 특정 열에 대해 median() 함수 적용\n",
        "print(rc['초미세먼지'].median())"
      ],
      "execution_count": null,
      "outputs": []
    },
    {
      "cell_type": "markdown",
      "metadata": {
        "id": "ihBnPR3hYxwN"
      },
      "source": [
        "[ __최대값 확인__ ]\n",
        "+ max() 함수  \n",
        "→ 데이터프레임의 각 열이 갖는 데이터 값 중에서 최대값을 계산하여 시리즈 객체로 반환"
      ]
    },
    {
      "cell_type": "code",
      "metadata": {
        "id": "Sm3AfjSVY74i"
      },
      "source": [
        "print(rc.max())"
      ],
      "execution_count": null,
      "outputs": []
    },
    {
      "cell_type": "code",
      "metadata": {
        "id": "RjDWVPt8Y-9h"
      },
      "source": [
        "# 특정 열에 대해 max() 함수 적용\n",
        "print(rc['초미세먼지'].max())"
      ],
      "execution_count": null,
      "outputs": []
    },
    {
      "cell_type": "markdown",
      "metadata": {
        "id": "Fs4ZNUbDZL7o"
      },
      "source": [
        "[ __최소값 확인__ ]\n",
        "+ min() 함수  \n",
        "→ 데이터프레임의 각 열이 갖는 데이터 값 중에서 최소값을 계산하여 시리즈 객체로 반환"
      ]
    },
    {
      "cell_type": "code",
      "metadata": {
        "id": "gARuBFBSZVO8"
      },
      "source": [
        "print(rc.min())"
      ],
      "execution_count": null,
      "outputs": []
    },
    {
      "cell_type": "code",
      "metadata": {
        "id": "cXWRK_LwZXQz"
      },
      "source": [
        "# 특정 열에 대해 min() 함수 적용\n",
        "print(rc['초미세먼지'].min())"
      ],
      "execution_count": null,
      "outputs": []
    },
    {
      "cell_type": "markdown",
      "metadata": {
        "id": "Ei9qXOFRZdfi"
      },
      "source": [
        "[ __표준편차 확인__ ]\n",
        "+ std() 함수  \n",
        "→ 산술 데이터를 갖는 모든 열의 표준편차를 계산하여 시리즈 객체로 반환"
      ]
    },
    {
      "cell_type": "code",
      "metadata": {
        "id": "IOJViAhgZ3q0"
      },
      "source": [
        "print(rc.std())"
      ],
      "execution_count": null,
      "outputs": []
    },
    {
      "cell_type": "code",
      "metadata": {
        "id": "2pnSxEYvZ6BE"
      },
      "source": [
        "# 특정 열에 대해 std() 함수 적용\n",
        "print(rc['초미세먼지'].std())"
      ],
      "execution_count": null,
      "outputs": []
    },
    {
      "cell_type": "markdown",
      "metadata": {
        "id": "MZtz3H_jaTFY"
      },
      "source": [
        "[ __상관계수 확인__ ]\n",
        "+ corr() 함수  \n",
        "→ 산술 데이터를 갖는 모든 열에 대해 2개씩 짝을 짓고 각 경우의 상관계수를 계산"
      ]
    },
    {
      "cell_type": "code",
      "metadata": {
        "id": "Ah5DnJVXae5_"
      },
      "source": [
        "print(rc.corr())"
      ],
      "execution_count": null,
      "outputs": []
    },
    {
      "cell_type": "code",
      "metadata": {
        "id": "8sB1S4K5aicx"
      },
      "source": [
        "# 특정 열에 대해 corr() 함수 적용\n",
        "print(rc[['미세먼지', '초미세먼지']].corr())"
      ],
      "execution_count": null,
      "outputs": []
    },
    {
      "cell_type": "markdown",
      "metadata": {
        "id": "zocmJV9_awOa"
      },
      "source": [
        "## 4-2 Pandas 심화(2)"
      ]
    },
    {
      "cell_type": "markdown",
      "metadata": {
        "id": "aGcCaK3ia3Sk"
      },
      "source": [
        "### 1. Pandas의 심화 (2)\n",
        "</br>\n",
        "\n",
        "##### 1) Pandas 내장 그래프\n",
        "</br>\n",
        "\n",
        "[ __그래프 활용__ ]\n",
        "+ 그래프는 데이터의 의미를 전달하는데 효과적\n",
        "+ 시각화는 데이터의 분포와 패턴 파악에 용의함\n",
        "\n",
        "</br>\n",
        "\n",
        "[ __그래프를 이용한 시각화__ ]\n",
        "+ Matplotlib 라이브러리의 기능을 일부 내장하여 별도의 임포트 없이 간단히 그래프 활용 가능\n",
        "+ 시리즈 또는 데이터 프레임 객체에 plot() 시각화 내장 함수를 이용\n",
        "![plot() 시각화 내장 함수](https://github.com/seoy9/DALC_Scala/blob/201ad58053b370b2b532b25e25b51b51937234aa/%EC%8B%9C%EA%B0%81%ED%99%94%EB%82%B4%EC%9E%A5%ED%95%A8%EC%88%98.JPG?raw=true)\n",
        "\n",
        "</br>\n",
        "\n",
        "[ __한글 폰트 설정__ ]"
      ]
    },
    {
      "cell_type": "code",
      "metadata": {
        "id": "Ej1VgU1HcH_q"
      },
      "source": [
        "# 한글 폰트(나눔) 설치\n",
        "lapt -qq -y install fonts-nanum"
      ],
      "execution_count": null,
      "outputs": []
    },
    {
      "cell_type": "code",
      "metadata": {
        "id": "IzMpUvnlcJgh"
      },
      "source": [
        "import matplotlib as mpl\n",
        "import matplotlib.pyplot as plt\n",
        "import matplotlib.font_manager as fm\n",
        "fontpath = '/usr/share/fonts/truetype/nanum/NanumBarunGothic.ttf'\n",
        "font = fm.FontProperties(fname=fontpath, size=9)\n",
        "plt.rc('font', family=\"NanumBarunGothic\")\n",
        "mpl.font_manager._rebuild()\n",
        "# 나눔 폰트 -> 기본 폰트\n",
        "# 에러 발생 시, colab 메뉴 런타임 -> 런타임 다시 시작작"
      ],
      "execution_count": null,
      "outputs": []
    },
    {
      "cell_type": "markdown",
      "metadata": {
        "id": "ggQ4eIqIdDyq"
      },
      "source": [
        "[ __선 그래프__ ]\n",
        "+ 옵션 없이 plot() 함수를 적용하면 기본 선 그래프를 그림"
      ]
    },
    {
      "cell_type": "code",
      "metadata": {
        "id": "Na2gnSN1dK80"
      },
      "source": [
        "import pandas as pd\n",
        "data = pd.read.csv('/content/drive/My Drive/일별평균대기오염도_2018_중구.csv', header=None, encoding='euc-kr') # 구글 드라이버에서 read_csv 명령문을 읽어서 data라는 데이터프레임으로 가져옴\n",
        "data.columns = ['측정일시', '이산화질소농도', '오존농도', '이산화탄소농도', '미세먼지', '초미세먼지']\n",
        "p_data = data.iloc[:, 5:] # iloc 명령문을 사용하여 전체 데이터에서 필요한 부분만 추출(미세먼지, 초미세먼지)\n",
        "p_data.plot() # 데이터프레임 p_data를 대상으로 plot 함수를 호출하면 선 모양의 그래프가 자동으로 그려짐"
      ],
      "execution_count": null,
      "outputs": []
    },
    {
      "cell_type": "markdown",
      "metadata": {
        "id": "HNVXUIkbentM"
      },
      "source": [
        "![선 그래프](https://github.com/seoy9/DALC_Scala/blob/3e8e600b0aac2294934c57664204e6e29d783c84/%EC%84%A0%EA%B7%B8%EB%9E%98%ED%94%84.JPG?raw=true)\n",
        "\n",
        "+ x축 : 측정일을 숫자로 나열\n",
        "+ y축 : 입방미터당 마이크로그램 단위의 값\n",
        "+ 파란색 선 : 미세먼지\n",
        "+ 주황색 선 : 초미세먼지\n",
        "\n",
        "</br>\n",
        "\n",
        "[ __막대 그래프__ ]\n",
        "+ kind='bar' 옵션 적용"
      ]
    },
    {
      "cell_type": "code",
      "metadata": {
        "id": "j8cVD2VIfDO8"
      },
      "source": [
        "b_data = data.lioc[0:30. :5]\n",
        "b_data.plot(kind='bar')"
      ],
      "execution_count": null,
      "outputs": []
    },
    {
      "cell_type": "markdown",
      "metadata": {
        "id": "tQ2Yb8u9foRB"
      },
      "source": [
        "![막대 그래프](https://github.com/seoy9/DALC_Scala/blob/226468fe47753322909d5790e21946b981dc0274/%EB%A7%89%EB%8C%80%EA%B7%B8%EB%9E%98%ED%94%84.JPG?raw=true)\n",
        "\n",
        "+ x축 : 행\n",
        "\n",
        "</br>\n",
        "\n",
        "[ __히스토그램__ ]\n",
        "+ kind='hist' 옵션 사용 __히스토그램__ ]\n",
        "+ kind='hist' 옵션 사용\n",
        "\n"
      ]
    },
    {
      "cell_type": "code",
      "metadata": {
        "id": "I1W-isvDf7nD"
      },
      "source": [
        "h_data = data.lioc[0:30, :5]\n",
        "h_data.plot(kind='hist')"
      ],
      "execution_count": null,
      "outputs": []
    },
    {
      "cell_type": "markdown",
      "metadata": {
        "id": "gSffK41ygZfx"
      },
      "source": [
        "![히스토그램](https://github.com/seoy9/DALC_Scala/blob/59b4ba5f0713c9b01cbfc534e80d427cc2136551/%ED%9E%88%EC%8A%A4%ED%86%A0%EA%B7%B8%EB%9E%A8.JPG?raw=true)\n",
        "\n",
        "+ 입방미터당 90에서 100마이크로그램에 해당하는 값이 30일 중에 2일\n",
        "+ 30에서 40마이크로그램에 해당하는 일 수는 7일\n",
        "\n",
        "</br>\n",
        "\n",
        "[ __산점도__ ]\n",
        "+ x, y축으로 이루어진 그래프에 두 변수의 값을 점으로 나타낸 그래프\n",
        "+ 두 변수 사이의 관계를 시각적으로 나타냄\n",
        "+ kind='scatter' 옵션 적용"
      ]
    },
    {
      "cell_type": "code",
      "metadata": {
        "id": "3hLUkFTUg2Tv"
      },
      "source": [
        "data.plot(x='미세먼지', y='초미세먼지', kind='scatter')"
      ],
      "execution_count": null,
      "outputs": []
    },
    {
      "cell_type": "markdown",
      "metadata": {
        "id": "8pctVc_jhKqR"
      },
      "source": [
        "![산점도](https://github.com/seoy9/DALC_Scala/blob/228bdadb45b19aecea5fe84d08f2dc01a05cc2e0/%EC%82%B0%EC%A0%90%EB%8F%84.JPG?raw=true)\n",
        "\n",
        "+ 미세먼지가 증가할 수록 초미세먼지도 비례적으로 증가하는 경향 볼 수 있음\n",
        "\n",
        "</br>\n",
        "\n",
        "[ __박스플롯__ ]\n",
        "+ 특정 변수의 데이터 분포와 분산 정도에 관한 정보 제공\n",
        "+ kind='box' 옵션 적용"
      ]
    },
    {
      "cell_type": "code",
      "metadata": {
        "id": "LV0zlu8The7S"
      },
      "source": [
        "data[['미세먼지', '초미세먼지']].plot(kind='box')"
      ],
      "execution_count": null,
      "outputs": []
    },
    {
      "cell_type": "markdown",
      "metadata": {
        "id": "Bbar_Pbyh4UB"
      },
      "source": [
        "![박스플롯](https://github.com/seoy9/DALC_Scala/blob/2f975ebeb841b892bc0013bec294db817915c1bf/%EB%B0%95%EC%8A%A4%ED%94%8C%EB%A1%AF.JPG?raw=true)\n",
        "\n",
        "+ 미세먼지에 대해서는 5에서 80까지 넓게 분포되어 있음\n",
        "+ 작은 동그라미로 표시된 이상치도 확인 가능\n",
        "+ 초미세먼지는 5에서 60까지 분포되어 있음\n",
        "+ 미세먼지보다 좁은 범위에 몰려있음\n",
        "\n",
        "</br>\n",
        "\n",
        "###### 2) 중복 데이터 처리\n",
        "</br>\n",
        "\n",
        "[ __중복 데이터__ ]\n",
        "+ 데이터프레임의 각 행 -> 데이터 셋(레코드)\n",
        "+ 동일한 데이터 셋이 2개 이상 존재하는 경우 -> 분석 결과> 분석 결과 왜곡\n",
        "+ 중복 데이터가 있는지를 확인 -> 있을 경우 삭제\n",
        "\n",
        "</br>\n",
        "\n",
        "[ __중복 데이터 확인__ ]\n",
        "+ duplicated() 함수 적용\n",
        "+ 현재 행 vs 이전 행 비교  \n",
        "→ 중복된 행이면 True 왜곡\n",
        "+ 중복 데이터가 있는지를 확인 -> 있을 경우 삭제\n",
        "\n",
        "</br>\n",
        "\n",
        "[ __중복 데이터 확인__ ]\n",
        "+ duplicated() 함수 적용\n",
        "+ 현재 행 vs 이전 행 비교  \n",
        "→ 중복된 행이면 True"
      ]
    },
    {
      "cell_type": "code",
      "metadata": {
        "colab": {
          "base_uri": "https://localhost:8080/"
        },
        "id": "xGgu2manir1J",
        "outputId": "53d7908c-9493-498c-f4ef-06c37b7b7a40"
      },
      "source": [
        "dataSet = pd.DataFrame({'c1':['a', 'a', 'b', 'a', 'b'], 'c2':[1, 1, 1, 2, 1], 'c3':[1, 1, 2, 2, 2]})\n",
        "dataSet_dup = dataSet.duplicated()\n",
        "print(dataSet_dup)"
      ],
      "execution_count": 113,
      "outputs": [
        {
          "output_type": "stream",
          "text": [
            "0    False\n",
            "1     True\n",
            "2    False\n",
            "3    False\n",
            "4     True\n",
            "dtype: bool\n"
          ],
          "name": "stdout"
        }
      ]
    },
    {
      "cell_type": "markdown",
      "metadata": {
        "id": "mmjSUMvvjFKP"
      },
      "source": [
        "[ __열 요소값에 대해 중복 여부 판별__ ]\n",
        "+ 열 -> 시리즈 객체\n",
        "+ duplicated() 함수 적용"
      ]
    },
    {
      "cell_type": "code",
      "metadata": {
        "colab": {
          "base_uri": "https://localhost:8080/"
        },
        "id": "qcAC-1VkjOPG",
        "outputId": "ae2591dc-616b-405c-d5f6-0a5f7814653c"
      },
      "source": [
        "c3_dup = dataSet['c3'].duplicated()\n",
        "print(c3_dup)"
      ],
      "execution_count": 114,
      "outputs": [
        {
          "output_type": "stream",
          "text": [
            "0    False\n",
            "1     True\n",
            "2    False\n",
            "3     True\n",
            "4     True\n",
            "Name: c3, dtype: bool\n"
          ],
          "name": "stdout"
        }
      ]
    },
    {
      "cell_type": "markdown",
      "metadata": {
        "id": "KGOrQAWOjWLd"
      },
      "source": [
        "[ __중복 데이터 제거__ ]\n",
        "+ drop_duplicates() 함수 적용  \n",
        "→ 중복 행들을 제거하고 고유한 값만을 가진 행들만 남김\n",
        "+ 원본까지 변경할 경우  \n",
        "→ inplace 옵션에 True를 지정하여 drop_duplicates() 함수 호출출"
      ]
    },
    {
      "cell_type": "code",
      "metadata": {
        "colab": {
          "base_uri": "https://localhost:8080/"
        },
        "id": "LFqXZfwhjphF",
        "outputId": "26c86e9c-afd0-4b76-a4cb-a6a1bd8a2e5f"
      },
      "source": [
        "dataSet2 = dataSet.drop_duplicates()\n",
        "print(dataSet2)"
      ],
      "execution_count": 115,
      "outputs": [
        {
          "output_type": "stream",
          "text": [
            "  c1  c2  c3\n",
            "0  a   1   1\n",
            "2  b   1   2\n",
            "3  a   2   2\n"
          ],
          "name": "stdout"
        }
      ]
    },
    {
      "cell_type": "markdown",
      "metadata": {
        "id": "j0iGZonRjyJu"
      },
      "source": [
        "+ drop_duplicates() 함수 subset 옵션 적용  \n",
        "→ 중복 행들을 제거하고 고유한 값만을 가진 행들을 남김  \n",
        "→ subset 옵션에 지정된 열을 기준으로 중복 여부 판단단"
      ]
    },
    {
      "cell_type": "code",
      "metadata": {
        "colab": {
          "base_uri": "https://localhost:8080/"
        },
        "id": "sghELGHlj_Ju",
        "outputId": "107ad48e-79bd-41e3-ff03-a2f6f17348b0"
      },
      "source": [
        "dataSet_sub = dataSet.drop_duplicates(subset=['c2', 'c3'])\n",
        "print(dataSet_sub)"
      ],
      "execution_count": 116,
      "outputs": [
        {
          "output_type": "stream",
          "text": [
            "  c1  c2  c3\n",
            "0  a   1   1\n",
            "2  b   1   2\n",
            "3  a   2   2\n"
          ],
          "name": "stdout"
        }
      ]
    }
  ]
}