{
  "nbformat": 4,
  "nbformat_minor": 0,
  "metadata": {
    "colab": {
      "name": "Untitled4.ipynb",
      "provenance": [],
      "authorship_tag": "ABX9TyMJ5exKvWBCpXg0p11z9KbQ",
      "include_colab_link": true
    },
    "kernelspec": {
      "name": "python3",
      "display_name": "Python 3"
    },
    "language_info": {
      "name": "python"
    }
  },
  "cells": [
    {
      "cell_type": "markdown",
      "metadata": {
        "id": "view-in-github",
        "colab_type": "text"
      },
      "source": [
        "<a href=\"https://colab.research.google.com/github/seoy9/DALC_Scala/blob/main/DALC_Scala_7%EC%A3%BC_%EA%B3%BC%EC%A0%9C_%EB%B9%85%EB%8D%B0%EC%9D%B4%ED%84%B0_%EB%B6%84%EB%A5%98%EB%B6%84%EC%84%9D.ipynb\" target=\"_parent\"><img src=\"https://colab.research.google.com/assets/colab-badge.svg\" alt=\"Open In Colab\"/></a>"
      ]
    },
    {
      "cell_type": "markdown",
      "metadata": {
        "id": "w46qKBC2_lvI"
      },
      "source": [
        "# 빅데이터 분류분석"
      ]
    },
    {
      "cell_type": "markdown",
      "metadata": {
        "id": "1MM7YuDd_pm5"
      },
      "source": [
        "## 7-1 빅데이터 분류 분석의 절차"
      ]
    },
    {
      "cell_type": "markdown",
      "metadata": {
        "id": "RbxTdiqa_2zz"
      },
      "source": [
        "### 1. 분류 분석의 개념\n",
        "</br>\n",
        "\n",
        "##### 1) 데이터의 특징과 레이블\n",
        "[ __지도학습__ ]\n",
        "+ 데이터의 특징과 레이블 사이의 관계 모델링\n",
        "\n",
        "기온      | 습도     | 불쾌도\n",
        "----------|----------|----------\n",
        "20        | 60       | 쾌적\n",
        "30        | 80       | 불쾌\n",
        "30        | 70       | 불쾌\n",
        "35        | 75       | ?\n",
        "\n",
        "+ 연속적인 숫자가 아니라 등급으로 표현 = __이산적인 범주형 레이블__\n",
        "  + 데이터에 따라 등급의 숫자는 달라질 수 있음\n",
        "  + 연속적인 데이터일지라도 특정값을 기준으로 몇 개의 구간으로 구분하면 범주형 레이블로 취급\n",
        "</br></br>\n",
        "\n",
        "[ __분류 분석__ ]\n",
        "+ 레이블을 범주, 클래스 등이 이산적인 데이터일 경우 데이터 세트의 특징 배열 데이터를 학습하여 어떤 레이블에 해당하는지 분류하는 모델을 찾는 기법\n",
        "</br></br>\n",
        "\n",
        "[ __이산적인 레이블 예측하기__ ]\n",
        "\n",
        "![이산적인 레이블 예측](https://github.com/seoy9/DALC_Scala/blob/2ba7b6b0aefa9c9c811cdf2a32f8a1cd7bb49989/%EC%9D%B4%EC%82%B0%EC%A0%81%EC%9D%B8%20%EB%A0%88%EC%9D%B4%EB%B8%94%20%EC%98%88%EC%B8%A1.JPG?raw=true)\n",
        "+ 그림으로 표현된 데이터 : 특징 배열이 2차원  \n",
        "→ 각 데이터를 나타내는 표본의 특징 배열의 값을 2차원 좌표평면 위에 표시 가능\n",
        "+ x축 : 기온 / y축 : 습도\n",
        "+ 점의 색상 : 데이터의 레이블\n",
        "+ 파란색 : 쾌적 / 빨간색 : 불쾌\n",
        "\n",
        "→ 레이블이 없다고 가정, 기존에 조사한 데이터를 사용해서 새로운 데이터의 레이블을 결정하는 모델을 만들 수 있다면?  \n",
        "→ 훨씬 경제적이고 편리 = __분류 분석의 개념__\n",
        "</br></br>\n",
        "\n",
        "##### 2) 분류\n",
        "[ __모델과 모수__ ]\n",
        "\n",
        "![모델과 모수](https://github.com/seoy9/DALC_Scala/blob/a82dae8c73811aa0563b8c225335c9fb2f881ebc/%EB%AA%A8%EB%8D%B8%EA%B3%BC%20%EB%AA%A8%EC%88%98.JPG?raw=true)\n",
        "\n",
        "+ 하나의 직선이 레이블의 클래스를 구분\n",
        "+ 분류 모델의 정확도는 직선이 어느 위치, 어느 방향에서 그려지는가에 따라 달라짐\n",
        "+ 모델의 모수 : 직선의 위치와 방향을 설명할 수 있는 특정 숫자\n",
        "+ 모수를 찾는 과정 : 적합(fitting)\n",
        "</br></br>\n",
        "\n",
        "[ __모델 적용__ ]\n",
        "+ 학습한 모델을 이용하여 레이블이 없는 새 데이터를 분류하는 것\n",
        "\n",
        "![모델 적용](https://github.com/seoy9/DALC_Scala/blob/43dcad477b151de887f347e77cba1f9180f4c562/%EB%AA%A8%EB%8D%B8%20%EC%A0%81%EC%9A%A9.JPG?raw=true)\n",
        "\n",
        "+ 레이블이 없는 데이터가 주워졌을 때, 모델에서 학습한 직선을 그린 다음 데이터들을 빨간색 또는 파란색 레이블로 분류  \n",
        "→ 예측(predicition)\n",
        "+ 더 큰 차원, 더 큰 데이터 세트로 확장 가능\n",
        "+ 분류 분석은 머신러닝에서 유용한 도구 중 하나\n",
        "</br></br>\n",
        "\n",
        "### 2. 분류 분석의 절차\n",
        "</br>\n",
        "\n",
        "##### 1) Scikit Learn API 사용 단계\n",
        "1. Scikit Learn API에서 적절한 추정기 클래스를 임포트 해서 사용하고자 하는 모델을 선택\n",
        "2. 클래스로부터 인스턴스를 생성하고 초모수(Hyper-parameter)를 설정\n",
        "3. 데이터를 특징 배열과 대상 배열로 준비\n",
        "4. 모델 인스턴스의 fit() 메소드를 호출해서 데이터를 학습\n",
        "</br></br>\n",
        "\n",
        "##### 2) 분류 분석의 예제\n",
        "[ __붓꽃 데이터__ ]\n"
      ]
    },
    {
      "cell_type": "code",
      "metadata": {
        "colab": {
          "base_uri": "https://localhost:8080/",
          "height": 166
        },
        "id": "12BqYpdQFFc7",
        "outputId": "0b00c5ae-7a53-46eb-cfa4-f1bd50ccfcce"
      },
      "source": [
        "import seaborn as sns\n",
        "\n",
        "iris = sns.load_dataset('iris')\n",
        "iris.head(4)"
      ],
      "execution_count": 1,
      "outputs": [
        {
          "output_type": "execute_result",
          "data": {
            "text/html": [
              "<div>\n",
              "<style scoped>\n",
              "    .dataframe tbody tr th:only-of-type {\n",
              "        vertical-align: middle;\n",
              "    }\n",
              "\n",
              "    .dataframe tbody tr th {\n",
              "        vertical-align: top;\n",
              "    }\n",
              "\n",
              "    .dataframe thead th {\n",
              "        text-align: right;\n",
              "    }\n",
              "</style>\n",
              "<table border=\"1\" class=\"dataframe\">\n",
              "  <thead>\n",
              "    <tr style=\"text-align: right;\">\n",
              "      <th></th>\n",
              "      <th>sepal_length</th>\n",
              "      <th>sepal_width</th>\n",
              "      <th>petal_length</th>\n",
              "      <th>petal_width</th>\n",
              "      <th>species</th>\n",
              "    </tr>\n",
              "  </thead>\n",
              "  <tbody>\n",
              "    <tr>\n",
              "      <th>0</th>\n",
              "      <td>5.1</td>\n",
              "      <td>3.5</td>\n",
              "      <td>1.4</td>\n",
              "      <td>0.2</td>\n",
              "      <td>setosa</td>\n",
              "    </tr>\n",
              "    <tr>\n",
              "      <th>1</th>\n",
              "      <td>4.9</td>\n",
              "      <td>3.0</td>\n",
              "      <td>1.4</td>\n",
              "      <td>0.2</td>\n",
              "      <td>setosa</td>\n",
              "    </tr>\n",
              "    <tr>\n",
              "      <th>2</th>\n",
              "      <td>4.7</td>\n",
              "      <td>3.2</td>\n",
              "      <td>1.3</td>\n",
              "      <td>0.2</td>\n",
              "      <td>setosa</td>\n",
              "    </tr>\n",
              "    <tr>\n",
              "      <th>3</th>\n",
              "      <td>4.6</td>\n",
              "      <td>3.1</td>\n",
              "      <td>1.5</td>\n",
              "      <td>0.2</td>\n",
              "      <td>setosa</td>\n",
              "    </tr>\n",
              "  </tbody>\n",
              "</table>\n",
              "</div>"
            ],
            "text/plain": [
              "   sepal_length  sepal_width  petal_length  petal_width species\n",
              "0           5.1          3.5           1.4          0.2  setosa\n",
              "1           4.9          3.0           1.4          0.2  setosa\n",
              "2           4.7          3.2           1.3          0.2  setosa\n",
              "3           4.6          3.1           1.5          0.2  setosa"
            ]
          },
          "metadata": {
            "tags": []
          },
          "execution_count": 1
        }
      ]
    },
    {
      "cell_type": "markdown",
      "metadata": {
        "id": "v3wQNa79FVHN"
      },
      "source": [
        "+ 붓꽃의 외형 데이터로부터 붓꽃의 품종을 예측하는 모델  \n",
        "</br></br>\n",
        "\n",
        "[ __모델 클래스 선택__ ]"
      ]
    },
    {
      "cell_type": "code",
      "metadata": {
        "id": "ylnY8VMpFgD3"
      },
      "source": [
        "from sklearn.naive_bayes import GaussianNB"
      ],
      "execution_count": 2,
      "outputs": []
    },
    {
      "cell_type": "markdown",
      "metadata": {
        "id": "zdEDioL9FpT8"
      },
      "source": [
        "+ GaussianNB : 가우스 나이브 베이즈 생성 모델\n",
        "  + 처리 속도가 빠르고 초모수를 선택할 필요가 없기 때문에 기본 분류기로 사용하기에 적합\n",
        "</br></br>\n",
        "\n",
        "[ __모델 인스턴스화__ ]"
      ]
    },
    {
      "cell_type": "code",
      "metadata": {
        "id": "GlWOTG7pF3w3"
      },
      "source": [
        "model = GaussianNB() # 초모수를 선택할 필요가 없기 때문에 괄호 안에 인수를 추가하지 않음"
      ],
      "execution_count": 3,
      "outputs": []
    },
    {
      "cell_type": "markdown",
      "metadata": {
        "id": "amYzEyo7F9gT"
      },
      "source": [
        "[ __데이터 분할__ ]"
      ]
    },
    {
      "cell_type": "code",
      "metadata": {
        "colab": {
          "base_uri": "https://localhost:8080/",
          "height": 222
        },
        "id": "GJCVb2wXGBh_",
        "outputId": "55aa9994-6853-4576-861b-ba6396d8abb7"
      },
      "source": [
        "from sklearn.model_selection import train_test_split\n",
        "\n",
        "Xtrain, Xtest, ytrain, ytest = train_test_split(X_iris, y_iris, test_size=0.25, random_state=1)"
      ],
      "execution_count": 4,
      "outputs": [
        {
          "output_type": "error",
          "ename": "NameError",
          "evalue": "ignored",
          "traceback": [
            "\u001b[0;31m---------------------------------------------------------------------------\u001b[0m",
            "\u001b[0;31mNameError\u001b[0m                                 Traceback (most recent call last)",
            "\u001b[0;32m<ipython-input-4-ad4abec7019f>\u001b[0m in \u001b[0;36m<module>\u001b[0;34m()\u001b[0m\n\u001b[1;32m      1\u001b[0m \u001b[0;32mfrom\u001b[0m \u001b[0msklearn\u001b[0m\u001b[0;34m.\u001b[0m\u001b[0mmodel_selection\u001b[0m \u001b[0;32mimport\u001b[0m \u001b[0mtrain_test_split\u001b[0m\u001b[0;34m\u001b[0m\u001b[0;34m\u001b[0m\u001b[0m\n\u001b[1;32m      2\u001b[0m \u001b[0;34m\u001b[0m\u001b[0m\n\u001b[0;32m----> 3\u001b[0;31m \u001b[0mXtrain\u001b[0m\u001b[0;34m,\u001b[0m \u001b[0mXtest\u001b[0m\u001b[0;34m,\u001b[0m \u001b[0mytrain\u001b[0m\u001b[0;34m,\u001b[0m \u001b[0mytest\u001b[0m \u001b[0;34m=\u001b[0m \u001b[0mtrain_test_split\u001b[0m\u001b[0;34m(\u001b[0m\u001b[0mX_iris\u001b[0m\u001b[0;34m,\u001b[0m \u001b[0my_iris\u001b[0m\u001b[0;34m,\u001b[0m \u001b[0mtest_size\u001b[0m\u001b[0;34m=\u001b[0m\u001b[0;36m0.25\u001b[0m\u001b[0;34m,\u001b[0m \u001b[0mrandom_state\u001b[0m\u001b[0;34m=\u001b[0m\u001b[0;36m1\u001b[0m\u001b[0;34m)\u001b[0m\u001b[0;34m\u001b[0m\u001b[0;34m\u001b[0m\u001b[0m\n\u001b[0m",
            "\u001b[0;31mNameError\u001b[0m: name 'X_iris' is not defined"
          ]
        }
      ]
    },
    {
      "cell_type": "markdown",
      "metadata": {
        "id": "Nvw3CIoPGhG2"
      },
      "source": [
        "[ __데이터 모델 적합__ ]"
      ]
    },
    {
      "cell_type": "code",
      "metadata": {
        "id": "HjpZ4T5PGjaX"
      },
      "source": [
        "model.fit(Xtrain, ytrain) # (특징 행렬, 대산 배열)"
      ],
      "execution_count": null,
      "outputs": []
    },
    {
      "cell_type": "markdown",
      "metadata": {
        "id": "S773zr6HHLYK"
      },
      "source": [
        "[ __모델 적용__ ]"
      ]
    },
    {
      "cell_type": "code",
      "metadata": {
        "id": "4UeBmCfEHNU-"
      },
      "source": [
        "y_model = model.predict(Xtest)"
      ],
      "execution_count": null,
      "outputs": []
    },
    {
      "cell_type": "markdown",
      "metadata": {
        "id": "EodpxMDYHTKM"
      },
      "source": [
        "[ __모델 정확도 확인__ ]"
      ]
    },
    {
      "cell_type": "code",
      "metadata": {
        "id": "OSlAWv3AHVFU"
      },
      "source": [
        "from sklearn.metrics import accuracy_score # 두 배열 사이에 서로 일치하는 요소의 비율 계산\n",
        "accuracy_score(ytest, y_model) # (붓꽃의 품종, 예측한 레이블)"
      ],
      "execution_count": null,
      "outputs": []
    },
    {
      "cell_type": "markdown",
      "metadata": {
        "id": "eSzdec5z_p6r"
      },
      "source": [
        "## 7-2 초모수와 모델 검증 방법"
      ]
    },
    {
      "cell_type": "markdown",
      "metadata": {
        "id": "dgLpcABY_3sw"
      },
      "source": [
        "### 1. 초모수와 모델 검증\n",
        "</br>\n",
        "\n",
        "##### 1) 지도 학습 단계\n",
        "+ 지도 학습 = 회귀 분석 + 분류 분석\n",
        "+ 초모수 : 학습을 통해 추정되지 않는 모델 모수\n",
        "+ 성공적인 지도학습은 정확도가 높은 모델을 찾아내는 것\n",
        "</br></br>\n",
        "\n",
        "##### 2) 잘못된 방식의 모델 검증\n",
        "[ __모델 불러오기__ ]"
      ]
    },
    {
      "cell_type": "code",
      "metadata": {
        "id": "n3IOmSLhIMoO"
      },
      "source": [
        "from sklearn.neighbors import KNeighborsClassifier"
      ],
      "execution_count": 5,
      "outputs": []
    },
    {
      "cell_type": "markdown",
      "metadata": {
        "id": "fldFG2CdISt7"
      },
      "source": [
        "+ 모델과 초모수 선택\n",
        "+ 훈련 데이터로 모델 훈련\n",
        "+ 계산된 예측값 vs 실제값 비교\n",
        "\n",
        "→ 견고한 모델 평가를 위해 검정 표본과 교차 검증을 사용하는 법은?\n",
        "</br>\n",
        "\n",
        "[ __K-최근접 이웃 분류기 모델__ ]\n",
        "+ 알려지지 않은 점의 레이블은 훈련 데이터 중 그와 가장 가까운 이웃 K개의 점의 레이블과 같음\n",
        "</br></br>\n",
        "\n",
        "[ __인스턴스 생성 및 초모수 선택__ ]"
      ]
    },
    {
      "cell_type": "code",
      "metadata": {
        "id": "h4gV9JbGIuss"
      },
      "source": [
        "model = KNeighborsClassifier(n_neighbors=1)"
      ],
      "execution_count": 6,
      "outputs": []
    },
    {
      "cell_type": "markdown",
      "metadata": {
        "id": "NqWZyhs4I2iw"
      },
      "source": [
        "+ 레이블이 없는 데이터가 있을 때, 그 데이터의 레이블은 가장 가까이 있는 점과 레이블이 동일\n",
        "</br></br>\n",
        "\n",
        "[ __데이터 준비__ ]"
      ]
    },
    {
      "cell_type": "code",
      "metadata": {
        "id": "d9oqRde9I_Gc"
      },
      "source": [
        "from sklearn.datasets import load_iris\n",
        "iris = load_iris()\n",
        "X = iris.data\n",
        "y = iris.target"
      ],
      "execution_count": 8,
      "outputs": []
    },
    {
      "cell_type": "markdown",
      "metadata": {
        "id": "AkH5EERxJM0J"
      },
      "source": [
        "[ __모델 적합__ ]"
      ]
    },
    {
      "cell_type": "code",
      "metadata": {
        "colab": {
          "base_uri": "https://localhost:8080/"
        },
        "id": "utxemzJLJO1l",
        "outputId": "4301f862-b2bc-436f-c9a0-183b287ec7d1"
      },
      "source": [
        "model.fit(X, y)"
      ],
      "execution_count": 9,
      "outputs": [
        {
          "output_type": "execute_result",
          "data": {
            "text/plain": [
              "KNeighborsClassifier(algorithm='auto', leaf_size=30, metric='minkowski',\n",
              "                     metric_params=None, n_jobs=None, n_neighbors=1, p=2,\n",
              "                     weights='uniform')"
            ]
          },
          "metadata": {
            "tags": []
          },
          "execution_count": 9
        }
      ]
    },
    {
      "cell_type": "markdown",
      "metadata": {
        "id": "RShkB1fNJTOE"
      },
      "source": [
        "[ __모델 평가__ ]"
      ]
    },
    {
      "cell_type": "code",
      "metadata": {
        "colab": {
          "base_uri": "https://localhost:8080/"
        },
        "id": "XFLI9GqvJU3z",
        "outputId": "a7c8fe4f-119b-42ee-af88-1976f840b2b1"
      },
      "source": [
        "from sklearn.metrics import accuracy_score # accuracy_score : 인수로 주어진 두 배열의 각 요소를 비교하여 일치하는 비율을 계산하는 함수\n",
        "y_model = model.predict(X)\n",
        "accuracy_score(y, y_model)"
      ],
      "execution_count": 10,
      "outputs": [
        {
          "output_type": "execute_result",
          "data": {
            "text/plain": [
              "1.0"
            ]
          },
          "metadata": {
            "tags": []
          },
          "execution_count": 10
        }
      ]
    },
    {
      "cell_type": "markdown",
      "metadata": {
        "id": "Z5-21EVqJqsO"
      },
      "source": [
        "+ 정확도 1.0 → 모델을 사용해 100% 모든 점이 올바른 레이블을 가지게 됨\n",
        "+ 이 모델은 정말 언제나 참일까? → __NO__\n",
        "+ 모델을 훈련한 데이터와 동일한 데이터로 모델을 검증하였다  \n",
        "→ 잘못된 방식의 모델 검증\n",
        "+ 머신 러닝의 본래 목적에 맞도록 올바른 방식의 검증 방식이 필요\n",
        "</br></br>\n",
        "\n",
        "[ __데이터 분할__ ]"
      ]
    },
    {
      "cell_type": "code",
      "metadata": {
        "id": "ApwFZ3t2KKfe"
      },
      "source": [
        "from sklearn.model_selection import train_test_split\n",
        "\n",
        "X1, X2, y1, y2 = train_test_split(X, y, random_state=0, train_size=0.5) # 전체 데이터 중에서 학습 50%, 검증에 50%"
      ],
      "execution_count": 11,
      "outputs": []
    },
    {
      "cell_type": "markdown",
      "metadata": {
        "id": "ydyESwGZKlDC"
      },
      "source": [
        "[ __모델 적합 및 평가__ ]"
      ]
    },
    {
      "cell_type": "code",
      "metadata": {
        "colab": {
          "base_uri": "https://localhost:8080/"
        },
        "id": "oYL6SMe6Knzi",
        "outputId": "8f8a4b73-9929-44f5-cad4-61ae3f3c4c46"
      },
      "source": [
        "model.fit(X1, y1)\n",
        "\n",
        "y2_model = model.predict(X2)\n",
        "accuracy_score(y2, y2_model)"
      ],
      "execution_count": 12,
      "outputs": [
        {
          "output_type": "execute_result",
          "data": {
            "text/plain": [
              "0.9066666666666666"
            ]
          },
          "metadata": {
            "tags": []
          },
          "execution_count": 12
        }
      ]
    },
    {
      "cell_type": "markdown",
      "metadata": {
        "id": "hxl4QqCAKyyO"
      },
      "source": [
        "+ K-최근접 이웃 분류기는 이 검증데이터에 대해 약 90%의 정확도를 가짐\n",
        "</br></br>\n",
        "\n",
        "### 1. 교차 검증 방법\n",
        "</br>\n",
        "\n",
        "##### 1) 2겹 교차 검증\n",
        "+ 데이터의 양이 충분하지 않을 때 사용할 수 있는 방법 = __교차 검증 방법(Cross Validation)\n",
        "+ 데이터를 절반씩 나누어 절반은 훈련데이터, 나머지 절반은 검증데이터로 사용\n",
        "+ 서로 역할을 바꾸어 훈련과 검증을 반복 실시하는 것\n",
        "</br></br>\n",
        "\n",
        "[ __결과__ ]"
      ]
    },
    {
      "cell_type": "code",
      "metadata": {
        "colab": {
          "base_uri": "https://localhost:8080/"
        },
        "id": "c_YeLx81LUUp",
        "outputId": "ad8d1350-c8ec-47e8-ae72-e4c5d86afb8a"
      },
      "source": [
        "y1_model = model.fit(X1, y1).predict(X2)\n",
        "y2_model = model.fit(X2, y2).predict(X1)\n",
        "score1 = accuracy_score(y1, y1_model)\n",
        "score2 = accuracy_score(y2, y2_model)\n",
        "score = (score1 + score2) / 2\n",
        "print(score)"
      ],
      "execution_count": 13,
      "outputs": [
        {
          "output_type": "stream",
          "text": [
            "0.36\n"
          ],
          "name": "stdout"
        }
      ]
    },
    {
      "cell_type": "markdown",
      "metadata": {
        "id": "OALCioHRLqdg"
      },
      "source": [
        "+ 두 개의 정확도 값의 평균을 구해 최종 정확도 계산\n",
        "</br></br>\n",
        "\n",
        "##### 2) 5겹 교차 검증\n",
        "+ 5번 검증 실시\n",
        "+ 전체 데이터의 1/5을 검증 데이터, 나머지인 4/5를 훈련 데이터로 사용\n",
        "</br></br>\n",
        "\n",
        "[ __결과__ ]"
      ]
    },
    {
      "cell_type": "code",
      "metadata": {
        "colab": {
          "base_uri": "https://localhost:8080/"
        },
        "id": "tp3w4ikPMCW5",
        "outputId": "42626293-4252-4073-ff39-411626050930"
      },
      "source": [
        "from sklearn.model_selection import cross_val_score\n",
        "cross_val_score(model, X, y, cv=5).mean()"
      ],
      "execution_count": 14,
      "outputs": [
        {
          "output_type": "execute_result",
          "data": {
            "text/plain": [
              "0.96"
            ]
          },
          "metadata": {
            "tags": []
          },
          "execution_count": 14
        }
      ]
    },
    {
      "cell_type": "markdown",
      "metadata": {
        "id": "tZuwHwHDMSQA"
      },
      "source": [
        "##### 3) 단일 관측지 제거 방식\n",
        "+ 데이터의 수가 극도로 적은 경우\n",
        "+ 1개의 데이터만을 검증 데이터로 사용\n",
        "+ 이 경우 전체 데이터의 수만큼 교차 검증을 반복"
      ]
    },
    {
      "cell_type": "code",
      "metadata": {
        "colab": {
          "base_uri": "https://localhost:8080/"
        },
        "id": "acshYhl6MWAE",
        "outputId": "2965cdaa-0ed4-4442-d543-64b1fea4883d"
      },
      "source": [
        "from sklearn.model_selection import LeaveOneOut\n",
        "scores = cross_val_score(model, X, y, cv=LeaveOneOut())\n",
        "scores.mean() # 평균 계산을 통해 정확도 추정"
      ],
      "execution_count": 15,
      "outputs": [
        {
          "output_type": "execute_result",
          "data": {
            "text/plain": [
              "0.96"
            ]
          },
          "metadata": {
            "tags": []
          },
          "execution_count": 15
        }
      ]
    },
    {
      "cell_type": "markdown",
      "metadata": {
        "id": "ZGNzZMNyMyes"
      },
      "source": [
        "+ 데이터 수가 충분하지 않을 때 사용하면 효과적"
      ]
    },
    {
      "cell_type": "markdown",
      "metadata": {
        "id": "1ePSRotu_qDD"
      },
      "source": [
        "## 7-3 분류 심화: 나이브 베이즈 기법"
      ]
    },
    {
      "cell_type": "markdown",
      "metadata": {
        "id": "R5ytq076_4ea"
      },
      "source": [
        "### 1. 베이즈 정리(Bayes' theorem)\n",
        "</br>\n",
        "\n",
        "##### 1) 개요\n",
        "[ __베이브 분류 개념__ ]\n",
        "+ 관측된 특징(features)이 주어졌을 때 레이블(label)의 확률을 계산  \n",
        "$P(L\\features)$\n",
        "+ 베이즈 정리를 이용하여 다음과 같이 표현됨  \n",
        "$P(L\\features) = \\frac{P(features, L)}{P(features)} = \\frac{P(features\\L)P(L)}{P(features)}$\n",
        "+ 레이블이 $L_1, L_2$ 두 개인 경우  \n",
        "$P(L_{1}\\features) = \\frac{P(features\\L_{1})P(L_{1})}{P(features)}, P(L_{2}\\features) = \\frac{P(features\\L_{2})P(L_{2})}{P(features)}$\n",
        "+ 확률 값이 큰 레이블을 선택  \n",
        "$P(L_{1}\\features) > P(L_{2}\\features)$ 이면 $L_{1}$  \n",
        "$P(L_{1}\\features) ≤ P(L_{2}\\features)$ 이면 $L_{2}$\n",
        "</br></br>\n",
        "\n",
        "[ __생성 모델(generative model)__ ]\n",
        "+ 각 레이블에 대한 특징 데이터의 확률값을 계산할 수 있는 모델\n",
        "+ 생성 모델의 형태에 대한 가장 간단한 가정을 사용하여 단순하게 형성 가능\n",
        "+ 레이블의 사후 확률 계산 방법  \n",
        "$P(L_{1}\\features) = \\frac{P(features\\L_{1})P(L_{1})}{P(features)}, P(L_{2}\\features) = \\frac{P(features\\L_{2})P(L_{2})}{P(features)}$\n",
        "+ 생성 모델 가정  \n",
        "$P(features\\L)~N(μ, σ^2)$\n",
        "</br></br>\n",
        "\n",
        "##### 2) 가우스 나이브 베이즈\n",
        "\n",
        "[ __분석 환경 설정__ ]\n"
      ]
    },
    {
      "cell_type": "code",
      "metadata": {
        "id": "zpojgGn7ScIE"
      },
      "source": [
        "%matplotlib inline\n",
        "import numpy as np\n",
        "import matplotlib.pyplot as plt\n",
        "import seaborn as sns; sns.set()"
      ],
      "execution_count": 16,
      "outputs": []
    },
    {
      "cell_type": "markdown",
      "metadata": {
        "id": "pGpW8c6cSmS1"
      },
      "source": [
        "[ __데이터 준비__ ]"
      ]
    },
    {
      "cell_type": "code",
      "metadata": {
        "colab": {
          "base_uri": "https://localhost:8080/",
          "height": 268
        },
        "id": "FbrWbyvSSogN",
        "outputId": "0b50970b-27fd-4e00-c7a3-9a297166d6bb"
      },
      "source": [
        "from sklearn.datasets import make_blobs # 동방성 가우시안 정규분포를 이용하여 가상 데이터 생성\n",
        "X, y = make_blobs(100, 2, centers=2, random_state=2, cluster_std=1.5)\n",
        "plt.scatter(X[:, 0], X[:, 1], c=y, s=50, cmap='RdBu');"
      ],
      "execution_count": 17,
      "outputs": [
        {
          "output_type": "display_data",
          "data": {
            "image/png": "[encoded data removed]",
            "text/plain": [
              "<Figure size 432x288 with 1 Axes>"
            ]
          },
          "metadata": {
            "tags": []
          }
        }
      ]
    },
    {
      "cell_type": "markdown",
      "metadata": {
        "id": "mHV3ClhdTGa3"
      },
      "source": [
        "[ __데이터 시각화__ ]\n",
        "\n",
        "![데이터 시각화](https://github.com/seoy9/DALC_Scala/blob/465c43faa539fd5ed8218245062aa87921f26ad4/%EB%8D%B0%EC%9D%B4%ED%84%B0%20%EC%8B%9C%EA%B0%81%ED%99%94.JPG?raw=true)\n",
        "+ 빨간 레이블 데이터 : 왼쪽 하단\n",
        "+ 파란 레이블 데이터 : 오른쪽 상단\n",
        "</br></br>\n",
        "\n",
        "[ __가우시안 생성 모델__ ]\n",
        "+ 전체 : 차원 사이에 공분산이 없는 가우스 분포를 따름\n",
        "+ 이 모델은 단순히 각 레이블 내 점의 평균과 표준 편차를 구하여 적합할 수 있음\n",
        "![가우시안 생성 모델](https://github.com/seoy9/DALC_Scala/blob/117f0cefbbe1228ff2d98bf21effa868727265f2/%EA%B0%80%EC%9A%B0%EC%8B%9C%EC%95%88%20%EC%83%9D%EC%84%B1%20%EB%AA%A8%EB%8D%B8.JPG?raw=true)\n",
        "+ 각 색상의 타원은 타원의 중심으로 갈수록 확률이 더 커지는 각 레이즐에 대한 가우스 생성 모델을 나타냄\n",
        "</br></br>\n",
        "\n",
        "[ __모델 인스턴스 생성__ ]"
      ]
    },
    {
      "cell_type": "code",
      "metadata": {
        "id": "f66r9WAtVQay"
      },
      "source": [
        "model = GaussianNB()"
      ],
      "execution_count": 18,
      "outputs": []
    },
    {
      "cell_type": "markdown",
      "metadata": {
        "id": "cgb9Hzz5VVQf"
      },
      "source": [
        "[ __모델 적합하기__ ]"
      ]
    },
    {
      "cell_type": "code",
      "metadata": {
        "colab": {
          "base_uri": "https://localhost:8080/"
        },
        "id": "bk4frCTPVXOF",
        "outputId": "f1b19ef7-7b4d-45bb-f5fd-b34d37fd42c2"
      },
      "source": [
        "model.fit(X, y)"
      ],
      "execution_count": 19,
      "outputs": [
        {
          "output_type": "execute_result",
          "data": {
            "text/plain": [
              "GaussianNB(priors=None, var_smoothing=1e-09)"
            ]
          },
          "metadata": {
            "tags": []
          },
          "execution_count": 19
        }
      ]
    },
    {
      "cell_type": "markdown",
      "metadata": {
        "id": "ucwEIGRPVao6"
      },
      "source": [
        "[ __레이블 예측__ ]"
      ]
    },
    {
      "cell_type": "code",
      "metadata": {
        "id": "ulTKI26WVcoz"
      },
      "source": [
        "rng = np.random.RandomState(0)\n",
        "Xnew = [-6, 14] + [14, 18] * rng.rand(2000, 2) # 0~1 사이 난수 생성하고 각 차원으로 14와 18을 곱함, 각 차원에 -6과 -14를 더함\n",
        "# 결과적으로 데이터 세트의 점들은 첫 번재 차원의 값은 -6과 8사이에서 변동하고, 두 번째 차원의 값들은 -14에서 4사이에서 변동\n",
        "# 생성된 데이터의 수 2000\n",
        "ynew = model.predict(Xnew)"
      ],
      "execution_count": 20,
      "outputs": []
    },
    {
      "cell_type": "markdown",
      "metadata": {
        "id": "Pg2NlV2zWCXK"
      },
      "source": [
        "[ __예측값 시각화__ ]"
      ]
    },
    {
      "cell_type": "code",
      "metadata": {
        "colab": {
          "base_uri": "https://localhost:8080/",
          "height": 268
        },
        "id": "DGyKV3nkWFw7",
        "outputId": "b9cd42e7-c919-425a-87ba-ac2ddfa785ae"
      },
      "source": [
        "plt.scatter(X[:, 0], X[:, 1], c=y, s=50, cmap='RdBu')\n",
        "lim = plt.axis()\n",
        "plt.scatter(Xnew[:, 0], Xnew[:, 1], c=ynew, s=10, cmap='RdBu', alpha=0.2)\n",
        "plt.axis(lim);"
      ],
      "execution_count": 21,
      "outputs": [
        {
          "output_type": "display_data",
          "data": {
            "image/png": "[encoded data removed]",
            "text/plain": [
              "<Figure size 432x288 with 1 Axes>"
            ]
          },
          "metadata": {
            "tags": []
          }
        }
      ]
    },
    {
      "cell_type": "markdown",
      "metadata": {
        "id": "n3Lv7yS7WrYm"
      },
      "source": [
        "[ __시각화 결과__ ]\n",
        "\n",
        "![시각화 결과](https://github.com/seoy9/DALC_Scala/blob/f7c0b3be9a22e71bead260ba4601575ffc9602f7/%EC%8B%9C%EA%B0%81%ED%99%94%20%EA%B2%B0%EA%B3%BC.JPG?raw=true)\n",
        "+ 흩어져 있는 점의 색을 자세히 보면 색의 경계가 보임\n",
        "+ 모델에서는 이 경계를 기준으로 레이블을 구분\n",
        "</br></br>\n",
        "\n",
        "[ __확률 표현의 장점__ ]\n"
      ]
    },
    {
      "cell_type": "code",
      "metadata": {
        "colab": {
          "base_uri": "https://localhost:8080/"
        },
        "id": "k5IGLTb7W8r9",
        "outputId": "e0a2f19a-80fb-40a7-9aaa-13403960720a"
      },
      "source": [
        "yprob = model.predict_proba(Xnew)\n",
        "yprob[-8:].round(2)"
      ],
      "execution_count": 23,
      "outputs": [
        {
          "output_type": "execute_result",
          "data": {
            "text/plain": [
              "array([[0., 1.],\n",
              "       [0., 1.],\n",
              "       [0., 1.],\n",
              "       [0., 1.],\n",
              "       [0., 1.],\n",
              "       [0., 1.],\n",
              "       [0., 1.],\n",
              "       [0., 1.]])"
            ]
          },
          "metadata": {
            "tags": []
          },
          "execution_count": 23
        }
      ]
    },
    {
      "cell_type": "markdown",
      "metadata": {
        "id": "TtWfT5ucXJMZ"
      },
      "source": [
        "+ 분류 결과가 명확한 점과 애매한 점을 구분할 수 있음"
      ]
    }
  ]
}