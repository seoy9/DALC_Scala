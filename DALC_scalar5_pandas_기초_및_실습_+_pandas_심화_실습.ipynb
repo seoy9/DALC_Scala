{
  "nbformat": 4,
  "nbformat_minor": 0,
  "metadata": {
    "colab": {
      "name": "DALC_scalar5_pandas 기초 및 실습 + pandas 심화 실습.ipynb",
      "provenance": [],
      "collapsed_sections": []
    },
    "kernelspec": {
      "name": "python3",
      "display_name": "Python 3"
    },
    "language_info": {
      "name": "python"
    }
  },
  "cells": [
    {
      "cell_type": "markdown",
      "metadata": {
        "id": "hUQY0a9AmQB1"
      },
      "source": [
        "# 주관식\n",
        "셀을 더블클릭해서  : 다음에 답을 입력하세요."
      ]
    },
    {
      "cell_type": "markdown",
      "metadata": {
        "id": "9p6WQHpnEBel"
      },
      "source": [
        "* 판다스에서 제공하는 형식  \n",
        "1차원 배열의 경우 :    \n",
        "2차원 배열의 경우 : "
      ]
    },
    {
      "cell_type": "markdown",
      "metadata": {
        "id": "QUjikyb9EfN1"
      },
      "source": [
        "* 데이터 프레임의 열이 나타내는 것 :   \n",
        "* 데이터 프레임의 행이 나타내는 것 :  "
      ]
    },
    {
      "cell_type": "markdown",
      "metadata": {
        "id": "Wd2dELHvGA9k"
      },
      "source": [
        "* 인덱스를 만들 때, 연속하지 않거나 인접하지 않은 인덱스를 사용해서 만들 수 있는가? :   \n",
        "* 시리즈 객체의 요솟값들의 출력은 입력된 순서인가? :   "
      ]
    },
    {
      "cell_type": "markdown",
      "metadata": {
        "id": "Wrg8gxMaHoY_"
      },
      "source": [
        "* 딕셔너리와 시리즈객체의 차이점은? : "
      ]
    },
    {
      "cell_type": "markdown",
      "metadata": {
        "id": "fJmogDyPM7nJ"
      },
      "source": [
        "* Index와 numpy의 차이점 : "
      ]
    },
    {
      "cell_type": "markdown",
      "metadata": {
        "id": "ubvzFJOYPotV"
      },
      "source": [
        "* loc와 iloc 의 차이점 : "
      ]
    },
    {
      "cell_type": "markdown",
      "metadata": {
        "id": "nQKzqN6tR34T"
      },
      "source": [
        "* 서로 인덱스 순서가 달라도 계산이 가능한가? :  \n",
        "  그렇다면 그 이유는? :  "
      ]
    },
    {
      "cell_type": "markdown",
      "metadata": {
        "id": "LEpgg6MllqlP"
      },
      "source": [
        "# Pandas 데이터 가공하기  \n",
        "해당 질문 밑에 있는 코드셀에 코드를 입력하세요"
      ]
    },
    {
      "cell_type": "markdown",
      "metadata": {
        "id": "H0vQPFbZD9nu"
      },
      "source": [
        "* 판다스,넘파이 임포트하기"
      ]
    },
    {
      "cell_type": "code",
      "metadata": {
        "id": "8NHb_3yTGXk8"
      },
      "source": [
        ""
      ],
      "execution_count": null,
      "outputs": []
    },
    {
      "cell_type": "markdown",
      "metadata": {
        "id": "V5l6FpC7Gayu"
      },
      "source": [
        "* 원소를 [1,2,3,4,5]로 가지는 시리즈 만들기"
      ]
    },
    {
      "cell_type": "code",
      "metadata": {
        "id": "1PgqYm6rl-HN"
      },
      "source": [
        ""
      ],
      "execution_count": null,
      "outputs": []
    },
    {
      "cell_type": "markdown",
      "metadata": {
        "id": "fbZii91gGftu"
      },
      "source": [
        "* 인덱스를 각각 a,b,c,d,e로 줘보기"
      ]
    },
    {
      "cell_type": "code",
      "metadata": {
        "id": "8C4mvubhl-KB"
      },
      "source": [
        ""
      ],
      "execution_count": null,
      "outputs": []
    },
    {
      "cell_type": "markdown",
      "metadata": {
        "id": "p_5uwi8CHNKW"
      },
      "source": [
        "* 딕셔너리 지정하기  \n",
        " : CALIFORIA:1, TEXAS:2, NEWYORK:3, FLORIDA:4, LA:5로 딕셔너리 만들기"
      ]
    },
    {
      "cell_type": "code",
      "metadata": {
        "id": "7gRJmswLmrzq"
      },
      "source": [
        ""
      ],
      "execution_count": null,
      "outputs": []
    },
    {
      "cell_type": "markdown",
      "metadata": {
        "id": "ljpHn_yGHZPO"
      },
      "source": [
        "* 정의한 딕셔너리에서 california키의 값 조회하기"
      ]
    },
    {
      "cell_type": "code",
      "metadata": {
        "id": "fdGZf2BHmr5g"
      },
      "source": [
        ""
      ],
      "execution_count": null,
      "outputs": []
    },
    {
      "cell_type": "markdown",
      "metadata": {
        "id": "to4X9BmGHcVn"
      },
      "source": [
        "* 정의한 딕셔너리에서 california부터 florida까지 슬라이싱하기"
      ]
    },
    {
      "cell_type": "code",
      "metadata": {
        "id": "vHp-kJ5vmr-u"
      },
      "source": [
        ""
      ],
      "execution_count": null,
      "outputs": []
    },
    {
      "cell_type": "markdown",
      "metadata": {
        "id": "s0tu8WgkHe9n"
      },
      "source": [
        "* 객체 구성하기  \n",
        "출력예 )  \n",
        " ![image.png](data:image/png;base64,iVBORw0KGgoAAAANSUhEUgAAAEYAAAA2CAYAAAB6DO9FAAACPElEQVRoBe2agWrDMAxE+yv9/4/sENvBod0pWhqbLqhgJJ8USX5xKYw9XvORBB5SHfE1YMwlGDADxhAw8tyYs2Cez6d8NHRenMS6e57zV/l5Duw7/cob4wqpw0KD5eZK4/gq/52+JZgYWBWvtCq2CoCrq2ZxuVkfMJnIz/72YOLW8DIcfsm3B5NP3P163RpMhhL7AaOoDJhvKup2KE0xvPVXSUFQ2mVgolA04MXFWe8Ows9f6Z+d5fDGXDnkf6o1YMzbGjADxhAw8tyYAWMIGLm8MdVP3dmYmWOJnGfEvtPMgoki+QMNluPQYFWMtR2+mqXbd8AYUhaMyscbgOUcaLAqxtoOX83S7dsGw03YRyNosNDDKo3jq/zom1e3VwtMPlje8+GrWHeoq/LemeUQTLc48mD5cErj+E6/O0sJxhVROjRYPqzSOL7T785iwVQFVAwaLB9WaRxf5au+SlP9B4yi8nr5fwMJsmqhTo5BD1vFOG+Hf3YWe2N2DP3JPQaMeTsDZsAYAkaeGzNgDAEjlzem+qk7GzNzLJHzjNh3mlkwUSR/oMFyHBqsirG2w1ezdPsOGEPKglH5eAOwnAMNVsVY2+GrWbp9D8FEcSwUVQ2hwSI3rNI4vsqPvnl1ex2C4UI4IOxfY5y/w6/mPOp/azDq8AqWyhswisrRnx3yM6ANy3FosCrG2g7/nVnsjamKno3tgME9qjk5T/kWTCRHYV5cgPU8QBXjGjv8s7OUYHYM/qk9Box5MwPGgPkCCGDltngZDyIAAAAASUVORK5CYII=)  \n",
        "  : 인덱스가 100,200,300이고 각 값이 5인 시리즈객체 만들기  "
      ]
    },
    {
      "cell_type": "code",
      "metadata": {
        "id": "9tUv1e81pBFm"
      },
      "source": [
        ""
      ],
      "execution_count": null,
      "outputs": []
    },
    {
      "cell_type": "markdown",
      "metadata": {
        "id": "_qM7c0PCJsVB"
      },
      "source": [
        "* A가 다음과 같은 형태가 되도록 코드를 작성하시오  \n",
        "![image.png](data:image/png;base64,iVBORw0KGgoAAAANSUhEUgAAAE4AAAAsCAYAAADLlo5MAAABV0lEQVRoBe2WawrEIAyEe5Xe/5Bd8iMQQpbKOKl2dwTxUUfHL2npcalABA5IJdElcGASCJzAgQRAmTJO4EACoEwZtxO48zyvWEFvW8voGWfAcqnm8pq3jQUOjBgdXOVjZcZ1fTLawa2GFgPJ9NIKjmk0AkD7TD9t4JgmUVCmMx+xzuwVtS3gdoIWL8v0RQfHNBcvjfSzlzxG9nTN34AzaNuDc5Ox9Ug93boHOzf2Z33QM27W0Fv0AgdGSuAEDiQAypRxAgcSAGXKOIEDCYCylozzH01vQW9by+jgDFYu1Vxe87axwIERo4OrfKzOOP9kMH20geswWwXlbi7DyuM7/bfnbeDigSyzcc+Rfue5AjcSgWKNwBVQRqbo4KrXo5obMTe7pvPcnwZn4DO8PEaDQwfnZs2gV9QcS+c+WNDMVws41oV33kfgwOgInMCBBECZMk7gQAKg7ANwTZ/nf0z3pwAAAABJRU5ErkJggg==)  "
      ]
    },
    {
      "cell_type": "code",
      "metadata": {
        "id": "Y6IqwzzbpA7K"
      },
      "source": [
        "A = pd.Series({2:'a',1:'b',3:'c'})"
      ],
      "execution_count": null,
      "outputs": []
    },
    {
      "cell_type": "markdown",
      "metadata": {
        "id": "E7YXTbLop3h9"
      },
      "source": [
        "# DataFrame"
      ]
    },
    {
      "cell_type": "markdown",
      "metadata": {
        "id": "_ElIsIPELSIS"
      },
      "source": [
        "* random.rand를 이용해서 행이 3개이고 열이 2개인 데이터프레임에 랜덤 값 채워넣기"
      ]
    },
    {
      "cell_type": "code",
      "metadata": {
        "id": "2haKUKG8Lf6o"
      },
      "source": [
        ""
      ],
      "execution_count": null,
      "outputs": []
    },
    {
      "cell_type": "markdown",
      "metadata": {
        "id": "zXi9JehJLzzC"
      },
      "source": [
        "* DF라는 변수에 사진 속 데이터 프레임 정의하기  \n",
        "![image.png](data:image/png;base64,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)"
      ]
    },
    {
      "cell_type": "code",
      "metadata": {
        "id": "SDiypRdGpA1r"
      },
      "source": [
        ""
      ],
      "execution_count": null,
      "outputs": []
    },
    {
      "cell_type": "markdown",
      "metadata": {
        "id": "veju4mmRMgmx"
      },
      "source": [
        "* DF의 인덱스를 조회하는 코드 작성"
      ]
    },
    {
      "cell_type": "code",
      "metadata": {
        "id": "zoC3coUxpApz"
      },
      "source": [
        ""
      ],
      "execution_count": null,
      "outputs": []
    },
    {
      "cell_type": "markdown",
      "metadata": {
        "id": "KW7fLJ8eMjKZ"
      },
      "source": [
        "* DF의 컬럼 이름을 보여주는 코드 작성"
      ]
    },
    {
      "cell_type": "code",
      "metadata": {
        "id": "l3h-3oZumPnM"
      },
      "source": [
        ""
      ],
      "execution_count": null,
      "outputs": []
    },
    {
      "cell_type": "markdown",
      "metadata": {
        "id": "AMLsoSp1rVqx"
      },
      "source": [
        "#Pandas로 데이터 연산하기"
      ]
    },
    {
      "cell_type": "markdown",
      "metadata": {
        "id": "U56XiDtTMpCq"
      },
      "source": [
        "* 다음 코드의 오류를 수정하시오"
      ]
    },
    {
      "cell_type": "code",
      "metadata": {
        "id": "julPwkbal-5w"
      },
      "source": [
        "A = pd.index([2,3,4,7,10])\n",
        "B = pd.index([4,5,6,8,9])"
      ],
      "execution_count": null,
      "outputs": []
    },
    {
      "cell_type": "markdown",
      "metadata": {
        "id": "0Xcrr7uTNfdh"
      },
      "source": [
        "* A와  B를 교집합하는 코드 작성"
      ]
    },
    {
      "cell_type": "code",
      "metadata": {
        "id": "2LSCJyXBrVKX"
      },
      "source": [
        ""
      ],
      "execution_count": null,
      "outputs": []
    },
    {
      "cell_type": "markdown",
      "metadata": {
        "id": "QL8TwDRqNk7Z"
      },
      "source": [
        "* A와 B를 합집합하는 코드 작성"
      ]
    },
    {
      "cell_type": "code",
      "metadata": {
        "id": "GxLGQaRIrqHo"
      },
      "source": [
        ""
      ],
      "execution_count": null,
      "outputs": []
    },
    {
      "cell_type": "markdown",
      "metadata": {
        "id": "8Qem1xthNpEp"
      },
      "source": [
        "* A와  B를 차집합 하는 코드 작성"
      ]
    },
    {
      "cell_type": "code",
      "metadata": {
        "id": "k9ZoiKLfrptY"
      },
      "source": [
        ""
      ],
      "execution_count": null,
      "outputs": []
    },
    {
      "cell_type": "markdown",
      "metadata": {
        "id": "6nQsARbhNrvK"
      },
      "source": [
        "* A와 B의 차집합과 B와 A의 차집합, 두개의 결과가 다른가?  \n",
        "그렇다면 그 이유는? : (답은 여기에 입력)"
      ]
    },
    {
      "cell_type": "code",
      "metadata": {
        "id": "f91mwHExmpT3"
      },
      "source": [
        ""
      ],
      "execution_count": null,
      "outputs": []
    },
    {
      "cell_type": "markdown",
      "metadata": {
        "id": "uzHCk1PuPF8K"
      },
      "source": [
        "* 위의 DF에서 Math와 English를 더한 Score라는 컬럼 생성"
      ]
    },
    {
      "cell_type": "code",
      "metadata": {
        "id": "ewQeK3lXtTUH"
      },
      "source": [
        ""
      ],
      "execution_count": null,
      "outputs": []
    },
    {
      "cell_type": "markdown",
      "metadata": {
        "id": "R6gWiLgERaqi"
      },
      "source": [
        "* DF의 행과 열을 바꿔보기  \n",
        "출력 예 )  \n",
        "![image.png](data:image/png;base64,iVBORw0KGgoAAAANSUhEUgAAARMAAACJCAYAAAAPI9wpAAARZElEQVR4Ae2dTW7jOhCE31V0sRi+ioNgLmIECOYcgReDXGA2s8higLmAlnxoUkU2f+RYCi1RVg0wsPVHNaurP7YcI/nP8B8VoAJUoIIC/1UYg0NQASpABQxhQhNQASpQRQHCpIqMHIQKUAHChB6gAlSgigKESRUZOQgVoAKECT1ABahAFQUIkyoychAqQAUIE3qAClCBKgoQJlVk5CBUgAoQJvQAFaACVRQgTKrIuPQgH+al60wX/X8xH0uHcfP9EO8WYtS6thxvSXzovM4cCJNSTpreB8Noo5f2tTIJxCYG1zG3Ep/EgRh1fKV9LcWcxlKKt7Qvva7eNmFST8uFRioZpLRvoXBuus0W42s95lT4Urylfel19bYJk3paLjRSySClfQuFc9NtWo+vNIktxpzOY9k5ECap/s1vlwxS2tfSRFqPL9Vqa/Hq+BE7PjfRj276vPrvCZP6mt55RJhFm6S0785hTBq+9fj0ZLYUq4679H7ZuRAmpRw0va9kkNK+libRenzQaitxIt6vXpedD2HyVT6aO14ySGlfS4G3Hp9otYUYp+Z02TkRJlPzs/r5JYOU9q0eqAqA8Skx7vS2pHFp351ubwx/09r9pL3XyCWDlPbd6/5zxmV8c1Sbdk1J49K+aaNOOZudyRS1mjkXJsEn9i1/IUxEQ7z6Q+NmxFTxaT3xvtWYS/pBZ8S+rC8Ik1JOuI8KUIHJChAmkyXjBVSACpQUIExKqnAfFaACkxUgTCZLxguoABUoKUCYlFThPipABSYrQJhMlowXUAEqUFKAMCmpwn1UgApMVoAwmSwZL6ACVKCkAGFSUoX7qAAVmKwAYTJZMl5ABahASQHCpKQK91EBKjBZgWow+f37t+F/akAPbM8Dk6kxckE1mPR9b/ifGtAD2/PACBsm7yZMCEEuAjv3wGRqjFxAmOzcSOwkttdJ1M7ZCBsm7yZMCBN2Jjv3wGRqjFxAmOzcSLVXOY63vU5nhA2TdxMmhAk7k517YDI1Ri4gTHZuJHYS2+skaudshA2TdxMmhAk7k517YDI1Ri4gTHZupNqrHMfbXqczwobJuwkTwoSdyc49MJkaIxcQJjs3EjuJ7XUSyNnn68F03clcvunhETZM3r0aTJwQ8nc9cjFw7PS+3UQj4fr18tyZ7ulsPr+ZfD1mvfef5vyk/96Kfp/nqN59v5Hj91PDeoZ5Sd5jLw9aN+KFydQYuaABmHSme75ErfZjwuRiTt3BHJ4O5vwnGK2Joszg5mJtPs6NwsQuKonn1/TBCBsm714dJlJcXReT+yFh8n4yh9dPY+fWkJHKJiZMyrrMWwR0Z9IaSGSetf6tD5PXszl18eNOESayCtnzXPsd2kYxvrv+JI8R/pyTufw5m4PfjoHV92lbf89WXu6FjkTiTe81FO+7itcCJ44RcxZDCpi04etCahwmyI3XOQLjtHno+Ge9L3QmtliRc/0YMZx7sZ8zDD6JYu9NH3kM+ZoHED0fwMRqp2NSHWGsK/zh8o+8Y0yf/2j+OFdygDq4bQ4PBJPPkMQhuRDWiyii+cSjwCBUEA/nB0MNSfFQiZPUdRgDY+L49w2ExNtXub8yEcwVzhnm4M9BPIgPRlfz8edKrHK+OleZNNxjypwGKCSPYy4vWiMXZwDbxHl8N86omJxG8AAWCx/bAAq/3btY/fn2uJqb9Yza/kasNt/P45/vZJBR87LHvPd70+u41HmYr/4MMht3ZA6PBZO+NwCAJNeZNu0kQjHExwcDq9Uex4NxkuIcjBUAFd9/XgGG+NLrJZ4QywCGCAZ58do5aBNZ88Pcbj5RIUTjjceSxlbezuMZBZY2t40xhtr1eXwzzqiY8rEi3Qvn6uM54J0nvMYjhVjWL47FevvpYLvkfLzSQqD3SS6Qd1cb3kvRnBJP2Hjja8difTiY9MNKIWQ9D62oF94aFq1beHXHRTDZFwsubbgX3T/SOKNbg/tWMIwn1/h7fsM8cdIQX3yf0BWJ8eScW4pQnSNGGmBTKoQ4htjcXx/L4ynF6MaRc6F9fl0ZJmoe39FZaYA5YVHKHsOiwnN6BJi4QvTXKG/U8IPPj8SQ5Dn4ftwfcr3zsoZMuigRJqrg0coHUWNYBAMCBvFxGDp0NmMwwbNxOD612CacXzCxGD8YRMaaU4QoYrxOiOnLAs7judqZ+K4ov245mOTFFN27kIcAk3pdCKCmXz1MengzeHVUV50jxC6LqteaMPEfGgIIaUGL8FghyrAQw7pzyseRMNBcigwrD4CEMbA9FLROlE7mN97H0FAFP+vxQMc7tLzSPicfxmojz3ufQ0HGcTlLC0HrnF8XFbTVMT9nXowpPJJx0c3iUREFqXKpYeIWGD03AUy8PS/OHFTO42Fsq1HkvU9zftbfR5K5Hszp+RB3ztGcUj0GT/uuUXlPaSBzqvWvgZ/mxD+V0G2fg0XasaSPQWIigUuSnCuPOc4UuA7wCtfPNU12nTV0DIBwjk5+UggoXBTCWBFeHX/cPCGGsXPyeHCNAwo00yCBeeP51oeJ000WnBSiUWxPZ2N/cgMNo8Jz85bz9RjR9RUfeXVnAh0dUIJWbhu6hv0438WWeDSak/YT8ip5TK5JQCLj1/q3GkwgEl+R+Omv1mAoloJJqO10TfeoGWGy++IZ7x72WBCc83xwEiY7hglaYt2is5jmF9PetSNMdgyTvZuf868LTsKEMPE/GWNx1S2uvelJmBAmhAk9UMUDhAmNVMVIe1uFOd+8iyNMCBPChB6o4gHChEaqYiSu1PlKvTdNCBPChDChB6p4oDmY1AqI41ABKrBNBap9nX6b02fUVIAK1FKAMKmlJMehAjtXgDDZuQE4fSpQSwHCpJaSHIcK7FwBwmTnBuD0qUAtBQiTWkpyHCqwcwUIk50bgNOnArUUIExqKclxqMDOFSBMdm4ATp8K1FJgRzD5MC/2F0+/mI9a6nEcKkAFvALrw+TXi//TFt2PQpn/fTNH/FGk45v550Of+mZbMPn38xh06Y7m7W8yX61btyYg/5m3I36r+vCa5qmRWD9+qDjTGLW8g+defumda78v6DzUxfGnVAX8reY4HF9qHs3A5HiU4smLIiqqawaIcg1h9XilfdFF7WxI8em52mJUc0m2rUb6/EVnIroWYIcYWon175t5U3CwmpUWLynLATpLFSGkmv4q2itfpAMIFBf0RTsw+fFiO5A4gY7Gx+FYVGCpcNF2CRylfdFFjWy4Occ6OINjn5gd713QXxT0XWd23dBtxaqESIGNQ7YrOZrjMdUYJ7TzKkB0XUk5plz78nm19rYDk58frl3Wq8WQ2Ldfw6NORNmk7cOxoUXFXwW0r3bMAJOXW9vdWipPGmccJqGdzTuBpY0TpnQNJmXIrRerijoDshyD9ngN57f37pruxpiFuxLRpyGY/DPukSa0bb59ByAADJt0VVC2le5M+MwlgCN8CoN9YcVx9+uu0n0NE/l54+bD/ANMgkY4RQr02iqF86q/Ijf4XCtqu8uGXytW5FsWmLizc6rY43bhaR8mEuu1fK8B7KZgYmnqE+0SagWDYT1M0pIYQOGPAxy66Ar7Mgil4663LWbw3dXxzXx487RVoKlCrmChe7uxWn29X4wx0WNP6zAp6+pzIfWi5+YP3PdNWzAZ2kzbYViADN1HASZRsWFV9AIWwOE/7YbRBwPJtfrR6r56zx49rDQyN9WVDSOG47NvUelCKUTE13KsOjb9XmRoHCYCviue/aprqZTobJjGYGL8o86b/GgUcEhg4lY/DQExQxfOL4GjtK/hziTKlJ0/IFgyeloM0dULb2iYtBxr0Mz7CYuSfr1StAsL6293feHQ+vtLFnnTHEzwqCMtvn8mHIEJjnszAD7ocLLnd3l0QFE23Jn8elHP9K4gMVfrCgvBMA87/7VM/+st+g6MjcXnARqvH+u/n2/RlxWzOKNyK0EwOmHFDYFg0DMLRGpF65+dcL8d7cHE/5wfrfLwyXTUebhk4zOF48+3pDOBiYfPHWyhDd2LTkSznUk6v/yreh6gkS73M8r4yHGsvptUF7QRK/KvPaGCjN42DJOvYPHFI1A0zcob68Ok8oQ4HBWgAusoQJisozvvSgUeTgHC5OFSyglRgXUUIEzW0Z13pQIPpwBh8nAp5YSowDoKECbr6M67UoGHU4AwebiUckJUYB0FCJN1dOddqcDDKUCYPFxKOSEqsI4ChMk6uvOuVODhFKgGk77vDf9TA3pgex6oRTXChBDkIrBzDxAmOzcAO4DtdQCt5owwIUzYUdADVTxAmNBIVYzU6mrJuJbrvAgTwoQwoQeqeIAwoZGqGIkdwHIdQKtaEyaECWFCD1TxAGFCI1UxUqurJeNarmMiTAgTwoQeqOIBwiQz0sWc7J8oOJmLPZZuj5P+8ux+yfDpffwcrpTU5lE9sDmYfL4ewl+o83+X5GDOf2qZNIVHuj1+n/Zg8mnOT8NvUYdWT2fzmQAUcctv6T+8flZZpeYUTJzbQk7fTyr3gP14PubEMO0a542gGbySaN51ZrUFRjR7vuQ5/XM2B3iiq6P1ZmESEljbTDDEdLOiKFczTgKJvpe5FIyizrMxK7NdXnPYTCuwmfkQ02vQWXCoHCTbFjz6fDWnReLtewP4XfWiFO0qccLHXQ4TCxLli0TbPtm+VWvCJDMhkqCMnJ1TLpg2YXJlHmKaVYye6uc6qBTCoif26fcOFl+D8r5Qcfc/PF3v5vK407nfZ1vuayEnOVaLhWgicIgBGOufx3yb1o8FE7RuTydz0u19IqaIhT+81XUHI4aQV/eolMIk3e6NIzfGCMWKcU/Puh3HuPcxzfWCkdhDfOm53nA3wjK9vt52bGaMG+Irm1mOAza4ZqlXxIbX4n1X60qU1zKYlLUOgJmv9WZhEmDQhdUVMPFg6I0kW86F6bLW1LZ0E2CC8z2gLuY0vMe9/EqAeNZa/XF//2yswQJTAZaxTsXiuCN0slZ6iN2toGUoXi3kO8ZqF5Mhp9dikGPw3dJ6+vsVYZIvcFZ/6+P5Wm8WJnGbNpAYxaOKN4YHCicvqps7E8BE3QOJA0yCgUr3U6vGPQ1fGNtpgbk7mHS6c7H65UbD/O79Cv3sQvF0Nhffjs83ePWYrUbQ0C1Wo14seKR6PIU8R/cgTMYLLoZDct5XMCkc73sUFYooBcDYNh5zcF3eBbkPQOW8YL4o0V8ZofpxmSviRWcSa3htpV069rCySw4Qd4g3HA/77htjrtmYXuLTImSq5/SLuRdhkndMId75WrMzmQwTJA8QCrAQY+lHqrZhUl5Vly9Q6Jm8Rh1AXsS3/KSqOljQlfrHRiwo6lHbwkLizeFXPZ5bwJTBpJR3ra9+j5yUAZPOZ2cwKXQP3iBI/lgn4roLIfjYY0xzMHk/R9+/sV2dbr2jgu1Nn27fYtZa57yflK7O0NHKbvMUOjw7F/+5FUy//GuxMxEdtc61NJozTgEmLs/w+/ADBR3vTK03C5PoA1h8wGqLIV4lrOmiL2M5o/rr/U9+IO51mITHIqxKweDNwcR3XUOs2jAwpoepnAMNli/KVNcIJEOsyCU+U0m/fJeulEtsF2FSKmDovfTrWCxR3oOHodkcrTcHE0y23ivgkgta7x5rFCfvyfwt64HdwUSIGx5TbvwW49KrCe+Xf/2bmjSvyS5h4h9xhg/SNFy4mi27mlHvx9F7dzCheR/HvMxlW7kkTNg+N98+ExptQWMsH4QJYUKY0ANVPECY0EhVjDS2WnH/NrqKGnkiTAgTwoQeqOIBwoRGqmKkGisbx9h2F0OYECaECT1QxQPNwaRWQByHClCBbSrw3zbDZtRUgAq0pgBh0lpGGA8V2KgChMlGE8ewqUBrChAmrWWE8VCBjSpAmGw0cQybCrSmAGHSWkYYDxXYqAKEyUYTx7CpQGsKECatZYTxUIGNKkCYbDRxDJsKtKbA/48U0BRqnkhmAAAAAElFTkSuQmCC)"
      ]
    },
    {
      "cell_type": "code",
      "metadata": {
        "id": "EIUdDehpmrhn"
      },
      "source": [
        ""
      ],
      "execution_count": null,
      "outputs": []
    },
    {
      "cell_type": "markdown",
      "metadata": {
        "id": "FLrkrDZSSHSE"
      },
      "source": [
        "* 두학생의 평균점수를 보기 위해 수정해야할 점은?"
      ]
    },
    {
      "cell_type": "code",
      "metadata": {
        "colab": {
          "base_uri": "https://localhost:8080/"
        },
        "id": "scUR9EQOtxTQ",
        "outputId": "fcdf39f4-8d2f-4dce-e713-ee042f185b96"
      },
      "source": [
        "import pandas as pd\n",
        "student1=pd.Series({'국어':96,'영어':90})\n",
        "student2=pd.Series({'국어':86,'영어':100,'수학':94})"
      ],
      "execution_count": null,
      "outputs": [
        {
          "output_type": "execute_result",
          "data": {
            "text/plain": [
              "국어    182.0\n",
              "수학      NaN\n",
              "영어    190.0\n",
              "dtype: float64"
            ]
          },
          "metadata": {
            "tags": []
          },
          "execution_count": 3
        }
      ]
    },
    {
      "cell_type": "markdown",
      "metadata": {
        "id": "vhu60hvjSLeb"
      },
      "source": [
        "* add를 이용해서  student1의 수학성적을 0으로 하는 코드 작성"
      ]
    },
    {
      "cell_type": "code",
      "metadata": {
        "id": "LGghPWtIt3SD"
      },
      "source": [
        ""
      ],
      "execution_count": null,
      "outputs": []
    },
    {
      "cell_type": "markdown",
      "metadata": {
        "id": "QWtNcrnESbvb"
      },
      "source": [
        "# 추가문제\n",
        "해당 내용은 영상에 없는 내용 중 판다스에 관한 내용입니다.  \n",
        "시간이 남으면 구글링을 해서 풀어보세요!"
      ]
    },
    {
      "cell_type": "markdown",
      "metadata": {
        "id": "SRXPBmr6PrQ6"
      },
      "source": [
        "* loc를 이용하여 다음과 같은 결과를 출력하는 코드 작성  \n",
        "![image.png](data:image/png;base64,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)"
      ]
    },
    {
      "cell_type": "code",
      "metadata": {
        "id": "GZz4oEVxmrWo"
      },
      "source": [
        ""
      ],
      "execution_count": null,
      "outputs": []
    },
    {
      "cell_type": "markdown",
      "metadata": {
        "id": "D4t6Bc8oRRWD"
      },
      "source": [
        "* iloc를 이용하여 다음과 같은 결과를 출력하는 코드 작성  \n",
        "![image.png](data:image/png;base64,iVBORw0KGgoAAAANSUhEUgAAAI0AAABkCAYAAAC7FbPvAAAHPElEQVR4Ae2dSW7jPBCF+yq6WAxfxQ0jFwkaMPochhdBLpBNFlk0kAt4yQaHEkskNVCkbFJ8P9DQxOHVq49F2fiT/BL4Dw5EOvArsj2awwEBaABBtAOAJtoydAA0YCDaAUATbRk6ABowEO0AoIm2DB0ADRiIdgDQRFuGDpVA8yHOXSe67iw++pyF7vUPCzlxNbrXqTJzj7dMD6BZ5tPKVm5S3eslw071mXq2ZOx1bSqDhleb5xgWZzNp7MT53Z4PK+bciNSPV1nqM/WM2uQ/7ggaMlCCxeGSptlnNnluEmwb3d8dY435dkw7rzuubTOlO6zJ7RuKfY3u6T51QXM8imMPBBkmk8/POSQEhn5OiaOjXfFu/9AY00aGn9K4Y5WGng91Wl1zOtz+c+3DKmPv7gQaN2zXTH1NsNDRJsdtn8t8M+7rWb3I+/PO6Z7TsZVuV9fwujJoLuLHVBU/AWQglWi+Dehn1IeOPjS8L51TFRgat+xqCTRTuuUs9DykI/QsdG+Z2qWtdgKNa1T4mmChow9NKDFLrQy1MzpGK01Yp9Ulx3Tb8HlCz0L3eJ/08wqh4UZSNXGNCl8TLHS0yXHbpxurRzDjvtK3S+48c9c81hDQbv+59nni2iE0ZCQBZY0kWOg4DQ2NE0rWUvPNGIugofm4bqvdauVzUx+uMXSP90k/rxSakJlkVuiTin5GsNBxmAjbP/zxdo3ZZsxRaHgcId00J9c2Bwi15e1onDzHSqDJEyxGyeMAoMnjY1OjAJqm0p0nWECTx8emRgE0TaU7T7CAJo+PTY0CaJpKd55gAU0eH5saBdA0le48wQKaPD42NQqgaSrdeYKNgubz81Pg3z48SMEnCpr7/S7wbx8eABrAHL2YAQ2gATTYArffAlFpUGlQaVBpUGmiVwGgATSApsDtE+80BSal9GoJaABNdDUHNICmcmi+3sRB/WYH/bPQhz/f0QHFlPbb7050L2/ie8fgfP85mF+fIj09iLcv50X5emLPT+K2wItyKg0B8/umQKFgtwPnJk7dQRxeAkYuMC4Gzqe1lUDwRaEAYWA418pz3n7Eh2KgIUhOV1oJMqkbVoLrSUgg1bwG1KcldyQ5aXq+xdtLJ6yf2ldZXekeP9dz6YXkVSNHXyHQ6AC7jq2Ce+geAZV6lGNThZFG8Xnl2Ma8K9suFVikSW+f3Hy3Ij4fRq2VNBKAEhStNQyID5LvdSHQyABkInjyKEGUXF88GRF9lFshK8O+UUZP3yaghZd2Z7y7An4D3c6Kn4vb227MK4CFhvut/bVQjfvdJDTSzEFlcPd+qjTspdGvHBIsMt1Z1d544wmYS3zqcwlB/0sJXt7ErY+d67f6KoKGVjIlQQYRumeDW28mVTVmpqpyvDLINvz6Hnj3cdpIUMy7kV+5cujOM4bV5ug3Vcw+H5+vkEpzF1Ls8COhSW6/RYwHEQXQSBWQ89vq4xsarjQcLNlHQk/HTHojt6RJL9T2RAvTqY5qHj/u0HjFQHOXyZQr3vnI7b7IhYKIuTeEgyV2YKhv3jw0uhrJj/AWPjZ+zuQvHet66j8pUeUeaFOeE0ShahrWXw400ggCR20X9qNhDBSTbRUYvDpwU/jKWwfNfXJ8PtejzmmL11vxABgDnloMxu/BdzoTYJYFzYTQSRgK6edXo0fB8dh5AE024PzqVAPoazQCmgzQ6Jd4/iL92JW/JvEpfQBNBmhSElBjX0ADaKL/TwJAA2gATY3lvjbNqDSoNKg0ta3aGvWi0qDSlFtpUuhE3/04EPX7afYTNiJJcQDQpLjXaF9A02jiU8IGNCnuNdoX0DSa+JSwAU2Ke432BTSNJj4lbECT4l6jfQFNo4lPCRvQpLjXaN+NoNnyz/z+iMvR/SE5ut7uzwo/j49AvMeL+OGC3s/2JzC77T3IDA3B8qgkyvmO4vKPO7i385kYFTAWlJ+/R9G5UGW2ZBtoXi+mGthgMus2w80Yus2kDx5Vxjju48er/CPwXNL2nmSGhsRTSR0PllqmHccNUiuOfoBMHl8/2FSm3/tFHKmNek66daUcJoN1f+jpFDTh+H2Q8greJTQaGA6shuH4l94EpNkdK+MEC9vqnLKf1/aI0f4xsBXgPK4wUBIaG2vEXAub7hAaCQBLPhmhzCfD/RWqQPOqEbWnQZ5/HC4IQLMiI37yhQjdk0Nzg/02YWgC8K1QmbcLXxR+HCpS7z0nr4K2Kk3/qcI3u05o9LY6fPfyY8uLjBA7hEaIYQmXlmlz7T7vG1ssNO+XwVcKSmcPvxDCeffy48iNzE6hUZjI7yvok1HnvhhWBI0Bvo+FA2N40IvEfDcWeJ4bm40qTW6ZGK8kBwBNSdmoRAugqSRRJckENCVloxItgKaSRJUkE9CUlI1KtACaShJVkkxAU1I2KtECaCpJVEkyAU1J2ahEC6CpJFElyQQ0JWWjEi2AppJElSQT0JSUjUq0AJpKElWSzP8SCH5ryZkKQAAAAABJRU5ErkJggg==)"
      ]
    },
    {
      "cell_type": "markdown",
      "metadata": {
        "id": "5fSx8H-MUInU"
      },
      "source": [
        "* DF에서 Jane의 수학점수를 59로 변경하는 코드 작성"
      ]
    },
    {
      "cell_type": "code",
      "metadata": {
        "id": "VByitFP5UPWs"
      },
      "source": [
        ""
      ],
      "execution_count": null,
      "outputs": []
    },
    {
      "cell_type": "markdown",
      "metadata": {
        "id": "6-c5A5GJSq0K"
      },
      "source": [
        "* DF에서 학생들의 수학 점수의 총점을 구하는 코드 작성"
      ]
    },
    {
      "cell_type": "code",
      "metadata": {
        "id": "dJIIDvell-27"
      },
      "source": [
        ""
      ],
      "execution_count": null,
      "outputs": []
    },
    {
      "cell_type": "markdown",
      "metadata": {
        "id": "l9tu29rbUWHk"
      },
      "source": [
        "* DF에서 영어 점수의 평균을 구하는 코드 작성"
      ]
    },
    {
      "cell_type": "code",
      "metadata": {
        "id": "r0DHKFrSUTLU"
      },
      "source": [
        ""
      ],
      "execution_count": null,
      "outputs": []
    },
    {
      "cell_type": "markdown",
      "metadata": {
        "id": "0smtAm8HS1eL"
      },
      "source": [
        "* DF에서 학생들의 수학점수와 영어점수의 상관계수를 구하는 코드 작성"
      ]
    },
    {
      "cell_type": "code",
      "metadata": {
        "id": "Ft1-4D4ItTWp"
      },
      "source": [
        ""
      ],
      "execution_count": null,
      "outputs": []
    },
    {
      "cell_type": "markdown",
      "metadata": {
        "id": "RWsyf8wzTCy0"
      },
      "source": [
        "* DF에서 학생의 이름 순서대로 정렬하는 코드 작성"
      ]
    },
    {
      "cell_type": "code",
      "metadata": {
        "id": "Au9bNflgTPw6"
      },
      "source": [
        ""
      ],
      "execution_count": null,
      "outputs": []
    },
    {
      "cell_type": "markdown",
      "metadata": {
        "id": "IwVWNwhcTazc"
      },
      "source": [
        "* DF에서 Score성적이 낮은 순서대로 정렬하는 코드 작성"
      ]
    },
    {
      "cell_type": "code",
      "metadata": {
        "id": "T_pQ1PXQTdug"
      },
      "source": [
        ""
      ],
      "execution_count": null,
      "outputs": []
    }
  ]
}