{
  "nbformat": 4,
  "nbformat_minor": 0,
  "metadata": {
    "colab": {
      "name": "DALC_scalar4_파이썬_데이터_타입과_numpy이해하기.ipynb의 사본",
      "provenance": [],
      "collapsed_sections": []
    },
    "kernelspec": {
      "name": "python3",
      "display_name": "Python 3"
    },
    "language_info": {
      "name": "python"
    }
  },
  "cells": [
    {
      "cell_type": "markdown",
      "metadata": {
        "id": "giYnypId9JKA"
      },
      "source": [
        "# Numpy 기초"
      ]
    },
    {
      "cell_type": "markdown",
      "metadata": {
        "id": "mMuPNu735nzw"
      },
      "source": [
        "## 넘파이 패키지 불러오기"
      ]
    },
    {
      "cell_type": "code",
      "metadata": {
        "id": "R86NUr6E6IxC"
      },
      "source": [
        "# 넘파이 패키지를 불러오기 np로 줄여쓰기# 넘파이 패키지를 불러오기 np로 줄여쓰기\n",
        "import numpy as np"
      ],
      "execution_count": 2,
      "outputs": []
    },
    {
      "cell_type": "markdown",
      "metadata": {
        "id": "zYd86L6l6LR_"
      },
      "source": [
        "## array 정의 및 생성"
      ]
    },
    {
      "cell_type": "code",
      "metadata": {
        "id": "iYL2w7ZH6OvI",
        "outputId": "19c31599-7f75-4c7e-d1e4-792c434676a4",
        "colab": {
          "base_uri": "https://localhost:8080/"
        }
      },
      "source": [
        "# 넘파이 array를 사용하여 a라는 변수에 1부터 10까지의 숫자 리스트 배열을 생성하기\n",
        "a = np.array([1, 2, 3, 4, 5, 6, 7, 8, 9, 10])\n",
        "a"
      ],
      "execution_count": 25,
      "outputs": [
        {
          "output_type": "execute_result",
          "data": {
            "text/plain": [
              "array([ 1,  2,  3,  4,  5,  6,  7,  8,  9, 10])"
            ]
          },
          "metadata": {
            "tags": []
          },
          "execution_count": 25
        }
      ]
    },
    {
      "cell_type": "code",
      "metadata": {
        "id": "WUOwTypoBPRC",
        "outputId": "ea80b941-6c4d-43ee-f9f7-99853feb4002",
        "colab": {
          "base_uri": "https://localhost:8080/"
        }
      },
      "source": [
        "#파이썬의 기본 range 함수와 비슷한 넘파이 arange 함수를 사용하여 ndarray를 만들 수 있습니다:\n",
        "ndarray = np.arange(1, 10)\n",
        "ndarray"
      ],
      "execution_count": 37,
      "outputs": [
        {
          "output_type": "execute_result",
          "data": {
            "text/plain": [
              "array([1, 2, 3, 4, 5, 6, 7, 8, 9])"
            ]
          },
          "metadata": {
            "tags": []
          },
          "execution_count": 37
        }
      ]
    },
    {
      "cell_type": "markdown",
      "metadata": {
        "id": "FOK4pK-I6pDn"
      },
      "source": [
        "## 배열 구성"
      ]
    },
    {
      "cell_type": "code",
      "metadata": {
        "id": "ocsVMvGT6rcJ",
        "outputId": "5a1ad31e-23b7-461e-af81-a581827e2901",
        "colab": {
          "base_uri": "https://localhost:8080/"
        }
      },
      "source": [
        "# full 함수를 사용하여 b라는 변수에 2.71 수로 3 X 4 다차원 배열 만들기\n",
        "b = np.full((3,4), 2.71)\n",
        "b"
      ],
      "execution_count": 8,
      "outputs": [
        {
          "output_type": "execute_result",
          "data": {
            "text/plain": [
              "array([[2.71, 2.71, 2.71, 2.71],\n",
              "       [2.71, 2.71, 2.71, 2.71],\n",
              "       [2.71, 2.71, 2.71, 2.71]])"
            ]
          },
          "metadata": {
            "tags": []
          },
          "execution_count": 8
        }
      ]
    },
    {
      "cell_type": "code",
      "metadata": {
        "id": "ReJJ53HV6_5k",
        "outputId": "77f2298e-52b0-4af9-8364-de0567d19e45",
        "colab": {
          "base_uri": "https://localhost:8080/"
        }
      },
      "source": [
        "# arange 함수를 사용하여 c라는 변수에 0부터 10까지 짝수만 있는 배열 구성하기\n",
        "c = np.arange(0, 11, 2)\n",
        "c"
      ],
      "execution_count": 10,
      "outputs": [
        {
          "output_type": "execute_result",
          "data": {
            "text/plain": [
              "array([ 0,  2,  4,  6,  8, 10])"
            ]
          },
          "metadata": {
            "tags": []
          },
          "execution_count": 10
        }
      ]
    },
    {
      "cell_type": "code",
      "metadata": {
        "id": "UiHHzUCn7ak9",
        "outputId": "7d9a9c94-197b-47e1-ad7b-e44c1798e6c5",
        "colab": {
          "base_uri": "https://localhost:8080/"
        }
      },
      "source": [
        "# linspace 함수를 사용하여 d라는 변수에 0부터 1까지 4개 요소 값을 가진 배열 생성하기\n",
        "d = np.linspace(0, 1, 4)\n",
        "d"
      ],
      "execution_count": 12,
      "outputs": [
        {
          "output_type": "execute_result",
          "data": {
            "text/plain": [
              "array([0.        , 0.33333333, 0.66666667, 1.        ])"
            ]
          },
          "metadata": {
            "tags": []
          },
          "execution_count": 12
        }
      ]
    },
    {
      "cell_type": "code",
      "metadata": {
        "id": "cgqpObYO7m_o",
        "outputId": "642a182e-1210-4397-c168-25d8ecc3f4bc",
        "colab": {
          "base_uri": "https://localhost:8080/"
        }
      },
      "source": [
        "# randint 함수를 사용하여 0 부터 100까지 수를 2 X 2 배열로 생성하기\n",
        "ar = np.random.randint(0, 100, (2,2))\n",
        "ar"
      ],
      "execution_count": 16,
      "outputs": [
        {
          "output_type": "execute_result",
          "data": {
            "text/plain": [
              "array([[77, 79],\n",
              "       [31, 77]])"
            ]
          },
          "metadata": {
            "tags": []
          },
          "execution_count": 16
        }
      ]
    },
    {
      "cell_type": "markdown",
      "metadata": {
        "id": "gmqrBmjV8I_q"
      },
      "source": [
        "## 배열 인덱싱"
      ]
    },
    {
      "cell_type": "code",
      "metadata": {
        "id": "u1YDX-907tCM",
        "outputId": "c59c817a-d566-47f1-d8b2-35432747c68b",
        "colab": {
          "base_uri": "https://localhost:8080/"
        }
      },
      "source": [
        "# a변수에서 인덱스 2 (앞에서 3번째) 와 인덱스 -3 (뒤에서 3번째)에 해당하는 수 가져오기\n",
        "print(a[2], a[-3])"
      ],
      "execution_count": 17,
      "outputs": [
        {
          "output_type": "stream",
          "text": [
            "3 8\n"
          ],
          "name": "stdout"
        }
      ]
    },
    {
      "cell_type": "code",
      "metadata": {
        "id": "09OUlcP98IFO",
        "outputId": "a11107bb-65a9-403e-b05d-91886447b52b",
        "colab": {
          "base_uri": "https://localhost:8080/"
        }
      },
      "source": [
        "# a 변수에서 인덱스 3부터 9 까지 슬라이싱하기\n",
        "a[3:9:1]"
      ],
      "execution_count": 18,
      "outputs": [
        {
          "output_type": "execute_result",
          "data": {
            "text/plain": [
              "array([4, 5, 6, 7, 8, 9])"
            ]
          },
          "metadata": {
            "tags": []
          },
          "execution_count": 18
        }
      ]
    },
    {
      "cell_type": "markdown",
      "metadata": {
        "id": "B7ZsYxD-9BDG"
      },
      "source": [
        "## 배열 재구조화"
      ]
    },
    {
      "cell_type": "code",
      "metadata": {
        "id": "OUDkKScoFwID",
        "outputId": "92833a69-2ac9-40ef-cb0c-62a4af64922a",
        "colab": {
          "base_uri": "https://localhost:8080/"
        }
      },
      "source": [
        "#차원의 개수 알아보는 함수\n",
        "print(a.ndim, b.ndim, c.ndim, d.ndim)"
      ],
      "execution_count": 21,
      "outputs": [
        {
          "output_type": "stream",
          "text": [
            "1 2 1 1\n"
          ],
          "name": "stdout"
        }
      ]
    },
    {
      "cell_type": "code",
      "metadata": {
        "id": "BAXVPoxoFwUD",
        "outputId": "05a57d6f-ec1f-4f94-85f3-627a62cff413",
        "colab": {
          "base_uri": "https://localhost:8080/"
        }
      },
      "source": [
        "#차원의 크기 알아보는 함수\n",
        "print(a.shape, b.shape, c.shape, d.shape)"
      ],
      "execution_count": 22,
      "outputs": [
        {
          "output_type": "stream",
          "text": [
            "(10,) (3, 4) (6,) (4,)\n"
          ],
          "name": "stdout"
        }
      ]
    },
    {
      "cell_type": "code",
      "metadata": {
        "id": "lNaAPxjqGc8f",
        "outputId": "05077160-f8ad-4504-d987-31cf85284677",
        "colab": {
          "base_uri": "https://localhost:8080/"
        }
      },
      "source": [
        "#전체 배열크기 알아보는 함수\n",
        "print(a.size, b.size, c.size, d.size)"
      ],
      "execution_count": 23,
      "outputs": [
        {
          "output_type": "stream",
          "text": [
            "10 12 6 4\n"
          ],
          "name": "stdout"
        }
      ]
    },
    {
      "cell_type": "code",
      "metadata": {
        "id": "LpmpluGdGG8T",
        "outputId": "7b8b039c-9b76-40c5-f526-4bfb6bddae96",
        "colab": {
          "base_uri": "https://localhost:8080/"
        }
      },
      "source": [
        "#0부터10까지 정수를 가진 x변수에서 4~7까지의 요소를 가진 하위배열생성\n",
        "x = np.arange(10)\n",
        "x[4:8]"
      ],
      "execution_count": 27,
      "outputs": [
        {
          "output_type": "execute_result",
          "data": {
            "text/plain": [
              "array([4, 5, 6, 7])"
            ]
          },
          "metadata": {
            "tags": []
          },
          "execution_count": 27
        }
      ]
    },
    {
      "cell_type": "code",
      "metadata": {
        "id": "vosKsX6-GHD6",
        "outputId": "55401fdc-1bde-45b8-9852-e84c2966a4ae",
        "colab": {
          "base_uri": "https://localhost:8080/"
        }
      },
      "source": [
        "#0부터10까지 정수를 가진 x변수에서 첫번째 다섯 요소를 가진 하위 배열 생성\n",
        "x[:5]"
      ],
      "execution_count": 29,
      "outputs": [
        {
          "output_type": "execute_result",
          "data": {
            "text/plain": [
              "array([0, 1, 2, 3, 4])"
            ]
          },
          "metadata": {
            "tags": []
          },
          "execution_count": 29
        }
      ]
    },
    {
      "cell_type": "code",
      "metadata": {
        "id": "mEW2HOOSHBar",
        "outputId": "4e95196a-e93a-49e0-dd3b-2aebdbd0960c",
        "colab": {
          "base_uri": "https://localhost:8080/"
        }
      },
      "source": [
        "#0부터10까지 정수를 가진 x변수에서 인덱스 5 이후의 요소를 가진 하위 배열을 생성\n",
        "x[5:]"
      ],
      "execution_count": 30,
      "outputs": [
        {
          "output_type": "execute_result",
          "data": {
            "text/plain": [
              "array([5, 6, 7, 8, 9])"
            ]
          },
          "metadata": {
            "tags": []
          },
          "execution_count": 30
        }
      ]
    },
    {
      "cell_type": "code",
      "metadata": {
        "id": "TD0eKXKOHFiq",
        "outputId": "2a806a33-daad-4fb7-c9a1-a288d6d70625",
        "colab": {
          "base_uri": "https://localhost:8080/"
        }
      },
      "source": [
        "# 인덱스 0,1행과 인덱스 0,1,2열 즉 2행3열인 다차원 하위 배열 생성(콤마이용하기)\n",
        "x = np.array([[2, 4, 6, 8], [3, 6, 9, 12], [4, 8, 12, 16]])\n",
        "x[:2, :3]"
      ],
      "execution_count": 34,
      "outputs": [
        {
          "output_type": "execute_result",
          "data": {
            "text/plain": [
              "array([[2, 4, 6],\n",
              "       [3, 6, 9]])"
            ]
          },
          "metadata": {
            "tags": []
          },
          "execution_count": 34
        }
      ]
    },
    {
      "cell_type": "code",
      "metadata": {
        "id": "uqvnK_MqHSjX",
        "outputId": "5a6f67c5-17f9-4597-cb81-b84f3aaad553",
        "colab": {
          "base_uri": "https://localhost:8080/"
        }
      },
      "source": [
        "#1부터 10까지 배열을 3행3열로 재배열하기(reshape사용)\n",
        "x = np.arange(1, 10).reshape(3, 3) # 3X3 행렬에 숫자 1부터 9까지\n",
        "x"
      ],
      "execution_count": 35,
      "outputs": [
        {
          "output_type": "execute_result",
          "data": {
            "text/plain": [
              "array([[1, 2, 3],\n",
              "       [4, 5, 6],\n",
              "       [7, 8, 9]])"
            ]
          },
          "metadata": {
            "tags": []
          },
          "execution_count": 35
        }
      ]
    },
    {
      "cell_type": "markdown",
      "metadata": {
        "id": "Fe5b8TCo9CUi"
      },
      "source": [
        "## 배열 결합"
      ]
    },
    {
      "cell_type": "code",
      "metadata": {
        "id": "nkYF1XetHZFA",
        "outputId": "17bfb543-04d7-4ac2-a93c-1c09cf124342",
        "colab": {
          "base_uri": "https://localhost:8080/"
        }
      },
      "source": [
        "#두개의 배열 결합하기\n",
        "x = np.array([1, 2, 3])\n",
        "y = np.array([3, 2, 1])\n",
        "z = np.concatenate([x, y])\n",
        "z"
      ],
      "execution_count": 38,
      "outputs": [
        {
          "output_type": "execute_result",
          "data": {
            "text/plain": [
              "array([1, 2, 3, 3, 2, 1])"
            ]
          },
          "metadata": {
            "tags": []
          },
          "execution_count": 38
        }
      ]
    },
    {
      "cell_type": "code",
      "metadata": {
        "id": "NObVaN04Hbt8",
        "outputId": "ffb59f5e-3e4e-40a3-e162-c46ecad3043d",
        "colab": {
          "base_uri": "https://localhost:8080/"
        }
      },
      "source": [
        "#수직으로 두개의 배열 결합하기\n",
        "x = np.array([1, 2, 3])\n",
        "grid = np.array([[4, 5, 6], [7, 8, 9]])\n",
        "v = np.vstack([x, grid])\n",
        "v"
      ],
      "execution_count": 39,
      "outputs": [
        {
          "output_type": "execute_result",
          "data": {
            "text/plain": [
              "array([[1, 2, 3],\n",
              "       [4, 5, 6],\n",
              "       [7, 8, 9]])"
            ]
          },
          "metadata": {
            "tags": []
          },
          "execution_count": 39
        }
      ]
    },
    {
      "cell_type": "code",
      "metadata": {
        "id": "NFQ0_cEjHkCy",
        "outputId": "d215a153-2dd6-4b4e-a162-f81cea666230",
        "colab": {
          "base_uri": "https://localhost:8080/"
        }
      },
      "source": [
        "#수평으로 두개의 배열 결합하기\n",
        "y = np.array([[99], [99]])\n",
        "z = np.hstack([grid, y])\n",
        "z"
      ],
      "execution_count": 40,
      "outputs": [
        {
          "output_type": "execute_result",
          "data": {
            "text/plain": [
              "array([[ 4,  5,  6, 99],\n",
              "       [ 7,  8,  9, 99]])"
            ]
          },
          "metadata": {
            "tags": []
          },
          "execution_count": 40
        }
      ]
    },
    {
      "cell_type": "markdown",
      "metadata": {
        "id": "vNpmxjef9EiC"
      },
      "source": [
        "## 배열 분할"
      ]
    },
    {
      "cell_type": "code",
      "metadata": {
        "id": "XBu15lZ7Hxzu",
        "outputId": "e1fe2265-5b61-4137-e563-77515405d730",
        "colab": {
          "base_uri": "https://localhost:8080/"
        }
      },
      "source": [
        "#7개의 숫자를 가진 리스트 x를 3개의 변수 x1,x2,x3로 분할하기\n",
        "x = [1, 2, 3, 77, 77, 3, 2, 1]\n",
        "x1, x2, x3 = np.split(x, [3, 5])\n",
        "print(x1, x2, x3)"
      ],
      "execution_count": 41,
      "outputs": [
        {
          "output_type": "stream",
          "text": [
            "[1 2 3] [77 77] [3 2 1]\n"
          ],
          "name": "stdout"
        }
      ]
    },
    {
      "cell_type": "code",
      "metadata": {
        "id": "XdklCHyCHx75",
        "outputId": "696ce1a0-380a-486a-d970-395cd07158c9",
        "colab": {
          "base_uri": "https://localhost:8080/"
        }
      },
      "source": [
        "#4행4열 차원을 배열이 상하 2개로 나누게 분할\n",
        "grid = np.arange(16).reshape((4, 4))\n",
        "upper, lower = np.vsplit(grid, [2])\n",
        "print(upper)\n",
        "print(lower)"
      ],
      "execution_count": 42,
      "outputs": [
        {
          "output_type": "stream",
          "text": [
            "[[0 1 2 3]\n",
            " [4 5 6 7]]\n",
            "[[ 8  9 10 11]\n",
            " [12 13 14 15]]\n"
          ],
          "name": "stdout"
        }
      ]
    },
    {
      "cell_type": "markdown",
      "metadata": {
        "id": "dDE6Ap4n9S28"
      },
      "source": [
        "# Numpy 심화"
      ]
    },
    {
      "cell_type": "markdown",
      "metadata": {
        "id": "uH4cKovY9Whm"
      },
      "source": [
        "## 유니버셜함수"
      ]
    },
    {
      "cell_type": "code",
      "metadata": {
        "id": "4GAlLhUiAz13",
        "outputId": "48a7f5b7-76f8-4924-fbb4-b4cdde0ea693",
        "colab": {
          "base_uri": "https://localhost:8080/"
        }
      },
      "source": [
        "# zeros 함수는 0으로 채워진 배열을 만듭니다:\n",
        "np.zeros(5)"
      ],
      "execution_count": 44,
      "outputs": [
        {
          "output_type": "execute_result",
          "data": {
            "text/plain": [
              "array([0., 0., 0., 0., 0.])"
            ]
          },
          "metadata": {
            "tags": []
          },
          "execution_count": 44
        }
      ]
    },
    {
      "cell_type": "code",
      "metadata": {
        "id": "3vxe2YivA18-",
        "outputId": "319962ae-8f60-4711-f765-124daeb9a1b1",
        "colab": {
          "base_uri": "https://localhost:8080/"
        }
      },
      "source": [
        "#2D 배열(즉, 행렬)을 만들려면 원하는 행과 열의 크기를 튜플로 전달합니다. 예를 들어 다음은 3 \\times 4 크기의 행렬입니다:\n",
        "\n",
        "np.zeros((3,4))"
      ],
      "execution_count": 43,
      "outputs": [
        {
          "output_type": "execute_result",
          "data": {
            "text/plain": [
              "array([[0., 0., 0., 0.],\n",
              "       [0., 0., 0., 0.],\n",
              "       [0., 0., 0., 0.]])"
            ]
          },
          "metadata": {
            "tags": []
          },
          "execution_count": 43
        }
      ]
    },
    {
      "cell_type": "code",
      "metadata": {
        "id": "vUJHEN_FA6By",
        "outputId": "7ff6fdb1-db61-45e3-8528-8213f9816349",
        "colab": {
          "base_uri": "https://localhost:8080/"
        }
      },
      "source": [
        "a = np.zeros((3,4))\n",
        "a"
      ],
      "execution_count": 45,
      "outputs": [
        {
          "output_type": "execute_result",
          "data": {
            "text/plain": [
              "array([[0., 0., 0., 0.],\n",
              "       [0., 0., 0., 0.],\n",
              "       [0., 0., 0., 0.]])"
            ]
          },
          "metadata": {
            "tags": []
          },
          "execution_count": 45
        }
      ]
    },
    {
      "cell_type": "code",
      "metadata": {
        "id": "mzrutOYyA8CS",
        "outputId": "404474a2-1368-4923-9340-51533a5233e1",
        "colab": {
          "base_uri": "https://localhost:8080/"
        }
      },
      "source": [
        "a.shape"
      ],
      "execution_count": 46,
      "outputs": [
        {
          "output_type": "execute_result",
          "data": {
            "text/plain": [
              "(3, 4)"
            ]
          },
          "metadata": {
            "tags": []
          },
          "execution_count": 46
        }
      ]
    },
    {
      "cell_type": "code",
      "metadata": {
        "id": "Knsc4SCPA9FI",
        "outputId": "076030b3-a94b-48e4-a38f-811e05a5098d",
        "colab": {
          "base_uri": "https://localhost:8080/"
        }
      },
      "source": [
        "a.ndim # len(a.shape)와 같습니다"
      ],
      "execution_count": 47,
      "outputs": [
        {
          "output_type": "execute_result",
          "data": {
            "text/plain": [
              "2"
            ]
          },
          "metadata": {
            "tags": []
          },
          "execution_count": 47
        }
      ]
    },
    {
      "cell_type": "code",
      "metadata": {
        "id": "sq0vJhlgA-M3",
        "outputId": "c8e3469d-c63a-4436-b7d8-c0f0ed2a766b",
        "colab": {
          "base_uri": "https://localhost:8080/"
        }
      },
      "source": [
        "a.size"
      ],
      "execution_count": 48,
      "outputs": [
        {
          "output_type": "execute_result",
          "data": {
            "text/plain": [
              "12"
            ]
          },
          "metadata": {
            "tags": []
          },
          "execution_count": 48
        }
      ]
    },
    {
      "cell_type": "code",
      "metadata": {
        "id": "g_i6UPINA_8o",
        "outputId": "52f19d74-ab3f-4207-8427-12f7ee679cb7",
        "colab": {
          "base_uri": "https://localhost:8080/"
        }
      },
      "source": [
        "# 초기화되지 않은 2 \\times 3 크기의 배열을 만듭니다(배열의 내용은 예측이 불가능하며 메모리 상황에 따라 달라집니다):\n",
        "\n",
        "np.empty((2,3))"
      ],
      "execution_count": 49,
      "outputs": [
        {
          "output_type": "execute_result",
          "data": {
            "text/plain": [
              "array([[2.0e-323, 2.5e-323, 3.0e-323],\n",
              "       [3.5e-323, 4.0e-323, 4.4e-323]])"
            ]
          },
          "metadata": {
            "tags": []
          },
          "execution_count": 49
        }
      ]
    },
    {
      "cell_type": "code",
      "metadata": {
        "id": "PTCzRhCiBAyo",
        "outputId": "78168266-45e5-4374-f24f-3b4c0367fa5a",
        "colab": {
          "base_uri": "https://localhost:8080/"
        }
      },
      "source": [
        "#array 함수는 파이썬 리스트를 사용하여 ndarray를 초기화합니다:\n",
        "\n",
        "np.array([[1,2,3,4], [10, 20, 30, 40]])"
      ],
      "execution_count": 50,
      "outputs": [
        {
          "output_type": "execute_result",
          "data": {
            "text/plain": [
              "array([[ 1,  2,  3,  4],\n",
              "       [10, 20, 30, 40]])"
            ]
          },
          "metadata": {
            "tags": []
          },
          "execution_count": 50
        }
      ]
    },
    {
      "cell_type": "code",
      "metadata": {
        "id": "dAU3-6CV9u3R",
        "outputId": "b14ba413-ebfe-4cdf-c201-3aeb2a60c21b",
        "colab": {
          "base_uri": "https://localhost:8080/"
        }
      },
      "source": [
        "# x = np.array([-10, -5, 0, 3, 7])\n",
        "# x에 있는 배열을 모두 양의 정수로 반환하기\n",
        "x = np.array([-10, -5, 0, 3, 7])\n",
        "x = np.abs(x)\n",
        "x"
      ],
      "execution_count": 59,
      "outputs": [
        {
          "output_type": "execute_result",
          "data": {
            "text/plain": [
              "array([10,  5,  0,  3,  7])"
            ]
          },
          "metadata": {
            "tags": []
          },
          "execution_count": 59
        }
      ]
    },
    {
      "cell_type": "code",
      "metadata": {
        "id": "xrZfT0dH-J4X",
        "outputId": "5a1fcb20-75a7-4fe0-a59d-1c0f9cc98a50",
        "colab": {
          "base_uri": "https://localhost:8080/"
        }
      },
      "source": [
        "# 모두 양의 정수가 된 배열 x를 자연로그 배열로 반환하기\n",
        "np.log(x)"
      ],
      "execution_count": 60,
      "outputs": [
        {
          "output_type": "stream",
          "text": [
            "/usr/local/lib/python3.7/dist-packages/ipykernel_launcher.py:2: RuntimeWarning: divide by zero encountered in log\n",
            "  \n"
          ],
          "name": "stderr"
        },
        {
          "output_type": "execute_result",
          "data": {
            "text/plain": [
              "array([2.30258509, 1.60943791,       -inf, 1.09861229, 1.94591015])"
            ]
          },
          "metadata": {
            "tags": []
          },
          "execution_count": 60
        }
      ]
    },
    {
      "cell_type": "markdown",
      "metadata": {
        "id": "wQ14Cr7W9ZNP"
      },
      "source": [
        "## 집계함수"
      ]
    },
    {
      "cell_type": "code",
      "metadata": {
        "id": "VQgkBEIDC5er",
        "outputId": "ec7bb6b3-a5da-4ecc-dc32-2d277efd1e76",
        "colab": {
          "base_uri": "https://localhost:8080/"
        }
      },
      "source": [
        "x=np.array([-2,-1,0,1,2])\n",
        "\"절댓값을 씌우려면?\"\n",
        "힌트: \"np.absolute(x)\"\n",
        "np.abs(x)"
      ],
      "execution_count": 61,
      "outputs": [
        {
          "output_type": "execute_result",
          "data": {
            "text/plain": [
              "array([2, 1, 0, 1, 2])"
            ]
          },
          "metadata": {
            "tags": []
          },
          "execution_count": 61
        }
      ]
    },
    {
      "cell_type": "code",
      "metadata": {
        "id": "yGy7cRtmC6AA",
        "outputId": "2bb666d7-b24b-45d7-8ffc-3375ff8cbe20",
        "colab": {
          "base_uri": "https://localhost:8080/"
        }
      },
      "source": [
        "#삼각함수\n",
        "theta = np.linspace(0,np.pi,3)\n",
        "print(\"theta=\" , theta)\n",
        "print(\" 코사인 함수 =\", np.cos(theta))\n",
        "print(\"탐젠트 함수= \", np.tan(theta)) \n",
        "\n"
      ],
      "execution_count": 62,
      "outputs": [
        {
          "output_type": "stream",
          "text": [
            "theta= [0.         1.57079633 3.14159265]\n",
            " 코사인 함수 = [ 1.000000e+00  6.123234e-17 -1.000000e+00]\n",
            "탐젠트 함수=  [ 0.00000000e+00  1.63312394e+16 -1.22464680e-16]\n"
          ],
          "name": "stdout"
        }
      ]
    },
    {
      "cell_type": "code",
      "metadata": {
        "id": "XCvqtkfdC6DQ",
        "outputId": "d915c04e-c730-4713-babf-fda2c55dc610",
        "colab": {
          "base_uri": "https://localhost:8080/"
        }
      },
      "source": [
        "#역삼각함수\n",
        "print(\"역 사인함수=\", np.arcsin(theta))\n",
        "print(\"역 코사인함수=\",np.arccos(theta))\n",
        "print(\"역 탄젠트함수=\",np.arctan(theta))"
      ],
      "execution_count": 65,
      "outputs": [
        {
          "output_type": "stream",
          "text": [
            "역 사인함수= [ 0. nan nan]\n",
            "역 코사인함수= [1.57079633        nan        nan]\n",
            "역 탄젠트함수= [0.         1.00388482 1.26262726]\n"
          ],
          "name": "stdout"
        },
        {
          "output_type": "stream",
          "text": [
            "/usr/local/lib/python3.7/dist-packages/ipykernel_launcher.py:2: RuntimeWarning: invalid value encountered in arcsin\n",
            "  \n",
            "/usr/local/lib/python3.7/dist-packages/ipykernel_launcher.py:3: RuntimeWarning: invalid value encountered in arccos\n",
            "  This is separate from the ipykernel package so we can avoid doing imports until\n"
          ],
          "name": "stderr"
        }
      ]
    },
    {
      "cell_type": "code",
      "metadata": {
        "id": "Bz4GuB0sC6IE",
        "outputId": "c416fed9-bea8-442c-ed1f-656b2a082f84",
        "colab": {
          "base_uri": "https://localhost:8080/"
        }
      },
      "source": [
        "#로그함수\n",
        "x=[1,2,4,10]\n",
        "print(\"자연로그=\", np.log(x))\n",
        "print(\"밑이2인 로그함수=\",np.log2(x))\n",
        "print(\"밑이 10인 로그함수=\",np.log10(x))"
      ],
      "execution_count": 66,
      "outputs": [
        {
          "output_type": "stream",
          "text": [
            "자연로그= [0.         0.69314718 1.38629436 2.30258509]\n",
            "밑이2인 로그함수= [0.         1.         2.         3.32192809]\n",
            "밑이 10인 로그함수= [0.         0.30103    0.60205999 1.        ]\n"
          ],
          "name": "stdout"
        }
      ]
    },
    {
      "cell_type": "code",
      "metadata": {
        "id": "mYPwcUsvC6Ls",
        "outputId": "615b7872-0eaa-4ffc-9ad1-df72ff1d5974",
        "colab": {
          "base_uri": "https://localhost:8080/"
        }
      },
      "source": [
        "#지수함수\n",
        "x=[1,2,3]\n",
        "print(\"e^x=\",np.exp(x))\n",
        "print(\"2^x\",np.exp2(x))\n",
        "print(\"3^x=\",np.power(3, x))"
      ],
      "execution_count": 67,
      "outputs": [
        {
          "output_type": "stream",
          "text": [
            "e^x= [ 2.71828183  7.3890561  20.08553692]\n",
            "2^x [2. 4. 8.]\n",
            "3^x= [ 3  9 27]\n"
          ],
          "name": "stdout"
        }
      ]
    },
    {
      "cell_type": "code",
      "metadata": {
        "id": "TIhmzJunC6PJ",
        "outputId": "590c6736-1bd0-4f37-fec6-9e27bcc29f7c",
        "colab": {
          "base_uri": "https://localhost:8080/"
        }
      },
      "source": [
        "#out 인자 \n",
        "x=np.arange(5)\n",
        "y=np.empty(5)\n",
        "np.multiply(x,10,out=y)\n",
        "print(y)"
      ],
      "execution_count": 68,
      "outputs": [
        {
          "output_type": "stream",
          "text": [
            "[ 0. 10. 20. 30. 40.]\n"
          ],
          "name": "stdout"
        }
      ]
    },
    {
      "cell_type": "code",
      "metadata": {
        "id": "7Xjkz_DiC6SQ",
        "outputId": "e5814d44-6792-47bf-c33a-2b5e8c620d25",
        "colab": {
          "base_uri": "https://localhost:8080/"
        }
      },
      "source": [
        "#out 인자를 활용하여 배열 슬라이싱\n",
        "x=np.arange(5)\n",
        "y=np.empty(10)\n",
        "np.power(2,x,out=y[::2])\n",
        "print(y)"
      ],
      "execution_count": 69,
      "outputs": [
        {
          "output_type": "stream",
          "text": [
            "[ 1.  0.  2.  0.  4.  0.  8.  0. 16.  0.]\n"
          ],
          "name": "stdout"
        }
      ]
    },
    {
      "cell_type": "code",
      "metadata": {
        "id": "iE_xW8KzDBof",
        "outputId": "226c94de-4cbe-44ef-f788-82794a801fd2",
        "colab": {
          "base_uri": "https://localhost:8080/"
        }
      },
      "source": [
        "#reduce 함수\n",
        "x=np.arange(1,5)\n",
        "np.add.reduce(x)"
      ],
      "execution_count": 70,
      "outputs": [
        {
          "output_type": "execute_result",
          "data": {
            "text/plain": [
              "10"
            ]
          },
          "metadata": {
            "tags": []
          },
          "execution_count": 70
        }
      ]
    },
    {
      "cell_type": "code",
      "metadata": {
        "id": "QfZWyUi1DCJd",
        "outputId": "06b9c204-e8cd-40df-da35-065a609b3c72",
        "colab": {
          "base_uri": "https://localhost:8080/"
        }
      },
      "source": [
        "#sum,max,min함수\n",
        "s=np.random.random(1000)\n",
        "print(\"s의최솟값=\",np.min(s))\n",
        "print(\"s의최댓값=\",np.max(s))\n"
      ],
      "execution_count": 71,
      "outputs": [
        {
          "output_type": "stream",
          "text": [
            "s의최솟값= 0.0007245668704591868\n",
            "s의최댓값= 0.9981020171814109\n"
          ],
          "name": "stdout"
        }
      ]
    },
    {
      "cell_type": "code",
      "metadata": {
        "id": "4PzwblvNDCMy"
      },
      "source": [
        "#axis 인자\n",
        "\"axis=0: 열기준 집계연산\"\n",
        "\"axis=1: 행기준 집계연산\"\n",
        "\"axis=none: 배열 내 모든 요소의 집계연산axis 인자\""
      ],
      "execution_count": null,
      "outputs": []
    },
    {
      "cell_type": "code",
      "metadata": {
        "id": "K51SaedIDCSr",
        "outputId": "3680a2e5-b043-45ba-fcad-98dc26ce3558",
        "colab": {
          "base_uri": "https://localhost:8080/"
        }
      },
      "source": [
        "m= np.random.random((3,4))\n",
        "print(m)"
      ],
      "execution_count": 72,
      "outputs": [
        {
          "output_type": "stream",
          "text": [
            "[[0.76160614 0.51041647 0.68460971 0.274283  ]\n",
            " [0.4057033  0.51346525 0.75306675 0.07401588]\n",
            " [0.09118142 0.73676083 0.56264391 0.4579803 ]]\n"
          ],
          "name": "stdout"
        }
      ]
    },
    {
      "cell_type": "markdown",
      "metadata": {
        "id": "l7VYaxRL9agA"
      },
      "source": [
        "## 브로드캐스팅 연산"
      ]
    },
    {
      "cell_type": "code",
      "metadata": {
        "id": "xHRGT0S7DTYe",
        "outputId": "c8f4ec7f-b85f-4fd4-8a26-d04a21770627",
        "colab": {
          "base_uri": "https://localhost:8080/"
        }
      },
      "source": [
        "# 크기가 같은 어레이의 연산을 하기\n",
        "x = np.array([0, 1, 2])\n",
        "y = np.array([3, 3, 3])\n",
        "x + y"
      ],
      "execution_count": 73,
      "outputs": [
        {
          "output_type": "execute_result",
          "data": {
            "text/plain": [
              "array([3, 4, 5])"
            ]
          },
          "metadata": {
            "tags": []
          },
          "execution_count": 73
        }
      ]
    },
    {
      "cell_type": "code",
      "metadata": {
        "id": "NVI4DOqKDTgp",
        "outputId": "52081f87-c2b0-4f0b-d8e9-2ce501d21e91",
        "colab": {
          "base_uri": "https://localhost:8080/"
        }
      },
      "source": [
        "# 배열의 크기를 늘려서 연산하기\n",
        "a = np.arange(3).reshape((3, 1))\n",
        "b = np.arange(3)\n",
        "a + b"
      ],
      "execution_count": 75,
      "outputs": [
        {
          "output_type": "execute_result",
          "data": {
            "text/plain": [
              "array([[0, 1, 2],\n",
              "       [1, 2, 3],\n",
              "       [2, 3, 4]])"
            ]
          },
          "metadata": {
            "tags": []
          },
          "execution_count": 75
        }
      ]
    },
    {
      "cell_type": "markdown",
      "metadata": {
        "id": "iwnH05_R9cFv"
      },
      "source": [
        "## 비교연산자"
      ]
    },
    {
      "cell_type": "code",
      "metadata": {
        "id": "wlaHQtWIDTjx",
        "outputId": "346f9181-a578-4f4d-e8b8-6def51b4616a",
        "colab": {
          "base_uri": "https://localhost:8080/"
        }
      },
      "source": [
        "# any 함수를 이용하여 하나라도 만족하면 true를 산출하는 코드만들기\n",
        "x = np.arange(10)\n",
        "np.any(x < 5)"
      ],
      "execution_count": 79,
      "outputs": [
        {
          "output_type": "execute_result",
          "data": {
            "text/plain": [
              "True"
            ]
          },
          "metadata": {
            "tags": []
          },
          "execution_count": 79
        }
      ]
    },
    {
      "cell_type": "code",
      "metadata": {
        "id": "D-OgFcn5DSjM",
        "outputId": "635c289e-3caa-4130-b12d-50314174e974",
        "colab": {
          "base_uri": "https://localhost:8080/"
        }
      },
      "source": [
        "# all함수를 이용하여 true산출 코드 만들기\n",
        "x = np.arange(10)\n",
        "np.all(x < 10)"
      ],
      "execution_count": 80,
      "outputs": [
        {
          "output_type": "execute_result",
          "data": {
            "text/plain": [
              "True"
            ]
          },
          "metadata": {
            "tags": []
          },
          "execution_count": 80
        }
      ]
    },
    {
      "cell_type": "code",
      "metadata": {
        "id": "JzbeCfBnDSqm",
        "outputId": "a1e654b1-395a-45cc-b13b-baff5c7f2f81",
        "colab": {
          "base_uri": "https://localhost:8080/"
        }
      },
      "source": [
        "# 1~5사이의 구간에서 5개 정수를 무작위로 발생시켜 1차원배열 2개변수를 생성하고 이에대한 불리언 값 결과내기\n",
        "a = np.random.randint(1, 5, 5)\n",
        "b = np.random.randint(1, 5 ,5)\n",
        "print(a, b)\n",
        "a == b"
      ],
      "execution_count": 81,
      "outputs": [
        {
          "output_type": "stream",
          "text": [
            "[3 2 4 4 3] [1 4 2 3 3]\n"
          ],
          "name": "stdout"
        },
        {
          "output_type": "execute_result",
          "data": {
            "text/plain": [
              "array([False, False, False, False,  True])"
            ]
          },
          "metadata": {
            "tags": []
          },
          "execution_count": 81
        }
      ]
    },
    {
      "cell_type": "markdown",
      "metadata": {
        "id": "cvNr6-5O9fLA"
      },
      "source": [
        "## 팬시 인덱싱"
      ]
    },
    {
      "cell_type": "code",
      "metadata": {
        "id": "t7MWDGDEDSuE",
        "outputId": "ed7231b2-1111-464c-92cd-6332e4979ee5",
        "colab": {
          "base_uri": "https://localhost:8080/"
        }
      },
      "source": [
        "#배열을 생성하여 인덱싱하기\n",
        "a = np.arange(10)\n",
        "b = np.array([3, 6, 9])\n",
        "a[b]"
      ],
      "execution_count": 82,
      "outputs": [
        {
          "output_type": "execute_result",
          "data": {
            "text/plain": [
              "array([3, 6, 9])"
            ]
          },
          "metadata": {
            "tags": []
          },
          "execution_count": 82
        }
      ]
    },
    {
      "cell_type": "code",
      "metadata": {
        "id": "ipMA6b3uDSxP",
        "outputId": "5ef46b2e-ea63-45eb-d1f4-f463bc39a93e",
        "colab": {
          "base_uri": "https://localhost:8080/"
        }
      },
      "source": [
        "#인덱스 값을 가진 2차원 배열(예를 들어 row=np.array([0,1,2]))을 이용하여 인덱싱\n",
        "x = np.arange(12).reshape((3, 4))\n",
        "print(x)\n",
        "row = np.array([0, 1, 2])\n",
        "col = np.array([2, 1, 3])\n",
        "x[row, col]"
      ],
      "execution_count": 86,
      "outputs": [
        {
          "output_type": "stream",
          "text": [
            "[[ 0  1  2  3]\n",
            " [ 4  5  6  7]\n",
            " [ 8  9 10 11]]\n"
          ],
          "name": "stdout"
        },
        {
          "output_type": "execute_result",
          "data": {
            "text/plain": [
              "array([ 2,  5, 11])"
            ]
          },
          "metadata": {
            "tags": []
          },
          "execution_count": 86
        }
      ]
    },
    {
      "cell_type": "markdown",
      "metadata": {
        "id": "fIFQzEK89gjy"
      },
      "source": [
        "## 정렬 "
      ]
    },
    {
      "cell_type": "code",
      "metadata": {
        "id": "8-vycEUGE0G2",
        "outputId": "5bd06b1d-7aeb-49b5-a169-682380f48638",
        "colab": {
          "base_uri": "https://localhost:8080/"
        }
      },
      "source": [
        "#np.sort함수를 이용하여 복사하기\n",
        "x = np.array([4, 1, 5, 2, 3])\n",
        "print(x, np.sort(x))"
      ],
      "execution_count": 87,
      "outputs": [
        {
          "output_type": "stream",
          "text": [
            "[4 1 5 2 3] [1 2 3 4 5]\n"
          ],
          "name": "stdout"
        }
      ]
    },
    {
      "cell_type": "code",
      "metadata": {
        "id": "WzF6Iw5HE76_",
        "outputId": "12ec430a-2c5e-43e0-a7a6-f5db043edff0",
        "colab": {
          "base_uri": "https://localhost:8080/"
        }
      },
      "source": [
        "#변수.sort함수를 이용하여 정렬하기\n",
        "x = np.array([4, 1, 5, 2, 3])\n",
        "x.sort()\n",
        "print(x)"
      ],
      "execution_count": 88,
      "outputs": [
        {
          "output_type": "stream",
          "text": [
            "[1 2 3 4 5]\n"
          ],
          "name": "stdout"
        }
      ]
    },
    {
      "cell_type": "code",
      "metadata": {
        "id": "b1regsEqE7-X",
        "outputId": "c85961e6-b8b2-4e6d-ac01-30425708bc6a",
        "colab": {
          "base_uri": "https://localhost:8080/"
        }
      },
      "source": [
        "#np.argsort함수 이용하여 정렬 요소의 인덱스를 반환하기\n",
        "x = np.array([4, 1, 5, 2, 3])\n",
        "i = np.argsort(x)\n",
        "print(i)"
      ],
      "execution_count": 90,
      "outputs": [
        {
          "output_type": "stream",
          "text": [
            "[1 3 4 0 2]\n"
          ],
          "name": "stdout"
        }
      ]
    },
    {
      "cell_type": "code",
      "metadata": {
        "id": "glpi3sAWE8Bw",
        "outputId": "76c9a088-5622-4eb3-f125-b8e31a4559e0",
        "colab": {
          "base_uri": "https://localhost:8080/"
        }
      },
      "source": [
        "#x_reverse를 이용하여 내림차순\n",
        "x = np.array([4, 1, 5, 2, 3])\n",
        "x_reverse = np.sort(x)[::-1]\n",
        "print(x_reverse)"
      ],
      "execution_count": 89,
      "outputs": [
        {
          "output_type": "stream",
          "text": [
            "[5 4 3 2 1]\n"
          ],
          "name": "stdout"
        }
      ]
    },
    {
      "cell_type": "code",
      "metadata": {
        "id": "HBsSfJFyFRai",
        "outputId": "cc10e233-ec48-4aa7-a992-36b4fa7a387a",
        "colab": {
          "base_uri": "https://localhost:8080/"
        }
      },
      "source": [
        "#axis를 이용하여 각 열을 기준으로 정렬하기\n",
        "X = np.array([[2, 0, 5], [7, 3, 4], [1, 5, 3]])\n",
        "np.sort(X, axis = 0)"
      ],
      "execution_count": 91,
      "outputs": [
        {
          "output_type": "execute_result",
          "data": {
            "text/plain": [
              "array([[1, 0, 3],\n",
              "       [2, 3, 4],\n",
              "       [7, 5, 5]])"
            ]
          },
          "metadata": {
            "tags": []
          },
          "execution_count": 91
        }
      ]
    },
    {
      "cell_type": "code",
      "metadata": {
        "id": "yav7laqrFWjP",
        "outputId": "03692a16-d86f-41fb-ba2c-69763b31b27e",
        "colab": {
          "base_uri": "https://localhost:8080/"
        }
      },
      "source": [
        "#axis를 이용하여 각 행을 기준으로 정렬하기#axis를 이용하여 각 행을 기준으로 정렬하기\n",
        "X = np.array([[2, 0, 5], [7, 3, 4], [1, 5, 3]])\n",
        "np.sort(X, axis = 1)"
      ],
      "execution_count": 92,
      "outputs": [
        {
          "output_type": "execute_result",
          "data": {
            "text/plain": [
              "array([[0, 2, 5],\n",
              "       [3, 4, 7],\n",
              "       [1, 3, 5]])"
            ]
          },
          "metadata": {
            "tags": []
          },
          "execution_count": 92
        }
      ]
    }
  ]
}