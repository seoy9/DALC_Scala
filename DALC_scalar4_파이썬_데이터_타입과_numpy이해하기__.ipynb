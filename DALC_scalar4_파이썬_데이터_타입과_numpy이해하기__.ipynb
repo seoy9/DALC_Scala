{
  "nbformat": 4,
  "nbformat_minor": 0,
  "metadata": {
    "colab": {
      "name": "DALC_scalar4_파이썬_데이터_타입과_numpy이해하기.ipynb의 사본",
      "provenance": [],
      "collapsed_sections": []
    },
    "kernelspec": {
      "name": "python3",
      "display_name": "Python 3"
    },
    "language_info": {
      "name": "python"
    }
  },
  "cells": [
    {
      "cell_type": "markdown",
      "metadata": {
        "id": "giYnypId9JKA"
      },
      "source": [
        "# Numpy 기초"
      ]
    },
    {
      "cell_type": "markdown",
      "metadata": {
        "id": "mMuPNu735nzw"
      },
      "source": [
        "## 넘파이 패키지 불러오기"
      ]
    },
    {
      "cell_type": "code",
      "metadata": {
        "id": "R86NUr6E6IxC"
      },
      "source": [
        "# 넘파이 패키지를 불러오기 np로 줄여쓰기# 넘파이 패키지를 불러오기 np로 줄여쓰기"
      ],
      "execution_count": null,
      "outputs": []
    },
    {
      "cell_type": "markdown",
      "metadata": {
        "id": "zYd86L6l6LR_"
      },
      "source": [
        "## array 정의 및 생성"
      ]
    },
    {
      "cell_type": "code",
      "metadata": {
        "id": "iYL2w7ZH6OvI"
      },
      "source": [
        "# 넘파이 array를 사용하여 a라는 변수에 1부터 10까지의 숫자 리스트 배열을 생성하기"
      ],
      "execution_count": null,
      "outputs": []
    },
    {
      "cell_type": "code",
      "metadata": {
        "id": "WUOwTypoBPRC"
      },
      "source": [
        "#파이썬의 기본 range 함수와 비슷한 넘파이 range 함수를 사용하여 ndarray를 만들 수 있습니다:\n"
      ],
      "execution_count": null,
      "outputs": []
    },
    {
      "cell_type": "markdown",
      "metadata": {
        "id": "FOK4pK-I6pDn"
      },
      "source": [
        "## 배열 구성"
      ]
    },
    {
      "cell_type": "code",
      "metadata": {
        "id": "ocsVMvGT6rcJ"
      },
      "source": [
        "# full 함수를 사용하여 b라는 변수에 2.71 수로 3 X 4 다차원 배열 만들기"
      ],
      "execution_count": null,
      "outputs": []
    },
    {
      "cell_type": "code",
      "metadata": {
        "id": "ReJJ53HV6_5k"
      },
      "source": [
        "# arrange 함수를 사용하여 c라는 변수에 0부터 10까지 짝수만 있는 배열 구성하기"
      ],
      "execution_count": null,
      "outputs": []
    },
    {
      "cell_type": "code",
      "metadata": {
        "id": "UiHHzUCn7ak9"
      },
      "source": [
        "# linespace 함수를 사용하여 d라는 변수에 0부터 1까지 4개 요소 값을 가진 배열 생성하기"
      ],
      "execution_count": null,
      "outputs": []
    },
    {
      "cell_type": "code",
      "metadata": {
        "id": "cgqpObYO7m_o"
      },
      "source": [
        "# randint 함수를 사용하여 0 부터 100까지 수를 2 X 2 배열로 생성하기"
      ],
      "execution_count": null,
      "outputs": []
    },
    {
      "cell_type": "markdown",
      "metadata": {
        "id": "gmqrBmjV8I_q"
      },
      "source": [
        "## 배열 인덱싱"
      ]
    },
    {
      "cell_type": "code",
      "metadata": {
        "id": "u1YDX-907tCM"
      },
      "source": [
        "# a변수에서 인덱스 2 (앞에서 3번째) 와 인덱스 -3 (뒤에서 3번째)에 해당하는 수 가져오기"
      ],
      "execution_count": null,
      "outputs": []
    },
    {
      "cell_type": "code",
      "metadata": {
        "id": "09OUlcP98IFO"
      },
      "source": [
        "# a 변수에서 인덱스 3부터 9 까지 슬라이싱하기"
      ],
      "execution_count": null,
      "outputs": []
    },
    {
      "cell_type": "markdown",
      "metadata": {
        "id": "B7ZsYxD-9BDG"
      },
      "source": [
        "## 배열 재구조화"
      ]
    },
    {
      "cell_type": "code",
      "metadata": {
        "id": "OUDkKScoFwID"
      },
      "source": [
        "#차원의 개수 알아보는 함수"
      ],
      "execution_count": null,
      "outputs": []
    },
    {
      "cell_type": "code",
      "metadata": {
        "id": "BAXVPoxoFwUD"
      },
      "source": [
        "#차원의 크기 알아보는 함수"
      ],
      "execution_count": null,
      "outputs": []
    },
    {
      "cell_type": "code",
      "metadata": {
        "id": "lNaAPxjqGc8f"
      },
      "source": [
        "#전체 배열크기 알아보는 함수"
      ],
      "execution_count": null,
      "outputs": []
    },
    {
      "cell_type": "code",
      "metadata": {
        "id": "LpmpluGdGG8T"
      },
      "source": [
        "#0부터10까지 정수를 가진 x변수에서 4~7까지의 요소를 가진 하위배열생성"
      ],
      "execution_count": null,
      "outputs": []
    },
    {
      "cell_type": "code",
      "metadata": {
        "id": "vosKsX6-GHD6"
      },
      "source": [
        "#0부터10까지 정수를 가진 x변수에서 첫번째 다섯 요소를 가진 하위 배열 생성"
      ],
      "execution_count": null,
      "outputs": []
    },
    {
      "cell_type": "code",
      "metadata": {
        "id": "mEW2HOOSHBar"
      },
      "source": [
        "#0부터10까지 정수를 가진 x변수에서 인덱스 5 이후의 요소를 가진 하위 배열을 생성"
      ],
      "execution_count": null,
      "outputs": []
    },
    {
      "cell_type": "code",
      "metadata": {
        "id": "TD0eKXKOHFiq"
      },
      "source": [
        "# 인덱스 0,1행과 인덱스 0,1,2열 즉 2행3열인 다차원 하위 배열 생성(콤마이용하기)"
      ],
      "execution_count": null,
      "outputs": []
    },
    {
      "cell_type": "code",
      "metadata": {
        "id": "uqvnK_MqHSjX"
      },
      "source": [
        "#1부터 10까지 배열을 3행3열로 재배열하기(reshape사용)"
      ],
      "execution_count": null,
      "outputs": []
    },
    {
      "cell_type": "markdown",
      "metadata": {
        "id": "Fe5b8TCo9CUi"
      },
      "source": [
        "## 배열 결합"
      ]
    },
    {
      "cell_type": "code",
      "metadata": {
        "id": "nkYF1XetHZFA"
      },
      "source": [
        "#두개의 배열 결합하기"
      ],
      "execution_count": null,
      "outputs": []
    },
    {
      "cell_type": "code",
      "metadata": {
        "id": "NObVaN04Hbt8"
      },
      "source": [
        "#수직으로 두개의 배열 결합하기"
      ],
      "execution_count": null,
      "outputs": []
    },
    {
      "cell_type": "code",
      "metadata": {
        "id": "NFQ0_cEjHkCy"
      },
      "source": [
        "#수평으로 두개의 배열 결합하기"
      ],
      "execution_count": null,
      "outputs": []
    },
    {
      "cell_type": "markdown",
      "metadata": {
        "id": "vNpmxjef9EiC"
      },
      "source": [
        "## 배열 분할"
      ]
    },
    {
      "cell_type": "code",
      "metadata": {
        "id": "XBu15lZ7Hxzu"
      },
      "source": [
        "#7개의 숫자를 가진 리스트 x를 3개의 변수 x1,x2,x3로 분할하기"
      ],
      "execution_count": null,
      "outputs": []
    },
    {
      "cell_type": "code",
      "metadata": {
        "id": "XdklCHyCHx75"
      },
      "source": [
        "#4행4열 차원을 배열이 상하 2개로 나누게 분할"
      ],
      "execution_count": null,
      "outputs": []
    },
    {
      "cell_type": "markdown",
      "metadata": {
        "id": "dDE6Ap4n9S28"
      },
      "source": [
        "# Numpy 심화"
      ]
    },
    {
      "cell_type": "markdown",
      "metadata": {
        "id": "uH4cKovY9Whm"
      },
      "source": [
        "## 유니버셜함수"
      ]
    },
    {
      "cell_type": "code",
      "metadata": {
        "id": "4GAlLhUiAz13"
      },
      "source": [
        "# zeros 함수는 0으로 채워진 배열을 만듭니다:\n",
        "np.zeros(5)"
      ],
      "execution_count": null,
      "outputs": []
    },
    {
      "cell_type": "code",
      "metadata": {
        "id": "3vxe2YivA18-"
      },
      "source": [
        "#2D 배열(즉, 행렬)을 만들려면 원하는 행과 열의 크기를 튜플로 전달합니다. 예를 들어 다음은 3 \\times 4 크기의 행렬입니다:\n",
        "\n",
        "np.zeros((3,4))"
      ],
      "execution_count": null,
      "outputs": []
    },
    {
      "cell_type": "code",
      "metadata": {
        "id": "vUJHEN_FA6By"
      },
      "source": [
        "a = np.zeros((3,4))\n",
        "a"
      ],
      "execution_count": null,
      "outputs": []
    },
    {
      "cell_type": "code",
      "metadata": {
        "id": "mzrutOYyA8CS"
      },
      "source": [
        "a.shape"
      ],
      "execution_count": null,
      "outputs": []
    },
    {
      "cell_type": "code",
      "metadata": {
        "id": "Knsc4SCPA9FI"
      },
      "source": [
        "a.ndim # len(a.shape)와 같습니다"
      ],
      "execution_count": null,
      "outputs": []
    },
    {
      "cell_type": "code",
      "metadata": {
        "id": "sq0vJhlgA-M3"
      },
      "source": [
        "a.size"
      ],
      "execution_count": null,
      "outputs": []
    },
    {
      "cell_type": "code",
      "metadata": {
        "id": "g_i6UPINA_8o"
      },
      "source": [
        "# 초기화되지 않은 2 \\times 3 크기의 배열을 만듭니다(배열의 내용은 예측이 불가능하며 메모리 상황에 따라 달라집니다):\n",
        "\n",
        "np.empty((2,3))"
      ],
      "execution_count": null,
      "outputs": []
    },
    {
      "cell_type": "code",
      "metadata": {
        "id": "PTCzRhCiBAyo"
      },
      "source": [
        "#array 함수는 파이썬 리스트를 사용하여 ndarray를 초기화합니다:\n",
        "\n",
        "np.array([[1,2,3,4], [10, 20, 30, 40]])"
      ],
      "execution_count": null,
      "outputs": []
    },
    {
      "cell_type": "code",
      "metadata": {
        "id": "dAU3-6CV9u3R"
      },
      "source": [
        "# x = np.array([-10, -5, 0, 3, 7])\n",
        "# x에 있는 배열을 모두 양의 정수로 반환하기"
      ],
      "execution_count": null,
      "outputs": []
    },
    {
      "cell_type": "code",
      "metadata": {
        "id": "xrZfT0dH-J4X"
      },
      "source": [
        "# 모두 양의 정수가 된 배열 x를 자연로그 배열로 반환하기"
      ],
      "execution_count": null,
      "outputs": []
    },
    {
      "cell_type": "markdown",
      "metadata": {
        "id": "wQ14Cr7W9ZNP"
      },
      "source": [
        "## 집계함수"
      ]
    },
    {
      "cell_type": "code",
      "metadata": {
        "id": "VQgkBEIDC5er"
      },
      "source": [
        "x=np.array([-2,-1,0,1,2])\n",
        "\"절댓값을 씌우려면?\"\n",
        "힌트: \"np.absolute(x)\"\n"
      ],
      "execution_count": null,
      "outputs": []
    },
    {
      "cell_type": "code",
      "metadata": {
        "id": "yGy7cRtmC6AA"
      },
      "source": [
        "#삼각함수\n",
        "theta = np.linspace(0,np.pi,3)\n",
        "print(\"theta=\" , theta)\n",
        "print(\" 코사인 함수 =\",\"?\")\n",
        "print(\"탐젠트 함수= \", \"?\") \n",
        "\n"
      ],
      "execution_count": null,
      "outputs": []
    },
    {
      "cell_type": "code",
      "metadata": {
        "id": "XCvqtkfdC6DQ"
      },
      "source": [
        "#역삼각함수\n",
        "print(\"역 사인함수=\",\"?\")\n",
        "print(\"역 코사인함수=\",\"?\")\n",
        "print(\"역 탄젠트함수=\",\"?\")"
      ],
      "execution_count": null,
      "outputs": []
    },
    {
      "cell_type": "code",
      "metadata": {
        "id": "Bz4GuB0sC6IE"
      },
      "source": [
        "#로그함수\n",
        "x=[1,2,4,10]\n",
        "print(\"자연로그=\",\"?\")\n",
        "print(\"밑이2인 로그함수=\",\"?\")\n",
        "print(\"밑이 10인 로그함수=\",\"?\")"
      ],
      "execution_count": null,
      "outputs": []
    },
    {
      "cell_type": "code",
      "metadata": {
        "id": "mYPwcUsvC6Ls"
      },
      "source": [
        "#지수함수\n",
        "x=[1,2,3]\n",
        "print(\"e^x=\",\"?\")\n",
        "print(\"2^x\",\"?\")\n",
        "print(\"3^x=\",\"?\")"
      ],
      "execution_count": null,
      "outputs": []
    },
    {
      "cell_type": "code",
      "metadata": {
        "id": "TIhmzJunC6PJ"
      },
      "source": [
        "#out 인자 \n",
        "x=np.arange(5)\n",
        "y=np.empty(5)\n",
        "\"np.?(x,10,out=y)\"\n",
        "print(y)"
      ],
      "execution_count": null,
      "outputs": []
    },
    {
      "cell_type": "code",
      "metadata": {
        "id": "7Xjkz_DiC6SQ"
      },
      "source": [
        "#out 인자를 활용하여 배열 슬라이싱\n",
        "x=np.arange(5)\n",
        "y=np.empty(10)\n",
        "\"np.power(2,x,out=y[::2])\"\n",
        "print(y)"
      ],
      "execution_count": null,
      "outputs": []
    },
    {
      "cell_type": "code",
      "metadata": {
        "id": "iE_xW8KzDBof"
      },
      "source": [
        "#reduce 함수\n",
        "x=np.arange(1,5)\n",
        "\"np.add.?(x)\""
      ],
      "execution_count": null,
      "outputs": []
    },
    {
      "cell_type": "code",
      "metadata": {
        "id": "QfZWyUi1DCJd"
      },
      "source": [
        "#sum,max,min함수\n",
        "s=np.random.random(1000)\n",
        "print(\"s의최솟값=\",\"np.?(s)\")\n",
        "print(\"s의최댓값=\",\"np.?(s)\")\n"
      ],
      "execution_count": null,
      "outputs": []
    },
    {
      "cell_type": "code",
      "metadata": {
        "id": "4PzwblvNDCMy"
      },
      "source": [
        "#axis 인자\n",
        "\"axis=0: 열기준 집계연산\"\n",
        "\"axis=1: 행기준 집계연산\"\n",
        "\"axis=none: 배열 내 모든 요소의 집계연산axis 인자\""
      ],
      "execution_count": null,
      "outputs": []
    },
    {
      "cell_type": "code",
      "metadata": {
        "id": "K51SaedIDCSr"
      },
      "source": [
        "m= np.random.random((3,4))\n",
        "print(m)"
      ],
      "execution_count": null,
      "outputs": []
    },
    {
      "cell_type": "markdown",
      "metadata": {
        "id": "l7VYaxRL9agA"
      },
      "source": [
        "## 브로드캐스팅 연산"
      ]
    },
    {
      "cell_type": "code",
      "metadata": {
        "id": "xHRGT0S7DTYe"
      },
      "source": [
        "# 크기가 같은 어레이의 연산을 하기"
      ],
      "execution_count": null,
      "outputs": []
    },
    {
      "cell_type": "code",
      "metadata": {
        "id": "NVI4DOqKDTgp"
      },
      "source": [
        "# 배열의 크기를 늘려서 연산하기"
      ],
      "execution_count": null,
      "outputs": []
    },
    {
      "cell_type": "markdown",
      "metadata": {
        "id": "iwnH05_R9cFv"
      },
      "source": [
        "## 비교연산자"
      ]
    },
    {
      "cell_type": "code",
      "metadata": {
        "id": "wlaHQtWIDTjx"
      },
      "source": [
        "# any 함수를 이용하여 하나라도 만족하면 true를 산출하는 코드만들기"
      ],
      "execution_count": null,
      "outputs": []
    },
    {
      "cell_type": "code",
      "metadata": {
        "id": "D-OgFcn5DSjM"
      },
      "source": [
        "# all함수를 이용하여 true산출 코드 만들기"
      ],
      "execution_count": null,
      "outputs": []
    },
    {
      "cell_type": "code",
      "metadata": {
        "id": "JzbeCfBnDSqm"
      },
      "source": [
        "# 1~5사이의 구간에서 5개 정수를 무작위로 발생시켜 1차원배열 2개변수를 생성하고 이에대한 불리언 값 결과내기"
      ],
      "execution_count": null,
      "outputs": []
    },
    {
      "cell_type": "markdown",
      "metadata": {
        "id": "cvNr6-5O9fLA"
      },
      "source": [
        "## 팬시 인덱싱"
      ]
    },
    {
      "cell_type": "code",
      "metadata": {
        "id": "t7MWDGDEDSuE"
      },
      "source": [
        "#배열을 생성하여 인덱싱하기"
      ],
      "execution_count": null,
      "outputs": []
    },
    {
      "cell_type": "code",
      "metadata": {
        "id": "ipMA6b3uDSxP"
      },
      "source": [
        "#인덱스 값을 가진 2차원 배열(예를 들어 row=np.array([0,1,2]))을 이용하여 인덱싱"
      ],
      "execution_count": null,
      "outputs": []
    },
    {
      "cell_type": "markdown",
      "metadata": {
        "id": "fIFQzEK89gjy"
      },
      "source": [
        "## 정렬 "
      ]
    },
    {
      "cell_type": "code",
      "metadata": {
        "id": "8-vycEUGE0G2"
      },
      "source": [
        "#np.sort함수를 이용하여 복사하기"
      ],
      "execution_count": null,
      "outputs": []
    },
    {
      "cell_type": "code",
      "metadata": {
        "id": "WzF6Iw5HE76_"
      },
      "source": [
        "#변수.sort함수를 이용하여 정렬하기"
      ],
      "execution_count": null,
      "outputs": []
    },
    {
      "cell_type": "code",
      "metadata": {
        "id": "b1regsEqE7-X"
      },
      "source": [
        "#np.arsort함수 이용하여 정렬 요소의 인덱스를 반환하기"
      ],
      "execution_count": null,
      "outputs": []
    },
    {
      "cell_type": "code",
      "metadata": {
        "id": "glpi3sAWE8Bw"
      },
      "source": [
        "#x_reverse를 이용하여 내림차순"
      ],
      "execution_count": null,
      "outputs": []
    },
    {
      "cell_type": "code",
      "metadata": {
        "id": "HBsSfJFyFRai"
      },
      "source": [
        "#axis를 이용하여 각 열을 기준으로 정렬하기"
      ],
      "execution_count": null,
      "outputs": []
    },
    {
      "cell_type": "code",
      "metadata": {
        "id": "yav7laqrFWjP"
      },
      "source": [
        "#axis를 이용하여 각 행을 기준으로 정렬하기#axis를 이용하여 각 행을 기준으로 정렬하기"
      ],
      "execution_count": null,
      "outputs": []
    }
  ]
}